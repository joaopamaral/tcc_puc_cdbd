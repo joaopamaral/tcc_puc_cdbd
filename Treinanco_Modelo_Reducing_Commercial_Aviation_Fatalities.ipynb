{
  "nbformat": 4,
  "nbformat_minor": 0,
  "metadata": {
    "colab": {
      "name": "Treinanco Modelo - Reducing Commercial Aviation Fatalities",
      "provenance": [],
      "authorship_tag": "ABX9TyPYe7UuCSc95VNLoQ26HNe9",
      "include_colab_link": true
    },
    "kernelspec": {
      "name": "python3",
      "display_name": "Python 3"
    }
  },
  "cells": [
    {
      "cell_type": "markdown",
      "metadata": {
        "id": "view-in-github",
        "colab_type": "text"
      },
      "source": [
        "<a href=\"https://colab.research.google.com/github/joaopamaral/tcc_puc_cdbd/blob/master/Treinanco_Modelo_Reducing_Commercial_Aviation_Fatalities.ipynb\" target=\"_parent\"><img src=\"https://colab.research.google.com/assets/colab-badge.svg\" alt=\"Open In Colab\"/></a>"
      ]
    },
    {
      "cell_type": "code",
      "metadata": {
        "id": "hlcYeFz-Sgvf",
        "colab_type": "code",
        "colab": {
          "base_uri": "https://localhost:8080/",
          "height": 105
        },
        "outputId": "a4651af2-b849-4647-8823-506659d83efe"
      },
      "source": [
        "import pandas as pd\n",
        "import numpy as np\n",
        "import matplotlib.pyplot as plt\n",
        "import seaborn as sns\n",
        "import sys, os\n",
        "from sklearn.model_selection import train_test_split\n",
        "from imblearn.under_sampling import NearMiss\n",
        "\n",
        "IN_COLAB = 'google.colab' in sys.modules\n",
        "\n",
        "%matplotlib inline\n",
        "plt.style.use('ggplot')"
      ],
      "execution_count": 1,
      "outputs": [
        {
          "output_type": "stream",
          "text": [
            "/usr/local/lib/python3.6/dist-packages/sklearn/externals/six.py:31: FutureWarning: The module is deprecated in version 0.21 and will be removed in version 0.23 since we've dropped support for Python 2.7. Please rely on the official version of six (https://pypi.org/project/six/).\n",
            "  \"(https://pypi.org/project/six/).\", FutureWarning)\n",
            "/usr/local/lib/python3.6/dist-packages/sklearn/utils/deprecation.py:144: FutureWarning: The sklearn.neighbors.base module is  deprecated in version 0.22 and will be removed in version 0.24. The corresponding classes / functions should instead be imported from sklearn.neighbors. Anything that cannot be imported from sklearn.neighbors is now part of the private API.\n",
            "  warnings.warn(message, FutureWarning)\n"
          ],
          "name": "stderr"
        }
      ]
    },
    {
      "cell_type": "code",
      "metadata": {
        "id": "ofImb1TUWmGc",
        "colab_type": "code",
        "colab": {}
      },
      "source": [
        "gdrive_kaggle_dir = '/gdrive/My Drive/Kaggle'\n",
        "api_gdrive_credential_location = f'{gdrive_kaggle_dir}/kaggle.json'\n",
        "data_gdrive_dir = f'{gdrive_kaggle_dir}/reducing-commercial-aviation-fatalities'\n",
        "api_local_credential_location = os.path.join(os.path.expanduser('~'), '.kaggle/kaggle.json')"
      ],
      "execution_count": 0,
      "outputs": []
    },
    {
      "cell_type": "code",
      "metadata": {
        "id": "cu26YBkVXDHR",
        "colab_type": "code",
        "colab": {}
      },
      "source": [
        "if IN_COLAB:\n",
        "    if not os.path.isfile('train.csv.zip') or not os.path.isfile('test.csv.zip'):\n",
        "        from google.colab import drive\n",
        "        drive.mount('/gdrive')\n",
        "\n",
        "        if os.path.isdir(gdrive_kaggle_dir):\n",
        "            if os.path.isfile(f'{data_gdrive_dir}/test.csv.zip') and os.path.isfile(f'{data_gdrive_dir}/train.csv.zip'):\n",
        "                !cp '{data_gdrive_dir}/train.csv.zip' .\n",
        "                !cp '{data_gdrive_dir}/test.csv.zip' .\n",
        "            else:\n",
        "                !mkdir -p ~/.kaggle\n",
        "                !cp '{api_gdrive_credential_location}' '{api_local_credential_location}'\n",
        "\n",
        "if not os.path.isfile('train.csv.zip') or not os.path.isfile('test.csv.zip'):\n",
        "    if os.path.isfile(api_local_credential_location):\n",
        "        !pip -q install kaggle --upgrade\n",
        "        !kaggle competitions download -c reducing-commercial-aviation-fatalities\n",
        "        if IN_COLAB and os.path.isdir(gdrive_kaggle_dir):\n",
        "            !cp train.csv.zip '{data_gdrive_dir}'\n",
        "            !cp test.csv.zip '{data_gdrive_dir}'"
      ],
      "execution_count": 0,
      "outputs": []
    },
    {
      "cell_type": "code",
      "metadata": {
        "id": "GXUr5K9iXTZW",
        "colab_type": "code",
        "colab": {}
      },
      "source": [
        "train_df = pd.read_csv('train.csv.zip').set_index(['crew', 'experiment', 'seat', 'time'])"
      ],
      "execution_count": 0,
      "outputs": []
    },
    {
      "cell_type": "code",
      "metadata": {
        "id": "sNX6203eXDlE",
        "colab_type": "code",
        "colab": {}
      },
      "source": [
        "eeg_columns = ['eeg_fp1', 'eeg_f7', 'eeg_f8', 'eeg_t4', 'eeg_t6', \n",
        "               'eeg_t5', 'eeg_t3', 'eeg_fp2', 'eeg_o1', 'eeg_p3', \n",
        "               'eeg_pz', 'eeg_f3', 'eeg_fz', 'eeg_f4',\t'eeg_c4', \n",
        "               'eeg_p4', 'eeg_poz', 'eeg_c3', 'eeg_cz', 'eeg_o2']\n",
        "\n",
        "numeric_features = [*eeg_columns, 'ecg', 'r', 'gsr']\n",
        "categorical_features = ['event']"
      ],
      "execution_count": 0,
      "outputs": []
    },
    {
      "cell_type": "code",
      "metadata": {
        "id": "eYJSlhj5ijoT",
        "colab_type": "code",
        "colab": {}
      },
      "source": [
        "features = numeric_features\n",
        "target = 'event'"
      ],
      "execution_count": 0,
      "outputs": []
    },
    {
      "cell_type": "code",
      "metadata": {
        "id": "BeZHnRlLhKv1",
        "colab_type": "code",
        "colab": {}
      },
      "source": [
        "X_train, X_test, y_train, y_test = train_test_split(train_df[features], train_df[target], test_size=0.30, random_state=42, stratify=train_df[target])"
      ],
      "execution_count": 0,
      "outputs": []
    },
    {
      "cell_type": "code",
      "metadata": {
        "id": "S9XIQTfzn-Oh",
        "colab_type": "code",
        "colab": {
          "base_uri": "https://localhost:8080/",
          "height": 51
        },
        "outputId": "253fd48e-124d-4046-e0a8-a5d8ab80115b"
      },
      "source": [
        "print(f'Quantidade de dados de treinamento: {y_train.shape[0]}')\n",
        "print(f'Quantidade de dados de teste: {X_test.shape[0]}')"
      ],
      "execution_count": 8,
      "outputs": [
        {
          "output_type": "stream",
          "text": [
            "Quantidade de dados de treinamento: 3407194\n",
            "Quantidade de dados de teste: 1460227\n"
          ],
          "name": "stdout"
        }
      ]
    },
    {
      "cell_type": "code",
      "metadata": {
        "id": "Xaqqdzf9oKCz",
        "colab_type": "code",
        "colab": {
          "base_uri": "https://localhost:8080/",
          "height": 282
        },
        "outputId": "c74eceaa-e523-4cb1-daee-20ef51d7c0e1"
      },
      "source": [
        "sns.countplot(train_df[target], order=['A', 'B', 'C', 'D']);"
      ],
      "execution_count": 9,
      "outputs": [
        {
          "output_type": "display_data",
          "data": {
            "image/png": "[encoded data removed]",
            "text/plain": [
              "<Figure size 432x288 with 1 Axes>"
            ]
          },
          "metadata": {
            "tags": []
          }
        }
      ]
    },
    {
      "cell_type": "code",
      "metadata": {
        "id": "eLmWfYdJoKcC",
        "colab_type": "code",
        "colab": {
          "base_uri": "https://localhost:8080/",
          "height": 187
        },
        "outputId": "016550b5-bbe4-4ccd-e75f-968d8b048531"
      },
      "source": [
        "nr = NearMiss(n_jobs=-1)\n",
        "balanced_X, balanced_y = nr.fit_sample(train_df[features], train_df[target])"
      ],
      "execution_count": 10,
      "outputs": [
        {
          "output_type": "stream",
          "text": [
            "/usr/local/lib/python3.6/dist-packages/sklearn/utils/deprecation.py:87: FutureWarning: Function safe_indexing is deprecated; safe_indexing is deprecated in version 0.22 and will be removed in version 0.24.\n",
            "  warnings.warn(msg, category=FutureWarning)\n",
            "/usr/local/lib/python3.6/dist-packages/sklearn/utils/deprecation.py:87: FutureWarning: Function safe_indexing is deprecated; safe_indexing is deprecated in version 0.22 and will be removed in version 0.24.\n",
            "  warnings.warn(msg, category=FutureWarning)\n",
            "/usr/local/lib/python3.6/dist-packages/sklearn/utils/deprecation.py:87: FutureWarning: Function safe_indexing is deprecated; safe_indexing is deprecated in version 0.22 and will be removed in version 0.24.\n",
            "  warnings.warn(msg, category=FutureWarning)\n",
            "/usr/local/lib/python3.6/dist-packages/sklearn/utils/deprecation.py:87: FutureWarning: Function safe_indexing is deprecated; safe_indexing is deprecated in version 0.22 and will be removed in version 0.24.\n",
            "  warnings.warn(msg, category=FutureWarning)\n",
            "/usr/local/lib/python3.6/dist-packages/sklearn/utils/deprecation.py:87: FutureWarning: Function safe_indexing is deprecated; safe_indexing is deprecated in version 0.22 and will be removed in version 0.24.\n",
            "  warnings.warn(msg, category=FutureWarning)\n"
          ],
          "name": "stderr"
        }
      ]
    },
    {
      "cell_type": "code",
      "metadata": {
        "id": "yWT_OOiLUSSR",
        "colab_type": "code",
        "colab": {}
      },
      "source": [
        "balanced_X = pd.DataFrame(balanced_X, columns=features)\n",
        "balanced_y = pd.Series(balanced_y, name=target)"
      ],
      "execution_count": 0,
      "outputs": []
    },
    {
      "cell_type": "code",
      "metadata": {
        "id": "Tpk4E0PauSPC",
        "colab_type": "code",
        "colab": {}
      },
      "source": [
        "balanced_X_train, balanced_X_test, balanced_y_train, balanced_y_test = train_test_split(balanced_X, balanced_y, test_size=0.20, random_state=42)"
      ],
      "execution_count": 0,
      "outputs": []
    },
    {
      "cell_type": "code",
      "metadata": {
        "id": "VKl5Wpkxkf6v",
        "colab_type": "code",
        "colab": {
          "base_uri": "https://localhost:8080/",
          "height": 282
        },
        "outputId": "1f295321-74a9-459f-994b-e3a128d592d2"
      },
      "source": [
        "fig, ax = plt.subplots(1, 3, figsize=(15, 4))\n",
        "\n",
        "order = ['A', 'B', 'C', 'D']\n",
        "sns.countplot(balanced_y, order=order, ax=ax[0]);\n",
        "sns.countplot(balanced_y_train, order=order, ax=ax[1]);\n",
        "sns.countplot(balanced_y_test, order=order, ax=ax[2]);"
      ],
      "execution_count": 51,
      "outputs": [
        {
          "output_type": "display_data",
          "data": {
            "image/png": "[encoded data removed]",
            "text/plain": [
              "<Figure size 1080x288 with 3 Axes>"
            ]
          },
          "metadata": {
            "tags": []
          }
        }
      ]
    },
    {
      "cell_type": "code",
      "metadata": {
        "id": "ua4XJgqb90sA",
        "colab_type": "code",
        "colab": {}
      },
      "source": [
        "from sklearn.pipeline import Pipeline\n",
        "from sklearn.compose import ColumnTransformer\n",
        "from sklearn.impute import SimpleImputer\n",
        "from sklearn.preprocessing import OneHotEncoder, StandardScaler\n",
        "\n",
        "numeric_transformer = Pipeline(steps=[\n",
        "    ('imputer', SimpleImputer(strategy='median')),\n",
        "    ('scaler', StandardScaler())])\n",
        "categorical_transformer = Pipeline(steps=[('onehot', OneHotEncoder())])\n",
        "\n",
        "preprocessor = ColumnTransformer(\n",
        "    transformers=[\n",
        "        ('num', numeric_transformer, numeric_features),\n",
        "        # ('cat', categorical_transformer, categorical_features)\n",
        "        ])"
      ],
      "execution_count": 0,
      "outputs": []
    },
    {
      "cell_type": "code",
      "metadata": {
        "id": "_ua-Vj1_nxz6",
        "colab_type": "code",
        "colab": {
          "base_uri": "https://localhost:8080/",
          "height": 527
        },
        "outputId": "31139815-5103-460f-c132-6363d37d8837"
      },
      "source": [
        "from sklearn.linear_model import LogisticRegression\n",
        "\n",
        "LR_clf = Pipeline(steps=[('preprocessor', preprocessor),\n",
        "                         ('classifier', LogisticRegression(n_jobs=-1))])\n",
        "\n",
        "LR_clf.fit(balanced_X_train, balanced_y_train)"
      ],
      "execution_count": 53,
      "outputs": [
        {
          "output_type": "execute_result",
          "data": {
            "text/plain": [
              "Pipeline(memory=None,\n",
              "         steps=[('preprocessor',\n",
              "                 ColumnTransformer(n_jobs=None, remainder='drop',\n",
              "                                   sparse_threshold=0.3,\n",
              "                                   transformer_weights=None,\n",
              "                                   transformers=[('num',\n",
              "                                                  Pipeline(memory=None,\n",
              "                                                           steps=[('imputer',\n",
              "                                                                   SimpleImputer(add_indicator=False,\n",
              "                                                                                 copy=True,\n",
              "                                                                                 fill_value=None,\n",
              "                                                                                 missing_values=nan,\n",
              "                                                                                 strategy='median',\n",
              "                                                                                 verbose=0)),\n",
              "                                                                  ('scaler',\n",
              "                                                                   StandardScaler(copy=True,\n",
              "                                                                                  with_mean...\n",
              "                                                   'eeg_fz', 'eeg_f4', 'eeg_c4',\n",
              "                                                   'eeg_p4', 'eeg_poz',\n",
              "                                                   'eeg_c3', 'eeg_cz', 'eeg_o2',\n",
              "                                                   'ecg', 'r', 'gsr'])],\n",
              "                                   verbose=False)),\n",
              "                ('classifier',\n",
              "                 LogisticRegression(C=1.0, class_weight=None, dual=False,\n",
              "                                    fit_intercept=True, intercept_scaling=1,\n",
              "                                    l1_ratio=None, max_iter=100,\n",
              "                                    multi_class='auto', n_jobs=-1, penalty='l2',\n",
              "                                    random_state=None, solver='lbfgs',\n",
              "                                    tol=0.0001, verbose=0, warm_start=False))],\n",
              "         verbose=False)"
            ]
          },
          "metadata": {
            "tags": []
          },
          "execution_count": 53
        }
      ]
    },
    {
      "cell_type": "code",
      "metadata": {
        "id": "7Htv9JjSuJX6",
        "colab_type": "code",
        "colab": {}
      },
      "source": [
        "from sklearn.metrics import plot_confusion_matrix, plot_precision_recall_curve, classification_report\n",
        "\n",
        "def show_metrics(model, X_test, y_test):\n",
        "    fig, ax = plt.subplots(1, 2, figsize=(10, 4))\n",
        "\n",
        "    plot_confusion_matrix(model, X_test, y_test, cmap=plt.cm.Blues, ax=ax[0])\n",
        "    ax[0].set_title('Confusion matrix, without normalization')\n",
        "\n",
        "    plot_confusion_matrix(model, X_test, y_test, cmap=plt.cm.Blues, normalize='true', ax=ax[1])\n",
        "    ax[1].set_title('Normalized confusion matrix')\n",
        "\n",
        "    plt.tight_layout()\n",
        "    plt.show()\n",
        "\n",
        "    y_predict = model.predict(X_test)\n",
        "\n",
        "    display(pd.DataFrame(classification_report(y_test, y_predict, output_dict=True)).T)"
      ],
      "execution_count": 0,
      "outputs": []
    },
    {
      "cell_type": "code",
      "metadata": {
        "id": "F8UJgsTZBtXK",
        "colab_type": "code",
        "colab": {
          "base_uri": "https://localhost:8080/",
          "height": 561
        },
        "outputId": "37e5e941-f3e9-4423-c245-67a884d8aaa2"
      },
      "source": [
        "show_metrics(LR_clf, balanced_X_test, balanced_y_test)"
      ],
      "execution_count": 58,
      "outputs": [
        {
          "output_type": "display_data",
          "data": {
            "image/png": "[encoded data removed]",
            "text/plain": [
              "<Figure size 720x288 with 4 Axes>"
            ]
          },
          "metadata": {
            "tags": []
          }
        },
        {
          "output_type": "display_data",
          "data": {
            "text/html": [
              "<div>\n",
              "<style scoped>\n",
              "    .dataframe tbody tr th:only-of-type {\n",
              "        vertical-align: middle;\n",
              "    }\n",
              "\n",
              "    .dataframe tbody tr th {\n",
              "        vertical-align: top;\n",
              "    }\n",
              "\n",
              "    .dataframe thead th {\n",
              "        text-align: right;\n",
              "    }\n",
              "</style>\n",
              "<table border=\"1\" class=\"dataframe\">\n",
              "  <thead>\n",
              "    <tr style=\"text-align: right;\">\n",
              "      <th></th>\n",
              "      <th>precision</th>\n",
              "      <th>recall</th>\n",
              "      <th>f1-score</th>\n",
              "      <th>support</th>\n",
              "    </tr>\n",
              "  </thead>\n",
              "  <tbody>\n",
              "    <tr>\n",
              "      <th>A</th>\n",
              "      <td>0.382414</td>\n",
              "      <td>0.206355</td>\n",
              "      <td>0.268061</td>\n",
              "      <td>26091.000000</td>\n",
              "    </tr>\n",
              "    <tr>\n",
              "      <th>B</th>\n",
              "      <td>0.337069</td>\n",
              "      <td>0.357890</td>\n",
              "      <td>0.347167</td>\n",
              "      <td>26307.000000</td>\n",
              "    </tr>\n",
              "    <tr>\n",
              "      <th>C</th>\n",
              "      <td>0.484238</td>\n",
              "      <td>0.673700</td>\n",
              "      <td>0.563469</td>\n",
              "      <td>25970.000000</td>\n",
              "    </tr>\n",
              "    <tr>\n",
              "      <th>D</th>\n",
              "      <td>0.368317</td>\n",
              "      <td>0.371505</td>\n",
              "      <td>0.369904</td>\n",
              "      <td>26110.000000</td>\n",
              "    </tr>\n",
              "    <tr>\n",
              "      <th>accuracy</th>\n",
              "      <td>0.401951</td>\n",
              "      <td>0.401951</td>\n",
              "      <td>0.401951</td>\n",
              "      <td>0.401951</td>\n",
              "    </tr>\n",
              "    <tr>\n",
              "      <th>macro avg</th>\n",
              "      <td>0.393009</td>\n",
              "      <td>0.402362</td>\n",
              "      <td>0.387150</td>\n",
              "      <td>104478.000000</td>\n",
              "    </tr>\n",
              "    <tr>\n",
              "      <th>weighted avg</th>\n",
              "      <td>0.392783</td>\n",
              "      <td>0.401951</td>\n",
              "      <td>0.386860</td>\n",
              "      <td>104478.000000</td>\n",
              "    </tr>\n",
              "  </tbody>\n",
              "</table>\n",
              "</div>"
            ],
            "text/plain": [
              "              precision    recall  f1-score        support\n",
              "A              0.382414  0.206355  0.268061   26091.000000\n",
              "B              0.337069  0.357890  0.347167   26307.000000\n",
              "C              0.484238  0.673700  0.563469   25970.000000\n",
              "D              0.368317  0.371505  0.369904   26110.000000\n",
              "accuracy       0.401951  0.401951  0.401951       0.401951\n",
              "macro avg      0.393009  0.402362  0.387150  104478.000000\n",
              "weighted avg   0.392783  0.401951  0.386860  104478.000000"
            ]
          },
          "metadata": {
            "tags": []
          }
        }
      ]
    },
    {
      "cell_type": "code",
      "metadata": {
        "id": "bZ2obE9iU9cX",
        "colab_type": "code",
        "colab": {}
      },
      "source": [
        "from sklearn."
      ],
      "execution_count": 0,
      "outputs": []
    }
  ]
}