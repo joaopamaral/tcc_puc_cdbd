{
  "nbformat": 4,
  "nbformat_minor": 0,
  "metadata": {
    "colab": {
      "name": "Treinanco Modelo - Reducing Commercial Aviation Fatalities",
      "provenance": [],
      "toc_visible": true,
      "machine_shape": "hm",
      "authorship_tag": "ABX9TyNCYbXdzjBO/5h0hTT7F0rj",
      "include_colab_link": true
    },
    "kernelspec": {
      "name": "python3",
      "display_name": "Python 3"
    },
    "accelerator": "GPU"
  },
  "cells": [
    {
      "cell_type": "markdown",
      "metadata": {
        "id": "view-in-github",
        "colab_type": "text"
      },
      "source": [
        "<a href=\"https://colab.research.google.com/github/joaopamaral/tcc_puc_cdbd/blob/master/Treinanco_Modelo_Reducing_Commercial_Aviation_Fatalities.ipynb\" target=\"_parent\"><img src=\"https://colab.research.google.com/assets/colab-badge.svg\" alt=\"Open In Colab\"/></a>"
      ]
    },
    {
      "cell_type": "code",
      "metadata": {
        "id": "hlcYeFz-Sgvf",
        "colab_type": "code",
        "colab": {}
      },
      "source": [
        "import pandas as pd\n",
        "import numpy as np\n",
        "import matplotlib.pyplot as plt\n",
        "import seaborn as sns\n",
        "import sys, os\n",
        "from sklearn.model_selection import train_test_split\n",
        "\n",
        "IN_COLAB = 'google.colab' in sys.modules\n",
        "\n",
        "%matplotlib inline\n",
        "plt.style.use('ggplot')"
      ],
      "execution_count": 0,
      "outputs": []
    },
    {
      "cell_type": "code",
      "metadata": {
        "id": "ofImb1TUWmGc",
        "colab_type": "code",
        "colab": {}
      },
      "source": [
        "gdrive_kaggle_dir = '/gdrive/My Drive/Kaggle'\n",
        "api_gdrive_credential_location = f'{gdrive_kaggle_dir}/kaggle.json'\n",
        "data_gdrive_dir = f'{gdrive_kaggle_dir}/reducing-commercial-aviation-fatalities'\n",
        "api_local_credential_location = os.path.join(os.path.expanduser('~'), '.kaggle/kaggle.json')"
      ],
      "execution_count": 0,
      "outputs": []
    },
    {
      "cell_type": "code",
      "metadata": {
        "id": "cu26YBkVXDHR",
        "colab_type": "code",
        "outputId": "9ca391a8-3cf2-4841-d046-aa5c25c0659a",
        "colab": {
          "base_uri": "https://localhost:8080/",
          "height": 122
        }
      },
      "source": [
        "def get_kaggle_json():\n",
        "    !mkdir -p ~/.kaggle\n",
        "    !cp '{api_gdrive_credential_location}' '{api_local_credential_location}'\n",
        "\n",
        "if IN_COLAB:\n",
        "    if not os.path.isfile('train.csv.zip') or not os.path.isfile('test.csv.zip'):\n",
        "        from google.colab import drive\n",
        "        drive.mount('/gdrive')\n",
        "\n",
        "        if os.path.isdir(gdrive_kaggle_dir):\n",
        "            if os.path.isfile(f'{data_gdrive_dir}/test.csv.zip') and os.path.isfile(f'{data_gdrive_dir}/train.csv.zip'):\n",
        "                !cp '{data_gdrive_dir}/train.csv.zip' .\n",
        "                !cp '{data_gdrive_dir}/test.csv.zip' .\n",
        "            else:\n",
        "                get_kaggle_json()\n",
        "\n",
        "if not os.path.isfile('train.csv.zip') or not os.path.isfile('test.csv.zip'):\n",
        "    if os.path.isfile(api_local_credential_location):\n",
        "        !pip -q install kaggle --upgrade\n",
        "        !kaggle competitions download -c reducing-commercial-aviation-fatalities\n",
        "        if IN_COLAB and os.path.isdir(gdrive_kaggle_dir):\n",
        "            !cp train.csv.zip '{data_gdrive_dir}'\n",
        "            !cp test.csv.zip '{data_gdrive_dir}'"
      ],
      "execution_count": 3,
      "outputs": [
        {
          "output_type": "stream",
          "text": [
            "Go to this URL in a browser: https://accounts.google.com/o/oauth2/auth?client_id=947318989803-6bn6qk8qdgf4n4g3pfee6491hc0brc4i.apps.googleusercontent.com&redirect_uri=urn%3aietf%3awg%3aoauth%3a2.0%3aoob&response_type=code&scope=email%20https%3a%2f%2fwww.googleapis.com%2fauth%2fdocs.test%20https%3a%2f%2fwww.googleapis.com%2fauth%2fdrive%20https%3a%2f%2fwww.googleapis.com%2fauth%2fdrive.photos.readonly%20https%3a%2f%2fwww.googleapis.com%2fauth%2fpeopleapi.readonly\n",
            "\n",
            "Enter your authorization code:\n",
            "··········\n",
            "Mounted at /gdrive\n"
          ],
          "name": "stdout"
        }
      ]
    },
    {
      "cell_type": "code",
      "metadata": {
        "id": "aYBrsjQdF6hG",
        "colab_type": "code",
        "colab": {}
      },
      "source": [
        "eeg_columns = ['eeg_fp1', 'eeg_f7', 'eeg_f8', 'eeg_t4', 'eeg_t6', \n",
        "               'eeg_t5', 'eeg_t3', 'eeg_fp2', 'eeg_o1', 'eeg_p3', \n",
        "               'eeg_pz', 'eeg_f3', 'eeg_fz', 'eeg_f4',\t'eeg_c4', \n",
        "               'eeg_p4', 'eeg_poz', 'eeg_c3', 'eeg_cz', 'eeg_o2']\n",
        "\n",
        "numeric_features = [*eeg_columns, 'ecg', 'r', 'gsr']\n",
        "categorical_features = ['event']"
      ],
      "execution_count": 0,
      "outputs": []
    },
    {
      "cell_type": "code",
      "metadata": {
        "id": "_JeyTm6dH3ld",
        "colab_type": "code",
        "colab": {}
      },
      "source": [
        "dtypes = {'experiment': 'category', 'seat': bool, **{feature: np.float16 for feature in numeric_features}}"
      ],
      "execution_count": 0,
      "outputs": []
    },
    {
      "cell_type": "code",
      "metadata": {
        "id": "GXUr5K9iXTZW",
        "colab_type": "code",
        "colab": {}
      },
      "source": [
        "train_df = pd.read_csv('train.csv.zip', dtype=dtypes).set_index(['crew', 'experiment', 'seat', 'time'])"
      ],
      "execution_count": 0,
      "outputs": []
    },
    {
      "cell_type": "code",
      "metadata": {
        "id": "eYJSlhj5ijoT",
        "colab_type": "code",
        "colab": {}
      },
      "source": [
        "features = numeric_features\n",
        "target = 'event'"
      ],
      "execution_count": 0,
      "outputs": []
    },
    {
      "cell_type": "code",
      "metadata": {
        "id": "BeZHnRlLhKv1",
        "colab_type": "code",
        "colab": {}
      },
      "source": [
        "X_train, X_test, y_train, y_test = train_test_split(train_df[features], train_df[target], test_size=0.30, random_state=42, stratify=train_df[target])"
      ],
      "execution_count": 0,
      "outputs": []
    },
    {
      "cell_type": "code",
      "metadata": {
        "id": "S9XIQTfzn-Oh",
        "colab_type": "code",
        "outputId": "97b06774-470b-47c1-e540-20d9b20d6aaf",
        "colab": {
          "base_uri": "https://localhost:8080/",
          "height": 51
        }
      },
      "source": [
        "print(f'Quantidade de dados de treinamento: {y_train.shape[0]}')\n",
        "print(f'Quantidade de dados de teste: {X_test.shape[0]}')"
      ],
      "execution_count": 9,
      "outputs": [
        {
          "output_type": "stream",
          "text": [
            "Quantidade de dados de treinamento: 3407194\n",
            "Quantidade de dados de teste: 1460227\n"
          ],
          "name": "stdout"
        }
      ]
    },
    {
      "cell_type": "code",
      "metadata": {
        "id": "Xaqqdzf9oKCz",
        "colab_type": "code",
        "outputId": "95d6b7b0-c76d-48b0-a961-6c8f24476a9d",
        "colab": {
          "base_uri": "https://localhost:8080/",
          "height": 282
        }
      },
      "source": [
        "sns.countplot(train_df[target], order=['A', 'B', 'C', 'D']);"
      ],
      "execution_count": 10,
      "outputs": [
        {
          "output_type": "display_data",
          "data": {
            "image/png": "[encoded data removed]",
            "text/plain": [
              "<Figure size 432x288 with 1 Axes>"
            ]
          },
          "metadata": {
            "tags": []
          }
        }
      ]
    },
    {
      "cell_type": "code",
      "metadata": {
        "id": "eLmWfYdJoKcC",
        "colab_type": "code",
        "outputId": "16c9f098-498a-4f41-99ed-ed2bf7efa297",
        "colab": {
          "base_uri": "https://localhost:8080/",
          "height": 275
        }
      },
      "source": [
        "from imblearn.under_sampling import NearMiss\n",
        "\n",
        "nr = NearMiss(n_jobs=-1)\n",
        "balanced_X, balanced_y = nr.fit_sample(train_df[features], train_df[target])"
      ],
      "execution_count": 11,
      "outputs": [
        {
          "output_type": "stream",
          "text": [
            "/usr/local/lib/python3.6/dist-packages/sklearn/externals/six.py:31: FutureWarning: The module is deprecated in version 0.21 and will be removed in version 0.23 since we've dropped support for Python 2.7. Please rely on the official version of six (https://pypi.org/project/six/).\n",
            "  \"(https://pypi.org/project/six/).\", FutureWarning)\n",
            "/usr/local/lib/python3.6/dist-packages/sklearn/utils/deprecation.py:144: FutureWarning: The sklearn.neighbors.base module is  deprecated in version 0.22 and will be removed in version 0.24. The corresponding classes / functions should instead be imported from sklearn.neighbors. Anything that cannot be imported from sklearn.neighbors is now part of the private API.\n",
            "  warnings.warn(message, FutureWarning)\n",
            "/usr/local/lib/python3.6/dist-packages/sklearn/utils/deprecation.py:87: FutureWarning: Function safe_indexing is deprecated; safe_indexing is deprecated in version 0.22 and will be removed in version 0.24.\n",
            "  warnings.warn(msg, category=FutureWarning)\n",
            "/usr/local/lib/python3.6/dist-packages/sklearn/utils/deprecation.py:87: FutureWarning: Function safe_indexing is deprecated; safe_indexing is deprecated in version 0.22 and will be removed in version 0.24.\n",
            "  warnings.warn(msg, category=FutureWarning)\n",
            "/usr/local/lib/python3.6/dist-packages/sklearn/utils/deprecation.py:87: FutureWarning: Function safe_indexing is deprecated; safe_indexing is deprecated in version 0.22 and will be removed in version 0.24.\n",
            "  warnings.warn(msg, category=FutureWarning)\n",
            "/usr/local/lib/python3.6/dist-packages/sklearn/utils/deprecation.py:87: FutureWarning: Function safe_indexing is deprecated; safe_indexing is deprecated in version 0.22 and will be removed in version 0.24.\n",
            "  warnings.warn(msg, category=FutureWarning)\n",
            "/usr/local/lib/python3.6/dist-packages/sklearn/utils/deprecation.py:87: FutureWarning: Function safe_indexing is deprecated; safe_indexing is deprecated in version 0.22 and will be removed in version 0.24.\n",
            "  warnings.warn(msg, category=FutureWarning)\n"
          ],
          "name": "stderr"
        }
      ]
    },
    {
      "cell_type": "code",
      "metadata": {
        "id": "yWT_OOiLUSSR",
        "colab_type": "code",
        "colab": {}
      },
      "source": [
        "balanced_X = pd.DataFrame(balanced_X, columns=features)\n",
        "balanced_y = pd.Series(balanced_y, name=target)"
      ],
      "execution_count": 0,
      "outputs": []
    },
    {
      "cell_type": "code",
      "metadata": {
        "id": "Tpk4E0PauSPC",
        "colab_type": "code",
        "colab": {}
      },
      "source": [
        "balanced_X_train, balanced_X_test, balanced_y_train, balanced_y_test = train_test_split(balanced_X, balanced_y, test_size=0.20, random_state=42)"
      ],
      "execution_count": 0,
      "outputs": []
    },
    {
      "cell_type": "code",
      "metadata": {
        "id": "VKl5Wpkxkf6v",
        "colab_type": "code",
        "outputId": "48e3eb39-0223-44a8-908a-e141e3ed13d9",
        "colab": {
          "base_uri": "https://localhost:8080/",
          "height": 282
        }
      },
      "source": [
        "fig, ax = plt.subplots(1, 3, figsize=(15, 4))\n",
        "\n",
        "order = ['A', 'B', 'C', 'D']\n",
        "sns.countplot(balanced_y, order=order, ax=ax[0]);\n",
        "sns.countplot(balanced_y_train, order=order, ax=ax[1]);\n",
        "sns.countplot(balanced_y_test, order=order, ax=ax[2]);"
      ],
      "execution_count": 14,
      "outputs": [
        {
          "output_type": "display_data",
          "data": {
            "image/png": "[encoded data removed]",
            "text/plain": [
              "<Figure size 1080x288 with 3 Axes>"
            ]
          },
          "metadata": {
            "tags": []
          }
        }
      ]
    },
    {
      "cell_type": "code",
      "metadata": {
        "id": "ua4XJgqb90sA",
        "colab_type": "code",
        "colab": {}
      },
      "source": [
        "from sklearn.pipeline import Pipeline\n",
        "from sklearn.compose import ColumnTransformer\n",
        "from sklearn.impute import SimpleImputer\n",
        "from sklearn.preprocessing import OneHotEncoder, StandardScaler\n",
        "\n",
        "numeric_transformer = Pipeline(steps=[\n",
        "    ('imputer', SimpleImputer(strategy='median')),\n",
        "    ('scaler', StandardScaler())])\n",
        "categorical_transformer = Pipeline(steps=[('onehot', OneHotEncoder())])\n",
        "\n",
        "preprocessor = ColumnTransformer(\n",
        "    transformers=[\n",
        "        ('num', numeric_transformer, numeric_features),\n",
        "        # ('cat', categorical_transformer, categorical_features)\n",
        "        ])"
      ],
      "execution_count": 0,
      "outputs": []
    },
    {
      "cell_type": "code",
      "metadata": {
        "id": "_ua-Vj1_nxz6",
        "colab_type": "code",
        "outputId": "9dfc5954-f094-4758-e316-90ab850da5d9",
        "colab": {
          "base_uri": "https://localhost:8080/",
          "height": 561
        }
      },
      "source": [
        "from sklearn.linear_model import LogisticRegression\n",
        "\n",
        "LR_clf = Pipeline(steps=[('preprocessor', preprocessor),\n",
        "                         ('classifier', LogisticRegression(n_jobs=-1))])\n",
        "\n",
        "LR_clf.fit(balanced_X_train, balanced_y_train)"
      ],
      "execution_count": 16,
      "outputs": [
        {
          "output_type": "stream",
          "text": [
            "/usr/local/lib/python3.6/dist-packages/numpy/lib/nanfunctions.py:1545: RuntimeWarning: overflow encountered in multiply\n",
            "  sqr = np.multiply(arr, arr, out=arr)\n"
          ],
          "name": "stderr"
        },
        {
          "output_type": "execute_result",
          "data": {
            "text/plain": [
              "Pipeline(memory=None,\n",
              "         steps=[('preprocessor',\n",
              "                 ColumnTransformer(n_jobs=None, remainder='drop',\n",
              "                                   sparse_threshold=0.3,\n",
              "                                   transformer_weights=None,\n",
              "                                   transformers=[('num',\n",
              "                                                  Pipeline(memory=None,\n",
              "                                                           steps=[('imputer',\n",
              "                                                                   SimpleImputer(add_indicator=False,\n",
              "                                                                                 copy=True,\n",
              "                                                                                 fill_value=None,\n",
              "                                                                                 missing_values=nan,\n",
              "                                                                                 strategy='median',\n",
              "                                                                                 verbose=0)),\n",
              "                                                                  ('scaler',\n",
              "                                                                   StandardScaler(copy=True,\n",
              "                                                                                  with_mean...\n",
              "                                                   'eeg_fz', 'eeg_f4', 'eeg_c4',\n",
              "                                                   'eeg_p4', 'eeg_poz',\n",
              "                                                   'eeg_c3', 'eeg_cz', 'eeg_o2',\n",
              "                                                   'ecg', 'r', 'gsr'])],\n",
              "                                   verbose=False)),\n",
              "                ('classifier',\n",
              "                 LogisticRegression(C=1.0, class_weight=None, dual=False,\n",
              "                                    fit_intercept=True, intercept_scaling=1,\n",
              "                                    l1_ratio=None, max_iter=100,\n",
              "                                    multi_class='auto', n_jobs=-1, penalty='l2',\n",
              "                                    random_state=None, solver='lbfgs',\n",
              "                                    tol=0.0001, verbose=0, warm_start=False))],\n",
              "         verbose=False)"
            ]
          },
          "metadata": {
            "tags": []
          },
          "execution_count": 16
        }
      ]
    },
    {
      "cell_type": "code",
      "metadata": {
        "id": "7Htv9JjSuJX6",
        "colab_type": "code",
        "colab": {}
      },
      "source": [
        "from sklearn.metrics import plot_confusion_matrix, plot_precision_recall_curve, classification_report\n",
        "\n",
        "def show_metrics(model, X_test, y_test):\n",
        "    fig, ax = plt.subplots(1, 2, figsize=(10, 4))\n",
        "\n",
        "    plot_confusion_matrix(model, X_test, y_test, cmap=plt.cm.Blues, ax=ax[0])\n",
        "    ax[0].set_title('Confusion matrix, without normalization')\n",
        "\n",
        "    plot_confusion_matrix(model, X_test, y_test, cmap=plt.cm.Blues, normalize='true', ax=ax[1])\n",
        "    ax[1].set_title('Normalized confusion matrix')\n",
        "\n",
        "    plt.tight_layout()\n",
        "    plt.show()\n",
        "\n",
        "    y_predict = model.predict(X_test)\n",
        "\n",
        "    display(pd.DataFrame(classification_report(y_test, y_predict, output_dict=True)).T)"
      ],
      "execution_count": 0,
      "outputs": []
    },
    {
      "cell_type": "code",
      "metadata": {
        "id": "F8UJgsTZBtXK",
        "colab_type": "code",
        "outputId": "06b90eae-7712-49fc-967f-c932319355ce",
        "colab": {
          "base_uri": "https://localhost:8080/",
          "height": 561
        }
      },
      "source": [
        "show_metrics(LR_clf, balanced_X_test, balanced_y_test)"
      ],
      "execution_count": 18,
      "outputs": [
        {
          "output_type": "display_data",
          "data": {
            "image/png": "[encoded data removed]",
            "text/plain": [
              "<Figure size 720x288 with 4 Axes>"
            ]
          },
          "metadata": {
            "tags": []
          }
        },
        {
          "output_type": "display_data",
          "data": {
            "text/html": [
              "<div>\n",
              "<style scoped>\n",
              "    .dataframe tbody tr th:only-of-type {\n",
              "        vertical-align: middle;\n",
              "    }\n",
              "\n",
              "    .dataframe tbody tr th {\n",
              "        vertical-align: top;\n",
              "    }\n",
              "\n",
              "    .dataframe thead th {\n",
              "        text-align: right;\n",
              "    }\n",
              "</style>\n",
              "<table border=\"1\" class=\"dataframe\">\n",
              "  <thead>\n",
              "    <tr style=\"text-align: right;\">\n",
              "      <th></th>\n",
              "      <th>precision</th>\n",
              "      <th>recall</th>\n",
              "      <th>f1-score</th>\n",
              "      <th>support</th>\n",
              "    </tr>\n",
              "  </thead>\n",
              "  <tbody>\n",
              "    <tr>\n",
              "      <th>A</th>\n",
              "      <td>0.265985</td>\n",
              "      <td>0.071749</td>\n",
              "      <td>0.113013</td>\n",
              "      <td>26091.000000</td>\n",
              "    </tr>\n",
              "    <tr>\n",
              "      <th>B</th>\n",
              "      <td>0.315615</td>\n",
              "      <td>0.386855</td>\n",
              "      <td>0.347623</td>\n",
              "      <td>26307.000000</td>\n",
              "    </tr>\n",
              "    <tr>\n",
              "      <th>C</th>\n",
              "      <td>0.331724</td>\n",
              "      <td>0.809819</td>\n",
              "      <td>0.470655</td>\n",
              "      <td>25970.000000</td>\n",
              "    </tr>\n",
              "    <tr>\n",
              "      <th>D</th>\n",
              "      <td>0.337416</td>\n",
              "      <td>0.023209</td>\n",
              "      <td>0.043432</td>\n",
              "      <td>26110.000000</td>\n",
              "    </tr>\n",
              "    <tr>\n",
              "      <th>accuracy</th>\n",
              "      <td>0.322422</td>\n",
              "      <td>0.322422</td>\n",
              "      <td>0.322422</td>\n",
              "      <td>0.322422</td>\n",
              "    </tr>\n",
              "    <tr>\n",
              "      <th>macro avg</th>\n",
              "      <td>0.312685</td>\n",
              "      <td>0.322908</td>\n",
              "      <td>0.243681</td>\n",
              "      <td>104478.000000</td>\n",
              "    </tr>\n",
              "    <tr>\n",
              "      <th>weighted avg</th>\n",
              "      <td>0.312674</td>\n",
              "      <td>0.322422</td>\n",
              "      <td>0.243596</td>\n",
              "      <td>104478.000000</td>\n",
              "    </tr>\n",
              "  </tbody>\n",
              "</table>\n",
              "</div>"
            ],
            "text/plain": [
              "              precision    recall  f1-score        support\n",
              "A              0.265985  0.071749  0.113013   26091.000000\n",
              "B              0.315615  0.386855  0.347623   26307.000000\n",
              "C              0.331724  0.809819  0.470655   25970.000000\n",
              "D              0.337416  0.023209  0.043432   26110.000000\n",
              "accuracy       0.322422  0.322422  0.322422       0.322422\n",
              "macro avg      0.312685  0.322908  0.243681  104478.000000\n",
              "weighted avg   0.312674  0.322422  0.243596  104478.000000"
            ]
          },
          "metadata": {
            "tags": []
          }
        }
      ]
    },
    {
      "cell_type": "code",
      "metadata": {
        "id": "onFIyNEdhK3g",
        "colab_type": "code",
        "outputId": "eeeaaf1a-5ea8-4f21-cbc6-1601a3284010",
        "colab": {
          "base_uri": "https://localhost:8080/",
          "height": 561
        }
      },
      "source": [
        "from sklearn.tree import DecisionTreeClassifier\n",
        "\n",
        "DT_clf = DecisionTreeClassifier()\n",
        "DT_clf.fit(balanced_X_train, balanced_y_train)\n",
        "\n",
        "show_metrics(DT_clf, balanced_X_test, balanced_y_test)"
      ],
      "execution_count": 19,
      "outputs": [
        {
          "output_type": "display_data",
          "data": {
            "image/png": "[encoded data removed]",
            "text/plain": [
              "<Figure size 720x288 with 4 Axes>"
            ]
          },
          "metadata": {
            "tags": []
          }
        },
        {
          "output_type": "display_data",
          "data": {
            "text/html": [
              "<div>\n",
              "<style scoped>\n",
              "    .dataframe tbody tr th:only-of-type {\n",
              "        vertical-align: middle;\n",
              "    }\n",
              "\n",
              "    .dataframe tbody tr th {\n",
              "        vertical-align: top;\n",
              "    }\n",
              "\n",
              "    .dataframe thead th {\n",
              "        text-align: right;\n",
              "    }\n",
              "</style>\n",
              "<table border=\"1\" class=\"dataframe\">\n",
              "  <thead>\n",
              "    <tr style=\"text-align: right;\">\n",
              "      <th></th>\n",
              "      <th>precision</th>\n",
              "      <th>recall</th>\n",
              "      <th>f1-score</th>\n",
              "      <th>support</th>\n",
              "    </tr>\n",
              "  </thead>\n",
              "  <tbody>\n",
              "    <tr>\n",
              "      <th>A</th>\n",
              "      <td>0.941435</td>\n",
              "      <td>0.937105</td>\n",
              "      <td>0.939265</td>\n",
              "      <td>26091.000000</td>\n",
              "    </tr>\n",
              "    <tr>\n",
              "      <th>B</th>\n",
              "      <td>0.964743</td>\n",
              "      <td>0.967347</td>\n",
              "      <td>0.966043</td>\n",
              "      <td>26307.000000</td>\n",
              "    </tr>\n",
              "    <tr>\n",
              "      <th>C</th>\n",
              "      <td>0.969683</td>\n",
              "      <td>0.971737</td>\n",
              "      <td>0.970709</td>\n",
              "      <td>25970.000000</td>\n",
              "    </tr>\n",
              "    <tr>\n",
              "      <th>D</th>\n",
              "      <td>0.993832</td>\n",
              "      <td>0.993604</td>\n",
              "      <td>0.993718</td>\n",
              "      <td>26110.000000</td>\n",
              "    </tr>\n",
              "    <tr>\n",
              "      <th>accuracy</th>\n",
              "      <td>0.967448</td>\n",
              "      <td>0.967448</td>\n",
              "      <td>0.967448</td>\n",
              "      <td>0.967448</td>\n",
              "    </tr>\n",
              "    <tr>\n",
              "      <th>macro avg</th>\n",
              "      <td>0.967423</td>\n",
              "      <td>0.967448</td>\n",
              "      <td>0.967434</td>\n",
              "      <td>104478.000000</td>\n",
              "    </tr>\n",
              "    <tr>\n",
              "      <th>weighted avg</th>\n",
              "      <td>0.967420</td>\n",
              "      <td>0.967448</td>\n",
              "      <td>0.967432</td>\n",
              "      <td>104478.000000</td>\n",
              "    </tr>\n",
              "  </tbody>\n",
              "</table>\n",
              "</div>"
            ],
            "text/plain": [
              "              precision    recall  f1-score        support\n",
              "A              0.941435  0.937105  0.939265   26091.000000\n",
              "B              0.964743  0.967347  0.966043   26307.000000\n",
              "C              0.969683  0.971737  0.970709   25970.000000\n",
              "D              0.993832  0.993604  0.993718   26110.000000\n",
              "accuracy       0.967448  0.967448  0.967448       0.967448\n",
              "macro avg      0.967423  0.967448  0.967434  104478.000000\n",
              "weighted avg   0.967420  0.967448  0.967432  104478.000000"
            ]
          },
          "metadata": {
            "tags": []
          }
        }
      ]
    },
    {
      "cell_type": "code",
      "metadata": {
        "id": "bZ2obE9iU9cX",
        "colab_type": "code",
        "outputId": "bf8a05dc-5375-4dd4-b270-ce8781c850cc",
        "colab": {
          "base_uri": "https://localhost:8080/",
          "height": 561
        }
      },
      "source": [
        "from sklearn.ensemble import RandomForestClassifier\n",
        "\n",
        "RF_clf = RandomForestClassifier(n_jobs=-1)\n",
        "RF_clf.fit(balanced_X_train, balanced_y_train)\n",
        "\n",
        "show_metrics(RF_clf, balanced_X_test, balanced_y_test)"
      ],
      "execution_count": 20,
      "outputs": [
        {
          "output_type": "display_data",
          "data": {
            "image/png": "[encoded data removed]",
            "text/plain": [
              "<Figure size 720x288 with 4 Axes>"
            ]
          },
          "metadata": {
            "tags": []
          }
        },
        {
          "output_type": "display_data",
          "data": {
            "text/html": [
              "<div>\n",
              "<style scoped>\n",
              "    .dataframe tbody tr th:only-of-type {\n",
              "        vertical-align: middle;\n",
              "    }\n",
              "\n",
              "    .dataframe tbody tr th {\n",
              "        vertical-align: top;\n",
              "    }\n",
              "\n",
              "    .dataframe thead th {\n",
              "        text-align: right;\n",
              "    }\n",
              "</style>\n",
              "<table border=\"1\" class=\"dataframe\">\n",
              "  <thead>\n",
              "    <tr style=\"text-align: right;\">\n",
              "      <th></th>\n",
              "      <th>precision</th>\n",
              "      <th>recall</th>\n",
              "      <th>f1-score</th>\n",
              "      <th>support</th>\n",
              "    </tr>\n",
              "  </thead>\n",
              "  <tbody>\n",
              "    <tr>\n",
              "      <th>A</th>\n",
              "      <td>0.952973</td>\n",
              "      <td>0.943659</td>\n",
              "      <td>0.948293</td>\n",
              "      <td>26091.000000</td>\n",
              "    </tr>\n",
              "    <tr>\n",
              "      <th>B</th>\n",
              "      <td>0.970352</td>\n",
              "      <td>0.964192</td>\n",
              "      <td>0.967262</td>\n",
              "      <td>26307.000000</td>\n",
              "    </tr>\n",
              "    <tr>\n",
              "      <th>C</th>\n",
              "      <td>0.969265</td>\n",
              "      <td>0.987255</td>\n",
              "      <td>0.978177</td>\n",
              "      <td>25970.000000</td>\n",
              "    </tr>\n",
              "    <tr>\n",
              "      <th>D</th>\n",
              "      <td>0.996046</td>\n",
              "      <td>0.993757</td>\n",
              "      <td>0.994900</td>\n",
              "      <td>26110.000000</td>\n",
              "    </tr>\n",
              "    <tr>\n",
              "      <th>accuracy</th>\n",
              "      <td>0.972186</td>\n",
              "      <td>0.972186</td>\n",
              "      <td>0.972186</td>\n",
              "      <td>0.972186</td>\n",
              "    </tr>\n",
              "    <tr>\n",
              "      <th>macro avg</th>\n",
              "      <td>0.972159</td>\n",
              "      <td>0.972216</td>\n",
              "      <td>0.972158</td>\n",
              "      <td>104478.000000</td>\n",
              "    </tr>\n",
              "    <tr>\n",
              "      <th>weighted avg</th>\n",
              "      <td>0.972163</td>\n",
              "      <td>0.972186</td>\n",
              "      <td>0.972145</td>\n",
              "      <td>104478.000000</td>\n",
              "    </tr>\n",
              "  </tbody>\n",
              "</table>\n",
              "</div>"
            ],
            "text/plain": [
              "              precision    recall  f1-score        support\n",
              "A              0.952973  0.943659  0.948293   26091.000000\n",
              "B              0.970352  0.964192  0.967262   26307.000000\n",
              "C              0.969265  0.987255  0.978177   25970.000000\n",
              "D              0.996046  0.993757  0.994900   26110.000000\n",
              "accuracy       0.972186  0.972186  0.972186       0.972186\n",
              "macro avg      0.972159  0.972216  0.972158  104478.000000\n",
              "weighted avg   0.972163  0.972186  0.972145  104478.000000"
            ]
          },
          "metadata": {
            "tags": []
          }
        }
      ]
    },
    {
      "cell_type": "code",
      "metadata": {
        "id": "5ls-KpcDADVG",
        "colab_type": "code",
        "colab": {}
      },
      "source": [
        "# RF_clf.fit(balanced_X, balanced_y)"
      ],
      "execution_count": 0,
      "outputs": []
    },
    {
      "cell_type": "code",
      "metadata": {
        "id": "lnbrvJCv0eVt",
        "colab_type": "code",
        "colab": {}
      },
      "source": [
        "test_df = pd.read_csv('test.csv.zip', usecols=features, dtype={feature: np.float16 for feature in numeric_features})"
      ],
      "execution_count": 0,
      "outputs": []
    },
    {
      "cell_type": "code",
      "metadata": {
        "id": "FJ2HrXd00ljw",
        "colab_type": "code",
        "colab": {}
      },
      "source": [
        "events = ['A','B','C', 'D']\n",
        "\n",
        "pd.get_dummies(pd.Categorical(RF_clf.predict(test_df), categories=events)).rename(columns=str).reset_index().rename(columns={'index': 'id'}).to_csv('test_result.csv', index=False)"
      ],
      "execution_count": 0,
      "outputs": []
    },
    {
      "cell_type": "code",
      "metadata": {
        "id": "BsM_4OJP-Axk",
        "colab_type": "code",
        "colab": {
          "base_uri": "https://localhost:8080/",
          "height": 68
        },
        "outputId": "79fa5b40-3e33-4e5b-a5e4-6419b99a9de0"
      },
      "source": [
        "# get_kaggle_json()\n",
        "!kaggle competitions submit -c reducing-commercial-aviation-fatalities -f test_result.csv -m \"First Submission Train Set\""
      ],
      "execution_count": 60,
      "outputs": [
        {
          "output_type": "stream",
          "text": [
            "Warning: Looks like you're using an outdated API Version, please consider updating (server 1.5.6 / client 1.5.4)\n",
            "100% 281M/281M [00:08<00:00, 35.7MB/s]\n",
            "Successfully submitted to Reducing Commercial Aviation Fatalities"
          ],
          "name": "stdout"
        }
      ]
    },
    {
      "cell_type": "code",
      "metadata": {
        "id": "MZZ-mekDa8j6",
        "colab_type": "code",
        "colab": {}
      },
      "source": [
        "# from sklearn.ensemble import GradientBoostingClassifier\n",
        "\n",
        "# GB_clf = GradientBoostingClassifier()\n",
        "# GB_clf.fit(balanced_X_train, balanced_y_train)\n",
        "\n",
        "# show_metrics(GB_clf, balanced_X_test, balanced_y_test)"
      ],
      "execution_count": 0,
      "outputs": []
    },
    {
      "cell_type": "code",
      "metadata": {
        "id": "k29CxBV-kJtU",
        "colab_type": "code",
        "outputId": "2ad02205-fe42-4013-ab1c-3fa45b6ad0b7",
        "colab": {
          "base_uri": "https://localhost:8080/",
          "height": 562
        }
      },
      "source": [
        "if IN_COLAB:\n",
        "    !pip install -q h2o\n",
        "\n",
        "import h2o\n",
        "from h2o.automl import H2OAutoML, get_leaderboard\n",
        "\n",
        "h2o.init()"
      ],
      "execution_count": 22,
      "outputs": [
        {
          "output_type": "stream",
          "text": [
            "\u001b[K     |████████████████████████████████| 126.2MB 25kB/s \n",
            "\u001b[?25h  Building wheel for h2o (setup.py) ... \u001b[?25l\u001b[?25hdone\n",
            "Checking whether there is an H2O instance running at http://localhost:54321 ..... not found.\n",
            "Attempting to start a local H2O server...\n",
            "  Java Version: openjdk version \"11.0.6\" 2020-01-14; OpenJDK Runtime Environment (build 11.0.6+10-post-Ubuntu-1ubuntu118.04.1); OpenJDK 64-Bit Server VM (build 11.0.6+10-post-Ubuntu-1ubuntu118.04.1, mixed mode, sharing)\n",
            "  Starting server from /usr/local/lib/python3.6/dist-packages/h2o/backend/bin/h2o.jar\n",
            "  Ice root: /tmp/tmp4hz3w_9v\n",
            "  JVM stdout: /tmp/tmp4hz3w_9v/h2o_unknownUser_started_from_python.out\n",
            "  JVM stderr: /tmp/tmp4hz3w_9v/h2o_unknownUser_started_from_python.err\n",
            "  Server is running at http://127.0.0.1:54321\n",
            "Connecting to H2O server at http://127.0.0.1:54321 ... successful.\n"
          ],
          "name": "stdout"
        },
        {
          "output_type": "display_data",
          "data": {
            "text/html": [
              "<div style=\"overflow:auto\"><table style=\"width:50%\"><tr><td>H2O cluster uptime:</td>\n",
              "<td>02 secs</td></tr>\n",
              "<tr><td>H2O cluster timezone:</td>\n",
              "<td>Etc/UTC</td></tr>\n",
              "<tr><td>H2O data parsing timezone:</td>\n",
              "<td>UTC</td></tr>\n",
              "<tr><td>H2O cluster version:</td>\n",
              "<td>3.28.0.3</td></tr>\n",
              "<tr><td>H2O cluster version age:</td>\n",
              "<td>1 month </td></tr>\n",
              "<tr><td>H2O cluster name:</td>\n",
              "<td>H2O_from_python_unknownUser_537u5p</td></tr>\n",
              "<tr><td>H2O cluster total nodes:</td>\n",
              "<td>1</td></tr>\n",
              "<tr><td>H2O cluster free memory:</td>\n",
              "<td>6.188 Gb</td></tr>\n",
              "<tr><td>H2O cluster total cores:</td>\n",
              "<td>4</td></tr>\n",
              "<tr><td>H2O cluster allowed cores:</td>\n",
              "<td>4</td></tr>\n",
              "<tr><td>H2O cluster status:</td>\n",
              "<td>accepting new members, healthy</td></tr>\n",
              "<tr><td>H2O connection url:</td>\n",
              "<td>http://127.0.0.1:54321</td></tr>\n",
              "<tr><td>H2O connection proxy:</td>\n",
              "<td>{'http': None, 'https': None}</td></tr>\n",
              "<tr><td>H2O internal security:</td>\n",
              "<td>False</td></tr>\n",
              "<tr><td>H2O API Extensions:</td>\n",
              "<td>Amazon S3, XGBoost, Algos, AutoML, Core V3, TargetEncoder, Core V4</td></tr>\n",
              "<tr><td>Python version:</td>\n",
              "<td>3.6.9 final</td></tr></table></div>"
            ],
            "text/plain": [
              "--------------------------  ------------------------------------------------------------------\n",
              "H2O cluster uptime:         02 secs\n",
              "H2O cluster timezone:       Etc/UTC\n",
              "H2O data parsing timezone:  UTC\n",
              "H2O cluster version:        3.28.0.3\n",
              "H2O cluster version age:    1 month\n",
              "H2O cluster name:           H2O_from_python_unknownUser_537u5p\n",
              "H2O cluster total nodes:    1\n",
              "H2O cluster free memory:    6.188 Gb\n",
              "H2O cluster total cores:    4\n",
              "H2O cluster allowed cores:  4\n",
              "H2O cluster status:         accepting new members, healthy\n",
              "H2O connection url:         http://127.0.0.1:54321\n",
              "H2O connection proxy:       {'http': None, 'https': None}\n",
              "H2O internal security:      False\n",
              "H2O API Extensions:         Amazon S3, XGBoost, Algos, AutoML, Core V3, TargetEncoder, Core V4\n",
              "Python version:             3.6.9 final\n",
              "--------------------------  ------------------------------------------------------------------"
            ]
          },
          "metadata": {
            "tags": []
          }
        }
      ]
    },
    {
      "cell_type": "code",
      "metadata": {
        "id": "lS5toiTotfKI",
        "colab_type": "code",
        "outputId": "6eed8645-10b5-4b44-a110-ff5c708112eb",
        "colab": {
          "base_uri": "https://localhost:8080/",
          "height": 51
        }
      },
      "source": [
        "# Run AutoML for 20 base models (limited to 1 hour max runtime by default)\n",
        "aml = H2OAutoML(max_models=20, seed=10, max_runtime_secs=6000, max_runtime_secs_per_model=600)\n",
        "aml.train(x=features, y=target, training_frame=h2o.H2OFrame(pd.concat([balanced_X, balanced_y], axis=1)))"
      ],
      "execution_count": 32,
      "outputs": [
        {
          "output_type": "stream",
          "text": [
            "Parse progress: |█████████████████████████████████████████████████████████| 100%\n",
            "AutoML progress: |████████████████████████████████████████████████████████| 100%\n"
          ],
          "name": "stdout"
        }
      ]
    },
    {
      "cell_type": "code",
      "metadata": {
        "id": "xJle1aNSuOuy",
        "colab_type": "code",
        "colab": {
          "base_uri": "https://localhost:8080/",
          "height": 292
        },
        "outputId": "9f9ee4d3-686b-4cfe-f105-8188ff344723"
      },
      "source": [
        "lb = get_leaderboard(aml, extra_columns='ALL')\n",
        "lb.head(rows=lb.nrows)"
      ],
      "execution_count": 33,
      "outputs": [
        {
          "output_type": "display_data",
          "data": {
            "text/html": [
              "<table>\n",
              "<thead>\n",
              "<tr><th>model_id                                           </th><th style=\"text-align: right;\">  mean_per_class_error</th><th style=\"text-align: right;\">  logloss</th><th style=\"text-align: right;\">    rmse</th><th style=\"text-align: right;\">      mse</th><th style=\"text-align: right;\">  training_time_ms</th><th style=\"text-align: right;\">  predict_time_per_row_ms</th></tr>\n",
              "</thead>\n",
              "<tbody>\n",
              "<tr><td>XGBoost_2_AutoML_20200305_231356                   </td><td style=\"text-align: right;\">             0.0335134</td><td style=\"text-align: right;\"> 0.651384</td><td style=\"text-align: right;\">0.478625</td><td style=\"text-align: right;\">0.229082 </td><td style=\"text-align: right;\">  110353          </td><td style=\"text-align: right;\">                 0.003734</td></tr>\n",
              "<tr><td>StackedEnsemble_AllModels_AutoML_20200305_231356   </td><td style=\"text-align: right;\">             0.0367505</td><td style=\"text-align: right;\"> 0.101535</td><td style=\"text-align: right;\">0.170128</td><td style=\"text-align: right;\">0.0289437</td><td style=\"text-align: right;\">       1.59517e+06</td><td style=\"text-align: right;\">                 0.158532</td></tr>\n",
              "<tr><td>StackedEnsemble_BestOfFamily_AutoML_20200305_231356</td><td style=\"text-align: right;\">             0.0383987</td><td style=\"text-align: right;\"> 0.107196</td><td style=\"text-align: right;\">0.174068</td><td style=\"text-align: right;\">0.0302996</td><td style=\"text-align: right;\">  467758          </td><td style=\"text-align: right;\">                 0.041927</td></tr>\n",
              "<tr><td>GBM_5_AutoML_20200305_231356                       </td><td style=\"text-align: right;\">             0.0418386</td><td style=\"text-align: right;\"> 0.193451</td><td style=\"text-align: right;\">0.219221</td><td style=\"text-align: right;\">0.0480578</td><td style=\"text-align: right;\">   70286          </td><td style=\"text-align: right;\">                 0.01605 </td></tr>\n",
              "<tr><td>GBM_4_AutoML_20200305_231356                       </td><td style=\"text-align: right;\">             0.0483855</td><td style=\"text-align: right;\"> 0.184535</td><td style=\"text-align: right;\">0.221699</td><td style=\"text-align: right;\">0.0491504</td><td style=\"text-align: right;\">   69267          </td><td style=\"text-align: right;\">                 0.019279</td></tr>\n",
              "<tr><td>GBM_3_AutoML_20200305_231356                       </td><td style=\"text-align: right;\">             0.0611863</td><td style=\"text-align: right;\"> 0.21062 </td><td style=\"text-align: right;\">0.243581</td><td style=\"text-align: right;\">0.0593316</td><td style=\"text-align: right;\">   68116          </td><td style=\"text-align: right;\">                 0.022067</td></tr>\n",
              "<tr><td>XGBoost_1_AutoML_20200305_231356                   </td><td style=\"text-align: right;\">             0.0640865</td><td style=\"text-align: right;\"> 0.276273</td><td style=\"text-align: right;\">0.276404</td><td style=\"text-align: right;\">0.0763992</td><td style=\"text-align: right;\">   71284          </td><td style=\"text-align: right;\">                 0.014606</td></tr>\n",
              "<tr><td>GBM_2_AutoML_20200305_231356                       </td><td style=\"text-align: right;\">             0.0688033</td><td style=\"text-align: right;\"> 0.223654</td><td style=\"text-align: right;\">0.253657</td><td style=\"text-align: right;\">0.0643419</td><td style=\"text-align: right;\">   67535          </td><td style=\"text-align: right;\">                 0.023075</td></tr>\n",
              "<tr><td>DRF_1_AutoML_20200305_231356                       </td><td style=\"text-align: right;\">             0.0701337</td><td style=\"text-align: right;\"> 0.290988</td><td style=\"text-align: right;\">0.287035</td><td style=\"text-align: right;\">0.0823889</td><td style=\"text-align: right;\">   59257          </td><td style=\"text-align: right;\">                 0.021941</td></tr>\n",
              "<tr><td>GBM_1_AutoML_20200305_231356                       </td><td style=\"text-align: right;\">             0.077318 </td><td style=\"text-align: right;\"> 0.247031</td><td style=\"text-align: right;\">0.26908 </td><td style=\"text-align: right;\">0.0724039</td><td style=\"text-align: right;\">   67294          </td><td style=\"text-align: right;\">                 0.025385</td></tr>\n",
              "<tr><td>XGBoost_3_AutoML_20200305_231356                   </td><td style=\"text-align: right;\">             0.127135 </td><td style=\"text-align: right;\"> 0.457237</td><td style=\"text-align: right;\">0.383817</td><td style=\"text-align: right;\">0.147315 </td><td style=\"text-align: right;\">   62865          </td><td style=\"text-align: right;\">                 0.009089</td></tr>\n",
              "<tr><td>GLM_1_AutoML_20200305_231356                       </td><td style=\"text-align: right;\">             0.59907  </td><td style=\"text-align: right;\"> 1.27693 </td><td style=\"text-align: right;\">0.708557</td><td style=\"text-align: right;\">0.502053 </td><td style=\"text-align: right;\">   95187          </td><td style=\"text-align: right;\">                 0.000388</td></tr>\n",
              "</tbody>\n",
              "</table>"
            ]
          },
          "metadata": {
            "tags": []
          }
        },
        {
          "output_type": "execute_result",
          "data": {
            "text/plain": [
              ""
            ]
          },
          "metadata": {
            "tags": []
          },
          "execution_count": 33
        }
      ]
    },
    {
      "cell_type": "code",
      "metadata": {
        "id": "kPdGKaypeEUp",
        "colab_type": "code",
        "colab": {
          "base_uri": "https://localhost:8080/",
          "height": 1000
        },
        "outputId": "8ac6346b-38f7-4ebe-cc05-c72249a29f3b"
      },
      "source": [
        "aml.leader"
      ],
      "execution_count": 34,
      "outputs": [
        {
          "output_type": "stream",
          "text": [
            "Model Details\n",
            "=============\n",
            "H2OXGBoostEstimator :  XGBoost\n",
            "Model Key:  XGBoost_2_AutoML_20200305_231356\n",
            "\n",
            "\n",
            "Model Summary: \n"
          ],
          "name": "stdout"
        },
        {
          "output_type": "display_data",
          "data": {
            "text/html": [
              "<div>\n",
              "<style scoped>\n",
              "    .dataframe tbody tr th:only-of-type {\n",
              "        vertical-align: middle;\n",
              "    }\n",
              "\n",
              "    .dataframe tbody tr th {\n",
              "        vertical-align: top;\n",
              "    }\n",
              "\n",
              "    .dataframe thead th {\n",
              "        text-align: right;\n",
              "    }\n",
              "</style>\n",
              "<table border=\"1\" class=\"dataframe\">\n",
              "  <thead>\n",
              "    <tr style=\"text-align: right;\">\n",
              "      <th></th>\n",
              "      <th></th>\n",
              "      <th>number_of_trees</th>\n",
              "    </tr>\n",
              "  </thead>\n",
              "  <tbody>\n",
              "    <tr>\n",
              "      <th>0</th>\n",
              "      <td></td>\n",
              "      <td>15.0</td>\n",
              "    </tr>\n",
              "  </tbody>\n",
              "</table>\n",
              "</div>"
            ],
            "text/plain": [
              "     number_of_trees\n",
              "0               15.0"
            ]
          },
          "metadata": {
            "tags": []
          }
        },
        {
          "output_type": "stream",
          "text": [
            "\n",
            "\n",
            "ModelMetricsMultinomial: xgboost\n",
            "** Reported on train data. **\n",
            "\n",
            "MSE: 0.2218395938884507\n",
            "RMSE: 0.47099850731021503\n",
            "LogLoss: 0.6380030322783364\n",
            "Mean Per-Class Error: 0.025174774305688492\n",
            "\n",
            "Confusion Matrix: Row labels: Actual class; Column labels: Predicted class\n"
          ],
          "name": "stdout"
        },
        {
          "output_type": "display_data",
          "data": {
            "text/html": [
              "<div>\n",
              "<style scoped>\n",
              "    .dataframe tbody tr th:only-of-type {\n",
              "        vertical-align: middle;\n",
              "    }\n",
              "\n",
              "    .dataframe tbody tr th {\n",
              "        vertical-align: top;\n",
              "    }\n",
              "\n",
              "    .dataframe thead th {\n",
              "        text-align: right;\n",
              "    }\n",
              "</style>\n",
              "<table border=\"1\" class=\"dataframe\">\n",
              "  <thead>\n",
              "    <tr style=\"text-align: right;\">\n",
              "      <th></th>\n",
              "      <th>A</th>\n",
              "      <th>B</th>\n",
              "      <th>C</th>\n",
              "      <th>D</th>\n",
              "      <th>Error</th>\n",
              "      <th>Rate</th>\n",
              "    </tr>\n",
              "  </thead>\n",
              "  <tbody>\n",
              "    <tr>\n",
              "      <th>0</th>\n",
              "      <td>124632.0</td>\n",
              "      <td>2104.0</td>\n",
              "      <td>3637.0</td>\n",
              "      <td>224.0</td>\n",
              "      <td>0.045675</td>\n",
              "      <td>5,965 / 130,597</td>\n",
              "    </tr>\n",
              "    <tr>\n",
              "      <th>1</th>\n",
              "      <td>3880.0</td>\n",
              "      <td>126142.0</td>\n",
              "      <td>571.0</td>\n",
              "      <td>4.0</td>\n",
              "      <td>0.034113</td>\n",
              "      <td>4,455 / 130,597</td>\n",
              "    </tr>\n",
              "    <tr>\n",
              "      <th>2</th>\n",
              "      <td>1559.0</td>\n",
              "      <td>128.0</td>\n",
              "      <td>128809.0</td>\n",
              "      <td>101.0</td>\n",
              "      <td>0.013691</td>\n",
              "      <td>1,788 / 130,597</td>\n",
              "    </tr>\n",
              "    <tr>\n",
              "      <th>3</th>\n",
              "      <td>848.0</td>\n",
              "      <td>41.0</td>\n",
              "      <td>54.0</td>\n",
              "      <td>129654.0</td>\n",
              "      <td>0.007221</td>\n",
              "      <td>943 / 130,597</td>\n",
              "    </tr>\n",
              "    <tr>\n",
              "      <th>4</th>\n",
              "      <td>130919.0</td>\n",
              "      <td>128415.0</td>\n",
              "      <td>133071.0</td>\n",
              "      <td>129983.0</td>\n",
              "      <td>0.025175</td>\n",
              "      <td>13,151 / 522,388</td>\n",
              "    </tr>\n",
              "  </tbody>\n",
              "</table>\n",
              "</div>"
            ],
            "text/plain": [
              "          A         B         C         D     Error              Rate\n",
              "0  124632.0    2104.0    3637.0     224.0  0.045675   5,965 / 130,597\n",
              "1    3880.0  126142.0     571.0       4.0  0.034113   4,455 / 130,597\n",
              "2    1559.0     128.0  128809.0     101.0  0.013691   1,788 / 130,597\n",
              "3     848.0      41.0      54.0  129654.0  0.007221     943 / 130,597\n",
              "4  130919.0  128415.0  133071.0  129983.0  0.025175  13,151 / 522,388"
            ]
          },
          "metadata": {
            "tags": []
          }
        },
        {
          "output_type": "stream",
          "text": [
            "\n",
            "Top-4 Hit Ratios: \n"
          ],
          "name": "stdout"
        },
        {
          "output_type": "display_data",
          "data": {
            "text/html": [
              "<div>\n",
              "<style scoped>\n",
              "    .dataframe tbody tr th:only-of-type {\n",
              "        vertical-align: middle;\n",
              "    }\n",
              "\n",
              "    .dataframe tbody tr th {\n",
              "        vertical-align: top;\n",
              "    }\n",
              "\n",
              "    .dataframe thead th {\n",
              "        text-align: right;\n",
              "    }\n",
              "</style>\n",
              "<table border=\"1\" class=\"dataframe\">\n",
              "  <thead>\n",
              "    <tr style=\"text-align: right;\">\n",
              "      <th></th>\n",
              "      <th>k</th>\n",
              "      <th>hit_ratio</th>\n",
              "    </tr>\n",
              "  </thead>\n",
              "  <tbody>\n",
              "    <tr>\n",
              "      <th>0</th>\n",
              "      <td>1</td>\n",
              "      <td>0.974825</td>\n",
              "    </tr>\n",
              "    <tr>\n",
              "      <th>1</th>\n",
              "      <td>2</td>\n",
              "      <td>0.998319</td>\n",
              "    </tr>\n",
              "    <tr>\n",
              "      <th>2</th>\n",
              "      <td>3</td>\n",
              "      <td>0.999870</td>\n",
              "    </tr>\n",
              "    <tr>\n",
              "      <th>3</th>\n",
              "      <td>4</td>\n",
              "      <td>1.000000</td>\n",
              "    </tr>\n",
              "  </tbody>\n",
              "</table>\n",
              "</div>"
            ],
            "text/plain": [
              "   k  hit_ratio\n",
              "0  1   0.974825\n",
              "1  2   0.998319\n",
              "2  3   0.999870\n",
              "3  4   1.000000"
            ]
          },
          "metadata": {
            "tags": []
          }
        },
        {
          "output_type": "stream",
          "text": [
            "\n",
            "ModelMetricsMultinomial: xgboost\n",
            "** Reported on cross-validation data. **\n",
            "\n",
            "MSE: 0.22908219696071616\n",
            "RMSE: 0.47862532001631103\n",
            "LogLoss: 0.651384465271902\n",
            "Mean Per-Class Error: 0.03351340383010329\n",
            "\n",
            "Confusion Matrix: Row labels: Actual class; Column labels: Predicted class\n"
          ],
          "name": "stdout"
        },
        {
          "output_type": "display_data",
          "data": {
            "text/html": [
              "<div>\n",
              "<style scoped>\n",
              "    .dataframe tbody tr th:only-of-type {\n",
              "        vertical-align: middle;\n",
              "    }\n",
              "\n",
              "    .dataframe tbody tr th {\n",
              "        vertical-align: top;\n",
              "    }\n",
              "\n",
              "    .dataframe thead th {\n",
              "        text-align: right;\n",
              "    }\n",
              "</style>\n",
              "<table border=\"1\" class=\"dataframe\">\n",
              "  <thead>\n",
              "    <tr style=\"text-align: right;\">\n",
              "      <th></th>\n",
              "      <th>A</th>\n",
              "      <th>B</th>\n",
              "      <th>C</th>\n",
              "      <th>D</th>\n",
              "      <th>Error</th>\n",
              "      <th>Rate</th>\n",
              "    </tr>\n",
              "  </thead>\n",
              "  <tbody>\n",
              "    <tr>\n",
              "      <th>0</th>\n",
              "      <td>122113.0</td>\n",
              "      <td>2919.0</td>\n",
              "      <td>5166.0</td>\n",
              "      <td>399.0</td>\n",
              "      <td>0.064963</td>\n",
              "      <td>8,484 / 130,597</td>\n",
              "    </tr>\n",
              "    <tr>\n",
              "      <th>1</th>\n",
              "      <td>4949.0</td>\n",
              "      <td>124872.0</td>\n",
              "      <td>770.0</td>\n",
              "      <td>6.0</td>\n",
              "      <td>0.043837</td>\n",
              "      <td>5,725 / 130,597</td>\n",
              "    </tr>\n",
              "    <tr>\n",
              "      <th>2</th>\n",
              "      <td>1709.0</td>\n",
              "      <td>204.0</td>\n",
              "      <td>128542.0</td>\n",
              "      <td>142.0</td>\n",
              "      <td>0.015735</td>\n",
              "      <td>2,055 / 130,597</td>\n",
              "    </tr>\n",
              "    <tr>\n",
              "      <th>3</th>\n",
              "      <td>1119.0</td>\n",
              "      <td>51.0</td>\n",
              "      <td>73.0</td>\n",
              "      <td>129354.0</td>\n",
              "      <td>0.009518</td>\n",
              "      <td>1,243 / 130,597</td>\n",
              "    </tr>\n",
              "    <tr>\n",
              "      <th>4</th>\n",
              "      <td>129890.0</td>\n",
              "      <td>128046.0</td>\n",
              "      <td>134551.0</td>\n",
              "      <td>129901.0</td>\n",
              "      <td>0.033513</td>\n",
              "      <td>17,507 / 522,388</td>\n",
              "    </tr>\n",
              "  </tbody>\n",
              "</table>\n",
              "</div>"
            ],
            "text/plain": [
              "          A         B         C         D     Error              Rate\n",
              "0  122113.0    2919.0    5166.0     399.0  0.064963   8,484 / 130,597\n",
              "1    4949.0  124872.0     770.0       6.0  0.043837   5,725 / 130,597\n",
              "2    1709.0     204.0  128542.0     142.0  0.015735   2,055 / 130,597\n",
              "3    1119.0      51.0      73.0  129354.0  0.009518   1,243 / 130,597\n",
              "4  129890.0  128046.0  134551.0  129901.0  0.033513  17,507 / 522,388"
            ]
          },
          "metadata": {
            "tags": []
          }
        },
        {
          "output_type": "stream",
          "text": [
            "\n",
            "Top-4 Hit Ratios: \n"
          ],
          "name": "stdout"
        },
        {
          "output_type": "display_data",
          "data": {
            "text/html": [
              "<div>\n",
              "<style scoped>\n",
              "    .dataframe tbody tr th:only-of-type {\n",
              "        vertical-align: middle;\n",
              "    }\n",
              "\n",
              "    .dataframe tbody tr th {\n",
              "        vertical-align: top;\n",
              "    }\n",
              "\n",
              "    .dataframe thead th {\n",
              "        text-align: right;\n",
              "    }\n",
              "</style>\n",
              "<table border=\"1\" class=\"dataframe\">\n",
              "  <thead>\n",
              "    <tr style=\"text-align: right;\">\n",
              "      <th></th>\n",
              "      <th>k</th>\n",
              "      <th>hit_ratio</th>\n",
              "    </tr>\n",
              "  </thead>\n",
              "  <tbody>\n",
              "    <tr>\n",
              "      <th>0</th>\n",
              "      <td>1</td>\n",
              "      <td>0.966487</td>\n",
              "    </tr>\n",
              "    <tr>\n",
              "      <th>1</th>\n",
              "      <td>2</td>\n",
              "      <td>0.997282</td>\n",
              "    </tr>\n",
              "    <tr>\n",
              "      <th>2</th>\n",
              "      <td>3</td>\n",
              "      <td>0.999853</td>\n",
              "    </tr>\n",
              "    <tr>\n",
              "      <th>3</th>\n",
              "      <td>4</td>\n",
              "      <td>1.000000</td>\n",
              "    </tr>\n",
              "  </tbody>\n",
              "</table>\n",
              "</div>"
            ],
            "text/plain": [
              "   k  hit_ratio\n",
              "0  1   0.966487\n",
              "1  2   0.997282\n",
              "2  3   0.999853\n",
              "3  4   1.000000"
            ]
          },
          "metadata": {
            "tags": []
          }
        },
        {
          "output_type": "stream",
          "text": [
            "\n",
            "Cross-Validation Metrics Summary: \n"
          ],
          "name": "stdout"
        },
        {
          "output_type": "display_data",
          "data": {
            "text/html": [
              "<div>\n",
              "<style scoped>\n",
              "    .dataframe tbody tr th:only-of-type {\n",
              "        vertical-align: middle;\n",
              "    }\n",
              "\n",
              "    .dataframe tbody tr th {\n",
              "        vertical-align: top;\n",
              "    }\n",
              "\n",
              "    .dataframe thead th {\n",
              "        text-align: right;\n",
              "    }\n",
              "</style>\n",
              "<table border=\"1\" class=\"dataframe\">\n",
              "  <thead>\n",
              "    <tr style=\"text-align: right;\">\n",
              "      <th></th>\n",
              "      <th></th>\n",
              "      <th>mean</th>\n",
              "      <th>sd</th>\n",
              "      <th>cv_1_valid</th>\n",
              "      <th>cv_2_valid</th>\n",
              "      <th>cv_3_valid</th>\n",
              "      <th>cv_4_valid</th>\n",
              "      <th>cv_5_valid</th>\n",
              "    </tr>\n",
              "  </thead>\n",
              "  <tbody>\n",
              "    <tr>\n",
              "      <th>0</th>\n",
              "      <td>accuracy</td>\n",
              "      <td>0.9664866</td>\n",
              "      <td>0.0017621436</td>\n",
              "      <td>0.9666724</td>\n",
              "      <td>0.96588755</td>\n",
              "      <td>0.9662225</td>\n",
              "      <td>0.9644036</td>\n",
              "      <td>0.9692468</td>\n",
              "    </tr>\n",
              "    <tr>\n",
              "      <th>1</th>\n",
              "      <td>err</td>\n",
              "      <td>0.0335134</td>\n",
              "      <td>0.0017621436</td>\n",
              "      <td>0.03332759</td>\n",
              "      <td>0.034112446</td>\n",
              "      <td>0.033777446</td>\n",
              "      <td>0.035596352</td>\n",
              "      <td>0.03075318</td>\n",
              "    </tr>\n",
              "    <tr>\n",
              "      <th>2</th>\n",
              "      <td>err_count</td>\n",
              "      <td>3501.4</td>\n",
              "      <td>184.10677</td>\n",
              "      <td>3482.0</td>\n",
              "      <td>3564.0</td>\n",
              "      <td>3529.0</td>\n",
              "      <td>3719.0</td>\n",
              "      <td>3213.0</td>\n",
              "    </tr>\n",
              "    <tr>\n",
              "      <th>3</th>\n",
              "      <td>logloss</td>\n",
              "      <td>0.6513842</td>\n",
              "      <td>0.11341939</td>\n",
              "      <td>0.70659226</td>\n",
              "      <td>0.7062797</td>\n",
              "      <td>0.6750749</td>\n",
              "      <td>0.7184324</td>\n",
              "      <td>0.4505418</td>\n",
              "    </tr>\n",
              "    <tr>\n",
              "      <th>4</th>\n",
              "      <td>max_per_class_error</td>\n",
              "      <td>0.06496324</td>\n",
              "      <td>0.005659207</td>\n",
              "      <td>0.062136292</td>\n",
              "      <td>0.06420367</td>\n",
              "      <td>0.06248325</td>\n",
              "      <td>0.07488801</td>\n",
              "      <td>0.061104942</td>\n",
              "    </tr>\n",
              "    <tr>\n",
              "      <th>5</th>\n",
              "      <td>mean_per_class_accuracy</td>\n",
              "      <td>0.9664866</td>\n",
              "      <td>0.001762063</td>\n",
              "      <td>0.96667254</td>\n",
              "      <td>0.9658876</td>\n",
              "      <td>0.96622247</td>\n",
              "      <td>0.96440375</td>\n",
              "      <td>0.9692467</td>\n",
              "    </tr>\n",
              "    <tr>\n",
              "      <th>6</th>\n",
              "      <td>mean_per_class_error</td>\n",
              "      <td>0.033513412</td>\n",
              "      <td>0.001762063</td>\n",
              "      <td>0.03332747</td>\n",
              "      <td>0.034112398</td>\n",
              "      <td>0.033777565</td>\n",
              "      <td>0.035596278</td>\n",
              "      <td>0.03075334</td>\n",
              "    </tr>\n",
              "    <tr>\n",
              "      <th>7</th>\n",
              "      <td>mse</td>\n",
              "      <td>0.22908208</td>\n",
              "      <td>0.054022547</td>\n",
              "      <td>0.2554727</td>\n",
              "      <td>0.25530365</td>\n",
              "      <td>0.23984256</td>\n",
              "      <td>0.2612936</td>\n",
              "      <td>0.13349788</td>\n",
              "    </tr>\n",
              "    <tr>\n",
              "      <th>8</th>\n",
              "      <td>r2</td>\n",
              "      <td>0.8167345</td>\n",
              "      <td>0.043217536</td>\n",
              "      <td>0.7956219</td>\n",
              "      <td>0.7957602</td>\n",
              "      <td>0.808126</td>\n",
              "      <td>0.79096353</td>\n",
              "      <td>0.8932009</td>\n",
              "    </tr>\n",
              "    <tr>\n",
              "      <th>9</th>\n",
              "      <td>rmse</td>\n",
              "      <td>0.4753997</td>\n",
              "      <td>0.062019996</td>\n",
              "      <td>0.50544304</td>\n",
              "      <td>0.5052758</td>\n",
              "      <td>0.48973724</td>\n",
              "      <td>0.51116884</td>\n",
              "      <td>0.3653736</td>\n",
              "    </tr>\n",
              "  </tbody>\n",
              "</table>\n",
              "</div>"
            ],
            "text/plain": [
              "                                   mean  ...   cv_4_valid   cv_5_valid\n",
              "0                 accuracy    0.9664866  ...    0.9644036    0.9692468\n",
              "1                      err    0.0335134  ...  0.035596352   0.03075318\n",
              "2                err_count       3501.4  ...       3719.0       3213.0\n",
              "3                  logloss    0.6513842  ...    0.7184324    0.4505418\n",
              "4      max_per_class_error   0.06496324  ...   0.07488801  0.061104942\n",
              "5  mean_per_class_accuracy    0.9664866  ...   0.96440375    0.9692467\n",
              "6     mean_per_class_error  0.033513412  ...  0.035596278   0.03075334\n",
              "7                      mse   0.22908208  ...    0.2612936   0.13349788\n",
              "8                       r2    0.8167345  ...   0.79096353    0.8932009\n",
              "9                     rmse    0.4753997  ...   0.51116884    0.3653736\n",
              "\n",
              "[10 rows x 8 columns]"
            ]
          },
          "metadata": {
            "tags": []
          }
        },
        {
          "output_type": "stream",
          "text": [
            "\n",
            "Scoring History: \n"
          ],
          "name": "stdout"
        },
        {
          "output_type": "display_data",
          "data": {
            "text/html": [
              "<div>\n",
              "<style scoped>\n",
              "    .dataframe tbody tr th:only-of-type {\n",
              "        vertical-align: middle;\n",
              "    }\n",
              "\n",
              "    .dataframe tbody tr th {\n",
              "        vertical-align: top;\n",
              "    }\n",
              "\n",
              "    .dataframe thead th {\n",
              "        text-align: right;\n",
              "    }\n",
              "</style>\n",
              "<table border=\"1\" class=\"dataframe\">\n",
              "  <thead>\n",
              "    <tr style=\"text-align: right;\">\n",
              "      <th></th>\n",
              "      <th></th>\n",
              "      <th>timestamp</th>\n",
              "      <th>duration</th>\n",
              "      <th>number_of_trees</th>\n",
              "      <th>training_rmse</th>\n",
              "      <th>training_logloss</th>\n",
              "      <th>training_classification_error</th>\n",
              "    </tr>\n",
              "  </thead>\n",
              "  <tbody>\n",
              "    <tr>\n",
              "      <th>0</th>\n",
              "      <td></td>\n",
              "      <td>2020-03-05 23:34:18</td>\n",
              "      <td>8 min 13.721 sec</td>\n",
              "      <td>0.0</td>\n",
              "      <td>0.750000</td>\n",
              "      <td>1.386294</td>\n",
              "      <td>0.750000</td>\n",
              "    </tr>\n",
              "    <tr>\n",
              "      <th>1</th>\n",
              "      <td></td>\n",
              "      <td>2020-03-05 23:34:55</td>\n",
              "      <td>8 min 50.007 sec</td>\n",
              "      <td>5.0</td>\n",
              "      <td>0.647052</td>\n",
              "      <td>1.043113</td>\n",
              "      <td>0.031819</td>\n",
              "    </tr>\n",
              "    <tr>\n",
              "      <th>2</th>\n",
              "      <td></td>\n",
              "      <td>2020-03-05 23:35:30</td>\n",
              "      <td>9 min 25.431 sec</td>\n",
              "      <td>10.0</td>\n",
              "      <td>0.556204</td>\n",
              "      <td>0.814712</td>\n",
              "      <td>0.027970</td>\n",
              "    </tr>\n",
              "    <tr>\n",
              "      <th>3</th>\n",
              "      <td></td>\n",
              "      <td>2020-03-05 23:36:06</td>\n",
              "      <td>10 min  1.315 sec</td>\n",
              "      <td>15.0</td>\n",
              "      <td>0.470999</td>\n",
              "      <td>0.638003</td>\n",
              "      <td>0.025175</td>\n",
              "    </tr>\n",
              "  </tbody>\n",
              "</table>\n",
              "</div>"
            ],
            "text/plain": [
              "               timestamp  ... training_logloss  training_classification_error\n",
              "0    2020-03-05 23:34:18  ...         1.386294                       0.750000\n",
              "1    2020-03-05 23:34:55  ...         1.043113                       0.031819\n",
              "2    2020-03-05 23:35:30  ...         0.814712                       0.027970\n",
              "3    2020-03-05 23:36:06  ...         0.638003                       0.025175\n",
              "\n",
              "[4 rows x 7 columns]"
            ]
          },
          "metadata": {
            "tags": []
          }
        },
        {
          "output_type": "stream",
          "text": [
            "\n",
            "Variable Importances: \n"
          ],
          "name": "stdout"
        },
        {
          "output_type": "display_data",
          "data": {
            "text/html": [
              "<div>\n",
              "<style scoped>\n",
              "    .dataframe tbody tr th:only-of-type {\n",
              "        vertical-align: middle;\n",
              "    }\n",
              "\n",
              "    .dataframe tbody tr th {\n",
              "        vertical-align: top;\n",
              "    }\n",
              "\n",
              "    .dataframe thead th {\n",
              "        text-align: right;\n",
              "    }\n",
              "</style>\n",
              "<table border=\"1\" class=\"dataframe\">\n",
              "  <thead>\n",
              "    <tr style=\"text-align: right;\">\n",
              "      <th></th>\n",
              "      <th>variable</th>\n",
              "      <th>relative_importance</th>\n",
              "      <th>scaled_importance</th>\n",
              "      <th>percentage</th>\n",
              "    </tr>\n",
              "  </thead>\n",
              "  <tbody>\n",
              "    <tr>\n",
              "      <th>0</th>\n",
              "      <td>gsr</td>\n",
              "      <td>1.570094e+06</td>\n",
              "      <td>1.000000</td>\n",
              "      <td>0.325937</td>\n",
              "    </tr>\n",
              "    <tr>\n",
              "      <th>1</th>\n",
              "      <td>ecg</td>\n",
              "      <td>1.350949e+06</td>\n",
              "      <td>0.860426</td>\n",
              "      <td>0.280445</td>\n",
              "    </tr>\n",
              "    <tr>\n",
              "      <th>2</th>\n",
              "      <td>r</td>\n",
              "      <td>1.339027e+06</td>\n",
              "      <td>0.852832</td>\n",
              "      <td>0.277970</td>\n",
              "    </tr>\n",
              "    <tr>\n",
              "      <th>3</th>\n",
              "      <td>eeg_fp2</td>\n",
              "      <td>7.263934e+04</td>\n",
              "      <td>0.046264</td>\n",
              "      <td>0.015079</td>\n",
              "    </tr>\n",
              "    <tr>\n",
              "      <th>4</th>\n",
              "      <td>eeg_fp1</td>\n",
              "      <td>5.595013e+04</td>\n",
              "      <td>0.035635</td>\n",
              "      <td>0.011615</td>\n",
              "    </tr>\n",
              "    <tr>\n",
              "      <th>5</th>\n",
              "      <td>eeg_f7</td>\n",
              "      <td>5.314608e+04</td>\n",
              "      <td>0.033849</td>\n",
              "      <td>0.011033</td>\n",
              "    </tr>\n",
              "    <tr>\n",
              "      <th>6</th>\n",
              "      <td>eeg_f3</td>\n",
              "      <td>5.286027e+04</td>\n",
              "      <td>0.033667</td>\n",
              "      <td>0.010973</td>\n",
              "    </tr>\n",
              "    <tr>\n",
              "      <th>7</th>\n",
              "      <td>eeg_f8</td>\n",
              "      <td>4.802113e+04</td>\n",
              "      <td>0.030585</td>\n",
              "      <td>0.009969</td>\n",
              "    </tr>\n",
              "    <tr>\n",
              "      <th>8</th>\n",
              "      <td>eeg_f4</td>\n",
              "      <td>4.695535e+04</td>\n",
              "      <td>0.029906</td>\n",
              "      <td>0.009748</td>\n",
              "    </tr>\n",
              "    <tr>\n",
              "      <th>9</th>\n",
              "      <td>eeg_fz</td>\n",
              "      <td>3.390040e+04</td>\n",
              "      <td>0.021591</td>\n",
              "      <td>0.007037</td>\n",
              "    </tr>\n",
              "    <tr>\n",
              "      <th>10</th>\n",
              "      <td>eeg_pz</td>\n",
              "      <td>2.673994e+04</td>\n",
              "      <td>0.017031</td>\n",
              "      <td>0.005551</td>\n",
              "    </tr>\n",
              "    <tr>\n",
              "      <th>11</th>\n",
              "      <td>eeg_c4</td>\n",
              "      <td>2.514534e+04</td>\n",
              "      <td>0.016015</td>\n",
              "      <td>0.005220</td>\n",
              "    </tr>\n",
              "    <tr>\n",
              "      <th>12</th>\n",
              "      <td>eeg_t3</td>\n",
              "      <td>2.412765e+04</td>\n",
              "      <td>0.015367</td>\n",
              "      <td>0.005009</td>\n",
              "    </tr>\n",
              "    <tr>\n",
              "      <th>13</th>\n",
              "      <td>eeg_cz</td>\n",
              "      <td>1.888207e+04</td>\n",
              "      <td>0.012026</td>\n",
              "      <td>0.003920</td>\n",
              "    </tr>\n",
              "    <tr>\n",
              "      <th>14</th>\n",
              "      <td>eeg_t4</td>\n",
              "      <td>1.747185e+04</td>\n",
              "      <td>0.011128</td>\n",
              "      <td>0.003627</td>\n",
              "    </tr>\n",
              "    <tr>\n",
              "      <th>15</th>\n",
              "      <td>eeg_c3</td>\n",
              "      <td>1.655108e+04</td>\n",
              "      <td>0.010541</td>\n",
              "      <td>0.003436</td>\n",
              "    </tr>\n",
              "    <tr>\n",
              "      <th>16</th>\n",
              "      <td>eeg_t5</td>\n",
              "      <td>1.127849e+04</td>\n",
              "      <td>0.007183</td>\n",
              "      <td>0.002341</td>\n",
              "    </tr>\n",
              "    <tr>\n",
              "      <th>17</th>\n",
              "      <td>eeg_t6</td>\n",
              "      <td>1.018491e+04</td>\n",
              "      <td>0.006487</td>\n",
              "      <td>0.002114</td>\n",
              "    </tr>\n",
              "    <tr>\n",
              "      <th>18</th>\n",
              "      <td>eeg_o1</td>\n",
              "      <td>1.000227e+04</td>\n",
              "      <td>0.006370</td>\n",
              "      <td>0.002076</td>\n",
              "    </tr>\n",
              "    <tr>\n",
              "      <th>19</th>\n",
              "      <td>eeg_poz</td>\n",
              "      <td>9.646960e+03</td>\n",
              "      <td>0.006144</td>\n",
              "      <td>0.002003</td>\n",
              "    </tr>\n",
              "  </tbody>\n",
              "</table>\n",
              "</div>"
            ],
            "text/plain": [
              "   variable  relative_importance  scaled_importance  percentage\n",
              "0       gsr         1.570094e+06           1.000000    0.325937\n",
              "1       ecg         1.350949e+06           0.860426    0.280445\n",
              "2         r         1.339027e+06           0.852832    0.277970\n",
              "3   eeg_fp2         7.263934e+04           0.046264    0.015079\n",
              "4   eeg_fp1         5.595013e+04           0.035635    0.011615\n",
              "5    eeg_f7         5.314608e+04           0.033849    0.011033\n",
              "6    eeg_f3         5.286027e+04           0.033667    0.010973\n",
              "7    eeg_f8         4.802113e+04           0.030585    0.009969\n",
              "8    eeg_f4         4.695535e+04           0.029906    0.009748\n",
              "9    eeg_fz         3.390040e+04           0.021591    0.007037\n",
              "10   eeg_pz         2.673994e+04           0.017031    0.005551\n",
              "11   eeg_c4         2.514534e+04           0.016015    0.005220\n",
              "12   eeg_t3         2.412765e+04           0.015367    0.005009\n",
              "13   eeg_cz         1.888207e+04           0.012026    0.003920\n",
              "14   eeg_t4         1.747185e+04           0.011128    0.003627\n",
              "15   eeg_c3         1.655108e+04           0.010541    0.003436\n",
              "16   eeg_t5         1.127849e+04           0.007183    0.002341\n",
              "17   eeg_t6         1.018491e+04           0.006487    0.002114\n",
              "18   eeg_o1         1.000227e+04           0.006370    0.002076\n",
              "19  eeg_poz         9.646960e+03           0.006144    0.002003"
            ]
          },
          "metadata": {
            "tags": []
          }
        },
        {
          "output_type": "stream",
          "text": [
            "\n",
            "See the whole table with table.as_data_frame()\n"
          ],
          "name": "stdout"
        },
        {
          "output_type": "execute_result",
          "data": {
            "text/plain": [
              ""
            ]
          },
          "metadata": {
            "tags": []
          },
          "execution_count": 34
        }
      ]
    },
    {
      "cell_type": "code",
      "metadata": {
        "id": "VvA3N4cry1jW",
        "colab_type": "code",
        "colab": {}
      },
      "source": [
        "events = ['A','B','C', 'D']\n",
        "\n",
        "pd.get_dummies(pd.Categorical(aml.predict(h2o.H2OFrame(test_df)).as_data_frame(), categories=events)).rename(columns=str).reset_index().rename(columns={'index': 'id'}).to_csv('test_result.csv', index=False)"
      ],
      "execution_count": 0,
      "outputs": []
    },
    {
      "cell_type": "code",
      "metadata": {
        "id": "obHqwz-QpDlD",
        "colab_type": "code",
        "colab": {}
      },
      "source": [
        "get_kaggle_json()\n",
        "!kaggle competitions submit -c reducing-commercial-aviation-fatalities -f test_result.csv -m \"Submission AutoML H2o\""
      ],
      "execution_count": 0,
      "outputs": []
    }
  ]
}