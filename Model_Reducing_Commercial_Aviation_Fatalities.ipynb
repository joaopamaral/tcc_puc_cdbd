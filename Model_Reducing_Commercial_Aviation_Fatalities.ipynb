{
  "nbformat": 4,
  "nbformat_minor": 0,
  "metadata": {
    "colab": {
      "name": "Treinanco Modelo - Reducing Commercial Aviation Fatalities",
      "provenance": [],
      "toc_visible": true,
      "machine_shape": "hm",
      "include_colab_link": true
    },
    "kernelspec": {
      "name": "python3",
      "display_name": "Python 3"
    },
    "widgets": {
      "application/vnd.jupyter.widget-state+json": {
        "63ad7e89c0ee41bfabab2d2c1c135752": {
          "model_module": "@jupyter-widgets/controls",
          "model_name": "HBoxModel",
          "state": {
            "_view_name": "HBoxView",
            "_dom_classes": [],
            "_model_name": "HBoxModel",
            "_view_module": "@jupyter-widgets/controls",
            "_model_module_version": "1.5.0",
            "_view_count": null,
            "_view_module_version": "1.5.0",
            "box_style": "",
            "layout": "IPY_MODEL_6a965568aa0c409c8c1bacd6d8d62be9",
            "_model_module": "@jupyter-widgets/controls",
            "children": [
              "IPY_MODEL_27c52a2a6da64bf9833ceeb445f8fc59",
              "IPY_MODEL_a10c239bcc88462a9c8abb3f2657b98e"
            ]
          }
        },
        "6a965568aa0c409c8c1bacd6d8d62be9": {
          "model_module": "@jupyter-widgets/base",
          "model_name": "LayoutModel",
          "state": {
            "_view_name": "LayoutView",
            "grid_template_rows": null,
            "right": null,
            "justify_content": null,
            "_view_module": "@jupyter-widgets/base",
            "overflow": null,
            "_model_module_version": "1.2.0",
            "_view_count": null,
            "flex_flow": null,
            "width": null,
            "min_width": null,
            "border": null,
            "align_items": null,
            "bottom": null,
            "_model_module": "@jupyter-widgets/base",
            "top": null,
            "grid_column": null,
            "overflow_y": null,
            "overflow_x": null,
            "grid_auto_flow": null,
            "grid_area": null,
            "grid_template_columns": null,
            "flex": null,
            "_model_name": "LayoutModel",
            "justify_items": null,
            "grid_row": null,
            "max_height": null,
            "align_content": null,
            "visibility": null,
            "align_self": null,
            "height": null,
            "min_height": null,
            "padding": null,
            "grid_auto_rows": null,
            "grid_gap": null,
            "max_width": null,
            "order": null,
            "_view_module_version": "1.2.0",
            "grid_template_areas": null,
            "object_position": null,
            "object_fit": null,
            "grid_auto_columns": null,
            "margin": null,
            "display": null,
            "left": null
          }
        },
        "27c52a2a6da64bf9833ceeb445f8fc59": {
          "model_module": "@jupyter-widgets/controls",
          "model_name": "IntProgressModel",
          "state": {
            "_view_name": "ProgressView",
            "style": "IPY_MODEL_d4aad5457fc241df86b6c9d24285597c",
            "_dom_classes": [],
            "description": "",
            "_model_name": "IntProgressModel",
            "bar_style": "info",
            "max": 1,
            "_view_module": "@jupyter-widgets/controls",
            "_model_module_version": "1.5.0",
            "value": 1,
            "_view_count": null,
            "_view_module_version": "1.5.0",
            "orientation": "horizontal",
            "min": 0,
            "description_tooltip": null,
            "_model_module": "@jupyter-widgets/controls",
            "layout": "IPY_MODEL_641e686181fb42a78c3d5c3771d50b65"
          }
        },
        "a10c239bcc88462a9c8abb3f2657b98e": {
          "model_module": "@jupyter-widgets/controls",
          "model_name": "HTMLModel",
          "state": {
            "_view_name": "HTMLView",
            "style": "IPY_MODEL_7195c40f2fe740878a538078eb70ff0c",
            "_dom_classes": [],
            "description": "",
            "_model_name": "HTMLModel",
            "placeholder": "​",
            "_view_module": "@jupyter-widgets/controls",
            "_model_module_version": "1.5.0",
            "value": "0it [00:00, ?it/s]",
            "_view_count": null,
            "_view_module_version": "1.5.0",
            "description_tooltip": null,
            "_model_module": "@jupyter-widgets/controls",
            "layout": "IPY_MODEL_e0e5ef400671400d9af59c4baf7a80b7"
          }
        },
        "d4aad5457fc241df86b6c9d24285597c": {
          "model_module": "@jupyter-widgets/controls",
          "model_name": "ProgressStyleModel",
          "state": {
            "_view_name": "StyleView",
            "_model_name": "ProgressStyleModel",
            "description_width": "",
            "_view_module": "@jupyter-widgets/base",
            "_model_module_version": "1.5.0",
            "_view_count": null,
            "_view_module_version": "1.2.0",
            "bar_color": null,
            "_model_module": "@jupyter-widgets/controls"
          }
        },
        "641e686181fb42a78c3d5c3771d50b65": {
          "model_module": "@jupyter-widgets/base",
          "model_name": "LayoutModel",
          "state": {
            "_view_name": "LayoutView",
            "grid_template_rows": null,
            "right": null,
            "justify_content": null,
            "_view_module": "@jupyter-widgets/base",
            "overflow": null,
            "_model_module_version": "1.2.0",
            "_view_count": null,
            "flex_flow": null,
            "width": null,
            "min_width": null,
            "border": null,
            "align_items": null,
            "bottom": null,
            "_model_module": "@jupyter-widgets/base",
            "top": null,
            "grid_column": null,
            "overflow_y": null,
            "overflow_x": null,
            "grid_auto_flow": null,
            "grid_area": null,
            "grid_template_columns": null,
            "flex": null,
            "_model_name": "LayoutModel",
            "justify_items": null,
            "grid_row": null,
            "max_height": null,
            "align_content": null,
            "visibility": null,
            "align_self": null,
            "height": null,
            "min_height": null,
            "padding": null,
            "grid_auto_rows": null,
            "grid_gap": null,
            "max_width": null,
            "order": null,
            "_view_module_version": "1.2.0",
            "grid_template_areas": null,
            "object_position": null,
            "object_fit": null,
            "grid_auto_columns": null,
            "margin": null,
            "display": null,
            "left": null
          }
        },
        "7195c40f2fe740878a538078eb70ff0c": {
          "model_module": "@jupyter-widgets/controls",
          "model_name": "DescriptionStyleModel",
          "state": {
            "_view_name": "StyleView",
            "_model_name": "DescriptionStyleModel",
            "description_width": "",
            "_view_module": "@jupyter-widgets/base",
            "_model_module_version": "1.5.0",
            "_view_count": null,
            "_view_module_version": "1.2.0",
            "_model_module": "@jupyter-widgets/controls"
          }
        },
        "e0e5ef400671400d9af59c4baf7a80b7": {
          "model_module": "@jupyter-widgets/base",
          "model_name": "LayoutModel",
          "state": {
            "_view_name": "LayoutView",
            "grid_template_rows": null,
            "right": null,
            "justify_content": null,
            "_view_module": "@jupyter-widgets/base",
            "overflow": null,
            "_model_module_version": "1.2.0",
            "_view_count": null,
            "flex_flow": null,
            "width": null,
            "min_width": null,
            "border": null,
            "align_items": null,
            "bottom": null,
            "_model_module": "@jupyter-widgets/base",
            "top": null,
            "grid_column": null,
            "overflow_y": null,
            "overflow_x": null,
            "grid_auto_flow": null,
            "grid_area": null,
            "grid_template_columns": null,
            "flex": null,
            "_model_name": "LayoutModel",
            "justify_items": null,
            "grid_row": null,
            "max_height": null,
            "align_content": null,
            "visibility": null,
            "align_self": null,
            "height": null,
            "min_height": null,
            "padding": null,
            "grid_auto_rows": null,
            "grid_gap": null,
            "max_width": null,
            "order": null,
            "_view_module_version": "1.2.0",
            "grid_template_areas": null,
            "object_position": null,
            "object_fit": null,
            "grid_auto_columns": null,
            "margin": null,
            "display": null,
            "left": null
          }
        }
      }
    },
    "accelerator": "TPU"
  },
  "cells": [
    {
      "cell_type": "markdown",
      "metadata": {
        "id": "view-in-github",
        "colab_type": "text"
      },
      "source": [
        "<a href=\"https://colab.research.google.com/github/joaopamaral/tcc_puc_cdbd/blob/master/Model_Reducing_Commercial_Aviation_Fatalities.ipynb\" target=\"_parent\"><img src=\"https://colab.research.google.com/assets/colab-badge.svg\" alt=\"Open In Colab\"/></a>"
      ]
    },
    {
      "cell_type": "markdown",
      "metadata": {
        "id": "A-7YrEb1wzRQ",
        "colab_type": "text"
      },
      "source": [
        "# Treinando Modelo - Reduzindo Fatalidades na Aviação Comercial"
      ]
    },
    {
      "cell_type": "markdown",
      "metadata": {
        "id": "AIrDALMSFqXv",
        "colab_type": "text"
      },
      "source": [
        "## Importando bibliotecas utilizadas"
      ]
    },
    {
      "cell_type": "code",
      "metadata": {
        "id": "hlcYeFz-Sgvf",
        "colab_type": "code",
        "colab": {
          "base_uri": "https://localhost:8080/",
          "height": 51
        },
        "outputId": "b117ec11-ab2c-4e3c-fc3a-6f79f2ba16db"
      },
      "source": [
        "import pandas as pd\n",
        "import numpy as np\n",
        "import matplotlib.pyplot as plt\n",
        "import seaborn as sns\n",
        "import sys, os\n",
        "from sklearn.model_selection import train_test_split\n",
        "from tqdm.auto import tqdm\n",
        "\n",
        "IN_COLAB = 'google.colab' in sys.modules\n",
        "\n",
        "%matplotlib inline\n",
        "plt.style.use('ggplot')\n",
        "\n",
        "import warnings\n",
        "warnings.simplefilter(action='ignore', category=FutureWarning)"
      ],
      "execution_count": 1,
      "outputs": [
        {
          "output_type": "stream",
          "text": [
            "/usr/local/lib/python3.6/dist-packages/statsmodels/tools/_testing.py:19: FutureWarning: pandas.util.testing is deprecated. Use the functions in the public API at pandas.testing instead.\n",
            "  import pandas.util.testing as tm\n"
          ],
          "name": "stderr"
        }
      ]
    },
    {
      "cell_type": "code",
      "metadata": {
        "id": "_hM16Erib2Us",
        "colab_type": "code",
        "outputId": "7d64ba0a-834d-4039-929b-350aa7502026",
        "colab": {
          "base_uri": "https://localhost:8080/",
          "height": 122
        }
      },
      "source": [
        "# Montando google drive caso esteja executando no google colab\n",
        "if IN_COLAB:\n",
        "    from google.colab import drive\n",
        "    drive.mount('/gdrive')"
      ],
      "execution_count": 2,
      "outputs": [
        {
          "output_type": "stream",
          "text": [
            "Go to this URL in a browser: https://accounts.google.com/o/oauth2/auth?client_id=947318989803-6bn6qk8qdgf4n4g3pfee6491hc0brc4i.apps.googleusercontent.com&redirect_uri=urn%3aietf%3awg%3aoauth%3a2.0%3aoob&response_type=code&scope=email%20https%3a%2f%2fwww.googleapis.com%2fauth%2fdocs.test%20https%3a%2f%2fwww.googleapis.com%2fauth%2fdrive%20https%3a%2f%2fwww.googleapis.com%2fauth%2fdrive.photos.readonly%20https%3a%2f%2fwww.googleapis.com%2fauth%2fpeopleapi.readonly\n",
            "\n",
            "Enter your authorization code:\n",
            "··········\n",
            "Mounted at /gdrive\n"
          ],
          "name": "stdout"
        }
      ]
    },
    {
      "cell_type": "code",
      "metadata": {
        "id": "ofImb1TUWmGc",
        "colab_type": "code",
        "colab": {}
      },
      "source": [
        "gdrive_kaggle_dir = '/gdrive/My Drive/Kaggle'\n",
        "competition_name = 'reducing-commercial-aviation-fatalities'\n",
        "api_gdrive_credential_location = f'{gdrive_kaggle_dir}/kaggle.json'\n",
        "data_gdrive_dir = f'{gdrive_kaggle_dir}/{competition_name}'\n",
        "tcc_dir = '/gdrive/My Drive/Pos Graduação/TCC'\n",
        "mlflow_dir = f'{tcc_dir}/mlruns'\n",
        "h20_models = f'{tcc_dir}/automl'\n",
        "mlflow_models_path = f'{tcc_dir}/models'"
      ],
      "execution_count": 0,
      "outputs": []
    },
    {
      "cell_type": "markdown",
      "metadata": {
        "id": "U283JS6Mx8uV",
        "colab_type": "text"
      },
      "source": [
        "## Carregando os dados"
      ]
    },
    {
      "cell_type": "code",
      "metadata": {
        "id": "YjcuNoKQb8hI",
        "colab_type": "code",
        "colab": {}
      },
      "source": [
        "if IN_COLAB and not os.path.exists(competition_name):\n",
        "    !cp -r '{data_gdrive_dir}' ."
      ],
      "execution_count": 0,
      "outputs": []
    },
    {
      "cell_type": "code",
      "metadata": {
        "id": "aYBrsjQdF6hG",
        "colab_type": "code",
        "colab": {}
      },
      "source": [
        "eeg_columns = ['eeg_fp1', 'eeg_f7', 'eeg_f8', 'eeg_t4', 'eeg_t6', \n",
        "               'eeg_t5', 'eeg_t3', 'eeg_fp2', 'eeg_o1', 'eeg_p3', \n",
        "               'eeg_pz', 'eeg_f3', 'eeg_fz', 'eeg_f4',\t'eeg_c4', \n",
        "               'eeg_p4', 'eeg_poz', 'eeg_c3', 'eeg_cz', 'eeg_o2']\n",
        "\n",
        "numeric_features = [*eeg_columns, 'ecg', 'r', 'gsr']\n",
        "categorical_features = ['event']"
      ],
      "execution_count": 0,
      "outputs": []
    },
    {
      "cell_type": "code",
      "metadata": {
        "id": "GXUr5K9iXTZW",
        "colab_type": "code",
        "colab": {}
      },
      "source": [
        "train_df = pd.read_parquet(f'{competition_name}/train_balanced.parquet')"
      ],
      "execution_count": 0,
      "outputs": []
    },
    {
      "cell_type": "code",
      "metadata": {
        "id": "ZSqV4w45dukf",
        "colab_type": "code",
        "outputId": "5ae39d13-69bc-497b-8bbe-72008c451e2d",
        "colab": {
          "base_uri": "https://localhost:8080/",
          "height": 224
        }
      },
      "source": [
        "train_df.head()"
      ],
      "execution_count": 7,
      "outputs": [
        {
          "output_type": "execute_result",
          "data": {
            "text/html": [
              "<div>\n",
              "<style scoped>\n",
              "    .dataframe tbody tr th:only-of-type {\n",
              "        vertical-align: middle;\n",
              "    }\n",
              "\n",
              "    .dataframe tbody tr th {\n",
              "        vertical-align: top;\n",
              "    }\n",
              "\n",
              "    .dataframe thead th {\n",
              "        text-align: right;\n",
              "    }\n",
              "</style>\n",
              "<table border=\"1\" class=\"dataframe\">\n",
              "  <thead>\n",
              "    <tr style=\"text-align: right;\">\n",
              "      <th></th>\n",
              "      <th>eeg_fp1</th>\n",
              "      <th>eeg_f7</th>\n",
              "      <th>eeg_f8</th>\n",
              "      <th>eeg_t4</th>\n",
              "      <th>eeg_t6</th>\n",
              "      <th>eeg_t5</th>\n",
              "      <th>eeg_t3</th>\n",
              "      <th>eeg_fp2</th>\n",
              "      <th>eeg_o1</th>\n",
              "      <th>eeg_p3</th>\n",
              "      <th>eeg_pz</th>\n",
              "      <th>eeg_f3</th>\n",
              "      <th>eeg_fz</th>\n",
              "      <th>eeg_f4</th>\n",
              "      <th>eeg_c4</th>\n",
              "      <th>eeg_p4</th>\n",
              "      <th>eeg_poz</th>\n",
              "      <th>eeg_c3</th>\n",
              "      <th>eeg_cz</th>\n",
              "      <th>eeg_o2</th>\n",
              "      <th>ecg</th>\n",
              "      <th>r</th>\n",
              "      <th>gsr</th>\n",
              "      <th>event</th>\n",
              "    </tr>\n",
              "  </thead>\n",
              "  <tbody>\n",
              "    <tr>\n",
              "      <th>0</th>\n",
              "      <td>-0.792237</td>\n",
              "      <td>0.831934</td>\n",
              "      <td>-9.429030</td>\n",
              "      <td>-4.17883</td>\n",
              "      <td>-1.58939</td>\n",
              "      <td>5.67909</td>\n",
              "      <td>1.763630</td>\n",
              "      <td>-2.098780</td>\n",
              "      <td>2.96651</td>\n",
              "      <td>1.44328</td>\n",
              "      <td>-3.94931</td>\n",
              "      <td>-2.22939</td>\n",
              "      <td>-4.573080</td>\n",
              "      <td>-8.084340</td>\n",
              "      <td>-8.46484</td>\n",
              "      <td>-4.68844</td>\n",
              "      <td>-4.750770</td>\n",
              "      <td>-2.04203</td>\n",
              "      <td>-4.60896</td>\n",
              "      <td>1.837780</td>\n",
              "      <td>9322.370117</td>\n",
              "      <td>815.594971</td>\n",
              "      <td>0.000000</td>\n",
              "      <td>A</td>\n",
              "    </tr>\n",
              "    <tr>\n",
              "      <th>1</th>\n",
              "      <td>5.937200</td>\n",
              "      <td>5.026230</td>\n",
              "      <td>-0.933735</td>\n",
              "      <td>-1.19951</td>\n",
              "      <td>4.79854</td>\n",
              "      <td>-1.96581</td>\n",
              "      <td>1.134890</td>\n",
              "      <td>4.274110</td>\n",
              "      <td>2.21295</td>\n",
              "      <td>4.60106</td>\n",
              "      <td>1.61440</td>\n",
              "      <td>5.25442</td>\n",
              "      <td>4.693770</td>\n",
              "      <td>2.867810</td>\n",
              "      <td>2.75299</td>\n",
              "      <td>8.24299</td>\n",
              "      <td>0.721092</td>\n",
              "      <td>3.08044</td>\n",
              "      <td>4.83091</td>\n",
              "      <td>3.794880</td>\n",
              "      <td>5931.060059</td>\n",
              "      <td>830.568970</td>\n",
              "      <td>1453.670044</td>\n",
              "      <td>A</td>\n",
              "    </tr>\n",
              "    <tr>\n",
              "      <th>2</th>\n",
              "      <td>-1.162280</td>\n",
              "      <td>0.260127</td>\n",
              "      <td>-5.989480</td>\n",
              "      <td>-3.46853</td>\n",
              "      <td>-3.87440</td>\n",
              "      <td>3.96828</td>\n",
              "      <td>0.728967</td>\n",
              "      <td>-4.655380</td>\n",
              "      <td>1.64105</td>\n",
              "      <td>-1.29032</td>\n",
              "      <td>-5.34865</td>\n",
              "      <td>-1.59114</td>\n",
              "      <td>-0.350429</td>\n",
              "      <td>-1.959580</td>\n",
              "      <td>-1.04339</td>\n",
              "      <td>-3.01729</td>\n",
              "      <td>-2.019750</td>\n",
              "      <td>-2.43368</td>\n",
              "      <td>-2.89067</td>\n",
              "      <td>-0.602369</td>\n",
              "      <td>9320.519531</td>\n",
              "      <td>815.533997</td>\n",
              "      <td>0.000000</td>\n",
              "      <td>A</td>\n",
              "    </tr>\n",
              "    <tr>\n",
              "      <th>3</th>\n",
              "      <td>-10.467600</td>\n",
              "      <td>-8.344960</td>\n",
              "      <td>-4.106620</td>\n",
              "      <td>-3.58671</td>\n",
              "      <td>-5.99199</td>\n",
              "      <td>-6.09401</td>\n",
              "      <td>-8.098010</td>\n",
              "      <td>-13.164800</td>\n",
              "      <td>-8.42648</td>\n",
              "      <td>-8.25574</td>\n",
              "      <td>-8.85742</td>\n",
              "      <td>-8.31783</td>\n",
              "      <td>-10.007400</td>\n",
              "      <td>-4.956020</td>\n",
              "      <td>-6.94528</td>\n",
              "      <td>-10.07500</td>\n",
              "      <td>-9.700760</td>\n",
              "      <td>-6.47439</td>\n",
              "      <td>-5.58930</td>\n",
              "      <td>-10.150300</td>\n",
              "      <td>9293.780273</td>\n",
              "      <td>816.421997</td>\n",
              "      <td>0.000000</td>\n",
              "      <td>A</td>\n",
              "    </tr>\n",
              "    <tr>\n",
              "      <th>4</th>\n",
              "      <td>-15.538500</td>\n",
              "      <td>-4.782070</td>\n",
              "      <td>-25.117800</td>\n",
              "      <td>-14.71600</td>\n",
              "      <td>-14.40480</td>\n",
              "      <td>-5.53229</td>\n",
              "      <td>-0.526621</td>\n",
              "      <td>-34.102798</td>\n",
              "      <td>-7.38440</td>\n",
              "      <td>-3.33520</td>\n",
              "      <td>-7.56394</td>\n",
              "      <td>-11.75630</td>\n",
              "      <td>-15.780400</td>\n",
              "      <td>-25.708401</td>\n",
              "      <td>-13.23830</td>\n",
              "      <td>-13.04150</td>\n",
              "      <td>-5.686500</td>\n",
              "      <td>-2.66797</td>\n",
              "      <td>-3.96213</td>\n",
              "      <td>-9.862170</td>\n",
              "      <td>8765.589844</td>\n",
              "      <td>814.518982</td>\n",
              "      <td>0.000000</td>\n",
              "      <td>A</td>\n",
              "    </tr>\n",
              "  </tbody>\n",
              "</table>\n",
              "</div>"
            ],
            "text/plain": [
              "     eeg_fp1    eeg_f7     eeg_f8  ...           r          gsr  event\n",
              "0  -0.792237  0.831934  -9.429030  ...  815.594971     0.000000      A\n",
              "1   5.937200  5.026230  -0.933735  ...  830.568970  1453.670044      A\n",
              "2  -1.162280  0.260127  -5.989480  ...  815.533997     0.000000      A\n",
              "3 -10.467600 -8.344960  -4.106620  ...  816.421997     0.000000      A\n",
              "4 -15.538500 -4.782070 -25.117800  ...  814.518982     0.000000      A\n",
              "\n",
              "[5 rows x 24 columns]"
            ]
          },
          "metadata": {
            "tags": []
          },
          "execution_count": 7
        }
      ]
    },
    {
      "cell_type": "code",
      "metadata": {
        "id": "B0vAanMBFqYF",
        "colab_type": "code",
        "colab": {
          "base_uri": "https://localhost:8080/",
          "height": 34
        },
        "outputId": "d9fe18b3-5fb5-44df-8cd6-23eed2884c27"
      },
      "source": [
        "train_df.shape"
      ],
      "execution_count": 8,
      "outputs": [
        {
          "output_type": "execute_result",
          "data": {
            "text/plain": [
              "(522232, 24)"
            ]
          },
          "metadata": {
            "tags": []
          },
          "execution_count": 8
        }
      ]
    },
    {
      "cell_type": "code",
      "metadata": {
        "id": "eYJSlhj5ijoT",
        "colab_type": "code",
        "colab": {}
      },
      "source": [
        "features = numeric_features\n",
        "target = 'event'"
      ],
      "execution_count": 0,
      "outputs": []
    },
    {
      "cell_type": "markdown",
      "metadata": {
        "id": "Fm8bTzvoyGs5",
        "colab_type": "text"
      },
      "source": [
        "## Separando os dados de Treinamento/Validação e Testes"
      ]
    },
    {
      "cell_type": "code",
      "metadata": {
        "colab_type": "code",
        "id": "h-oAIzMfeBEi",
        "colab": {}
      },
      "source": [
        "balanced_X_train, balanced_X_test, balanced_y_train, balanced_y_test = train_test_split(train_df[features], train_df[target], test_size=0.20, random_state=42)"
      ],
      "execution_count": 0,
      "outputs": []
    },
    {
      "cell_type": "code",
      "metadata": {
        "colab_type": "code",
        "outputId": "1eabd220-edda-4af2-88ee-4e11c7f63708",
        "id": "Of114ngTeC9a",
        "colab": {
          "base_uri": "https://localhost:8080/",
          "height": 299
        }
      },
      "source": [
        "fig, ax = plt.subplots(1, 3, figsize=(15, 4), sharey=True)\n",
        "\n",
        "order = ['A', 'B', 'C', 'D']\n",
        "sns.countplot(train_df[target], order=order, ax=ax[0]).set_title('Dados Completos');\n",
        "sns.countplot(balanced_y_train, order=order, ax=ax[1]).set_title('Dados Trainamento/Validação');\n",
        "sns.countplot(balanced_y_test, order=order, ax=ax[2]).set_title('Dados Teste');"
      ],
      "execution_count": 11,
      "outputs": [
        {
          "output_type": "display_data",
          "data": {
            "image/png": "[encoded data removed]",
            "text/plain": [
              "<Figure size 1080x288 with 3 Axes>"
            ]
          },
          "metadata": {
            "tags": []
          }
        }
      ]
    },
    {
      "cell_type": "markdown",
      "metadata": {
        "id": "QPuj_8XaGTZu",
        "colab_type": "text"
      },
      "source": [
        "## Avaliando melhores modelos com GridSearch e CrossValidation"
      ]
    },
    {
      "cell_type": "code",
      "metadata": {
        "id": "E_347Re9FqYP",
        "colab_type": "code",
        "colab": {}
      },
      "source": [
        "from sklearn.pipeline import Pipeline\n",
        "from sklearn.model_selection import GridSearchCV\n",
        "from sklearn.ensemble import RandomForestClassifier\n",
        "from sklearn.linear_model import LogisticRegression\n",
        "from sklearn.tree import DecisionTreeClassifier\n",
        "import lightgbm as lgb"
      ],
      "execution_count": 0,
      "outputs": []
    },
    {
      "cell_type": "code",
      "metadata": {
        "id": "zeyjX3Hl6o1E",
        "colab_type": "code",
        "outputId": "429f9777-48d6-40c8-c192-d9dbff0cd444",
        "colab": {
          "base_uri": "https://localhost:8080/",
          "height": 204
        }
      },
      "source": [
        "pipe = Pipeline([('classifier', RandomForestClassifier())])\n",
        "\n",
        "search_space = [{'classifier': [LogisticRegression()]},\n",
        "                {'classifier': [DecisionTreeClassifier()]},\n",
        "                {'classifier': [RandomForestClassifier()],\n",
        "                 'classifier__n_estimators': [50, 100, 200]},\n",
        "                {'classifier': [lgb.LGBMClassifier()],\n",
        "                 'classifier__n_estimators': [100, 200]}]\n",
        "\n",
        "grid_clf = GridSearchCV(pipe, search_space, cv=5, verbose=10, n_jobs=-1, scoring=['accuracy', 'f1_macro', 'neg_log_loss'], refit='accuracy')\n",
        "best_model = grid_clf.fit(balanced_X_train, balanced_y_train)"
      ],
      "execution_count": 14,
      "outputs": [
        {
          "output_type": "stream",
          "text": [
            "Fitting 5 folds for each of 7 candidates, totalling 35 fits\n"
          ],
          "name": "stdout"
        },
        {
          "output_type": "stream",
          "text": [
            "[Parallel(n_jobs=-1)]: Using backend LokyBackend with 40 concurrent workers.\n",
            "[Parallel(n_jobs=-1)]: Done   4 out of  35 | elapsed:   33.7s remaining:  4.4min\n",
            "[Parallel(n_jobs=-1)]: Done   8 out of  35 | elapsed:   34.6s remaining:  1.9min\n",
            "[Parallel(n_jobs=-1)]: Done  12 out of  35 | elapsed:   58.5s remaining:  1.9min\n",
            "[Parallel(n_jobs=-1)]: Done  16 out of  35 | elapsed:  1.5min remaining:  1.7min\n",
            "[Parallel(n_jobs=-1)]: Done  20 out of  35 | elapsed:  1.7min remaining:  1.3min\n",
            "[Parallel(n_jobs=-1)]: Done  24 out of  35 | elapsed:  3.2min remaining:  1.5min\n",
            "[Parallel(n_jobs=-1)]: Done  28 out of  35 | elapsed:  5.8min remaining:  1.5min\n",
            "[Parallel(n_jobs=-1)]: Done  32 out of  35 | elapsed: 10.9min remaining:  1.0min\n",
            "[Parallel(n_jobs=-1)]: Done  35 out of  35 | elapsed: 11.3min finished\n"
          ],
          "name": "stderr"
        }
      ]
    },
    {
      "cell_type": "code",
      "metadata": {
        "id": "TfQZ05wdGhkk",
        "colab_type": "code",
        "colab": {
          "base_uri": "https://localhost:8080/",
          "height": 524
        },
        "outputId": "472b430d-f50a-4fa2-a7fe-2f4256b71b7a"
      },
      "source": [
        "grid_search_result_df = pd.DataFrame(best_model.cv_results_).sort_values('rank_test_neg_log_loss')\n",
        "grid_search_result_df.to_excel('grid_search_result.xlsx')\n",
        "grid_search_result_df"
      ],
      "execution_count": 98,
      "outputs": [
        {
          "output_type": "execute_result",
          "data": {
            "text/html": [
              "<div>\n",
              "<style scoped>\n",
              "    .dataframe tbody tr th:only-of-type {\n",
              "        vertical-align: middle;\n",
              "    }\n",
              "\n",
              "    .dataframe tbody tr th {\n",
              "        vertical-align: top;\n",
              "    }\n",
              "\n",
              "    .dataframe thead th {\n",
              "        text-align: right;\n",
              "    }\n",
              "</style>\n",
              "<table border=\"1\" class=\"dataframe\">\n",
              "  <thead>\n",
              "    <tr style=\"text-align: right;\">\n",
              "      <th></th>\n",
              "      <th>mean_fit_time</th>\n",
              "      <th>std_fit_time</th>\n",
              "      <th>mean_score_time</th>\n",
              "      <th>std_score_time</th>\n",
              "      <th>param_classifier</th>\n",
              "      <th>param_classifier__n_estimators</th>\n",
              "      <th>params</th>\n",
              "      <th>split0_test_accuracy</th>\n",
              "      <th>split1_test_accuracy</th>\n",
              "      <th>split2_test_accuracy</th>\n",
              "      <th>split3_test_accuracy</th>\n",
              "      <th>split4_test_accuracy</th>\n",
              "      <th>mean_test_accuracy</th>\n",
              "      <th>std_test_accuracy</th>\n",
              "      <th>rank_test_accuracy</th>\n",
              "      <th>split0_test_f1_macro</th>\n",
              "      <th>split1_test_f1_macro</th>\n",
              "      <th>split2_test_f1_macro</th>\n",
              "      <th>split3_test_f1_macro</th>\n",
              "      <th>split4_test_f1_macro</th>\n",
              "      <th>mean_test_f1_macro</th>\n",
              "      <th>std_test_f1_macro</th>\n",
              "      <th>rank_test_f1_macro</th>\n",
              "      <th>split0_test_neg_log_loss</th>\n",
              "      <th>split1_test_neg_log_loss</th>\n",
              "      <th>split2_test_neg_log_loss</th>\n",
              "      <th>split3_test_neg_log_loss</th>\n",
              "      <th>split4_test_neg_log_loss</th>\n",
              "      <th>mean_test_neg_log_loss</th>\n",
              "      <th>std_test_neg_log_loss</th>\n",
              "      <th>rank_test_neg_log_loss</th>\n",
              "    </tr>\n",
              "  </thead>\n",
              "  <tbody>\n",
              "    <tr>\n",
              "      <th>4</th>\n",
              "      <td>646.177173</td>\n",
              "      <td>7.960295</td>\n",
              "      <td>11.566439</td>\n",
              "      <td>0.082635</td>\n",
              "      <td>RandomForestClassifier(bootstrap=True, ccp_alpha=0.0, class_weight...</td>\n",
              "      <td>200</td>\n",
              "      <td>{'classifier': RandomForestClassifier(bootstrap=True, ccp_alpha=0....</td>\n",
              "      <td>0.973575</td>\n",
              "      <td>0.973348</td>\n",
              "      <td>0.974664</td>\n",
              "      <td>0.973886</td>\n",
              "      <td>0.973527</td>\n",
              "      <td>0.973800</td>\n",
              "      <td>0.000466</td>\n",
              "      <td>1</td>\n",
              "      <td>0.973523</td>\n",
              "      <td>0.973309</td>\n",
              "      <td>0.974629</td>\n",
              "      <td>0.973838</td>\n",
              "      <td>0.973477</td>\n",
              "      <td>0.973755</td>\n",
              "      <td>0.000469</td>\n",
              "      <td>1</td>\n",
              "      <td>-0.134128</td>\n",
              "      <td>-0.136520</td>\n",
              "      <td>-0.132781</td>\n",
              "      <td>-0.134415</td>\n",
              "      <td>-0.135236</td>\n",
              "      <td>-0.134616</td>\n",
              "      <td>0.001237</td>\n",
              "      <td>1</td>\n",
              "    </tr>\n",
              "    <tr>\n",
              "      <th>6</th>\n",
              "      <td>78.403860</td>\n",
              "      <td>6.144822</td>\n",
              "      <td>13.298673</td>\n",
              "      <td>0.247771</td>\n",
              "      <td>LGBMClassifier(boosting_type='gbdt', class_weight=None, colsample_...</td>\n",
              "      <td>200</td>\n",
              "      <td>{'classifier': LGBMClassifier(boosting_type='gbdt', class_weight=N...</td>\n",
              "      <td>0.951530</td>\n",
              "      <td>0.951518</td>\n",
              "      <td>0.953110</td>\n",
              "      <td>0.951674</td>\n",
              "      <td>0.951434</td>\n",
              "      <td>0.951853</td>\n",
              "      <td>0.000633</td>\n",
              "      <td>5</td>\n",
              "      <td>0.951446</td>\n",
              "      <td>0.951502</td>\n",
              "      <td>0.953108</td>\n",
              "      <td>0.951610</td>\n",
              "      <td>0.951378</td>\n",
              "      <td>0.951809</td>\n",
              "      <td>0.000654</td>\n",
              "      <td>5</td>\n",
              "      <td>-0.134732</td>\n",
              "      <td>-0.137452</td>\n",
              "      <td>-0.135006</td>\n",
              "      <td>-0.135125</td>\n",
              "      <td>-0.136642</td>\n",
              "      <td>-0.135791</td>\n",
              "      <td>0.001064</td>\n",
              "      <td>2</td>\n",
              "    </tr>\n",
              "    <tr>\n",
              "      <th>3</th>\n",
              "      <td>338.917723</td>\n",
              "      <td>8.554207</td>\n",
              "      <td>6.394743</td>\n",
              "      <td>0.083003</td>\n",
              "      <td>RandomForestClassifier(bootstrap=True, ccp_alpha=0.0, class_weight...</td>\n",
              "      <td>100</td>\n",
              "      <td>{'classifier': RandomForestClassifier(bootstrap=True, ccp_alpha=0....</td>\n",
              "      <td>0.973192</td>\n",
              "      <td>0.973108</td>\n",
              "      <td>0.973300</td>\n",
              "      <td>0.973036</td>\n",
              "      <td>0.972737</td>\n",
              "      <td>0.973075</td>\n",
              "      <td>0.000190</td>\n",
              "      <td>3</td>\n",
              "      <td>0.973142</td>\n",
              "      <td>0.973073</td>\n",
              "      <td>0.973263</td>\n",
              "      <td>0.972983</td>\n",
              "      <td>0.972695</td>\n",
              "      <td>0.973031</td>\n",
              "      <td>0.000191</td>\n",
              "      <td>3</td>\n",
              "      <td>-0.133381</td>\n",
              "      <td>-0.137856</td>\n",
              "      <td>-0.138990</td>\n",
              "      <td>-0.132904</td>\n",
              "      <td>-0.138518</td>\n",
              "      <td>-0.136330</td>\n",
              "      <td>0.002632</td>\n",
              "      <td>3</td>\n",
              "    </tr>\n",
              "    <tr>\n",
              "      <th>2</th>\n",
              "      <td>183.978300</td>\n",
              "      <td>4.285144</td>\n",
              "      <td>3.751079</td>\n",
              "      <td>0.046865</td>\n",
              "      <td>RandomForestClassifier(bootstrap=True, ccp_alpha=0.0, class_weight...</td>\n",
              "      <td>50</td>\n",
              "      <td>{'classifier': RandomForestClassifier(bootstrap=True, ccp_alpha=0....</td>\n",
              "      <td>0.971828</td>\n",
              "      <td>0.972450</td>\n",
              "      <td>0.972055</td>\n",
              "      <td>0.971935</td>\n",
              "      <td>0.972175</td>\n",
              "      <td>0.972089</td>\n",
              "      <td>0.000215</td>\n",
              "      <td>4</td>\n",
              "      <td>0.971785</td>\n",
              "      <td>0.972413</td>\n",
              "      <td>0.972036</td>\n",
              "      <td>0.971901</td>\n",
              "      <td>0.972132</td>\n",
              "      <td>0.972054</td>\n",
              "      <td>0.000215</td>\n",
              "      <td>4</td>\n",
              "      <td>-0.136995</td>\n",
              "      <td>-0.140606</td>\n",
              "      <td>-0.140746</td>\n",
              "      <td>-0.137112</td>\n",
              "      <td>-0.136353</td>\n",
              "      <td>-0.138363</td>\n",
              "      <td>0.001907</td>\n",
              "      <td>4</td>\n",
              "    </tr>\n",
              "    <tr>\n",
              "      <th>5</th>\n",
              "      <td>51.662262</td>\n",
              "      <td>5.039159</td>\n",
              "      <td>6.952493</td>\n",
              "      <td>0.820985</td>\n",
              "      <td>LGBMClassifier(boosting_type='gbdt', class_weight=None, colsample_...</td>\n",
              "      <td>100</td>\n",
              "      <td>{'classifier': LGBMClassifier(boosting_type='gbdt', class_weight=N...</td>\n",
              "      <td>0.937982</td>\n",
              "      <td>0.936810</td>\n",
              "      <td>0.939036</td>\n",
              "      <td>0.938150</td>\n",
              "      <td>0.938473</td>\n",
              "      <td>0.938090</td>\n",
              "      <td>0.000734</td>\n",
              "      <td>6</td>\n",
              "      <td>0.937879</td>\n",
              "      <td>0.936748</td>\n",
              "      <td>0.939014</td>\n",
              "      <td>0.938051</td>\n",
              "      <td>0.938396</td>\n",
              "      <td>0.938018</td>\n",
              "      <td>0.000744</td>\n",
              "      <td>6</td>\n",
              "      <td>-0.172515</td>\n",
              "      <td>-0.175619</td>\n",
              "      <td>-0.172192</td>\n",
              "      <td>-0.172976</td>\n",
              "      <td>-0.173945</td>\n",
              "      <td>-0.173450</td>\n",
              "      <td>0.001235</td>\n",
              "      <td>5</td>\n",
              "    </tr>\n",
              "    <tr>\n",
              "      <th>1</th>\n",
              "      <td>30.987243</td>\n",
              "      <td>0.729676</td>\n",
              "      <td>1.657950</td>\n",
              "      <td>0.130305</td>\n",
              "      <td>DecisionTreeClassifier(ccp_alpha=0.0, class_weight=None, criterion...</td>\n",
              "      <td>NaN</td>\n",
              "      <td>{'classifier': DecisionTreeClassifier(ccp_alpha=0.0, class_weight=...</td>\n",
              "      <td>0.974353</td>\n",
              "      <td>0.972175</td>\n",
              "      <td>0.972809</td>\n",
              "      <td>0.972953</td>\n",
              "      <td>0.973719</td>\n",
              "      <td>0.973202</td>\n",
              "      <td>0.000757</td>\n",
              "      <td>2</td>\n",
              "      <td>0.974345</td>\n",
              "      <td>0.972176</td>\n",
              "      <td>0.972807</td>\n",
              "      <td>0.972939</td>\n",
              "      <td>0.973711</td>\n",
              "      <td>0.973195</td>\n",
              "      <td>0.000754</td>\n",
              "      <td>2</td>\n",
              "      <td>-0.885822</td>\n",
              "      <td>-0.961052</td>\n",
              "      <td>-0.939145</td>\n",
              "      <td>-0.934184</td>\n",
              "      <td>-0.907729</td>\n",
              "      <td>-0.925586</td>\n",
              "      <td>0.026137</td>\n",
              "      <td>6</td>\n",
              "    </tr>\n",
              "    <tr>\n",
              "      <th>0</th>\n",
              "      <td>28.462343</td>\n",
              "      <td>3.568060</td>\n",
              "      <td>1.288378</td>\n",
              "      <td>0.335953</td>\n",
              "      <td>LogisticRegression(C=1.0, class_weight=None, dual=False, fit_inter...</td>\n",
              "      <td>NaN</td>\n",
              "      <td>{'classifier': LogisticRegression(C=1.0, class_weight=None, dual=F...</td>\n",
              "      <td>0.396747</td>\n",
              "      <td>0.398291</td>\n",
              "      <td>0.395646</td>\n",
              "      <td>0.400014</td>\n",
              "      <td>0.400984</td>\n",
              "      <td>0.398336</td>\n",
              "      <td>0.001979</td>\n",
              "      <td>7</td>\n",
              "      <td>0.376654</td>\n",
              "      <td>0.378667</td>\n",
              "      <td>0.376939</td>\n",
              "      <td>0.379422</td>\n",
              "      <td>0.379973</td>\n",
              "      <td>0.378331</td>\n",
              "      <td>0.001323</td>\n",
              "      <td>7</td>\n",
              "      <td>-1.295972</td>\n",
              "      <td>-1.295375</td>\n",
              "      <td>-1.296191</td>\n",
              "      <td>-1.294007</td>\n",
              "      <td>-1.293594</td>\n",
              "      <td>-1.295028</td>\n",
              "      <td>0.001045</td>\n",
              "      <td>7</td>\n",
              "    </tr>\n",
              "  </tbody>\n",
              "</table>\n",
              "</div>"
            ],
            "text/plain": [
              "   mean_fit_time  std_fit_time  ...  std_test_neg_log_loss  rank_test_neg_log_loss\n",
              "4     646.177173      7.960295  ...               0.001237                       1\n",
              "6      78.403860      6.144822  ...               0.001064                       2\n",
              "3     338.917723      8.554207  ...               0.002632                       3\n",
              "2     183.978300      4.285144  ...               0.001907                       4\n",
              "5      51.662262      5.039159  ...               0.001235                       5\n",
              "1      30.987243      0.729676  ...               0.026137                       6\n",
              "0      28.462343      3.568060  ...               0.001045                       7\n",
              "\n",
              "[7 rows x 31 columns]"
            ]
          },
          "metadata": {
            "tags": []
          },
          "execution_count": 98
        }
      ]
    },
    {
      "cell_type": "code",
      "metadata": {
        "id": "Hy7ZFW6pXkf1",
        "colab_type": "code",
        "colab": {
          "base_uri": "https://localhost:8080/",
          "height": 354
        },
        "outputId": "e62060c3-d556-44bd-8002-800283ca2cab"
      },
      "source": [
        "grid_search_result_df['model'] = grid_search_result_df.param_classifier.astype(str).str.split('(').apply(lambda x: x[0]) + '[' + grid_search_result_df.param_classifier__n_estimators.astype(str) + ']'\n",
        "\n",
        "plt.figure(figsize=(8, 5))\n",
        "sns.scatterplot(x=\"mean_test_neg_log_loss\", y=\"mean_test_accuracy\",\n",
        "                     hue=\"model\", size=\"mean_test_f1_macro\", alpha=0.8,\n",
        "                     data=grid_search_result_df).set_title('Desempenho dos Modelos gerados pelo Grid Search com Cross Validation');\n",
        "plt.xlabel(\"Média do Negative Log Loss\")\n",
        "plt.ylabel(\"Média da Accurácia\")\n",
        "plt.legend(bbox_to_anchor=(1.05, 1), loc=2, borderaxespad=0.);"
      ],
      "execution_count": 99,
      "outputs": [
        {
          "output_type": "display_data",
          "data": {
            "image/png": "[encoded data removed]",
            "text/plain": [
              "<Figure size 576x360 with 1 Axes>"
            ]
          },
          "metadata": {
            "tags": []
          }
        }
      ]
    },
    {
      "cell_type": "markdown",
      "metadata": {
        "id": "2Ys-p9C-b1vL",
        "colab_type": "text"
      },
      "source": [
        "## Avaliando modelos separadamente"
      ]
    },
    {
      "cell_type": "markdown",
      "metadata": {
        "id": "K9pMHeCSb5Rw",
        "colab_type": "text"
      },
      "source": [
        "### Definindo função para exibição dos resultados e métricas\n",
        "\n",
        "Foi utilizado o MLFlow para rastrear todas as rodadas de testes isolados"
      ]
    },
    {
      "cell_type": "code",
      "metadata": {
        "id": "Y7RouD8VFqYT",
        "colab_type": "code",
        "colab": {
          "base_uri": "https://localhost:8080/",
          "height": 306
        },
        "outputId": "85059c07-3fbb-4340-adf1-9e976ab72eb2"
      },
      "source": [
        "# Importando bibliotecas necessárias (instalando no colab, pois esse pacote não é instalado por default)\n",
        "if IN_COLAB:\n",
        "    !pip install -q -U mlflow\n",
        "import mlflow\n",
        "import mlflow.sklearn\n",
        "\n",
        "if IN_COLAB:\n",
        "    mlflow.set_tracking_uri(f'{mlflow_dir}')"
      ],
      "execution_count": 59,
      "outputs": [
        {
          "output_type": "stream",
          "text": [
            "\u001b[K     |████████████████████████████████| 16.0MB 3.4MB/s \n",
            "\u001b[K     |████████████████████████████████| 92kB 12.1MB/s \n",
            "\u001b[K     |████████████████████████████████| 1.1MB 56.8MB/s \n",
            "\u001b[K     |████████████████████████████████| 460kB 61.2MB/s \n",
            "\u001b[K     |████████████████████████████████| 6.0MB 58.4MB/s \n",
            "\u001b[K     |████████████████████████████████| 51kB 6.8MB/s \n",
            "\u001b[K     |████████████████████████████████| 153kB 63.5MB/s \n",
            "\u001b[K     |████████████████████████████████| 81kB 10.3MB/s \n",
            "\u001b[K     |████████████████████████████████| 81kB 10.8MB/s \n",
            "\u001b[K     |████████████████████████████████| 71kB 10.7MB/s \n",
            "\u001b[K     |████████████████████████████████| 204kB 65.5MB/s \n",
            "\u001b[?25h  Building wheel for simplejson (setup.py) ... \u001b[?25l\u001b[?25hdone\n",
            "  Building wheel for alembic (setup.py) ... \u001b[?25l\u001b[?25hdone\n",
            "  Building wheel for sqlalchemy (setup.py) ... \u001b[?25l\u001b[?25hdone\n",
            "  Building wheel for databricks-cli (setup.py) ... \u001b[?25l\u001b[?25hdone\n",
            "  Building wheel for prometheus-flask-exporter (setup.py) ... \u001b[?25l\u001b[?25hdone\n",
            "  Building wheel for querystring-parser (setup.py) ... \u001b[?25l\u001b[?25hdone\n"
          ],
          "name": "stdout"
        }
      ]
    },
    {
      "cell_type": "code",
      "metadata": {
        "id": "OsB0V2poFqYV",
        "colab_type": "code",
        "colab": {}
      },
      "source": [
        "from sklearn.metrics import plot_confusion_matrix, plot_precision_recall_curve, classification_report, log_loss, f1_score, accuracy_score\n",
        "\n",
        "def show_metrics(model, X_test, y_test, run_name, experiment_name='TCC', sklearn_model=True):\n",
        "    mlflow.set_experiment(experiment_name)\n",
        "\n",
        "    if sklearn_model:\n",
        "        fig, ax = plt.subplots(1, 2, figsize=(10, 4))\n",
        "\n",
        "        plot_confusion_matrix(model, X_test, y_test, cmap=plt.cm.Blues, ax=ax[0])\n",
        "        ax[0].set_title('Matrix Confusão, sem normalização')\n",
        "\n",
        "        plot_confusion_matrix(model, X_test, y_test, cmap=plt.cm.Blues, normalize='true', ax=ax[1])\n",
        "        ax[1].set_title('Matrix Confusão Normalizada')\n",
        "\n",
        "        plt.tight_layout()\n",
        "        plt.show()\n",
        "\n",
        "        y_predict = model.predict(X_test)\n",
        "        y_predict_prob = model.predict_proba(X_test)\n",
        "    else:\n",
        "        prediction = model.predict(h2o.H2OFrame(X_test)).as_data_frame()\n",
        "        y_predict = prediction['predict']\n",
        "        y_predict_prob = prediction.drop('predict', axis=1)\n",
        "\n",
        "    logloss = log_loss(y_test, y_predict_prob)\n",
        "    f1 = f1_score(y_test, y_predict, average='macro')\n",
        "\n",
        "    with mlflow.start_run(run_name=run_name):\n",
        "        if sklearn_model:\n",
        "            mlflow.log_param(\"model_description\", str(model))\n",
        "        mlflow.log_metric(\"f1_score\", f1)\n",
        "        mlflow.log_metric(\"log_loss\", logloss)\n",
        "        mlflow.log_metric(\"accuracy\", accuracy_score(y_test, y_predict))\n",
        "        if not IN_COLAB:\n",
        "            mlflow.sklearn.log_model(model, \"model\")\n",
        "            mlflow.sklearn.save_model(model, mlflow_models_path)\n",
        "\n",
        "    display(pd.DataFrame(classification_report(y_test, y_predict, output_dict=True)).T)\n",
        "    print(f'\\nLog loss: {logloss} | F1 Score: {f1}')"
      ],
      "execution_count": 0,
      "outputs": []
    },
    {
      "cell_type": "markdown",
      "metadata": {
        "id": "JbzZAvIIc3Hj",
        "colab_type": "text"
      },
      "source": [
        "### Analisando desempenho do modelo de Regressão Logística"
      ]
    },
    {
      "cell_type": "code",
      "metadata": {
        "id": "zowjRC_EFqYX",
        "colab_type": "code",
        "colab": {}
      },
      "source": [
        "# Foi realizada uma normalização das colunas numéricas no pipeline desse modelo,\n",
        "# devido a sua sensibilidade na variação no range das colunas, e essa variação\n",
        "# impacta no desempenho do modelo\n",
        "\n",
        "from sklearn.pipeline import Pipeline\n",
        "from sklearn.compose import ColumnTransformer\n",
        "from sklearn.impute import SimpleImputer\n",
        "from sklearn.preprocessing import OneHotEncoder, StandardScaler\n",
        "\n",
        "numeric_transformer = Pipeline(steps=[\n",
        "    ('imputer', SimpleImputer(strategy='median')),\n",
        "    ('scaler', StandardScaler())])\n",
        "\n",
        "preprocessor = ColumnTransformer(transformers=[('num', numeric_transformer, numeric_features)])"
      ],
      "execution_count": 0,
      "outputs": []
    },
    {
      "cell_type": "code",
      "metadata": {
        "id": "_ua-Vj1_nxz6",
        "colab_type": "code",
        "outputId": "38b54113-c960-4af3-c09b-3924686a23b3",
        "colab": {
          "base_uri": "https://localhost:8080/",
          "height": 595
        }
      },
      "source": [
        "from sklearn.linear_model import LogisticRegression\n",
        "\n",
        "LR_clf = Pipeline(steps=[('preprocessor', preprocessor),\n",
        "                         ('classifier', LogisticRegression(n_jobs=-1))])\n",
        "\n",
        "LR_clf.fit(balanced_X_train, balanced_y_train)\n",
        "\n",
        "show_metrics(LR_clf, balanced_X_test, balanced_y_test, 'LogisticRegression')"
      ],
      "execution_count": 83,
      "outputs": [
        {
          "output_type": "display_data",
          "data": {
            "image/png": "[encoded data removed]",
            "text/plain": [
              "<Figure size 720x288 with 4 Axes>"
            ]
          },
          "metadata": {
            "tags": []
          }
        },
        {
          "output_type": "display_data",
          "data": {
            "text/html": [
              "<div>\n",
              "<style scoped>\n",
              "    .dataframe tbody tr th:only-of-type {\n",
              "        vertical-align: middle;\n",
              "    }\n",
              "\n",
              "    .dataframe tbody tr th {\n",
              "        vertical-align: top;\n",
              "    }\n",
              "\n",
              "    .dataframe thead th {\n",
              "        text-align: right;\n",
              "    }\n",
              "</style>\n",
              "<table border=\"1\" class=\"dataframe\">\n",
              "  <thead>\n",
              "    <tr style=\"text-align: right;\">\n",
              "      <th></th>\n",
              "      <th>precision</th>\n",
              "      <th>recall</th>\n",
              "      <th>f1-score</th>\n",
              "      <th>support</th>\n",
              "    </tr>\n",
              "  </thead>\n",
              "  <tbody>\n",
              "    <tr>\n",
              "      <th>A</th>\n",
              "      <td>0.386786</td>\n",
              "      <td>0.215416</td>\n",
              "      <td>0.276718</td>\n",
              "      <td>26089.000000</td>\n",
              "    </tr>\n",
              "    <tr>\n",
              "      <th>B</th>\n",
              "      <td>0.329024</td>\n",
              "      <td>0.311232</td>\n",
              "      <td>0.319881</td>\n",
              "      <td>26167.000000</td>\n",
              "    </tr>\n",
              "    <tr>\n",
              "      <th>C</th>\n",
              "      <td>0.481164</td>\n",
              "      <td>0.637850</td>\n",
              "      <td>0.548538</td>\n",
              "      <td>25992.000000</td>\n",
              "    </tr>\n",
              "    <tr>\n",
              "      <th>D</th>\n",
              "      <td>0.334137</td>\n",
              "      <td>0.391656</td>\n",
              "      <td>0.360617</td>\n",
              "      <td>26199.000000</td>\n",
              "    </tr>\n",
              "    <tr>\n",
              "      <th>accuracy</th>\n",
              "      <td>0.388752</td>\n",
              "      <td>0.388752</td>\n",
              "      <td>0.388752</td>\n",
              "      <td>0.388752</td>\n",
              "    </tr>\n",
              "    <tr>\n",
              "      <th>macro avg</th>\n",
              "      <td>0.382778</td>\n",
              "      <td>0.389039</td>\n",
              "      <td>0.376438</td>\n",
              "      <td>104447.000000</td>\n",
              "    </tr>\n",
              "    <tr>\n",
              "      <th>weighted avg</th>\n",
              "      <td>0.382595</td>\n",
              "      <td>0.388752</td>\n",
              "      <td>0.376220</td>\n",
              "      <td>104447.000000</td>\n",
              "    </tr>\n",
              "  </tbody>\n",
              "</table>\n",
              "</div>"
            ],
            "text/plain": [
              "              precision    recall  f1-score        support\n",
              "A              0.386786  0.215416  0.276718   26089.000000\n",
              "B              0.329024  0.311232  0.319881   26167.000000\n",
              "C              0.481164  0.637850  0.548538   25992.000000\n",
              "D              0.334137  0.391656  0.360617   26199.000000\n",
              "accuracy       0.388752  0.388752  0.388752       0.388752\n",
              "macro avg      0.382778  0.389039  0.376438  104447.000000\n",
              "weighted avg   0.382595  0.388752  0.376220  104447.000000"
            ]
          },
          "metadata": {
            "tags": []
          }
        },
        {
          "output_type": "stream",
          "text": [
            "\n",
            "Log loss: 1.2794922338334827 | F1 Score: 0.37643827732281887\n"
          ],
          "name": "stdout"
        }
      ]
    },
    {
      "cell_type": "markdown",
      "metadata": {
        "id": "97wjaqbXiMfi",
        "colab_type": "text"
      },
      "source": [
        "### Analisando desempenho do modelo de Árvore de Decisão"
      ]
    },
    {
      "cell_type": "code",
      "metadata": {
        "id": "onFIyNEdhK3g",
        "colab_type": "code",
        "outputId": "a7242d72-694b-4847-a1c3-f0bb49879641",
        "colab": {
          "base_uri": "https://localhost:8080/",
          "height": 595
        }
      },
      "source": [
        "from sklearn.tree import DecisionTreeClassifier\n",
        "\n",
        "DT_clf = DecisionTreeClassifier()\n",
        "DT_clf.fit(balanced_X_train, balanced_y_train)\n",
        "\n",
        "show_metrics(DT_clf, balanced_X_test, balanced_y_test, 'DecisionTreeClassifier')"
      ],
      "execution_count": 85,
      "outputs": [
        {
          "output_type": "display_data",
          "data": {
            "image/png": "[encoded data removed]",
            "text/plain": [
              "<Figure size 720x288 with 4 Axes>"
            ]
          },
          "metadata": {
            "tags": []
          }
        },
        {
          "output_type": "display_data",
          "data": {
            "text/html": [
              "<div>\n",
              "<style scoped>\n",
              "    .dataframe tbody tr th:only-of-type {\n",
              "        vertical-align: middle;\n",
              "    }\n",
              "\n",
              "    .dataframe tbody tr th {\n",
              "        vertical-align: top;\n",
              "    }\n",
              "\n",
              "    .dataframe thead th {\n",
              "        text-align: right;\n",
              "    }\n",
              "</style>\n",
              "<table border=\"1\" class=\"dataframe\">\n",
              "  <thead>\n",
              "    <tr style=\"text-align: right;\">\n",
              "      <th></th>\n",
              "      <th>precision</th>\n",
              "      <th>recall</th>\n",
              "      <th>f1-score</th>\n",
              "      <th>support</th>\n",
              "    </tr>\n",
              "  </thead>\n",
              "  <tbody>\n",
              "    <tr>\n",
              "      <th>A</th>\n",
              "      <td>0.958407</td>\n",
              "      <td>0.957415</td>\n",
              "      <td>0.957911</td>\n",
              "      <td>26089.000000</td>\n",
              "    </tr>\n",
              "    <tr>\n",
              "      <th>B</th>\n",
              "      <td>0.977020</td>\n",
              "      <td>0.976497</td>\n",
              "      <td>0.976758</td>\n",
              "      <td>26167.000000</td>\n",
              "    </tr>\n",
              "    <tr>\n",
              "      <th>C</th>\n",
              "      <td>0.977377</td>\n",
              "      <td>0.978994</td>\n",
              "      <td>0.978184</td>\n",
              "      <td>25992.000000</td>\n",
              "    </tr>\n",
              "    <tr>\n",
              "      <th>D</th>\n",
              "      <td>0.994885</td>\n",
              "      <td>0.994809</td>\n",
              "      <td>0.994847</td>\n",
              "      <td>26199.000000</td>\n",
              "    </tr>\n",
              "    <tr>\n",
              "      <th>accuracy</th>\n",
              "      <td>0.976945</td>\n",
              "      <td>0.976945</td>\n",
              "      <td>0.976945</td>\n",
              "      <td>0.976945</td>\n",
              "    </tr>\n",
              "    <tr>\n",
              "      <th>macro avg</th>\n",
              "      <td>0.976922</td>\n",
              "      <td>0.976929</td>\n",
              "      <td>0.976925</td>\n",
              "      <td>104447.000000</td>\n",
              "    </tr>\n",
              "    <tr>\n",
              "      <th>weighted avg</th>\n",
              "      <td>0.976941</td>\n",
              "      <td>0.976945</td>\n",
              "      <td>0.976943</td>\n",
              "      <td>104447.000000</td>\n",
              "    </tr>\n",
              "  </tbody>\n",
              "</table>\n",
              "</div>"
            ],
            "text/plain": [
              "              precision    recall  f1-score        support\n",
              "A              0.958407  0.957415  0.957911   26089.000000\n",
              "B              0.977020  0.976497  0.976758   26167.000000\n",
              "C              0.977377  0.978994  0.978184   25992.000000\n",
              "D              0.994885  0.994809  0.994847   26199.000000\n",
              "accuracy       0.976945  0.976945  0.976945       0.976945\n",
              "macro avg      0.976922  0.976929  0.976925  104447.000000\n",
              "weighted avg   0.976941  0.976945  0.976943  104447.000000"
            ]
          },
          "metadata": {
            "tags": []
          }
        },
        {
          "output_type": "stream",
          "text": [
            "\n",
            "Log loss: 0.7962830292774825 | F1 Score: 0.9769251078398671\n"
          ],
          "name": "stdout"
        }
      ]
    },
    {
      "cell_type": "markdown",
      "metadata": {
        "id": "mgC1UjaFiflD",
        "colab_type": "text"
      },
      "source": [
        "### Analisando desempenho do modelo de Random Forest"
      ]
    },
    {
      "cell_type": "code",
      "metadata": {
        "id": "bZ2obE9iU9cX",
        "colab_type": "code",
        "outputId": "81c2ddf9-bb97-48a7-8e08-5ca8db11b6d9",
        "colab": {
          "base_uri": "https://localhost:8080/",
          "height": 595
        }
      },
      "source": [
        "from sklearn.ensemble import RandomForestClassifier\n",
        "\n",
        "RF_clf = RandomForestClassifier(n_jobs=-1, n_estimators=500)\n",
        "RF_clf.fit(balanced_X_train, balanced_y_train)\n",
        "\n",
        "show_metrics(RF_clf, balanced_X_test, balanced_y_test, 'RandomForestClassifier')"
      ],
      "execution_count": 87,
      "outputs": [
        {
          "output_type": "display_data",
          "data": {
            "image/png": "[encoded data removed]",
            "text/plain": [
              "<Figure size 720x288 with 4 Axes>"
            ]
          },
          "metadata": {
            "tags": []
          }
        },
        {
          "output_type": "display_data",
          "data": {
            "text/html": [
              "<div>\n",
              "<style scoped>\n",
              "    .dataframe tbody tr th:only-of-type {\n",
              "        vertical-align: middle;\n",
              "    }\n",
              "\n",
              "    .dataframe tbody tr th {\n",
              "        vertical-align: top;\n",
              "    }\n",
              "\n",
              "    .dataframe thead th {\n",
              "        text-align: right;\n",
              "    }\n",
              "</style>\n",
              "<table border=\"1\" class=\"dataframe\">\n",
              "  <thead>\n",
              "    <tr style=\"text-align: right;\">\n",
              "      <th></th>\n",
              "      <th>precision</th>\n",
              "      <th>recall</th>\n",
              "      <th>f1-score</th>\n",
              "      <th>support</th>\n",
              "    </tr>\n",
              "  </thead>\n",
              "  <tbody>\n",
              "    <tr>\n",
              "      <th>A</th>\n",
              "      <td>0.961692</td>\n",
              "      <td>0.952624</td>\n",
              "      <td>0.957136</td>\n",
              "      <td>26089.000000</td>\n",
              "    </tr>\n",
              "    <tr>\n",
              "      <th>B</th>\n",
              "      <td>0.975443</td>\n",
              "      <td>0.970000</td>\n",
              "      <td>0.972714</td>\n",
              "      <td>26167.000000</td>\n",
              "    </tr>\n",
              "    <tr>\n",
              "      <th>C</th>\n",
              "      <td>0.972941</td>\n",
              "      <td>0.990497</td>\n",
              "      <td>0.981641</td>\n",
              "      <td>25992.000000</td>\n",
              "    </tr>\n",
              "    <tr>\n",
              "      <th>D</th>\n",
              "      <td>0.997014</td>\n",
              "      <td>0.994084</td>\n",
              "      <td>0.995547</td>\n",
              "      <td>26199.000000</td>\n",
              "    </tr>\n",
              "    <tr>\n",
              "      <th>accuracy</th>\n",
              "      <td>0.976802</td>\n",
              "      <td>0.976802</td>\n",
              "      <td>0.976802</td>\n",
              "      <td>0.976802</td>\n",
              "    </tr>\n",
              "    <tr>\n",
              "      <th>macro avg</th>\n",
              "      <td>0.976772</td>\n",
              "      <td>0.976801</td>\n",
              "      <td>0.976759</td>\n",
              "      <td>104447.000000</td>\n",
              "    </tr>\n",
              "    <tr>\n",
              "      <th>weighted avg</th>\n",
              "      <td>0.976796</td>\n",
              "      <td>0.976802</td>\n",
              "      <td>0.976772</td>\n",
              "      <td>104447.000000</td>\n",
              "    </tr>\n",
              "  </tbody>\n",
              "</table>\n",
              "</div>"
            ],
            "text/plain": [
              "              precision    recall  f1-score        support\n",
              "A              0.961692  0.952624  0.957136   26089.000000\n",
              "B              0.975443  0.970000  0.972714   26167.000000\n",
              "C              0.972941  0.990497  0.981641   25992.000000\n",
              "D              0.997014  0.994084  0.995547   26199.000000\n",
              "accuracy       0.976802  0.976802  0.976802       0.976802\n",
              "macro avg      0.976772  0.976801  0.976759  104447.000000\n",
              "weighted avg   0.976796  0.976802  0.976772  104447.000000"
            ]
          },
          "metadata": {
            "tags": []
          }
        },
        {
          "output_type": "stream",
          "text": [
            "\n",
            "Log loss: 0.12497038800857391 | F1 Score: 0.9767594292751833\n"
          ],
          "name": "stdout"
        }
      ]
    },
    {
      "cell_type": "markdown",
      "metadata": {
        "id": "Dz29dcYgl1d5",
        "colab_type": "text"
      },
      "source": [
        "### Analisando desempenho do modelo LightGBM"
      ]
    },
    {
      "cell_type": "code",
      "metadata": {
        "id": "FGTg46b3Vq68",
        "colab_type": "code",
        "outputId": "09bf51c3-db00-49cc-f31b-f2ea410338dc",
        "colab": {
          "base_uri": "https://localhost:8080/",
          "height": 595
        }
      },
      "source": [
        "import lightgbm as lgb\n",
        "\n",
        "lgbm_clf = lgb.LGBMClassifier(n_estimators=500)\n",
        "lgbm_clf.fit(balanced_X_train, balanced_y_train, eval_metric='logloss')\n",
        "\n",
        "show_metrics(lgbm_clf, balanced_X_test, balanced_y_test, 'LGBMClassifier')"
      ],
      "execution_count": 89,
      "outputs": [
        {
          "output_type": "display_data",
          "data": {
            "image/png": "[encoded data removed]",
            "text/plain": [
              "<Figure size 720x288 with 4 Axes>"
            ]
          },
          "metadata": {
            "tags": []
          }
        },
        {
          "output_type": "display_data",
          "data": {
            "text/html": [
              "<div>\n",
              "<style scoped>\n",
              "    .dataframe tbody tr th:only-of-type {\n",
              "        vertical-align: middle;\n",
              "    }\n",
              "\n",
              "    .dataframe tbody tr th {\n",
              "        vertical-align: top;\n",
              "    }\n",
              "\n",
              "    .dataframe thead th {\n",
              "        text-align: right;\n",
              "    }\n",
              "</style>\n",
              "<table border=\"1\" class=\"dataframe\">\n",
              "  <thead>\n",
              "    <tr style=\"text-align: right;\">\n",
              "      <th></th>\n",
              "      <th>precision</th>\n",
              "      <th>recall</th>\n",
              "      <th>f1-score</th>\n",
              "      <th>support</th>\n",
              "    </tr>\n",
              "  </thead>\n",
              "  <tbody>\n",
              "    <tr>\n",
              "      <th>A</th>\n",
              "      <td>0.938779</td>\n",
              "      <td>0.941010</td>\n",
              "      <td>0.939893</td>\n",
              "      <td>26089.000000</td>\n",
              "    </tr>\n",
              "    <tr>\n",
              "      <th>B</th>\n",
              "      <td>0.971721</td>\n",
              "      <td>0.953376</td>\n",
              "      <td>0.962461</td>\n",
              "      <td>26167.000000</td>\n",
              "    </tr>\n",
              "    <tr>\n",
              "      <th>C</th>\n",
              "      <td>0.965797</td>\n",
              "      <td>0.984264</td>\n",
              "      <td>0.974943</td>\n",
              "      <td>25992.000000</td>\n",
              "    </tr>\n",
              "    <tr>\n",
              "      <th>D</th>\n",
              "      <td>0.997589</td>\n",
              "      <td>0.995114</td>\n",
              "      <td>0.996350</td>\n",
              "      <td>26199.000000</td>\n",
              "    </tr>\n",
              "    <tr>\n",
              "      <th>accuracy</th>\n",
              "      <td>0.968443</td>\n",
              "      <td>0.968443</td>\n",
              "      <td>0.968443</td>\n",
              "      <td>0.968443</td>\n",
              "    </tr>\n",
              "    <tr>\n",
              "      <th>macro avg</th>\n",
              "      <td>0.968472</td>\n",
              "      <td>0.968441</td>\n",
              "      <td>0.968412</td>\n",
              "      <td>104447.000000</td>\n",
              "    </tr>\n",
              "    <tr>\n",
              "      <th>weighted avg</th>\n",
              "      <td>0.968507</td>\n",
              "      <td>0.968443</td>\n",
              "      <td>0.968431</td>\n",
              "      <td>104447.000000</td>\n",
              "    </tr>\n",
              "  </tbody>\n",
              "</table>\n",
              "</div>"
            ],
            "text/plain": [
              "              precision    recall  f1-score        support\n",
              "A              0.938779  0.941010  0.939893   26089.000000\n",
              "B              0.971721  0.953376  0.962461   26167.000000\n",
              "C              0.965797  0.984264  0.974943   25992.000000\n",
              "D              0.997589  0.995114  0.996350   26199.000000\n",
              "accuracy       0.968443  0.968443  0.968443       0.968443\n",
              "macro avg      0.968472  0.968441  0.968412  104447.000000\n",
              "weighted avg   0.968507  0.968443  0.968431  104447.000000"
            ]
          },
          "metadata": {
            "tags": []
          }
        },
        {
          "output_type": "stream",
          "text": [
            "\n",
            "Log loss: 0.0937984349415199 | F1 Score: 0.9684119575615247\n"
          ],
          "name": "stdout"
        }
      ]
    },
    {
      "cell_type": "code",
      "metadata": {
        "id": "N7hxEJ9nm6nj",
        "colab_type": "code",
        "colab": {}
      },
      "source": [
        ""
      ],
      "execution_count": 0,
      "outputs": []
    },
    {
      "cell_type": "code",
      "metadata": {
        "id": "ziQK72k5m6vr",
        "colab_type": "code",
        "colab": {}
      },
      "source": [
        ""
      ],
      "execution_count": 0,
      "outputs": []
    },
    {
      "cell_type": "code",
      "metadata": {
        "id": "5ls-KpcDADVG",
        "colab_type": "code",
        "outputId": "99ed0ec5-3656-4173-cf3e-767021f450f2",
        "colab": {
          "base_uri": "https://localhost:8080/",
          "height": 153
        }
      },
      "source": [
        "RF_clf.fit(balanced_X, balanced_y)"
      ],
      "execution_count": 0,
      "outputs": [
        {
          "output_type": "execute_result",
          "data": {
            "text/plain": [
              "RandomForestClassifier(bootstrap=True, ccp_alpha=0.0, class_weight=None,\n",
              "                       criterion='gini', max_depth=None, max_features='auto',\n",
              "                       max_leaf_nodes=None, max_samples=None,\n",
              "                       min_impurity_decrease=0.0, min_impurity_split=None,\n",
              "                       min_samples_leaf=1, min_samples_split=2,\n",
              "                       min_weight_fraction_leaf=0.0, n_estimators=100,\n",
              "                       n_jobs=-1, oob_score=False, random_state=None, verbose=0,\n",
              "                       warm_start=False)"
            ]
          },
          "metadata": {
            "tags": []
          },
          "execution_count": 55
        }
      ]
    },
    {
      "cell_type": "code",
      "metadata": {
        "id": "-7ANRDESfhwn",
        "colab_type": "code",
        "outputId": "c8c9e694-07af-4044-f661-80115d62b829",
        "colab": {
          "base_uri": "https://localhost:8080/",
          "height": 49,
          "referenced_widgets": [
            "63ad7e89c0ee41bfabab2d2c1c135752",
            "6a965568aa0c409c8c1bacd6d8d62be9",
            "27c52a2a6da64bf9833ceeb445f8fc59",
            "a10c239bcc88462a9c8abb3f2657b98e",
            "d4aad5457fc241df86b6c9d24285597c",
            "641e686181fb42a78c3d5c3771d50b65",
            "7195c40f2fe740878a538078eb70ff0c",
            "e0e5ef400671400d9af59c4baf7a80b7"
          ]
        }
      },
      "source": [
        "def submit_result_kaggle(model):\n",
        "    events = ['A','B','C', 'D']\n",
        "    predict_results = []\n",
        "    for test_chunk in tqdm(pd.read_csv(f'{competition_name}/test.csv.zip', usecols=features, dtype={feature: np.float16 for feature in numeric_features}, nrows=100000, chunksize=1000)):\n",
        "        predict_results.append(model.predict(test_df))\n",
        "        # predict_results.append(pd.get_dummies(pd.Categorical(model.predict(test_df), categories=events)).rename(columns=str).reset_index().rename(columns={'index': 'id'}))\n",
        "    return pd.concat(predict_results)\n",
        "\n",
        "submit_result_kaggle(RF_clf)"
      ],
      "execution_count": 0,
      "outputs": [
        {
          "output_type": "display_data",
          "data": {
            "application/vnd.jupyter.widget-view+json": {
              "model_id": "63ad7e89c0ee41bfabab2d2c1c135752",
              "version_minor": 0,
              "version_major": 2
            },
            "text/plain": [
              "HBox(children=(IntProgress(value=1, bar_style='info', max=1), HTML(value='')))"
            ]
          },
          "metadata": {
            "tags": []
          }
        }
      ]
    },
    {
      "cell_type": "code",
      "metadata": {
        "id": "lnbrvJCv0eVt",
        "colab_type": "code",
        "colab": {}
      },
      "source": [
        "test_df = pd.read_csv(f'{competition_name}/test.csv.zip', usecols=features, dtype={feature: np.float16 for feature in numeric_features})"
      ],
      "execution_count": 0,
      "outputs": []
    },
    {
      "cell_type": "code",
      "metadata": {
        "id": "FJ2HrXd00ljw",
        "colab_type": "code",
        "colab": {}
      },
      "source": [
        "events = ['A','B','C', 'D']\n",
        "\n",
        "pd.get_dummies(pd.Categorical(lgbm_clf.predict(test_df), categories=events)).rename(columns=str).reset_index().rename(columns={'index': 'id'}).to_csv('test_result.csv', index=False)"
      ],
      "execution_count": 0,
      "outputs": []
    },
    {
      "cell_type": "code",
      "metadata": {
        "id": "BsM_4OJP-Axk",
        "colab_type": "code",
        "outputId": "674b1320-6b3d-4a9b-9073-5c17592e548a",
        "colab": {
          "base_uri": "https://localhost:8080/",
          "height": 68
        }
      },
      "source": [
        "# get_kaggle_json()\n",
        "!kaggle competitions submit -c reducing-commercial-aviation-fatalities -f test_result.csv -m \"Submission with lgbm_clf\""
      ],
      "execution_count": 0,
      "outputs": [
        {
          "output_type": "stream",
          "text": [
            "Warning: Looks like you're using an outdated API Version, please consider updating (server 1.5.6 / client 1.5.4)\n",
            "100% 281M/281M [00:05<00:00, 56.9MB/s]\n",
            "Successfully submitted to Reducing Commercial Aviation Fatalities"
          ],
          "name": "stdout"
        }
      ]
    },
    {
      "cell_type": "markdown",
      "metadata": {
        "id": "1AI1Rp8am863",
        "colab_type": "text"
      },
      "source": [
        "## Obtendo modelos utilizando a ferramenta de autoML H2O"
      ]
    },
    {
      "cell_type": "code",
      "metadata": {
        "id": "k29CxBV-kJtU",
        "colab_type": "code",
        "outputId": "34e431be-9d3a-4a91-c657-9c3a9e98a407",
        "colab": {
          "base_uri": "https://localhost:8080/",
          "height": 562
        }
      },
      "source": [
        "if IN_COLAB:\n",
        "    !pip install -q h2o\n",
        "\n",
        "import h2o\n",
        "from h2o.automl import H2OAutoML, get_leaderboard\n",
        "\n",
        "h2o.init()"
      ],
      "execution_count": 90,
      "outputs": [
        {
          "output_type": "stream",
          "text": [
            "\u001b[K     |████████████████████████████████| 129.5MB 31kB/s \n",
            "\u001b[?25h  Building wheel for h2o (setup.py) ... \u001b[?25l\u001b[?25hdone\n",
            "Checking whether there is an H2O instance running at http://localhost:54321 ..... not found.\n",
            "Attempting to start a local H2O server...\n",
            "  Java Version: openjdk version \"11.0.6\" 2020-01-14; OpenJDK Runtime Environment (build 11.0.6+10-post-Ubuntu-1ubuntu118.04.1); OpenJDK 64-Bit Server VM (build 11.0.6+10-post-Ubuntu-1ubuntu118.04.1, mixed mode, sharing)\n",
            "  Starting server from /usr/local/lib/python3.6/dist-packages/h2o/backend/bin/h2o.jar\n",
            "  Ice root: /tmp/tmpleykj0y9\n",
            "  JVM stdout: /tmp/tmpleykj0y9/h2o_unknownUser_started_from_python.out\n",
            "  JVM stderr: /tmp/tmpleykj0y9/h2o_unknownUser_started_from_python.err\n",
            "  Server is running at http://127.0.0.1:54321\n",
            "Connecting to H2O server at http://127.0.0.1:54321 ... successful.\n"
          ],
          "name": "stdout"
        },
        {
          "output_type": "display_data",
          "data": {
            "text/html": [
              "<div style=\"overflow:auto\"><table style=\"width:50%\"><tr><td>H2O_cluster_uptime:</td>\n",
              "<td>02 secs</td></tr>\n",
              "<tr><td>H2O_cluster_timezone:</td>\n",
              "<td>Etc/UTC</td></tr>\n",
              "<tr><td>H2O_data_parsing_timezone:</td>\n",
              "<td>UTC</td></tr>\n",
              "<tr><td>H2O_cluster_version:</td>\n",
              "<td>3.30.0.1</td></tr>\n",
              "<tr><td>H2O_cluster_version_age:</td>\n",
              "<td>17 hours and 45 minutes </td></tr>\n",
              "<tr><td>H2O_cluster_name:</td>\n",
              "<td>H2O_from_python_unknownUser_yjwc76</td></tr>\n",
              "<tr><td>H2O_cluster_total_nodes:</td>\n",
              "<td>1</td></tr>\n",
              "<tr><td>H2O_cluster_free_memory:</td>\n",
              "<td>8.84 Gb</td></tr>\n",
              "<tr><td>H2O_cluster_total_cores:</td>\n",
              "<td>40</td></tr>\n",
              "<tr><td>H2O_cluster_allowed_cores:</td>\n",
              "<td>40</td></tr>\n",
              "<tr><td>H2O_cluster_status:</td>\n",
              "<td>accepting new members, healthy</td></tr>\n",
              "<tr><td>H2O_connection_url:</td>\n",
              "<td>http://127.0.0.1:54321</td></tr>\n",
              "<tr><td>H2O_connection_proxy:</td>\n",
              "<td>{\"http\": null, \"https\": null}</td></tr>\n",
              "<tr><td>H2O_internal_security:</td>\n",
              "<td>False</td></tr>\n",
              "<tr><td>H2O_API_Extensions:</td>\n",
              "<td>Amazon S3, XGBoost, Algos, AutoML, Core V3, TargetEncoder, Core V4</td></tr>\n",
              "<tr><td>Python_version:</td>\n",
              "<td>3.6.9 final</td></tr></table></div>"
            ],
            "text/plain": [
              "--------------------------  ------------------------------------------------------------------\n",
              "H2O_cluster_uptime:         02 secs\n",
              "H2O_cluster_timezone:       Etc/UTC\n",
              "H2O_data_parsing_timezone:  UTC\n",
              "H2O_cluster_version:        3.30.0.1\n",
              "H2O_cluster_version_age:    17 hours and 45 minutes\n",
              "H2O_cluster_name:           H2O_from_python_unknownUser_yjwc76\n",
              "H2O_cluster_total_nodes:    1\n",
              "H2O_cluster_free_memory:    8.84 Gb\n",
              "H2O_cluster_total_cores:    40\n",
              "H2O_cluster_allowed_cores:  40\n",
              "H2O_cluster_status:         accepting new members, healthy\n",
              "H2O_connection_url:         http://127.0.0.1:54321\n",
              "H2O_connection_proxy:       {\"http\": null, \"https\": null}\n",
              "H2O_internal_security:      False\n",
              "H2O_API_Extensions:         Amazon S3, XGBoost, Algos, AutoML, Core V3, TargetEncoder, Core V4\n",
              "Python_version:             3.6.9 final\n",
              "--------------------------  ------------------------------------------------------------------"
            ]
          },
          "metadata": {
            "tags": []
          }
        }
      ]
    },
    {
      "cell_type": "code",
      "metadata": {
        "id": "lS5toiTotfKI",
        "colab_type": "code",
        "outputId": "5e0cd437-8096-4020-8035-6c7df771a1bc",
        "colab": {
          "base_uri": "https://localhost:8080/",
          "height": 51
        }
      },
      "source": [
        "# Run AutoML for 20 base models (limited to 1 hour max runtime by default)\n",
        "aml = H2OAutoML(max_models=20, seed=10, max_runtime_secs=6000, max_runtime_secs_per_model=600, sort_metric='logloss')\n",
        "aml.train(x=features, y=target, training_frame=h2o.H2OFrame(pd.concat([balanced_X_train, balanced_y_train], axis=1)))"
      ],
      "execution_count": 93,
      "outputs": [
        {
          "output_type": "stream",
          "text": [
            "Parse progress: |█████████████████████████████████████████████████████████| 100%\n",
            "AutoML progress: |████████████████████████████████████████████████████████| 100%\n"
          ],
          "name": "stdout"
        }
      ]
    },
    {
      "cell_type": "code",
      "metadata": {
        "id": "xJle1aNSuOuy",
        "colab_type": "code",
        "outputId": "ff44ac27-f46d-4a07-95ff-ed973b25360d",
        "colab": {
          "base_uri": "https://localhost:8080/",
          "height": 502
        }
      },
      "source": [
        "lb = get_leaderboard(aml, extra_columns='ALL')\n",
        "lb.head(rows=lb.nrows)"
      ],
      "execution_count": 94,
      "outputs": [
        {
          "output_type": "display_data",
          "data": {
            "text/html": [
              "<table>\n",
              "<thead>\n",
              "<tr><th>model_id                                           </th><th style=\"text-align: right;\">  logloss</th><th style=\"text-align: right;\">  mean_per_class_error</th><th style=\"text-align: right;\">     rmse</th><th style=\"text-align: right;\">       mse</th><th style=\"text-align: right;\">  training_time_ms</th><th style=\"text-align: right;\">  predict_time_per_row_ms</th></tr>\n",
              "</thead>\n",
              "<tbody>\n",
              "<tr><td>GBM_grid__1_AutoML_20200404_143736_model_1         </td><td style=\"text-align: right;\">0.0212566</td><td style=\"text-align: right;\">            0.00704627</td><td style=\"text-align: right;\">0.074566 </td><td style=\"text-align: right;\">0.00556009</td><td style=\"text-align: right;\">             98895</td><td style=\"text-align: right;\">                 0.020413</td></tr>\n",
              "<tr><td>XGBoost_grid__1_AutoML_20200404_143736_model_1     </td><td style=\"text-align: right;\">0.0300983</td><td style=\"text-align: right;\">            0.00997572</td><td style=\"text-align: right;\">0.0888351</td><td style=\"text-align: right;\">0.00789168</td><td style=\"text-align: right;\">            128455</td><td style=\"text-align: right;\">                 0.002056</td></tr>\n",
              "<tr><td>StackedEnsemble_BestOfFamily_AutoML_20200404_143736</td><td style=\"text-align: right;\">0.0306679</td><td style=\"text-align: right;\">            0.00747232</td><td style=\"text-align: right;\">0.0798652</td><td style=\"text-align: right;\">0.00637845</td><td style=\"text-align: right;\">             90776</td><td style=\"text-align: right;\">                 0.037647</td></tr>\n",
              "<tr><td>StackedEnsemble_AllModels_AutoML_20200404_143736   </td><td style=\"text-align: right;\">0.030771 </td><td style=\"text-align: right;\">            0.00784086</td><td style=\"text-align: right;\">0.0815963</td><td style=\"text-align: right;\">0.00665796</td><td style=\"text-align: right;\">            292637</td><td style=\"text-align: right;\">                 0.144477</td></tr>\n",
              "<tr><td>XGBoost_2_AutoML_20200404_143736                   </td><td style=\"text-align: right;\">0.0608182</td><td style=\"text-align: right;\">            0.0176936 </td><td style=\"text-align: right;\">0.125096 </td><td style=\"text-align: right;\">0.0156491 </td><td style=\"text-align: right;\">             51955</td><td style=\"text-align: right;\">                 0.000917</td></tr>\n",
              "<tr><td>GBM_4_AutoML_20200404_143736                       </td><td style=\"text-align: right;\">0.0718827</td><td style=\"text-align: right;\">            0.021137  </td><td style=\"text-align: right;\">0.137328 </td><td style=\"text-align: right;\">0.0188589 </td><td style=\"text-align: right;\">             22976</td><td style=\"text-align: right;\">                 0.010826</td></tr>\n",
              "<tr><td>GBM_5_AutoML_20200404_143736                       </td><td style=\"text-align: right;\">0.0723595</td><td style=\"text-align: right;\">            0.0220533 </td><td style=\"text-align: right;\">0.139172 </td><td style=\"text-align: right;\">0.0193688 </td><td style=\"text-align: right;\">             24275</td><td style=\"text-align: right;\">                 0.009471</td></tr>\n",
              "<tr><td>XGBoost_grid__1_AutoML_20200404_143736_model_3     </td><td style=\"text-align: right;\">0.0870489</td><td style=\"text-align: right;\">            0.0270768 </td><td style=\"text-align: right;\">0.153047 </td><td style=\"text-align: right;\">0.0234234 </td><td style=\"text-align: right;\">            124364</td><td style=\"text-align: right;\">                 0.002604</td></tr>\n",
              "<tr><td>GBM_3_AutoML_20200404_143736                       </td><td style=\"text-align: right;\">0.0927106</td><td style=\"text-align: right;\">            0.028624  </td><td style=\"text-align: right;\">0.158456 </td><td style=\"text-align: right;\">0.0251085 </td><td style=\"text-align: right;\">             21510</td><td style=\"text-align: right;\">                 0.014522</td></tr>\n",
              "<tr><td>XGBoost_grid__1_AutoML_20200404_143736_model_2     </td><td style=\"text-align: right;\">0.0986029</td><td style=\"text-align: right;\">            0.0319649 </td><td style=\"text-align: right;\">0.164701 </td><td style=\"text-align: right;\">0.0271264 </td><td style=\"text-align: right;\">            127678</td><td style=\"text-align: right;\">                 0.003215</td></tr>\n",
              "<tr><td>XGBoost_1_AutoML_20200404_143736                   </td><td style=\"text-align: right;\">0.103697 </td><td style=\"text-align: right;\">            0.0334158 </td><td style=\"text-align: right;\">0.16915  </td><td style=\"text-align: right;\">0.0286117 </td><td style=\"text-align: right;\">             47211</td><td style=\"text-align: right;\">                 0.001148</td></tr>\n",
              "<tr><td>GBM_2_AutoML_20200404_143736                       </td><td style=\"text-align: right;\">0.109542 </td><td style=\"text-align: right;\">            0.0357215 </td><td style=\"text-align: right;\">0.174245 </td><td style=\"text-align: right;\">0.0303612 </td><td style=\"text-align: right;\">             20016</td><td style=\"text-align: right;\">                 0.011885</td></tr>\n",
              "<tr><td>GBM_grid__1_AutoML_20200404_143736_model_3         </td><td style=\"text-align: right;\">0.116019 </td><td style=\"text-align: right;\">            0.0401033 </td><td style=\"text-align: right;\">0.181985 </td><td style=\"text-align: right;\">0.0331184 </td><td style=\"text-align: right;\">             32396</td><td style=\"text-align: right;\">                 0.024145</td></tr>\n",
              "<tr><td>GBM_1_AutoML_20200404_143736                       </td><td style=\"text-align: right;\">0.127217 </td><td style=\"text-align: right;\">            0.0424907 </td><td style=\"text-align: right;\">0.18976  </td><td style=\"text-align: right;\">0.0360088 </td><td style=\"text-align: right;\">             21252</td><td style=\"text-align: right;\">                 0.013349</td></tr>\n",
              "<tr><td>GBM_grid__1_AutoML_20200404_143736_model_2         </td><td style=\"text-align: right;\">0.150057 </td><td style=\"text-align: right;\">            0.0487602 </td><td style=\"text-align: right;\">0.205576 </td><td style=\"text-align: right;\">0.0422613 </td><td style=\"text-align: right;\">             15555</td><td style=\"text-align: right;\">                 0.007051</td></tr>\n",
              "<tr><td>XGBoost_3_AutoML_20200404_143736                   </td><td style=\"text-align: right;\">0.172897 </td><td style=\"text-align: right;\">            0.0580892 </td><td style=\"text-align: right;\">0.225209 </td><td style=\"text-align: right;\">0.0507189 </td><td style=\"text-align: right;\">             46952</td><td style=\"text-align: right;\">                 0.0011  </td></tr>\n",
              "<tr><td>DRF_1_AutoML_20200404_143736                       </td><td style=\"text-align: right;\">0.294469 </td><td style=\"text-align: right;\">            0.0703137 </td><td style=\"text-align: right;\">0.289463 </td><td style=\"text-align: right;\">0.0837887 </td><td style=\"text-align: right;\">             13051</td><td style=\"text-align: right;\">                 0.005424</td></tr>\n",
              "<tr><td>XRT_1_AutoML_20200404_143736                       </td><td style=\"text-align: right;\">0.308388 </td><td style=\"text-align: right;\">            0.0707263 </td><td style=\"text-align: right;\">0.297004 </td><td style=\"text-align: right;\">0.0882112 </td><td style=\"text-align: right;\">             14688</td><td style=\"text-align: right;\">                 0.00539 </td></tr>\n",
              "<tr><td>DeepLearning_grid__2_AutoML_20200404_143736_model_1</td><td style=\"text-align: right;\">0.445806 </td><td style=\"text-align: right;\">            0.172372  </td><td style=\"text-align: right;\">0.37208  </td><td style=\"text-align: right;\">0.138444  </td><td style=\"text-align: right;\">             68674</td><td style=\"text-align: right;\">                 0.004773</td></tr>\n",
              "<tr><td>DeepLearning_1_AutoML_20200404_143736              </td><td style=\"text-align: right;\">0.45777  </td><td style=\"text-align: right;\">            0.193901  </td><td style=\"text-align: right;\">0.383151 </td><td style=\"text-align: right;\">0.146805  </td><td style=\"text-align: right;\">             15056</td><td style=\"text-align: right;\">                 0.000259</td></tr>\n",
              "<tr><td>DeepLearning_grid__1_AutoML_20200404_143736_model_1</td><td style=\"text-align: right;\">0.556361 </td><td style=\"text-align: right;\">            0.194571  </td><td style=\"text-align: right;\">0.406899 </td><td style=\"text-align: right;\">0.165567  </td><td style=\"text-align: right;\">             71220</td><td style=\"text-align: right;\">                 0.000881</td></tr>\n",
              "<tr><td>GLM_1_AutoML_20200404_143736                       </td><td style=\"text-align: right;\">1.27804  </td><td style=\"text-align: right;\">            0.611315  </td><td style=\"text-align: right;\">0.708707 </td><td style=\"text-align: right;\">0.502265  </td><td style=\"text-align: right;\">             10911</td><td style=\"text-align: right;\">                 5.9e-05 </td></tr>\n",
              "</tbody>\n",
              "</table>"
            ]
          },
          "metadata": {
            "tags": []
          }
        },
        {
          "output_type": "execute_result",
          "data": {
            "text/plain": [
              ""
            ]
          },
          "metadata": {
            "tags": []
          },
          "execution_count": 94
        }
      ]
    },
    {
      "cell_type": "code",
      "metadata": {
        "id": "e5nlb34Kpxrn",
        "colab_type": "code",
        "outputId": "4aa12531-0db7-4650-c61b-b74e56117b90",
        "colab": {
          "base_uri": "https://localhost:8080/",
          "height": 34
        }
      },
      "source": [
        "h2o.save_model(model=aml.leader, path=h20_models, force=True)"
      ],
      "execution_count": 95,
      "outputs": [
        {
          "output_type": "execute_result",
          "data": {
            "text/plain": [
              "'/gdrive/My Drive/Pos Graduação/TCC/automl/GBM_grid__1_AutoML_20200404_143736_model_1'"
            ]
          },
          "metadata": {
            "tags": []
          },
          "execution_count": 95
        }
      ]
    },
    {
      "cell_type": "code",
      "metadata": {
        "id": "kPdGKaypeEUp",
        "colab_type": "code",
        "outputId": "4aea0d82-3d1e-4172-d8b0-c376ac67343c",
        "colab": {
          "base_uri": "https://localhost:8080/",
          "height": 1000
        }
      },
      "source": [
        "aml.leader"
      ],
      "execution_count": 96,
      "outputs": [
        {
          "output_type": "stream",
          "text": [
            "Model Details\n",
            "=============\n",
            "H2OGradientBoostingEstimator :  Gradient Boosting Machine\n",
            "Model Key:  GBM_grid__1_AutoML_20200404_143736_model_1\n",
            "\n",
            "\n",
            "Model Summary: \n"
          ],
          "name": "stdout"
        },
        {
          "output_type": "display_data",
          "data": {
            "text/html": [
              "<div>\n",
              "<style scoped>\n",
              "    .dataframe tbody tr th:only-of-type {\n",
              "        vertical-align: middle;\n",
              "    }\n",
              "\n",
              "    .dataframe tbody tr th {\n",
              "        vertical-align: top;\n",
              "    }\n",
              "\n",
              "    .dataframe thead th {\n",
              "        text-align: right;\n",
              "    }\n",
              "</style>\n",
              "<table border=\"1\" class=\"dataframe\">\n",
              "  <thead>\n",
              "    <tr style=\"text-align: right;\">\n",
              "      <th></th>\n",
              "      <th></th>\n",
              "      <th>number_of_trees</th>\n",
              "      <th>number_of_internal_trees</th>\n",
              "      <th>model_size_in_bytes</th>\n",
              "      <th>min_depth</th>\n",
              "      <th>max_depth</th>\n",
              "      <th>mean_depth</th>\n",
              "      <th>min_leaves</th>\n",
              "      <th>max_leaves</th>\n",
              "      <th>mean_leaves</th>\n",
              "    </tr>\n",
              "  </thead>\n",
              "  <tbody>\n",
              "    <tr>\n",
              "      <th>0</th>\n",
              "      <td></td>\n",
              "      <td>134.0</td>\n",
              "      <td>536.0</td>\n",
              "      <td>34045725.0</td>\n",
              "      <td>16.0</td>\n",
              "      <td>16.0</td>\n",
              "      <td>16.0</td>\n",
              "      <td>746.0</td>\n",
              "      <td>8760.0</td>\n",
              "      <td>5060.5337</td>\n",
              "    </tr>\n",
              "  </tbody>\n",
              "</table>\n",
              "</div>"
            ],
            "text/plain": [
              "     number_of_trees  ...  max_leaves  mean_leaves\n",
              "0              134.0  ...      8760.0    5060.5337\n",
              "\n",
              "[1 rows x 10 columns]"
            ]
          },
          "metadata": {
            "tags": []
          }
        },
        {
          "output_type": "stream",
          "text": [
            "\n",
            "\n",
            "ModelMetricsMultinomial: gbm\n",
            "** Reported on train data. **\n",
            "\n",
            "MSE: 3.7159183344598766e-07\n",
            "RMSE: 0.0006095833277296777\n",
            "LogLoss: 0.00020455888711182695\n",
            "Mean Per-Class Error: 0.0\n",
            "\n",
            "Confusion Matrix: Row labels: Actual class; Column labels: Predicted class\n"
          ],
          "name": "stdout"
        },
        {
          "output_type": "display_data",
          "data": {
            "text/html": [
              "<div>\n",
              "<style scoped>\n",
              "    .dataframe tbody tr th:only-of-type {\n",
              "        vertical-align: middle;\n",
              "    }\n",
              "\n",
              "    .dataframe tbody tr th {\n",
              "        vertical-align: top;\n",
              "    }\n",
              "\n",
              "    .dataframe thead th {\n",
              "        text-align: right;\n",
              "    }\n",
              "</style>\n",
              "<table border=\"1\" class=\"dataframe\">\n",
              "  <thead>\n",
              "    <tr style=\"text-align: right;\">\n",
              "      <th></th>\n",
              "      <th>A</th>\n",
              "      <th>B</th>\n",
              "      <th>C</th>\n",
              "      <th>D</th>\n",
              "      <th>Error</th>\n",
              "      <th>Rate</th>\n",
              "    </tr>\n",
              "  </thead>\n",
              "  <tbody>\n",
              "    <tr>\n",
              "      <th>0</th>\n",
              "      <td>104469.0</td>\n",
              "      <td>0.0</td>\n",
              "      <td>0.0</td>\n",
              "      <td>0.0</td>\n",
              "      <td>0.0</td>\n",
              "      <td>0 / 104,469</td>\n",
              "    </tr>\n",
              "    <tr>\n",
              "      <th>1</th>\n",
              "      <td>0.0</td>\n",
              "      <td>104391.0</td>\n",
              "      <td>0.0</td>\n",
              "      <td>0.0</td>\n",
              "      <td>0.0</td>\n",
              "      <td>0 / 104,391</td>\n",
              "    </tr>\n",
              "    <tr>\n",
              "      <th>2</th>\n",
              "      <td>0.0</td>\n",
              "      <td>0.0</td>\n",
              "      <td>104566.0</td>\n",
              "      <td>0.0</td>\n",
              "      <td>0.0</td>\n",
              "      <td>0 / 104,566</td>\n",
              "    </tr>\n",
              "    <tr>\n",
              "      <th>3</th>\n",
              "      <td>0.0</td>\n",
              "      <td>0.0</td>\n",
              "      <td>0.0</td>\n",
              "      <td>104359.0</td>\n",
              "      <td>0.0</td>\n",
              "      <td>0 / 104,359</td>\n",
              "    </tr>\n",
              "    <tr>\n",
              "      <th>4</th>\n",
              "      <td>104469.0</td>\n",
              "      <td>104391.0</td>\n",
              "      <td>104566.0</td>\n",
              "      <td>104359.0</td>\n",
              "      <td>0.0</td>\n",
              "      <td>0 / 417,785</td>\n",
              "    </tr>\n",
              "  </tbody>\n",
              "</table>\n",
              "</div>"
            ],
            "text/plain": [
              "          A         B         C         D  Error         Rate\n",
              "0  104469.0       0.0       0.0       0.0    0.0  0 / 104,469\n",
              "1       0.0  104391.0       0.0       0.0    0.0  0 / 104,391\n",
              "2       0.0       0.0  104566.0       0.0    0.0  0 / 104,566\n",
              "3       0.0       0.0       0.0  104359.0    0.0  0 / 104,359\n",
              "4  104469.0  104391.0  104566.0  104359.0    0.0  0 / 417,785"
            ]
          },
          "metadata": {
            "tags": []
          }
        },
        {
          "output_type": "stream",
          "text": [
            "\n",
            "Top-4 Hit Ratios: \n"
          ],
          "name": "stdout"
        },
        {
          "output_type": "display_data",
          "data": {
            "text/html": [
              "<div>\n",
              "<style scoped>\n",
              "    .dataframe tbody tr th:only-of-type {\n",
              "        vertical-align: middle;\n",
              "    }\n",
              "\n",
              "    .dataframe tbody tr th {\n",
              "        vertical-align: top;\n",
              "    }\n",
              "\n",
              "    .dataframe thead th {\n",
              "        text-align: right;\n",
              "    }\n",
              "</style>\n",
              "<table border=\"1\" class=\"dataframe\">\n",
              "  <thead>\n",
              "    <tr style=\"text-align: right;\">\n",
              "      <th></th>\n",
              "      <th>k</th>\n",
              "      <th>hit_ratio</th>\n",
              "    </tr>\n",
              "  </thead>\n",
              "  <tbody>\n",
              "    <tr>\n",
              "      <th>0</th>\n",
              "      <td>1</td>\n",
              "      <td>1.0</td>\n",
              "    </tr>\n",
              "    <tr>\n",
              "      <th>1</th>\n",
              "      <td>2</td>\n",
              "      <td>1.0</td>\n",
              "    </tr>\n",
              "    <tr>\n",
              "      <th>2</th>\n",
              "      <td>3</td>\n",
              "      <td>1.0</td>\n",
              "    </tr>\n",
              "    <tr>\n",
              "      <th>3</th>\n",
              "      <td>4</td>\n",
              "      <td>1.0</td>\n",
              "    </tr>\n",
              "  </tbody>\n",
              "</table>\n",
              "</div>"
            ],
            "text/plain": [
              "   k  hit_ratio\n",
              "0  1        1.0\n",
              "1  2        1.0\n",
              "2  3        1.0\n",
              "3  4        1.0"
            ]
          },
          "metadata": {
            "tags": []
          }
        },
        {
          "output_type": "stream",
          "text": [
            "\n",
            "ModelMetricsMultinomial: gbm\n",
            "** Reported on cross-validation data. **\n",
            "\n",
            "MSE: 0.005560085386989817\n",
            "RMSE: 0.07456598009139166\n",
            "LogLoss: 0.021256644618053502\n",
            "Mean Per-Class Error: 0.00704626809574921\n",
            "\n",
            "Confusion Matrix: Row labels: Actual class; Column labels: Predicted class\n"
          ],
          "name": "stdout"
        },
        {
          "output_type": "display_data",
          "data": {
            "text/html": [
              "<div>\n",
              "<style scoped>\n",
              "    .dataframe tbody tr th:only-of-type {\n",
              "        vertical-align: middle;\n",
              "    }\n",
              "\n",
              "    .dataframe tbody tr th {\n",
              "        vertical-align: top;\n",
              "    }\n",
              "\n",
              "    .dataframe thead th {\n",
              "        text-align: right;\n",
              "    }\n",
              "</style>\n",
              "<table border=\"1\" class=\"dataframe\">\n",
              "  <thead>\n",
              "    <tr style=\"text-align: right;\">\n",
              "      <th></th>\n",
              "      <th>A</th>\n",
              "      <th>B</th>\n",
              "      <th>C</th>\n",
              "      <th>D</th>\n",
              "      <th>Error</th>\n",
              "      <th>Rate</th>\n",
              "    </tr>\n",
              "  </thead>\n",
              "  <tbody>\n",
              "    <tr>\n",
              "      <th>0</th>\n",
              "      <td>102824.0</td>\n",
              "      <td>549.0</td>\n",
              "      <td>1035.0</td>\n",
              "      <td>61.0</td>\n",
              "      <td>0.015746</td>\n",
              "      <td>1,645 / 104,469</td>\n",
              "    </tr>\n",
              "    <tr>\n",
              "      <th>1</th>\n",
              "      <td>603.0</td>\n",
              "      <td>103625.0</td>\n",
              "      <td>163.0</td>\n",
              "      <td>0.0</td>\n",
              "      <td>0.007338</td>\n",
              "      <td>766 / 104,391</td>\n",
              "    </tr>\n",
              "    <tr>\n",
              "      <th>2</th>\n",
              "      <td>296.0</td>\n",
              "      <td>26.0</td>\n",
              "      <td>104229.0</td>\n",
              "      <td>15.0</td>\n",
              "      <td>0.003223</td>\n",
              "      <td>337 / 104,566</td>\n",
              "    </tr>\n",
              "    <tr>\n",
              "      <th>3</th>\n",
              "      <td>193.0</td>\n",
              "      <td>0.0</td>\n",
              "      <td>3.0</td>\n",
              "      <td>104163.0</td>\n",
              "      <td>0.001878</td>\n",
              "      <td>196 / 104,359</td>\n",
              "    </tr>\n",
              "    <tr>\n",
              "      <th>4</th>\n",
              "      <td>103916.0</td>\n",
              "      <td>104200.0</td>\n",
              "      <td>105430.0</td>\n",
              "      <td>104239.0</td>\n",
              "      <td>0.007047</td>\n",
              "      <td>2,944 / 417,785</td>\n",
              "    </tr>\n",
              "  </tbody>\n",
              "</table>\n",
              "</div>"
            ],
            "text/plain": [
              "          A         B         C         D     Error             Rate\n",
              "0  102824.0     549.0    1035.0      61.0  0.015746  1,645 / 104,469\n",
              "1     603.0  103625.0     163.0       0.0  0.007338    766 / 104,391\n",
              "2     296.0      26.0  104229.0      15.0  0.003223    337 / 104,566\n",
              "3     193.0       0.0       3.0  104163.0  0.001878    196 / 104,359\n",
              "4  103916.0  104200.0  105430.0  104239.0  0.007047  2,944 / 417,785"
            ]
          },
          "metadata": {
            "tags": []
          }
        },
        {
          "output_type": "stream",
          "text": [
            "\n",
            "Top-4 Hit Ratios: \n"
          ],
          "name": "stdout"
        },
        {
          "output_type": "display_data",
          "data": {
            "text/html": [
              "<div>\n",
              "<style scoped>\n",
              "    .dataframe tbody tr th:only-of-type {\n",
              "        vertical-align: middle;\n",
              "    }\n",
              "\n",
              "    .dataframe tbody tr th {\n",
              "        vertical-align: top;\n",
              "    }\n",
              "\n",
              "    .dataframe thead th {\n",
              "        text-align: right;\n",
              "    }\n",
              "</style>\n",
              "<table border=\"1\" class=\"dataframe\">\n",
              "  <thead>\n",
              "    <tr style=\"text-align: right;\">\n",
              "      <th></th>\n",
              "      <th>k</th>\n",
              "      <th>hit_ratio</th>\n",
              "    </tr>\n",
              "  </thead>\n",
              "  <tbody>\n",
              "    <tr>\n",
              "      <th>0</th>\n",
              "      <td>1</td>\n",
              "      <td>0.992953</td>\n",
              "    </tr>\n",
              "    <tr>\n",
              "      <th>1</th>\n",
              "      <td>2</td>\n",
              "      <td>0.999696</td>\n",
              "    </tr>\n",
              "    <tr>\n",
              "      <th>2</th>\n",
              "      <td>3</td>\n",
              "      <td>0.999993</td>\n",
              "    </tr>\n",
              "    <tr>\n",
              "      <th>3</th>\n",
              "      <td>4</td>\n",
              "      <td>1.000000</td>\n",
              "    </tr>\n",
              "  </tbody>\n",
              "</table>\n",
              "</div>"
            ],
            "text/plain": [
              "   k  hit_ratio\n",
              "0  1   0.992953\n",
              "1  2   0.999696\n",
              "2  3   0.999993\n",
              "3  4   1.000000"
            ]
          },
          "metadata": {
            "tags": []
          }
        },
        {
          "output_type": "stream",
          "text": [
            "\n",
            "Cross-Validation Metrics Summary: \n"
          ],
          "name": "stdout"
        },
        {
          "output_type": "display_data",
          "data": {
            "text/html": [
              "<div>\n",
              "<style scoped>\n",
              "    .dataframe tbody tr th:only-of-type {\n",
              "        vertical-align: middle;\n",
              "    }\n",
              "\n",
              "    .dataframe tbody tr th {\n",
              "        vertical-align: top;\n",
              "    }\n",
              "\n",
              "    .dataframe thead th {\n",
              "        text-align: right;\n",
              "    }\n",
              "</style>\n",
              "<table border=\"1\" class=\"dataframe\">\n",
              "  <thead>\n",
              "    <tr style=\"text-align: right;\">\n",
              "      <th></th>\n",
              "      <th></th>\n",
              "      <th>mean</th>\n",
              "      <th>sd</th>\n",
              "      <th>cv_1_valid</th>\n",
              "      <th>cv_2_valid</th>\n",
              "      <th>cv_3_valid</th>\n",
              "      <th>cv_4_valid</th>\n",
              "      <th>cv_5_valid</th>\n",
              "    </tr>\n",
              "  </thead>\n",
              "  <tbody>\n",
              "    <tr>\n",
              "      <th>0</th>\n",
              "      <td>accuracy</td>\n",
              "      <td>0.9929533</td>\n",
              "      <td>3.8263536E-4</td>\n",
              "      <td>0.992532</td>\n",
              "      <td>0.9931663</td>\n",
              "      <td>0.99283123</td>\n",
              "      <td>0.9927355</td>\n",
              "      <td>0.9935014</td>\n",
              "    </tr>\n",
              "    <tr>\n",
              "      <th>1</th>\n",
              "      <td>err</td>\n",
              "      <td>0.0070466865</td>\n",
              "      <td>3.8263536E-4</td>\n",
              "      <td>0.007467956</td>\n",
              "      <td>0.0068336586</td>\n",
              "      <td>0.007168759</td>\n",
              "      <td>0.007264502</td>\n",
              "      <td>0.006498558</td>\n",
              "    </tr>\n",
              "    <tr>\n",
              "      <th>2</th>\n",
              "      <td>err_count</td>\n",
              "      <td>588.8</td>\n",
              "      <td>31.971863</td>\n",
              "      <td>624.0</td>\n",
              "      <td>571.0</td>\n",
              "      <td>599.0</td>\n",
              "      <td>607.0</td>\n",
              "      <td>543.0</td>\n",
              "    </tr>\n",
              "    <tr>\n",
              "      <th>3</th>\n",
              "      <td>logloss</td>\n",
              "      <td>0.021256644</td>\n",
              "      <td>4.644834E-4</td>\n",
              "      <td>0.021675285</td>\n",
              "      <td>0.021025255</td>\n",
              "      <td>0.0212294</td>\n",
              "      <td>0.021733703</td>\n",
              "      <td>0.02061958</td>\n",
              "    </tr>\n",
              "    <tr>\n",
              "      <th>4</th>\n",
              "      <td>max_per_class_error</td>\n",
              "      <td>0.015746264</td>\n",
              "      <td>0.0013080868</td>\n",
              "      <td>0.016636733</td>\n",
              "      <td>0.015569094</td>\n",
              "      <td>0.015570934</td>\n",
              "      <td>0.01718675</td>\n",
              "      <td>0.013767805</td>\n",
              "    </tr>\n",
              "    <tr>\n",
              "      <th>5</th>\n",
              "      <td>mean_per_class_accuracy</td>\n",
              "      <td>0.9929535</td>\n",
              "      <td>3.760225E-4</td>\n",
              "      <td>0.9925676</td>\n",
              "      <td>0.9931404</td>\n",
              "      <td>0.99281627</td>\n",
              "      <td>0.9927302</td>\n",
              "      <td>0.993513</td>\n",
              "    </tr>\n",
              "    <tr>\n",
              "      <th>6</th>\n",
              "      <td>mean_per_class_error</td>\n",
              "      <td>0.0070465268</td>\n",
              "      <td>3.760225E-4</td>\n",
              "      <td>0.007432428</td>\n",
              "      <td>0.0068596276</td>\n",
              "      <td>0.0071837287</td>\n",
              "      <td>0.0072698193</td>\n",
              "      <td>0.00648703</td>\n",
              "    </tr>\n",
              "    <tr>\n",
              "      <th>7</th>\n",
              "      <td>mse</td>\n",
              "      <td>0.005560085</td>\n",
              "      <td>2.1667968E-4</td>\n",
              "      <td>0.0057987613</td>\n",
              "      <td>0.0054577943</td>\n",
              "      <td>0.005640015</td>\n",
              "      <td>0.0056647495</td>\n",
              "      <td>0.0052391067</td>\n",
              "    </tr>\n",
              "    <tr>\n",
              "      <th>8</th>\n",
              "      <td>r2</td>\n",
              "      <td>0.9955509</td>\n",
              "      <td>1.7041854E-4</td>\n",
              "      <td>0.99537474</td>\n",
              "      <td>0.99562395</td>\n",
              "      <td>0.99548805</td>\n",
              "      <td>0.99545753</td>\n",
              "      <td>0.99581003</td>\n",
              "    </tr>\n",
              "    <tr>\n",
              "      <th>9</th>\n",
              "      <td>rmse</td>\n",
              "      <td>0.07455455</td>\n",
              "      <td>0.0014600019</td>\n",
              "      <td>0.0761496</td>\n",
              "      <td>0.07387689</td>\n",
              "      <td>0.075100034</td>\n",
              "      <td>0.07526453</td>\n",
              "      <td>0.072381675</td>\n",
              "    </tr>\n",
              "  </tbody>\n",
              "</table>\n",
              "</div>"
            ],
            "text/plain": [
              "                                    mean  ...    cv_4_valid    cv_5_valid\n",
              "0                 accuracy     0.9929533  ...     0.9927355     0.9935014\n",
              "1                      err  0.0070466865  ...   0.007264502   0.006498558\n",
              "2                err_count         588.8  ...         607.0         543.0\n",
              "3                  logloss   0.021256644  ...   0.021733703    0.02061958\n",
              "4      max_per_class_error   0.015746264  ...    0.01718675   0.013767805\n",
              "5  mean_per_class_accuracy     0.9929535  ...     0.9927302      0.993513\n",
              "6     mean_per_class_error  0.0070465268  ...  0.0072698193    0.00648703\n",
              "7                      mse   0.005560085  ...  0.0056647495  0.0052391067\n",
              "8                       r2     0.9955509  ...    0.99545753    0.99581003\n",
              "9                     rmse    0.07455455  ...    0.07526453   0.072381675\n",
              "\n",
              "[10 rows x 8 columns]"
            ]
          },
          "metadata": {
            "tags": []
          }
        },
        {
          "output_type": "stream",
          "text": [
            "\n",
            "Scoring History: \n"
          ],
          "name": "stdout"
        },
        {
          "output_type": "display_data",
          "data": {
            "text/html": [
              "<div>\n",
              "<style scoped>\n",
              "    .dataframe tbody tr th:only-of-type {\n",
              "        vertical-align: middle;\n",
              "    }\n",
              "\n",
              "    .dataframe tbody tr th {\n",
              "        vertical-align: top;\n",
              "    }\n",
              "\n",
              "    .dataframe thead th {\n",
              "        text-align: right;\n",
              "    }\n",
              "</style>\n",
              "<table border=\"1\" class=\"dataframe\">\n",
              "  <thead>\n",
              "    <tr style=\"text-align: right;\">\n",
              "      <th></th>\n",
              "      <th></th>\n",
              "      <th>timestamp</th>\n",
              "      <th>duration</th>\n",
              "      <th>number_of_trees</th>\n",
              "      <th>training_rmse</th>\n",
              "      <th>training_logloss</th>\n",
              "      <th>training_classification_error</th>\n",
              "    </tr>\n",
              "  </thead>\n",
              "  <tbody>\n",
              "    <tr>\n",
              "      <th>0</th>\n",
              "      <td></td>\n",
              "      <td>2020-04-04 15:44:21</td>\n",
              "      <td>7 min 34.976 sec</td>\n",
              "      <td>0.0</td>\n",
              "      <td>0.750000</td>\n",
              "      <td>1.386294</td>\n",
              "      <td>0.749852</td>\n",
              "    </tr>\n",
              "    <tr>\n",
              "      <th>1</th>\n",
              "      <td></td>\n",
              "      <td>2020-04-04 15:44:24</td>\n",
              "      <td>7 min 38.032 sec</td>\n",
              "      <td>5.0</td>\n",
              "      <td>0.461403</td>\n",
              "      <td>0.620243</td>\n",
              "      <td>0.035037</td>\n",
              "    </tr>\n",
              "    <tr>\n",
              "      <th>2</th>\n",
              "      <td></td>\n",
              "      <td>2020-04-04 15:44:28</td>\n",
              "      <td>7 min 41.631 sec</td>\n",
              "      <td>10.0</td>\n",
              "      <td>0.312398</td>\n",
              "      <td>0.364005</td>\n",
              "      <td>0.025745</td>\n",
              "    </tr>\n",
              "    <tr>\n",
              "      <th>3</th>\n",
              "      <td></td>\n",
              "      <td>2020-04-04 15:44:32</td>\n",
              "      <td>7 min 45.321 sec</td>\n",
              "      <td>15.0</td>\n",
              "      <td>0.220699</td>\n",
              "      <td>0.223831</td>\n",
              "      <td>0.020324</td>\n",
              "    </tr>\n",
              "    <tr>\n",
              "      <th>4</th>\n",
              "      <td></td>\n",
              "      <td>2020-04-04 15:44:36</td>\n",
              "      <td>7 min 49.268 sec</td>\n",
              "      <td>20.0</td>\n",
              "      <td>0.171520</td>\n",
              "      <td>0.151190</td>\n",
              "      <td>0.015314</td>\n",
              "    </tr>\n",
              "    <tr>\n",
              "      <th>5</th>\n",
              "      <td></td>\n",
              "      <td>2020-04-04 15:44:40</td>\n",
              "      <td>7 min 53.074 sec</td>\n",
              "      <td>25.0</td>\n",
              "      <td>0.133352</td>\n",
              "      <td>0.100140</td>\n",
              "      <td>0.010379</td>\n",
              "    </tr>\n",
              "    <tr>\n",
              "      <th>6</th>\n",
              "      <td></td>\n",
              "      <td>2020-04-04 15:44:43</td>\n",
              "      <td>7 min 56.966 sec</td>\n",
              "      <td>30.0</td>\n",
              "      <td>0.104721</td>\n",
              "      <td>0.065022</td>\n",
              "      <td>0.006625</td>\n",
              "    </tr>\n",
              "    <tr>\n",
              "      <th>7</th>\n",
              "      <td></td>\n",
              "      <td>2020-04-04 15:44:47</td>\n",
              "      <td>8 min  0.867 sec</td>\n",
              "      <td>35.0</td>\n",
              "      <td>0.084826</td>\n",
              "      <td>0.044570</td>\n",
              "      <td>0.003945</td>\n",
              "    </tr>\n",
              "    <tr>\n",
              "      <th>8</th>\n",
              "      <td></td>\n",
              "      <td>2020-04-04 15:44:51</td>\n",
              "      <td>8 min  4.601 sec</td>\n",
              "      <td>40.0</td>\n",
              "      <td>0.069586</td>\n",
              "      <td>0.033010</td>\n",
              "      <td>0.002090</td>\n",
              "    </tr>\n",
              "    <tr>\n",
              "      <th>9</th>\n",
              "      <td></td>\n",
              "      <td>2020-04-04 15:44:55</td>\n",
              "      <td>8 min  8.575 sec</td>\n",
              "      <td>45.0</td>\n",
              "      <td>0.054873</td>\n",
              "      <td>0.023765</td>\n",
              "      <td>0.000910</td>\n",
              "    </tr>\n",
              "    <tr>\n",
              "      <th>10</th>\n",
              "      <td></td>\n",
              "      <td>2020-04-04 15:44:59</td>\n",
              "      <td>8 min 12.421 sec</td>\n",
              "      <td>50.0</td>\n",
              "      <td>0.044718</td>\n",
              "      <td>0.017475</td>\n",
              "      <td>0.000419</td>\n",
              "    </tr>\n",
              "    <tr>\n",
              "      <th>11</th>\n",
              "      <td></td>\n",
              "      <td>2020-04-04 15:45:03</td>\n",
              "      <td>8 min 16.341 sec</td>\n",
              "      <td>55.0</td>\n",
              "      <td>0.035275</td>\n",
              "      <td>0.012864</td>\n",
              "      <td>0.000139</td>\n",
              "    </tr>\n",
              "    <tr>\n",
              "      <th>12</th>\n",
              "      <td></td>\n",
              "      <td>2020-04-04 15:45:07</td>\n",
              "      <td>8 min 20.077 sec</td>\n",
              "      <td>60.0</td>\n",
              "      <td>0.028401</td>\n",
              "      <td>0.009875</td>\n",
              "      <td>0.000048</td>\n",
              "    </tr>\n",
              "    <tr>\n",
              "      <th>13</th>\n",
              "      <td></td>\n",
              "      <td>2020-04-04 15:45:10</td>\n",
              "      <td>8 min 23.842 sec</td>\n",
              "      <td>65.0</td>\n",
              "      <td>0.021987</td>\n",
              "      <td>0.007383</td>\n",
              "      <td>0.000010</td>\n",
              "    </tr>\n",
              "    <tr>\n",
              "      <th>14</th>\n",
              "      <td></td>\n",
              "      <td>2020-04-04 15:45:14</td>\n",
              "      <td>8 min 27.613 sec</td>\n",
              "      <td>70.0</td>\n",
              "      <td>0.017011</td>\n",
              "      <td>0.005794</td>\n",
              "      <td>0.000002</td>\n",
              "    </tr>\n",
              "    <tr>\n",
              "      <th>15</th>\n",
              "      <td></td>\n",
              "      <td>2020-04-04 15:45:18</td>\n",
              "      <td>8 min 31.596 sec</td>\n",
              "      <td>75.0</td>\n",
              "      <td>0.012866</td>\n",
              "      <td>0.004378</td>\n",
              "      <td>0.000000</td>\n",
              "    </tr>\n",
              "    <tr>\n",
              "      <th>16</th>\n",
              "      <td></td>\n",
              "      <td>2020-04-04 15:45:22</td>\n",
              "      <td>8 min 35.330 sec</td>\n",
              "      <td>80.0</td>\n",
              "      <td>0.009852</td>\n",
              "      <td>0.003360</td>\n",
              "      <td>0.000000</td>\n",
              "    </tr>\n",
              "    <tr>\n",
              "      <th>17</th>\n",
              "      <td></td>\n",
              "      <td>2020-04-04 15:45:25</td>\n",
              "      <td>8 min 39.030 sec</td>\n",
              "      <td>85.0</td>\n",
              "      <td>0.007490</td>\n",
              "      <td>0.002516</td>\n",
              "      <td>0.000000</td>\n",
              "    </tr>\n",
              "    <tr>\n",
              "      <th>18</th>\n",
              "      <td></td>\n",
              "      <td>2020-04-04 15:45:29</td>\n",
              "      <td>8 min 42.614 sec</td>\n",
              "      <td>90.0</td>\n",
              "      <td>0.005823</td>\n",
              "      <td>0.001948</td>\n",
              "      <td>0.000000</td>\n",
              "    </tr>\n",
              "    <tr>\n",
              "      <th>19</th>\n",
              "      <td></td>\n",
              "      <td>2020-04-04 15:45:33</td>\n",
              "      <td>8 min 46.172 sec</td>\n",
              "      <td>95.0</td>\n",
              "      <td>0.004674</td>\n",
              "      <td>0.001535</td>\n",
              "      <td>0.000000</td>\n",
              "    </tr>\n",
              "  </tbody>\n",
              "</table>\n",
              "</div>"
            ],
            "text/plain": [
              "                timestamp  ... training_logloss  training_classification_error\n",
              "0     2020-04-04 15:44:21  ...         1.386294                       0.749852\n",
              "1     2020-04-04 15:44:24  ...         0.620243                       0.035037\n",
              "2     2020-04-04 15:44:28  ...         0.364005                       0.025745\n",
              "3     2020-04-04 15:44:32  ...         0.223831                       0.020324\n",
              "4     2020-04-04 15:44:36  ...         0.151190                       0.015314\n",
              "5     2020-04-04 15:44:40  ...         0.100140                       0.010379\n",
              "6     2020-04-04 15:44:43  ...         0.065022                       0.006625\n",
              "7     2020-04-04 15:44:47  ...         0.044570                       0.003945\n",
              "8     2020-04-04 15:44:51  ...         0.033010                       0.002090\n",
              "9     2020-04-04 15:44:55  ...         0.023765                       0.000910\n",
              "10    2020-04-04 15:44:59  ...         0.017475                       0.000419\n",
              "11    2020-04-04 15:45:03  ...         0.012864                       0.000139\n",
              "12    2020-04-04 15:45:07  ...         0.009875                       0.000048\n",
              "13    2020-04-04 15:45:10  ...         0.007383                       0.000010\n",
              "14    2020-04-04 15:45:14  ...         0.005794                       0.000002\n",
              "15    2020-04-04 15:45:18  ...         0.004378                       0.000000\n",
              "16    2020-04-04 15:45:22  ...         0.003360                       0.000000\n",
              "17    2020-04-04 15:45:25  ...         0.002516                       0.000000\n",
              "18    2020-04-04 15:45:29  ...         0.001948                       0.000000\n",
              "19    2020-04-04 15:45:33  ...         0.001535                       0.000000\n",
              "\n",
              "[20 rows x 7 columns]"
            ]
          },
          "metadata": {
            "tags": []
          }
        },
        {
          "output_type": "stream",
          "text": [
            "\n",
            "See the whole table with table.as_data_frame()\n",
            "\n",
            "Variable Importances: \n"
          ],
          "name": "stdout"
        },
        {
          "output_type": "display_data",
          "data": {
            "text/html": [
              "<div>\n",
              "<style scoped>\n",
              "    .dataframe tbody tr th:only-of-type {\n",
              "        vertical-align: middle;\n",
              "    }\n",
              "\n",
              "    .dataframe tbody tr th {\n",
              "        vertical-align: top;\n",
              "    }\n",
              "\n",
              "    .dataframe thead th {\n",
              "        text-align: right;\n",
              "    }\n",
              "</style>\n",
              "<table border=\"1\" class=\"dataframe\">\n",
              "  <thead>\n",
              "    <tr style=\"text-align: right;\">\n",
              "      <th></th>\n",
              "      <th>variable</th>\n",
              "      <th>relative_importance</th>\n",
              "      <th>scaled_importance</th>\n",
              "      <th>percentage</th>\n",
              "    </tr>\n",
              "  </thead>\n",
              "  <tbody>\n",
              "    <tr>\n",
              "      <th>0</th>\n",
              "      <td>r</td>\n",
              "      <td>503249.343750</td>\n",
              "      <td>1.000000</td>\n",
              "      <td>0.366682</td>\n",
              "    </tr>\n",
              "    <tr>\n",
              "      <th>1</th>\n",
              "      <td>ecg</td>\n",
              "      <td>415689.406250</td>\n",
              "      <td>0.826011</td>\n",
              "      <td>0.302883</td>\n",
              "    </tr>\n",
              "    <tr>\n",
              "      <th>2</th>\n",
              "      <td>gsr</td>\n",
              "      <td>259823.296875</td>\n",
              "      <td>0.516291</td>\n",
              "      <td>0.189315</td>\n",
              "    </tr>\n",
              "    <tr>\n",
              "      <th>3</th>\n",
              "      <td>eeg_fp1</td>\n",
              "      <td>25491.023438</td>\n",
              "      <td>0.050653</td>\n",
              "      <td>0.018573</td>\n",
              "    </tr>\n",
              "    <tr>\n",
              "      <th>4</th>\n",
              "      <td>eeg_fp2</td>\n",
              "      <td>21492.322266</td>\n",
              "      <td>0.042707</td>\n",
              "      <td>0.015660</td>\n",
              "    </tr>\n",
              "    <tr>\n",
              "      <th>5</th>\n",
              "      <td>eeg_f8</td>\n",
              "      <td>21220.755859</td>\n",
              "      <td>0.042167</td>\n",
              "      <td>0.015462</td>\n",
              "    </tr>\n",
              "    <tr>\n",
              "      <th>6</th>\n",
              "      <td>eeg_f3</td>\n",
              "      <td>20595.017578</td>\n",
              "      <td>0.040924</td>\n",
              "      <td>0.015006</td>\n",
              "    </tr>\n",
              "    <tr>\n",
              "      <th>7</th>\n",
              "      <td>eeg_f7</td>\n",
              "      <td>19986.546875</td>\n",
              "      <td>0.039715</td>\n",
              "      <td>0.014563</td>\n",
              "    </tr>\n",
              "    <tr>\n",
              "      <th>8</th>\n",
              "      <td>eeg_t3</td>\n",
              "      <td>9712.586914</td>\n",
              "      <td>0.019300</td>\n",
              "      <td>0.007077</td>\n",
              "    </tr>\n",
              "    <tr>\n",
              "      <th>9</th>\n",
              "      <td>eeg_c4</td>\n",
              "      <td>8576.305664</td>\n",
              "      <td>0.017042</td>\n",
              "      <td>0.006249</td>\n",
              "    </tr>\n",
              "    <tr>\n",
              "      <th>10</th>\n",
              "      <td>eeg_f4</td>\n",
              "      <td>8383.912109</td>\n",
              "      <td>0.016660</td>\n",
              "      <td>0.006109</td>\n",
              "    </tr>\n",
              "    <tr>\n",
              "      <th>11</th>\n",
              "      <td>eeg_c3</td>\n",
              "      <td>7642.880371</td>\n",
              "      <td>0.015187</td>\n",
              "      <td>0.005569</td>\n",
              "    </tr>\n",
              "    <tr>\n",
              "      <th>12</th>\n",
              "      <td>eeg_fz</td>\n",
              "      <td>7552.699707</td>\n",
              "      <td>0.015008</td>\n",
              "      <td>0.005503</td>\n",
              "    </tr>\n",
              "    <tr>\n",
              "      <th>13</th>\n",
              "      <td>eeg_pz</td>\n",
              "      <td>7392.719238</td>\n",
              "      <td>0.014690</td>\n",
              "      <td>0.005387</td>\n",
              "    </tr>\n",
              "    <tr>\n",
              "      <th>14</th>\n",
              "      <td>eeg_cz</td>\n",
              "      <td>6245.451660</td>\n",
              "      <td>0.012410</td>\n",
              "      <td>0.004551</td>\n",
              "    </tr>\n",
              "    <tr>\n",
              "      <th>15</th>\n",
              "      <td>eeg_t4</td>\n",
              "      <td>4355.973145</td>\n",
              "      <td>0.008656</td>\n",
              "      <td>0.003174</td>\n",
              "    </tr>\n",
              "    <tr>\n",
              "      <th>16</th>\n",
              "      <td>eeg_t5</td>\n",
              "      <td>4056.065918</td>\n",
              "      <td>0.008060</td>\n",
              "      <td>0.002955</td>\n",
              "    </tr>\n",
              "    <tr>\n",
              "      <th>17</th>\n",
              "      <td>eeg_p4</td>\n",
              "      <td>3939.009033</td>\n",
              "      <td>0.007827</td>\n",
              "      <td>0.002870</td>\n",
              "    </tr>\n",
              "    <tr>\n",
              "      <th>18</th>\n",
              "      <td>eeg_poz</td>\n",
              "      <td>3663.713623</td>\n",
              "      <td>0.007280</td>\n",
              "      <td>0.002669</td>\n",
              "    </tr>\n",
              "    <tr>\n",
              "      <th>19</th>\n",
              "      <td>eeg_o2</td>\n",
              "      <td>3603.572510</td>\n",
              "      <td>0.007161</td>\n",
              "      <td>0.002626</td>\n",
              "    </tr>\n",
              "  </tbody>\n",
              "</table>\n",
              "</div>"
            ],
            "text/plain": [
              "   variable  relative_importance  scaled_importance  percentage\n",
              "0         r        503249.343750           1.000000    0.366682\n",
              "1       ecg        415689.406250           0.826011    0.302883\n",
              "2       gsr        259823.296875           0.516291    0.189315\n",
              "3   eeg_fp1         25491.023438           0.050653    0.018573\n",
              "4   eeg_fp2         21492.322266           0.042707    0.015660\n",
              "5    eeg_f8         21220.755859           0.042167    0.015462\n",
              "6    eeg_f3         20595.017578           0.040924    0.015006\n",
              "7    eeg_f7         19986.546875           0.039715    0.014563\n",
              "8    eeg_t3          9712.586914           0.019300    0.007077\n",
              "9    eeg_c4          8576.305664           0.017042    0.006249\n",
              "10   eeg_f4          8383.912109           0.016660    0.006109\n",
              "11   eeg_c3          7642.880371           0.015187    0.005569\n",
              "12   eeg_fz          7552.699707           0.015008    0.005503\n",
              "13   eeg_pz          7392.719238           0.014690    0.005387\n",
              "14   eeg_cz          6245.451660           0.012410    0.004551\n",
              "15   eeg_t4          4355.973145           0.008656    0.003174\n",
              "16   eeg_t5          4056.065918           0.008060    0.002955\n",
              "17   eeg_p4          3939.009033           0.007827    0.002870\n",
              "18  eeg_poz          3663.713623           0.007280    0.002669\n",
              "19   eeg_o2          3603.572510           0.007161    0.002626"
            ]
          },
          "metadata": {
            "tags": []
          }
        },
        {
          "output_type": "stream",
          "text": [
            "\n",
            "See the whole table with table.as_data_frame()\n"
          ],
          "name": "stdout"
        },
        {
          "output_type": "execute_result",
          "data": {
            "text/plain": [
              ""
            ]
          },
          "metadata": {
            "tags": []
          },
          "execution_count": 96
        }
      ]
    },
    {
      "cell_type": "code",
      "metadata": {
        "id": "BcqBNd__qReP",
        "colab_type": "code",
        "outputId": "1d478cf1-1d0a-4569-f139-4082ff4d9d2b",
        "colab": {
          "base_uri": "https://localhost:8080/",
          "height": 334
        }
      },
      "source": [
        "show_metrics(aml.leader, balanced_X_test, balanced_y_test, 'H2O Automl XGboost', sklearn_model=False)"
      ],
      "execution_count": 97,
      "outputs": [
        {
          "output_type": "stream",
          "text": [
            "Parse progress: |█████████████████████████████████████████████████████████| 100%\n",
            "gbm prediction progress: |████████████████████████████████████████████████| 100%\n"
          ],
          "name": "stdout"
        },
        {
          "output_type": "display_data",
          "data": {
            "text/html": [
              "<div>\n",
              "<style scoped>\n",
              "    .dataframe tbody tr th:only-of-type {\n",
              "        vertical-align: middle;\n",
              "    }\n",
              "\n",
              "    .dataframe tbody tr th {\n",
              "        vertical-align: top;\n",
              "    }\n",
              "\n",
              "    .dataframe thead th {\n",
              "        text-align: right;\n",
              "    }\n",
              "</style>\n",
              "<table border=\"1\" class=\"dataframe\">\n",
              "  <thead>\n",
              "    <tr style=\"text-align: right;\">\n",
              "      <th></th>\n",
              "      <th>precision</th>\n",
              "      <th>recall</th>\n",
              "      <th>f1-score</th>\n",
              "      <th>support</th>\n",
              "    </tr>\n",
              "  </thead>\n",
              "  <tbody>\n",
              "    <tr>\n",
              "      <th>A</th>\n",
              "      <td>0.991953</td>\n",
              "      <td>0.987504</td>\n",
              "      <td>0.989724</td>\n",
              "      <td>26089.000000</td>\n",
              "    </tr>\n",
              "    <tr>\n",
              "      <th>B</th>\n",
              "      <td>0.995255</td>\n",
              "      <td>0.993924</td>\n",
              "      <td>0.994589</td>\n",
              "      <td>26167.000000</td>\n",
              "    </tr>\n",
              "    <tr>\n",
              "      <th>C</th>\n",
              "      <td>0.990829</td>\n",
              "      <td>0.997576</td>\n",
              "      <td>0.994191</td>\n",
              "      <td>25992.000000</td>\n",
              "    </tr>\n",
              "    <tr>\n",
              "      <th>D</th>\n",
              "      <td>0.999580</td>\n",
              "      <td>0.998626</td>\n",
              "      <td>0.999103</td>\n",
              "      <td>26199.000000</td>\n",
              "    </tr>\n",
              "    <tr>\n",
              "      <th>accuracy</th>\n",
              "      <td>0.994409</td>\n",
              "      <td>0.994409</td>\n",
              "      <td>0.994409</td>\n",
              "      <td>0.994409</td>\n",
              "    </tr>\n",
              "    <tr>\n",
              "      <th>macro avg</th>\n",
              "      <td>0.994404</td>\n",
              "      <td>0.994408</td>\n",
              "      <td>0.994402</td>\n",
              "      <td>104447.000000</td>\n",
              "    </tr>\n",
              "    <tr>\n",
              "      <th>weighted avg</th>\n",
              "      <td>0.994413</td>\n",
              "      <td>0.994409</td>\n",
              "      <td>0.994407</td>\n",
              "      <td>104447.000000</td>\n",
              "    </tr>\n",
              "  </tbody>\n",
              "</table>\n",
              "</div>"
            ],
            "text/plain": [
              "              precision    recall  f1-score        support\n",
              "A              0.991953  0.987504  0.989724   26089.000000\n",
              "B              0.995255  0.993924  0.994589   26167.000000\n",
              "C              0.990829  0.997576  0.994191   25992.000000\n",
              "D              0.999580  0.998626  0.999103   26199.000000\n",
              "accuracy       0.994409  0.994409  0.994409       0.994409\n",
              "macro avg      0.994404  0.994408  0.994402  104447.000000\n",
              "weighted avg   0.994413  0.994409  0.994407  104447.000000"
            ]
          },
          "metadata": {
            "tags": []
          }
        },
        {
          "output_type": "stream",
          "text": [
            "\n",
            "Log loss: 0.016490571722121514 | F1 Score: 0.994401513365968\n"
          ],
          "name": "stdout"
        }
      ]
    },
    {
      "cell_type": "code",
      "metadata": {
        "id": "NpPb2rMTBADe",
        "colab_type": "code",
        "colab": {}
      },
      "source": [
        ""
      ],
      "execution_count": 0,
      "outputs": []
    },
    {
      "cell_type": "code",
      "metadata": {
        "id": "BRBMGXRRBAKK",
        "colab_type": "code",
        "colab": {}
      },
      "source": [
        ""
      ],
      "execution_count": 0,
      "outputs": []
    },
    {
      "cell_type": "code",
      "metadata": {
        "id": "Adw-g6CtBAOT",
        "colab_type": "code",
        "colab": {}
      },
      "source": [
        ""
      ],
      "execution_count": 0,
      "outputs": []
    },
    {
      "cell_type": "code",
      "metadata": {
        "id": "VvA3N4cry1jW",
        "colab_type": "code",
        "colab": {}
      },
      "source": [
        "# aml.leader.predict(h2o.H2OFrame(balanced_X_test.head())).as_data_frame().drop('predict', axis=1).idxmax(axis=1)\n",
        "\n",
        "events = ['A','B','C', 'D']\n",
        "\n",
        "pd.get_dummies(pd.Categorical(aml.predict(h2o.H2OFrame(test_df)).as_data_frame(), categories=events)).rename(columns=str).reset_index().rename(columns={'index': 'id'}).to_csv('test_result.csv', index=False)"
      ],
      "execution_count": 0,
      "outputs": []
    },
    {
      "cell_type": "code",
      "metadata": {
        "id": "obHqwz-QpDlD",
        "colab_type": "code",
        "colab": {}
      },
      "source": [
        "get_kaggle_json()\n",
        "!kaggle competitions submit -c reducing-commercial-aviation-fatalities -f test_result.csv -m \"Submission AutoML H2o\""
      ],
      "execution_count": 0,
      "outputs": []
    }
  ]
}