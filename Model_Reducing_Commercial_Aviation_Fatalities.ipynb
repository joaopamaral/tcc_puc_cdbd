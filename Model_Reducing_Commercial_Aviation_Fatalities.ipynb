{
  "nbformat": 4,
  "nbformat_minor": 0,
  "metadata": {
    "colab": {
      "name": "Treinanco Modelo - Reducing Commercial Aviation Fatalities",
      "provenance": [],
      "toc_visible": true,
      "machine_shape": "hm",
      "include_colab_link": true
    },
    "kernelspec": {
      "name": "python3",
      "display_name": "Python 3"
    },
    "widgets": {
      "application/vnd.jupyter.widget-state+json": {
        "5dfd79fa3b2b47609c6a03c7ac3fb299": {
          "model_module": "@jupyter-widgets/controls",
          "model_name": "HBoxModel",
          "state": {
            "_view_name": "HBoxView",
            "_dom_classes": [],
            "_model_name": "HBoxModel",
            "_view_module": "@jupyter-widgets/controls",
            "_model_module_version": "1.5.0",
            "_view_count": null,
            "_view_module_version": "1.5.0",
            "box_style": "",
            "layout": "IPY_MODEL_fd18a2990d1845a18a111a2c5e42a3e4",
            "_model_module": "@jupyter-widgets/controls",
            "children": [
              "IPY_MODEL_a41cf73ac4b5428b9dfc31106b5ef5cd",
              "IPY_MODEL_b7c40896c9454d7aa005a5ebf2b2f76a"
            ]
          }
        },
        "fd18a2990d1845a18a111a2c5e42a3e4": {
          "model_module": "@jupyter-widgets/base",
          "model_name": "LayoutModel",
          "state": {
            "_view_name": "LayoutView",
            "grid_template_rows": null,
            "right": null,
            "justify_content": null,
            "_view_module": "@jupyter-widgets/base",
            "overflow": null,
            "_model_module_version": "1.2.0",
            "_view_count": null,
            "flex_flow": null,
            "width": null,
            "min_width": null,
            "border": null,
            "align_items": null,
            "bottom": null,
            "_model_module": "@jupyter-widgets/base",
            "top": null,
            "grid_column": null,
            "overflow_y": null,
            "overflow_x": null,
            "grid_auto_flow": null,
            "grid_area": null,
            "grid_template_columns": null,
            "flex": null,
            "_model_name": "LayoutModel",
            "justify_items": null,
            "grid_row": null,
            "max_height": null,
            "align_content": null,
            "visibility": null,
            "align_self": null,
            "height": null,
            "min_height": null,
            "padding": null,
            "grid_auto_rows": null,
            "grid_gap": null,
            "max_width": null,
            "order": null,
            "_view_module_version": "1.2.0",
            "grid_template_areas": null,
            "object_position": null,
            "object_fit": null,
            "grid_auto_columns": null,
            "margin": null,
            "display": null,
            "left": null
          }
        },
        "a41cf73ac4b5428b9dfc31106b5ef5cd": {
          "model_module": "@jupyter-widgets/controls",
          "model_name": "IntProgressModel",
          "state": {
            "_view_name": "ProgressView",
            "style": "IPY_MODEL_0569b42da6334258b7415593829cf07b",
            "_dom_classes": [],
            "description": "",
            "_model_name": "IntProgressModel",
            "bar_style": "success",
            "max": 1,
            "_view_module": "@jupyter-widgets/controls",
            "_model_module_version": "1.5.0",
            "value": 1,
            "_view_count": null,
            "_view_module_version": "1.5.0",
            "orientation": "horizontal",
            "min": 0,
            "description_tooltip": null,
            "_model_module": "@jupyter-widgets/controls",
            "layout": "IPY_MODEL_317b78c6aab34cfe9690cca42cffa83a"
          }
        },
        "b7c40896c9454d7aa005a5ebf2b2f76a": {
          "model_module": "@jupyter-widgets/controls",
          "model_name": "HTMLModel",
          "state": {
            "_view_name": "HTMLView",
            "style": "IPY_MODEL_9a828487f9824380b8c0675b6f4bb4a6",
            "_dom_classes": [],
            "description": "",
            "_model_name": "HTMLModel",
            "placeholder": "​",
            "_view_module": "@jupyter-widgets/controls",
            "_model_module_version": "1.5.0",
            "value": " 1/? [00:50&lt;00:00, 50.68s/it]",
            "_view_count": null,
            "_view_module_version": "1.5.0",
            "description_tooltip": null,
            "_model_module": "@jupyter-widgets/controls",
            "layout": "IPY_MODEL_1aa48a3b14c74c2f91f624d32932b936"
          }
        },
        "0569b42da6334258b7415593829cf07b": {
          "model_module": "@jupyter-widgets/controls",
          "model_name": "ProgressStyleModel",
          "state": {
            "_view_name": "StyleView",
            "_model_name": "ProgressStyleModel",
            "description_width": "initial",
            "_view_module": "@jupyter-widgets/base",
            "_model_module_version": "1.5.0",
            "_view_count": null,
            "_view_module_version": "1.2.0",
            "bar_color": null,
            "_model_module": "@jupyter-widgets/controls"
          }
        },
        "317b78c6aab34cfe9690cca42cffa83a": {
          "model_module": "@jupyter-widgets/base",
          "model_name": "LayoutModel",
          "state": {
            "_view_name": "LayoutView",
            "grid_template_rows": null,
            "right": null,
            "justify_content": null,
            "_view_module": "@jupyter-widgets/base",
            "overflow": null,
            "_model_module_version": "1.2.0",
            "_view_count": null,
            "flex_flow": null,
            "width": null,
            "min_width": null,
            "border": null,
            "align_items": null,
            "bottom": null,
            "_model_module": "@jupyter-widgets/base",
            "top": null,
            "grid_column": null,
            "overflow_y": null,
            "overflow_x": null,
            "grid_auto_flow": null,
            "grid_area": null,
            "grid_template_columns": null,
            "flex": null,
            "_model_name": "LayoutModel",
            "justify_items": null,
            "grid_row": null,
            "max_height": null,
            "align_content": null,
            "visibility": null,
            "align_self": null,
            "height": null,
            "min_height": null,
            "padding": null,
            "grid_auto_rows": null,
            "grid_gap": null,
            "max_width": null,
            "order": null,
            "_view_module_version": "1.2.0",
            "grid_template_areas": null,
            "object_position": null,
            "object_fit": null,
            "grid_auto_columns": null,
            "margin": null,
            "display": null,
            "left": null
          }
        },
        "9a828487f9824380b8c0675b6f4bb4a6": {
          "model_module": "@jupyter-widgets/controls",
          "model_name": "DescriptionStyleModel",
          "state": {
            "_view_name": "StyleView",
            "_model_name": "DescriptionStyleModel",
            "description_width": "",
            "_view_module": "@jupyter-widgets/base",
            "_model_module_version": "1.5.0",
            "_view_count": null,
            "_view_module_version": "1.2.0",
            "_model_module": "@jupyter-widgets/controls"
          }
        },
        "1aa48a3b14c74c2f91f624d32932b936": {
          "model_module": "@jupyter-widgets/base",
          "model_name": "LayoutModel",
          "state": {
            "_view_name": "LayoutView",
            "grid_template_rows": null,
            "right": null,
            "justify_content": null,
            "_view_module": "@jupyter-widgets/base",
            "overflow": null,
            "_model_module_version": "1.2.0",
            "_view_count": null,
            "flex_flow": null,
            "width": null,
            "min_width": null,
            "border": null,
            "align_items": null,
            "bottom": null,
            "_model_module": "@jupyter-widgets/base",
            "top": null,
            "grid_column": null,
            "overflow_y": null,
            "overflow_x": null,
            "grid_auto_flow": null,
            "grid_area": null,
            "grid_template_columns": null,
            "flex": null,
            "_model_name": "LayoutModel",
            "justify_items": null,
            "grid_row": null,
            "max_height": null,
            "align_content": null,
            "visibility": null,
            "align_self": null,
            "height": null,
            "min_height": null,
            "padding": null,
            "grid_auto_rows": null,
            "grid_gap": null,
            "max_width": null,
            "order": null,
            "_view_module_version": "1.2.0",
            "grid_template_areas": null,
            "object_position": null,
            "object_fit": null,
            "grid_auto_columns": null,
            "margin": null,
            "display": null,
            "left": null
          }
        },
        "598d39f822244a0faf9088ef4344efdf": {
          "model_module": "@jupyter-widgets/controls",
          "model_name": "HBoxModel",
          "state": {
            "_view_name": "HBoxView",
            "_dom_classes": [],
            "_model_name": "HBoxModel",
            "_view_module": "@jupyter-widgets/controls",
            "_model_module_version": "1.5.0",
            "_view_count": null,
            "_view_module_version": "1.5.0",
            "box_style": "",
            "layout": "IPY_MODEL_1fb3f98534c2447d8d40aa0743322578",
            "_model_module": "@jupyter-widgets/controls",
            "children": [
              "IPY_MODEL_75e737ff7be549468ecc256aeee2312d",
              "IPY_MODEL_a5532895c5944dc490f8b2467f30d679"
            ]
          }
        },
        "1fb3f98534c2447d8d40aa0743322578": {
          "model_module": "@jupyter-widgets/base",
          "model_name": "LayoutModel",
          "state": {
            "_view_name": "LayoutView",
            "grid_template_rows": null,
            "right": null,
            "justify_content": null,
            "_view_module": "@jupyter-widgets/base",
            "overflow": null,
            "_model_module_version": "1.2.0",
            "_view_count": null,
            "flex_flow": null,
            "width": null,
            "min_width": null,
            "border": null,
            "align_items": null,
            "bottom": null,
            "_model_module": "@jupyter-widgets/base",
            "top": null,
            "grid_column": null,
            "overflow_y": null,
            "overflow_x": null,
            "grid_auto_flow": null,
            "grid_area": null,
            "grid_template_columns": null,
            "flex": null,
            "_model_name": "LayoutModel",
            "justify_items": null,
            "grid_row": null,
            "max_height": null,
            "align_content": null,
            "visibility": null,
            "align_self": null,
            "height": null,
            "min_height": null,
            "padding": null,
            "grid_auto_rows": null,
            "grid_gap": null,
            "max_width": null,
            "order": null,
            "_view_module_version": "1.2.0",
            "grid_template_areas": null,
            "object_position": null,
            "object_fit": null,
            "grid_auto_columns": null,
            "margin": null,
            "display": null,
            "left": null
          }
        },
        "75e737ff7be549468ecc256aeee2312d": {
          "model_module": "@jupyter-widgets/controls",
          "model_name": "IntProgressModel",
          "state": {
            "_view_name": "ProgressView",
            "style": "IPY_MODEL_cdd469b846d5404cafbe11da7172763b",
            "_dom_classes": [],
            "description": "",
            "_model_name": "IntProgressModel",
            "bar_style": "success",
            "max": 1,
            "_view_module": "@jupyter-widgets/controls",
            "_model_module_version": "1.5.0",
            "value": 1,
            "_view_count": null,
            "_view_module_version": "1.5.0",
            "orientation": "horizontal",
            "min": 0,
            "description_tooltip": null,
            "_model_module": "@jupyter-widgets/controls",
            "layout": "IPY_MODEL_41308b5452004bfdbbba3196e90309fa"
          }
        },
        "a5532895c5944dc490f8b2467f30d679": {
          "model_module": "@jupyter-widgets/controls",
          "model_name": "HTMLModel",
          "state": {
            "_view_name": "HTMLView",
            "style": "IPY_MODEL_1ba9a1b3387a49a680ba20aecff6280b",
            "_dom_classes": [],
            "description": "",
            "_model_name": "HTMLModel",
            "placeholder": "​",
            "_view_module": "@jupyter-widgets/controls",
            "_model_module_version": "1.5.0",
            "value": " 180/? [04:26&lt;00:00,  1.48s/it]",
            "_view_count": null,
            "_view_module_version": "1.5.0",
            "description_tooltip": null,
            "_model_module": "@jupyter-widgets/controls",
            "layout": "IPY_MODEL_5a439411f0624f7a9fb08c8515033bf0"
          }
        },
        "cdd469b846d5404cafbe11da7172763b": {
          "model_module": "@jupyter-widgets/controls",
          "model_name": "ProgressStyleModel",
          "state": {
            "_view_name": "StyleView",
            "_model_name": "ProgressStyleModel",
            "description_width": "initial",
            "_view_module": "@jupyter-widgets/base",
            "_model_module_version": "1.5.0",
            "_view_count": null,
            "_view_module_version": "1.2.0",
            "bar_color": null,
            "_model_module": "@jupyter-widgets/controls"
          }
        },
        "41308b5452004bfdbbba3196e90309fa": {
          "model_module": "@jupyter-widgets/base",
          "model_name": "LayoutModel",
          "state": {
            "_view_name": "LayoutView",
            "grid_template_rows": null,
            "right": null,
            "justify_content": null,
            "_view_module": "@jupyter-widgets/base",
            "overflow": null,
            "_model_module_version": "1.2.0",
            "_view_count": null,
            "flex_flow": null,
            "width": null,
            "min_width": null,
            "border": null,
            "align_items": null,
            "bottom": null,
            "_model_module": "@jupyter-widgets/base",
            "top": null,
            "grid_column": null,
            "overflow_y": null,
            "overflow_x": null,
            "grid_auto_flow": null,
            "grid_area": null,
            "grid_template_columns": null,
            "flex": null,
            "_model_name": "LayoutModel",
            "justify_items": null,
            "grid_row": null,
            "max_height": null,
            "align_content": null,
            "visibility": null,
            "align_self": null,
            "height": null,
            "min_height": null,
            "padding": null,
            "grid_auto_rows": null,
            "grid_gap": null,
            "max_width": null,
            "order": null,
            "_view_module_version": "1.2.0",
            "grid_template_areas": null,
            "object_position": null,
            "object_fit": null,
            "grid_auto_columns": null,
            "margin": null,
            "display": null,
            "left": null
          }
        },
        "1ba9a1b3387a49a680ba20aecff6280b": {
          "model_module": "@jupyter-widgets/controls",
          "model_name": "DescriptionStyleModel",
          "state": {
            "_view_name": "StyleView",
            "_model_name": "DescriptionStyleModel",
            "description_width": "",
            "_view_module": "@jupyter-widgets/base",
            "_model_module_version": "1.5.0",
            "_view_count": null,
            "_view_module_version": "1.2.0",
            "_model_module": "@jupyter-widgets/controls"
          }
        },
        "5a439411f0624f7a9fb08c8515033bf0": {
          "model_module": "@jupyter-widgets/base",
          "model_name": "LayoutModel",
          "state": {
            "_view_name": "LayoutView",
            "grid_template_rows": null,
            "right": null,
            "justify_content": null,
            "_view_module": "@jupyter-widgets/base",
            "overflow": null,
            "_model_module_version": "1.2.0",
            "_view_count": null,
            "flex_flow": null,
            "width": null,
            "min_width": null,
            "border": null,
            "align_items": null,
            "bottom": null,
            "_model_module": "@jupyter-widgets/base",
            "top": null,
            "grid_column": null,
            "overflow_y": null,
            "overflow_x": null,
            "grid_auto_flow": null,
            "grid_area": null,
            "grid_template_columns": null,
            "flex": null,
            "_model_name": "LayoutModel",
            "justify_items": null,
            "grid_row": null,
            "max_height": null,
            "align_content": null,
            "visibility": null,
            "align_self": null,
            "height": null,
            "min_height": null,
            "padding": null,
            "grid_auto_rows": null,
            "grid_gap": null,
            "max_width": null,
            "order": null,
            "_view_module_version": "1.2.0",
            "grid_template_areas": null,
            "object_position": null,
            "object_fit": null,
            "grid_auto_columns": null,
            "margin": null,
            "display": null,
            "left": null
          }
        },
        "e1bd45e782a94161b3886871bde9a27c": {
          "model_module": "@jupyter-widgets/controls",
          "model_name": "HBoxModel",
          "state": {
            "_view_name": "HBoxView",
            "_dom_classes": [],
            "_model_name": "HBoxModel",
            "_view_module": "@jupyter-widgets/controls",
            "_model_module_version": "1.5.0",
            "_view_count": null,
            "_view_module_version": "1.5.0",
            "box_style": "",
            "layout": "IPY_MODEL_b314a4b9349f497fb26fd71ad34528d0",
            "_model_module": "@jupyter-widgets/controls",
            "children": [
              "IPY_MODEL_83b0fe1fb07f4528ba9ff94406d2671a",
              "IPY_MODEL_261c602fef5d4bcca756e39ecefa7c11"
            ]
          }
        },
        "b314a4b9349f497fb26fd71ad34528d0": {
          "model_module": "@jupyter-widgets/base",
          "model_name": "LayoutModel",
          "state": {
            "_view_name": "LayoutView",
            "grid_template_rows": null,
            "right": null,
            "justify_content": null,
            "_view_module": "@jupyter-widgets/base",
            "overflow": null,
            "_model_module_version": "1.2.0",
            "_view_count": null,
            "flex_flow": null,
            "width": null,
            "min_width": null,
            "border": null,
            "align_items": null,
            "bottom": null,
            "_model_module": "@jupyter-widgets/base",
            "top": null,
            "grid_column": null,
            "overflow_y": null,
            "overflow_x": null,
            "grid_auto_flow": null,
            "grid_area": null,
            "grid_template_columns": null,
            "flex": null,
            "_model_name": "LayoutModel",
            "justify_items": null,
            "grid_row": null,
            "max_height": null,
            "align_content": null,
            "visibility": null,
            "align_self": null,
            "height": null,
            "min_height": null,
            "padding": null,
            "grid_auto_rows": null,
            "grid_gap": null,
            "max_width": null,
            "order": null,
            "_view_module_version": "1.2.0",
            "grid_template_areas": null,
            "object_position": null,
            "object_fit": null,
            "grid_auto_columns": null,
            "margin": null,
            "display": null,
            "left": null
          }
        },
        "83b0fe1fb07f4528ba9ff94406d2671a": {
          "model_module": "@jupyter-widgets/controls",
          "model_name": "IntProgressModel",
          "state": {
            "_view_name": "ProgressView",
            "style": "IPY_MODEL_089544cb705f48129c1b88f04d7eb785",
            "_dom_classes": [],
            "description": "",
            "_model_name": "IntProgressModel",
            "bar_style": "success",
            "max": 1,
            "_view_module": "@jupyter-widgets/controls",
            "_model_module_version": "1.5.0",
            "value": 1,
            "_view_count": null,
            "_view_module_version": "1.5.0",
            "orientation": "horizontal",
            "min": 0,
            "description_tooltip": null,
            "_model_module": "@jupyter-widgets/controls",
            "layout": "IPY_MODEL_2693ca9ec2c34df48946430ca42948d7"
          }
        },
        "261c602fef5d4bcca756e39ecefa7c11": {
          "model_module": "@jupyter-widgets/controls",
          "model_name": "HTMLModel",
          "state": {
            "_view_name": "HTMLView",
            "style": "IPY_MODEL_5d402e86df2e4e1b9d3fe564e508f358",
            "_dom_classes": [],
            "description": "",
            "_model_name": "HTMLModel",
            "placeholder": "​",
            "_view_module": "@jupyter-widgets/controls",
            "_model_module_version": "1.5.0",
            "value": " 18/? [11:38&lt;00:00, 38.79s/it]",
            "_view_count": null,
            "_view_module_version": "1.5.0",
            "description_tooltip": null,
            "_model_module": "@jupyter-widgets/controls",
            "layout": "IPY_MODEL_8d5d20f5b3e14ea19ec1296cfa385c20"
          }
        },
        "089544cb705f48129c1b88f04d7eb785": {
          "model_module": "@jupyter-widgets/controls",
          "model_name": "ProgressStyleModel",
          "state": {
            "_view_name": "StyleView",
            "_model_name": "ProgressStyleModel",
            "description_width": "initial",
            "_view_module": "@jupyter-widgets/base",
            "_model_module_version": "1.5.0",
            "_view_count": null,
            "_view_module_version": "1.2.0",
            "bar_color": null,
            "_model_module": "@jupyter-widgets/controls"
          }
        },
        "2693ca9ec2c34df48946430ca42948d7": {
          "model_module": "@jupyter-widgets/base",
          "model_name": "LayoutModel",
          "state": {
            "_view_name": "LayoutView",
            "grid_template_rows": null,
            "right": null,
            "justify_content": null,
            "_view_module": "@jupyter-widgets/base",
            "overflow": null,
            "_model_module_version": "1.2.0",
            "_view_count": null,
            "flex_flow": null,
            "width": null,
            "min_width": null,
            "border": null,
            "align_items": null,
            "bottom": null,
            "_model_module": "@jupyter-widgets/base",
            "top": null,
            "grid_column": null,
            "overflow_y": null,
            "overflow_x": null,
            "grid_auto_flow": null,
            "grid_area": null,
            "grid_template_columns": null,
            "flex": null,
            "_model_name": "LayoutModel",
            "justify_items": null,
            "grid_row": null,
            "max_height": null,
            "align_content": null,
            "visibility": null,
            "align_self": null,
            "height": null,
            "min_height": null,
            "padding": null,
            "grid_auto_rows": null,
            "grid_gap": null,
            "max_width": null,
            "order": null,
            "_view_module_version": "1.2.0",
            "grid_template_areas": null,
            "object_position": null,
            "object_fit": null,
            "grid_auto_columns": null,
            "margin": null,
            "display": null,
            "left": null
          }
        },
        "5d402e86df2e4e1b9d3fe564e508f358": {
          "model_module": "@jupyter-widgets/controls",
          "model_name": "DescriptionStyleModel",
          "state": {
            "_view_name": "StyleView",
            "_model_name": "DescriptionStyleModel",
            "description_width": "",
            "_view_module": "@jupyter-widgets/base",
            "_model_module_version": "1.5.0",
            "_view_count": null,
            "_view_module_version": "1.2.0",
            "_model_module": "@jupyter-widgets/controls"
          }
        },
        "8d5d20f5b3e14ea19ec1296cfa385c20": {
          "model_module": "@jupyter-widgets/base",
          "model_name": "LayoutModel",
          "state": {
            "_view_name": "LayoutView",
            "grid_template_rows": null,
            "right": null,
            "justify_content": null,
            "_view_module": "@jupyter-widgets/base",
            "overflow": null,
            "_model_module_version": "1.2.0",
            "_view_count": null,
            "flex_flow": null,
            "width": null,
            "min_width": null,
            "border": null,
            "align_items": null,
            "bottom": null,
            "_model_module": "@jupyter-widgets/base",
            "top": null,
            "grid_column": null,
            "overflow_y": null,
            "overflow_x": null,
            "grid_auto_flow": null,
            "grid_area": null,
            "grid_template_columns": null,
            "flex": null,
            "_model_name": "LayoutModel",
            "justify_items": null,
            "grid_row": null,
            "max_height": null,
            "align_content": null,
            "visibility": null,
            "align_self": null,
            "height": null,
            "min_height": null,
            "padding": null,
            "grid_auto_rows": null,
            "grid_gap": null,
            "max_width": null,
            "order": null,
            "_view_module_version": "1.2.0",
            "grid_template_areas": null,
            "object_position": null,
            "object_fit": null,
            "grid_auto_columns": null,
            "margin": null,
            "display": null,
            "left": null
          }
        }
      }
    }
  },
  "cells": [
    {
      "cell_type": "markdown",
      "metadata": {
        "id": "view-in-github",
        "colab_type": "text"
      },
      "source": [
        "<a href=\"https://colab.research.google.com/github/joaopamaral/tcc_puc_cdbd/blob/master/Model_Reducing_Commercial_Aviation_Fatalities.ipynb\" target=\"_parent\"><img src=\"https://colab.research.google.com/assets/colab-badge.svg\" alt=\"Open In Colab\"/></a>"
      ]
    },
    {
      "cell_type": "markdown",
      "metadata": {
        "id": "A-7YrEb1wzRQ",
        "colab_type": "text"
      },
      "source": [
        "# Treinando Modelo - Reduzindo Fatalidades na Aviação Comercial"
      ]
    },
    {
      "cell_type": "markdown",
      "metadata": {
        "id": "AIrDALMSFqXv",
        "colab_type": "text"
      },
      "source": [
        "## Importando bibliotecas utilizadas"
      ]
    },
    {
      "cell_type": "code",
      "metadata": {
        "id": "hlcYeFz-Sgvf",
        "colab_type": "code",
        "outputId": "d4875ed0-76ee-4e2a-efa3-1587301aa5d0",
        "colab": {
          "base_uri": "https://localhost:8080/",
          "height": 51
        }
      },
      "source": [
        "import pandas as pd\n",
        "import numpy as np\n",
        "import matplotlib.pyplot as plt\n",
        "import seaborn as sns\n",
        "import sys, os\n",
        "from sklearn.model_selection import train_test_split\n",
        "from tqdm.auto import tqdm\n",
        "\n",
        "IN_COLAB = 'google.colab' in sys.modules\n",
        "\n",
        "%matplotlib inline\n",
        "plt.style.use('ggplot')\n",
        "\n",
        "import warnings\n",
        "warnings.simplefilter(action='ignore', category=FutureWarning)"
      ],
      "execution_count": 1,
      "outputs": [
        {
          "output_type": "stream",
          "text": [
            "/usr/local/lib/python3.6/dist-packages/statsmodels/tools/_testing.py:19: FutureWarning: pandas.util.testing is deprecated. Use the functions in the public API at pandas.testing instead.\n",
            "  import pandas.util.testing as tm\n"
          ],
          "name": "stderr"
        }
      ]
    },
    {
      "cell_type": "code",
      "metadata": {
        "id": "_hM16Erib2Us",
        "colab_type": "code",
        "outputId": "c88eeda0-6aaa-48dc-cfd6-82cdc6e41acb",
        "colab": {
          "base_uri": "https://localhost:8080/",
          "height": 122
        }
      },
      "source": [
        "# Montando google drive caso esteja executando no google colab\n",
        "if IN_COLAB:\n",
        "    from google.colab import drive\n",
        "    drive.mount('/gdrive')"
      ],
      "execution_count": 2,
      "outputs": [
        {
          "output_type": "stream",
          "text": [
            "Go to this URL in a browser: https://accounts.google.com/o/oauth2/auth?client_id=947318989803-6bn6qk8qdgf4n4g3pfee6491hc0brc4i.apps.googleusercontent.com&redirect_uri=urn%3aietf%3awg%3aoauth%3a2.0%3aoob&response_type=code&scope=email%20https%3a%2f%2fwww.googleapis.com%2fauth%2fdocs.test%20https%3a%2f%2fwww.googleapis.com%2fauth%2fdrive%20https%3a%2f%2fwww.googleapis.com%2fauth%2fdrive.photos.readonly%20https%3a%2f%2fwww.googleapis.com%2fauth%2fpeopleapi.readonly\n",
            "\n",
            "Enter your authorization code:\n",
            "··········\n",
            "Mounted at /gdrive\n"
          ],
          "name": "stdout"
        }
      ]
    },
    {
      "cell_type": "code",
      "metadata": {
        "id": "ofImb1TUWmGc",
        "colab_type": "code",
        "colab": {}
      },
      "source": [
        "gdrive_kaggle_dir = '/gdrive/My Drive/Kaggle'\n",
        "competition_name = 'reducing-commercial-aviation-fatalities'\n",
        "api_gdrive_credential_location = f'{gdrive_kaggle_dir}/kaggle.json'\n",
        "data_gdrive_dir = f'{gdrive_kaggle_dir}/{competition_name}'\n",
        "tcc_dir = '/gdrive/My Drive/Pos Graduação/TCC'\n",
        "mlflow_dir = f'{tcc_dir}/mlruns'\n",
        "h20_models = f'{tcc_dir}/automl'\n",
        "mlflow_models_path = f'{tcc_dir}/models'"
      ],
      "execution_count": 0,
      "outputs": []
    },
    {
      "cell_type": "markdown",
      "metadata": {
        "id": "U283JS6Mx8uV",
        "colab_type": "text"
      },
      "source": [
        "## Carregando os dados"
      ]
    },
    {
      "cell_type": "code",
      "metadata": {
        "id": "YjcuNoKQb8hI",
        "colab_type": "code",
        "colab": {}
      },
      "source": [
        "if IN_COLAB and not os.path.exists(competition_name):\n",
        "    !cp -r '{data_gdrive_dir}' ."
      ],
      "execution_count": 0,
      "outputs": []
    },
    {
      "cell_type": "code",
      "metadata": {
        "id": "aYBrsjQdF6hG",
        "colab_type": "code",
        "colab": {}
      },
      "source": [
        "eeg_columns = ['eeg_fp1', 'eeg_f7', 'eeg_f8', 'eeg_t4', 'eeg_t6', \n",
        "               'eeg_t5', 'eeg_t3', 'eeg_fp2', 'eeg_o1', 'eeg_p3', \n",
        "               'eeg_pz', 'eeg_f3', 'eeg_fz', 'eeg_f4',\t'eeg_c4', \n",
        "               'eeg_p4', 'eeg_poz', 'eeg_c3', 'eeg_cz', 'eeg_o2']\n",
        "\n",
        "numeric_features = [*eeg_columns, 'ecg', 'r', 'gsr']\n",
        "categorical_features = ['event']"
      ],
      "execution_count": 0,
      "outputs": []
    },
    {
      "cell_type": "code",
      "metadata": {
        "id": "GXUr5K9iXTZW",
        "colab_type": "code",
        "colab": {}
      },
      "source": [
        "# Realizando a leitura dos dados salvos após a limpeza\n",
        "train_df = pd.read_parquet(f'{competition_name}/train_balanced.parquet')"
      ],
      "execution_count": 0,
      "outputs": []
    },
    {
      "cell_type": "code",
      "metadata": {
        "id": "ZSqV4w45dukf",
        "colab_type": "code",
        "outputId": "df5d3225-b53a-4c1b-de72-01af1b028f47",
        "colab": {
          "base_uri": "https://localhost:8080/",
          "height": 224
        }
      },
      "source": [
        "train_df.head()"
      ],
      "execution_count": 7,
      "outputs": [
        {
          "output_type": "execute_result",
          "data": {
            "text/html": [
              "<div>\n",
              "<style scoped>\n",
              "    .dataframe tbody tr th:only-of-type {\n",
              "        vertical-align: middle;\n",
              "    }\n",
              "\n",
              "    .dataframe tbody tr th {\n",
              "        vertical-align: top;\n",
              "    }\n",
              "\n",
              "    .dataframe thead th {\n",
              "        text-align: right;\n",
              "    }\n",
              "</style>\n",
              "<table border=\"1\" class=\"dataframe\">\n",
              "  <thead>\n",
              "    <tr style=\"text-align: right;\">\n",
              "      <th></th>\n",
              "      <th>eeg_fp1</th>\n",
              "      <th>eeg_f7</th>\n",
              "      <th>eeg_f8</th>\n",
              "      <th>eeg_t4</th>\n",
              "      <th>eeg_t6</th>\n",
              "      <th>eeg_t5</th>\n",
              "      <th>eeg_t3</th>\n",
              "      <th>eeg_fp2</th>\n",
              "      <th>eeg_o1</th>\n",
              "      <th>eeg_p3</th>\n",
              "      <th>eeg_pz</th>\n",
              "      <th>eeg_f3</th>\n",
              "      <th>eeg_fz</th>\n",
              "      <th>eeg_f4</th>\n",
              "      <th>eeg_c4</th>\n",
              "      <th>eeg_p4</th>\n",
              "      <th>eeg_poz</th>\n",
              "      <th>eeg_c3</th>\n",
              "      <th>eeg_cz</th>\n",
              "      <th>eeg_o2</th>\n",
              "      <th>ecg</th>\n",
              "      <th>r</th>\n",
              "      <th>gsr</th>\n",
              "      <th>event</th>\n",
              "    </tr>\n",
              "  </thead>\n",
              "  <tbody>\n",
              "    <tr>\n",
              "      <th>0</th>\n",
              "      <td>-0.792237</td>\n",
              "      <td>0.831934</td>\n",
              "      <td>-9.429030</td>\n",
              "      <td>-4.17883</td>\n",
              "      <td>-1.58939</td>\n",
              "      <td>5.67909</td>\n",
              "      <td>1.763630</td>\n",
              "      <td>-2.098780</td>\n",
              "      <td>2.96651</td>\n",
              "      <td>1.44328</td>\n",
              "      <td>-3.94931</td>\n",
              "      <td>-2.22939</td>\n",
              "      <td>-4.573080</td>\n",
              "      <td>-8.084340</td>\n",
              "      <td>-8.46484</td>\n",
              "      <td>-4.68844</td>\n",
              "      <td>-4.750770</td>\n",
              "      <td>-2.04203</td>\n",
              "      <td>-4.60896</td>\n",
              "      <td>1.837780</td>\n",
              "      <td>9322.370117</td>\n",
              "      <td>815.594971</td>\n",
              "      <td>0.000000</td>\n",
              "      <td>A</td>\n",
              "    </tr>\n",
              "    <tr>\n",
              "      <th>1</th>\n",
              "      <td>5.937200</td>\n",
              "      <td>5.026230</td>\n",
              "      <td>-0.933735</td>\n",
              "      <td>-1.19951</td>\n",
              "      <td>4.79854</td>\n",
              "      <td>-1.96581</td>\n",
              "      <td>1.134890</td>\n",
              "      <td>4.274110</td>\n",
              "      <td>2.21295</td>\n",
              "      <td>4.60106</td>\n",
              "      <td>1.61440</td>\n",
              "      <td>5.25442</td>\n",
              "      <td>4.693770</td>\n",
              "      <td>2.867810</td>\n",
              "      <td>2.75299</td>\n",
              "      <td>8.24299</td>\n",
              "      <td>0.721092</td>\n",
              "      <td>3.08044</td>\n",
              "      <td>4.83091</td>\n",
              "      <td>3.794880</td>\n",
              "      <td>5931.060059</td>\n",
              "      <td>830.568970</td>\n",
              "      <td>1453.670044</td>\n",
              "      <td>A</td>\n",
              "    </tr>\n",
              "    <tr>\n",
              "      <th>2</th>\n",
              "      <td>-1.162280</td>\n",
              "      <td>0.260127</td>\n",
              "      <td>-5.989480</td>\n",
              "      <td>-3.46853</td>\n",
              "      <td>-3.87440</td>\n",
              "      <td>3.96828</td>\n",
              "      <td>0.728967</td>\n",
              "      <td>-4.655380</td>\n",
              "      <td>1.64105</td>\n",
              "      <td>-1.29032</td>\n",
              "      <td>-5.34865</td>\n",
              "      <td>-1.59114</td>\n",
              "      <td>-0.350429</td>\n",
              "      <td>-1.959580</td>\n",
              "      <td>-1.04339</td>\n",
              "      <td>-3.01729</td>\n",
              "      <td>-2.019750</td>\n",
              "      <td>-2.43368</td>\n",
              "      <td>-2.89067</td>\n",
              "      <td>-0.602369</td>\n",
              "      <td>9320.519531</td>\n",
              "      <td>815.533997</td>\n",
              "      <td>0.000000</td>\n",
              "      <td>A</td>\n",
              "    </tr>\n",
              "    <tr>\n",
              "      <th>3</th>\n",
              "      <td>-10.467600</td>\n",
              "      <td>-8.344960</td>\n",
              "      <td>-4.106620</td>\n",
              "      <td>-3.58671</td>\n",
              "      <td>-5.99199</td>\n",
              "      <td>-6.09401</td>\n",
              "      <td>-8.098010</td>\n",
              "      <td>-13.164800</td>\n",
              "      <td>-8.42648</td>\n",
              "      <td>-8.25574</td>\n",
              "      <td>-8.85742</td>\n",
              "      <td>-8.31783</td>\n",
              "      <td>-10.007400</td>\n",
              "      <td>-4.956020</td>\n",
              "      <td>-6.94528</td>\n",
              "      <td>-10.07500</td>\n",
              "      <td>-9.700760</td>\n",
              "      <td>-6.47439</td>\n",
              "      <td>-5.58930</td>\n",
              "      <td>-10.150300</td>\n",
              "      <td>9293.780273</td>\n",
              "      <td>816.421997</td>\n",
              "      <td>0.000000</td>\n",
              "      <td>A</td>\n",
              "    </tr>\n",
              "    <tr>\n",
              "      <th>4</th>\n",
              "      <td>-15.538500</td>\n",
              "      <td>-4.782070</td>\n",
              "      <td>-25.117800</td>\n",
              "      <td>-14.71600</td>\n",
              "      <td>-14.40480</td>\n",
              "      <td>-5.53229</td>\n",
              "      <td>-0.526621</td>\n",
              "      <td>-34.102798</td>\n",
              "      <td>-7.38440</td>\n",
              "      <td>-3.33520</td>\n",
              "      <td>-7.56394</td>\n",
              "      <td>-11.75630</td>\n",
              "      <td>-15.780400</td>\n",
              "      <td>-25.708401</td>\n",
              "      <td>-13.23830</td>\n",
              "      <td>-13.04150</td>\n",
              "      <td>-5.686500</td>\n",
              "      <td>-2.66797</td>\n",
              "      <td>-3.96213</td>\n",
              "      <td>-9.862170</td>\n",
              "      <td>8765.589844</td>\n",
              "      <td>814.518982</td>\n",
              "      <td>0.000000</td>\n",
              "      <td>A</td>\n",
              "    </tr>\n",
              "  </tbody>\n",
              "</table>\n",
              "</div>"
            ],
            "text/plain": [
              "     eeg_fp1    eeg_f7     eeg_f8  ...           r          gsr  event\n",
              "0  -0.792237  0.831934  -9.429030  ...  815.594971     0.000000      A\n",
              "1   5.937200  5.026230  -0.933735  ...  830.568970  1453.670044      A\n",
              "2  -1.162280  0.260127  -5.989480  ...  815.533997     0.000000      A\n",
              "3 -10.467600 -8.344960  -4.106620  ...  816.421997     0.000000      A\n",
              "4 -15.538500 -4.782070 -25.117800  ...  814.518982     0.000000      A\n",
              "\n",
              "[5 rows x 24 columns]"
            ]
          },
          "metadata": {
            "tags": []
          },
          "execution_count": 7
        }
      ]
    },
    {
      "cell_type": "code",
      "metadata": {
        "id": "B0vAanMBFqYF",
        "colab_type": "code",
        "outputId": "008500a0-cf8f-440d-e060-656688d2d8ee",
        "colab": {
          "base_uri": "https://localhost:8080/",
          "height": 34
        }
      },
      "source": [
        "print(f'Quantidade de entradas: {train_df.shape[0]}')"
      ],
      "execution_count": 8,
      "outputs": [
        {
          "output_type": "stream",
          "text": [
            "Quantidade de entradas: 522232\n"
          ],
          "name": "stdout"
        }
      ]
    },
    {
      "cell_type": "code",
      "metadata": {
        "id": "eYJSlhj5ijoT",
        "colab_type": "code",
        "colab": {}
      },
      "source": [
        "features = numeric_features\n",
        "target = 'event'"
      ],
      "execution_count": 0,
      "outputs": []
    },
    {
      "cell_type": "markdown",
      "metadata": {
        "id": "Fm8bTzvoyGs5",
        "colab_type": "text"
      },
      "source": [
        "## Separando os dados de Treinamento/Validação e Testes"
      ]
    },
    {
      "cell_type": "code",
      "metadata": {
        "colab_type": "code",
        "id": "h-oAIzMfeBEi",
        "colab": {}
      },
      "source": [
        "# Separando os dados balanceados de treinamento/validação e testes\n",
        "balanced_X_train, balanced_X_test, balanced_y_train, balanced_y_test = train_test_split(\n",
        "    train_df[features], train_df[target], test_size=0.20, random_state=42)"
      ],
      "execution_count": 0,
      "outputs": []
    },
    {
      "cell_type": "code",
      "metadata": {
        "colab_type": "code",
        "outputId": "fa88442f-ca0c-4d64-952b-6edc4b968e38",
        "id": "Of114ngTeC9a",
        "colab": {
          "base_uri": "https://localhost:8080/",
          "height": 299
        }
      },
      "source": [
        "# Visualizando a separação dos dados\n",
        "fig, ax = plt.subplots(1, 3, figsize=(15, 4), sharey=True)\n",
        "\n",
        "order = ['A', 'B', 'C', 'D']\n",
        "sns.countplot(train_df[target], order=order, ax=ax[0]).set_title('Dados Completos');\n",
        "sns.countplot(balanced_y_train, order=order, ax=ax[1]).set_title('Dados Trainamento/Validação');\n",
        "sns.countplot(balanced_y_test, order=order, ax=ax[2]).set_title('Dados Teste');"
      ],
      "execution_count": 11,
      "outputs": [
        {
          "output_type": "display_data",
          "data": {
            "image/png": "[encoded data removed]",
            "text/plain": [
              "<Figure size 1080x288 with 3 Axes>"
            ]
          },
          "metadata": {
            "tags": [],
            "needs_background": "light"
          }
        }
      ]
    },
    {
      "cell_type": "markdown",
      "metadata": {
        "id": "Y4xD7j9KZSxo",
        "colab_type": "text"
      },
      "source": [
        "## Importando bibliotecas dos modelos utilizados"
      ]
    },
    {
      "cell_type": "code",
      "metadata": {
        "id": "j7C8tA7hZXvA",
        "colab_type": "code",
        "colab": {}
      },
      "source": [
        "from sklearn.pipeline import Pipeline\n",
        "from sklearn.model_selection import GridSearchCV\n",
        "from sklearn.ensemble import RandomForestClassifier\n",
        "from sklearn.linear_model import LogisticRegression\n",
        "from sklearn.tree import DecisionTreeClassifier\n",
        "import lightgbm as lgb"
      ],
      "execution_count": 0,
      "outputs": []
    },
    {
      "cell_type": "markdown",
      "metadata": {
        "id": "1YygOnC3aQ_2",
        "colab_type": "text"
      },
      "source": [
        "### Importando/Instalando MLFlow"
      ]
    },
    {
      "cell_type": "code",
      "metadata": {
        "id": "LdOgByMZaUVW",
        "colab_type": "code",
        "colab": {
          "base_uri": "https://localhost:8080/",
          "height": 306
        },
        "outputId": "b45bdfe4-1e8b-416a-b398-5ed7d1e4d83c"
      },
      "source": [
        "# Importando bibliotecas necessárias (instalando no colab, pois esse pacote não é instalado por default)\n",
        "if IN_COLAB:\n",
        "    !pip install -q -U mlflow\n",
        "import mlflow\n",
        "import mlflow.sklearn\n",
        "\n",
        "if IN_COLAB:\n",
        "    mlflow.set_tracking_uri(f'{mlflow_dir}')"
      ],
      "execution_count": 13,
      "outputs": [
        {
          "output_type": "stream",
          "text": [
            "\u001b[K     |████████████████████████████████| 16.0MB 131kB/s \n",
            "\u001b[K     |████████████████████████████████| 460kB 49.3MB/s \n",
            "\u001b[K     |████████████████████████████████| 153kB 47.9MB/s \n",
            "\u001b[K     |████████████████████████████████| 6.0MB 34.8MB/s \n",
            "\u001b[K     |████████████████████████████████| 51kB 6.9MB/s \n",
            "\u001b[K     |████████████████████████████████| 1.1MB 34.2MB/s \n",
            "\u001b[K     |████████████████████████████████| 92kB 10.2MB/s \n",
            "\u001b[K     |████████████████████████████████| 81kB 10.0MB/s \n",
            "\u001b[K     |████████████████████████████████| 71kB 9.6MB/s \n",
            "\u001b[K     |████████████████████████████████| 204kB 59.0MB/s \n",
            "\u001b[K     |████████████████████████████████| 81kB 10.8MB/s \n",
            "\u001b[?25h  Building wheel for prometheus-flask-exporter (setup.py) ... \u001b[?25l\u001b[?25hdone\n",
            "  Building wheel for sqlalchemy (setup.py) ... \u001b[?25l\u001b[?25hdone\n",
            "  Building wheel for databricks-cli (setup.py) ... \u001b[?25l\u001b[?25hdone\n",
            "  Building wheel for alembic (setup.py) ... \u001b[?25l\u001b[?25hdone\n",
            "  Building wheel for simplejson (setup.py) ... \u001b[?25l\u001b[?25hdone\n",
            "  Building wheel for querystring-parser (setup.py) ... \u001b[?25l\u001b[?25hdone\n"
          ],
          "name": "stdout"
        }
      ]
    },
    {
      "cell_type": "markdown",
      "metadata": {
        "id": "hr9yzzmZFmUK",
        "colab_type": "text"
      },
      "source": [
        "### Importando/Instalando h20"
      ]
    },
    {
      "cell_type": "code",
      "metadata": {
        "id": "3W7cix3fFsdh",
        "colab_type": "code",
        "colab": {
          "base_uri": "https://localhost:8080/",
          "height": 51
        },
        "outputId": "78f7be88-522d-4e4c-df6f-7d83c30079a5"
      },
      "source": [
        "if IN_COLAB:\n",
        "    !pip install -q h2o\n",
        "\n",
        "# Importando bibliotecas h20\n",
        "import h2o\n",
        "from h2o.automl import H2OAutoML, get_leaderboard"
      ],
      "execution_count": 14,
      "outputs": [
        {
          "output_type": "stream",
          "text": [
            "\u001b[K     |████████████████████████████████| 129.5MB 39kB/s \n",
            "\u001b[?25h  Building wheel for h2o (setup.py) ... \u001b[?25l\u001b[?25hdone\n"
          ],
          "name": "stdout"
        }
      ]
    },
    {
      "cell_type": "markdown",
      "metadata": {
        "id": "QPuj_8XaGTZu",
        "colab_type": "text"
      },
      "source": [
        "## Avaliando melhores modelos com GridSearch e CrossValidation"
      ]
    },
    {
      "cell_type": "code",
      "metadata": {
        "id": "zeyjX3Hl6o1E",
        "colab_type": "code",
        "outputId": "72e11a9b-b500-4fd5-90a7-b2dd5c214578",
        "colab": {
          "base_uri": "https://localhost:8080/",
          "height": 204
        }
      },
      "source": [
        "# Definição do Pipeline\n",
        "pipe = Pipeline([('classifier', RandomForestClassifier())])\n",
        "\n",
        "# Definição do espaço de busca\n",
        "search_space = [{'classifier': [LogisticRegression()]},\n",
        "                {'classifier': [DecisionTreeClassifier()]},\n",
        "                {'classifier': [RandomForestClassifier()],\n",
        "                 'classifier__n_estimators': [50, 100, 200]},\n",
        "                {'classifier': [lgb.LGBMClassifier()],\n",
        "                 'classifier__n_estimators': [100, 200]}]\n",
        "\n",
        "# Inicialização do GridSearchCV\n",
        "grid_clf = GridSearchCV(pipe, search_space, cv=5, \n",
        "                        verbose=10, n_jobs=-1, \n",
        "                        scoring=['accuracy', \n",
        "                                 'f1_macro', \n",
        "                                 'neg_log_loss'], \n",
        "                        refit='neg_log_loss')\n",
        "\n",
        "# Execução/Treinamento\n",
        "best_model = grid_clf.fit(balanced_X_train, balanced_y_train)"
      ],
      "execution_count": 15,
      "outputs": [
        {
          "output_type": "stream",
          "text": [
            "Fitting 5 folds for each of 7 candidates, totalling 35 fits\n"
          ],
          "name": "stdout"
        },
        {
          "output_type": "stream",
          "text": [
            "[Parallel(n_jobs=-1)]: Using backend LokyBackend with 40 concurrent workers.\n",
            "[Parallel(n_jobs=-1)]: Done   4 out of  35 | elapsed:   33.9s remaining:  4.4min\n",
            "[Parallel(n_jobs=-1)]: Done   8 out of  35 | elapsed:   34.7s remaining:  2.0min\n",
            "[Parallel(n_jobs=-1)]: Done  12 out of  35 | elapsed:   56.6s remaining:  1.8min\n",
            "[Parallel(n_jobs=-1)]: Done  16 out of  35 | elapsed:  1.5min remaining:  1.8min\n",
            "[Parallel(n_jobs=-1)]: Done  20 out of  35 | elapsed:  1.6min remaining:  1.2min\n",
            "[Parallel(n_jobs=-1)]: Done  24 out of  35 | elapsed:  3.3min remaining:  1.5min\n",
            "[Parallel(n_jobs=-1)]: Done  28 out of  35 | elapsed:  5.9min remaining:  1.5min\n",
            "[Parallel(n_jobs=-1)]: Done  32 out of  35 | elapsed: 10.7min remaining:  1.0min\n",
            "[Parallel(n_jobs=-1)]: Done  35 out of  35 | elapsed: 11.0min finished\n"
          ],
          "name": "stderr"
        }
      ]
    },
    {
      "cell_type": "code",
      "metadata": {
        "id": "TfQZ05wdGhkk",
        "colab_type": "code",
        "outputId": "d92124b7-03a3-461c-ca2d-d961cb693eaa",
        "colab": {
          "base_uri": "https://localhost:8080/",
          "height": 405
        }
      },
      "source": [
        "grid_search_result_df = pd.DataFrame(\n",
        "    best_model.cv_results_).sort_values('rank_test_neg_log_loss')\n",
        "grid_search_result_df.to_excel('grid_search_result.xlsx')\n",
        "grid_search_result_df"
      ],
      "execution_count": 16,
      "outputs": [
        {
          "output_type": "execute_result",
          "data": {
            "text/html": [
              "<div>\n",
              "<style scoped>\n",
              "    .dataframe tbody tr th:only-of-type {\n",
              "        vertical-align: middle;\n",
              "    }\n",
              "\n",
              "    .dataframe tbody tr th {\n",
              "        vertical-align: top;\n",
              "    }\n",
              "\n",
              "    .dataframe thead th {\n",
              "        text-align: right;\n",
              "    }\n",
              "</style>\n",
              "<table border=\"1\" class=\"dataframe\">\n",
              "  <thead>\n",
              "    <tr style=\"text-align: right;\">\n",
              "      <th></th>\n",
              "      <th>mean_fit_time</th>\n",
              "      <th>std_fit_time</th>\n",
              "      <th>mean_score_time</th>\n",
              "      <th>std_score_time</th>\n",
              "      <th>param_classifier</th>\n",
              "      <th>param_classifier__n_estimators</th>\n",
              "      <th>params</th>\n",
              "      <th>split0_test_accuracy</th>\n",
              "      <th>split1_test_accuracy</th>\n",
              "      <th>split2_test_accuracy</th>\n",
              "      <th>split3_test_accuracy</th>\n",
              "      <th>split4_test_accuracy</th>\n",
              "      <th>mean_test_accuracy</th>\n",
              "      <th>std_test_accuracy</th>\n",
              "      <th>rank_test_accuracy</th>\n",
              "      <th>split0_test_f1_macro</th>\n",
              "      <th>split1_test_f1_macro</th>\n",
              "      <th>split2_test_f1_macro</th>\n",
              "      <th>split3_test_f1_macro</th>\n",
              "      <th>split4_test_f1_macro</th>\n",
              "      <th>mean_test_f1_macro</th>\n",
              "      <th>std_test_f1_macro</th>\n",
              "      <th>rank_test_f1_macro</th>\n",
              "      <th>split0_test_neg_log_loss</th>\n",
              "      <th>split1_test_neg_log_loss</th>\n",
              "      <th>split2_test_neg_log_loss</th>\n",
              "      <th>split3_test_neg_log_loss</th>\n",
              "      <th>split4_test_neg_log_loss</th>\n",
              "      <th>mean_test_neg_log_loss</th>\n",
              "      <th>std_test_neg_log_loss</th>\n",
              "      <th>rank_test_neg_log_loss</th>\n",
              "    </tr>\n",
              "  </thead>\n",
              "  <tbody>\n",
              "    <tr>\n",
              "      <th>4</th>\n",
              "      <td>633.618697</td>\n",
              "      <td>5.795493</td>\n",
              "      <td>11.552373</td>\n",
              "      <td>0.028079</td>\n",
              "      <td>RandomForestClassifier(bootstrap=True, ccp_alp...</td>\n",
              "      <td>200</td>\n",
              "      <td>{'classifier': RandomForestClassifier(bootstra...</td>\n",
              "      <td>0.973742</td>\n",
              "      <td>0.973288</td>\n",
              "      <td>0.974137</td>\n",
              "      <td>0.973264</td>\n",
              "      <td>0.973228</td>\n",
              "      <td>0.973532</td>\n",
              "      <td>0.000356</td>\n",
              "      <td>1</td>\n",
              "      <td>0.973690</td>\n",
              "      <td>0.973249</td>\n",
              "      <td>0.974103</td>\n",
              "      <td>0.973212</td>\n",
              "      <td>0.973177</td>\n",
              "      <td>0.973486</td>\n",
              "      <td>0.000360</td>\n",
              "      <td>1</td>\n",
              "      <td>-0.134448</td>\n",
              "      <td>-0.136491</td>\n",
              "      <td>-0.135835</td>\n",
              "      <td>-0.135104</td>\n",
              "      <td>-0.135105</td>\n",
              "      <td>-0.135396</td>\n",
              "      <td>0.000701</td>\n",
              "      <td>1</td>\n",
              "    </tr>\n",
              "    <tr>\n",
              "      <th>3</th>\n",
              "      <td>341.809483</td>\n",
              "      <td>11.240088</td>\n",
              "      <td>6.379347</td>\n",
              "      <td>0.062299</td>\n",
              "      <td>RandomForestClassifier(bootstrap=True, ccp_alp...</td>\n",
              "      <td>100</td>\n",
              "      <td>{'classifier': RandomForestClassifier(bootstra...</td>\n",
              "      <td>0.973336</td>\n",
              "      <td>0.972677</td>\n",
              "      <td>0.973886</td>\n",
              "      <td>0.973216</td>\n",
              "      <td>0.973156</td>\n",
              "      <td>0.973254</td>\n",
              "      <td>0.000387</td>\n",
              "      <td>3</td>\n",
              "      <td>0.973282</td>\n",
              "      <td>0.972643</td>\n",
              "      <td>0.973856</td>\n",
              "      <td>0.973176</td>\n",
              "      <td>0.973114</td>\n",
              "      <td>0.973214</td>\n",
              "      <td>0.000389</td>\n",
              "      <td>3</td>\n",
              "      <td>-0.135150</td>\n",
              "      <td>-0.137730</td>\n",
              "      <td>-0.133838</td>\n",
              "      <td>-0.134412</td>\n",
              "      <td>-0.136153</td>\n",
              "      <td>-0.135457</td>\n",
              "      <td>0.001375</td>\n",
              "      <td>2</td>\n",
              "    </tr>\n",
              "    <tr>\n",
              "      <th>6</th>\n",
              "      <td>77.845211</td>\n",
              "      <td>2.968557</td>\n",
              "      <td>13.055227</td>\n",
              "      <td>0.115050</td>\n",
              "      <td>LGBMClassifier(boosting_type='gbdt', class_wei...</td>\n",
              "      <td>200</td>\n",
              "      <td>{'classifier': LGBMClassifier(boosting_type='g...</td>\n",
              "      <td>0.951530</td>\n",
              "      <td>0.951518</td>\n",
              "      <td>0.953110</td>\n",
              "      <td>0.951674</td>\n",
              "      <td>0.951434</td>\n",
              "      <td>0.951853</td>\n",
              "      <td>0.000633</td>\n",
              "      <td>5</td>\n",
              "      <td>0.951446</td>\n",
              "      <td>0.951502</td>\n",
              "      <td>0.953108</td>\n",
              "      <td>0.951610</td>\n",
              "      <td>0.951378</td>\n",
              "      <td>0.951809</td>\n",
              "      <td>0.000654</td>\n",
              "      <td>5</td>\n",
              "      <td>-0.134732</td>\n",
              "      <td>-0.137452</td>\n",
              "      <td>-0.135006</td>\n",
              "      <td>-0.135125</td>\n",
              "      <td>-0.136642</td>\n",
              "      <td>-0.135791</td>\n",
              "      <td>0.001064</td>\n",
              "      <td>3</td>\n",
              "    </tr>\n",
              "    <tr>\n",
              "      <th>2</th>\n",
              "      <td>187.488320</td>\n",
              "      <td>5.710254</td>\n",
              "      <td>3.761484</td>\n",
              "      <td>0.081524</td>\n",
              "      <td>RandomForestClassifier(bootstrap=True, ccp_alp...</td>\n",
              "      <td>50</td>\n",
              "      <td>{'classifier': RandomForestClassifier(bootstra...</td>\n",
              "      <td>0.972510</td>\n",
              "      <td>0.972235</td>\n",
              "      <td>0.972450</td>\n",
              "      <td>0.971576</td>\n",
              "      <td>0.972689</td>\n",
              "      <td>0.972292</td>\n",
              "      <td>0.000386</td>\n",
              "      <td>4</td>\n",
              "      <td>0.972470</td>\n",
              "      <td>0.972206</td>\n",
              "      <td>0.972421</td>\n",
              "      <td>0.971535</td>\n",
              "      <td>0.972647</td>\n",
              "      <td>0.972256</td>\n",
              "      <td>0.000387</td>\n",
              "      <td>4</td>\n",
              "      <td>-0.137106</td>\n",
              "      <td>-0.138244</td>\n",
              "      <td>-0.138458</td>\n",
              "      <td>-0.140636</td>\n",
              "      <td>-0.136228</td>\n",
              "      <td>-0.138134</td>\n",
              "      <td>0.001488</td>\n",
              "      <td>4</td>\n",
              "    </tr>\n",
              "    <tr>\n",
              "      <th>5</th>\n",
              "      <td>46.788734</td>\n",
              "      <td>1.281174</td>\n",
              "      <td>6.619330</td>\n",
              "      <td>0.038590</td>\n",
              "      <td>LGBMClassifier(boosting_type='gbdt', class_wei...</td>\n",
              "      <td>100</td>\n",
              "      <td>{'classifier': LGBMClassifier(boosting_type='g...</td>\n",
              "      <td>0.937982</td>\n",
              "      <td>0.936810</td>\n",
              "      <td>0.939036</td>\n",
              "      <td>0.938150</td>\n",
              "      <td>0.938473</td>\n",
              "      <td>0.938090</td>\n",
              "      <td>0.000734</td>\n",
              "      <td>6</td>\n",
              "      <td>0.937879</td>\n",
              "      <td>0.936748</td>\n",
              "      <td>0.939014</td>\n",
              "      <td>0.938051</td>\n",
              "      <td>0.938396</td>\n",
              "      <td>0.938018</td>\n",
              "      <td>0.000744</td>\n",
              "      <td>6</td>\n",
              "      <td>-0.172515</td>\n",
              "      <td>-0.175619</td>\n",
              "      <td>-0.172192</td>\n",
              "      <td>-0.172976</td>\n",
              "      <td>-0.173945</td>\n",
              "      <td>-0.173450</td>\n",
              "      <td>0.001235</td>\n",
              "      <td>5</td>\n",
              "    </tr>\n",
              "    <tr>\n",
              "      <th>1</th>\n",
              "      <td>31.167164</td>\n",
              "      <td>0.691303</td>\n",
              "      <td>1.827406</td>\n",
              "      <td>0.009216</td>\n",
              "      <td>DecisionTreeClassifier(ccp_alpha=0.0, class_we...</td>\n",
              "      <td>NaN</td>\n",
              "      <td>{'classifier': DecisionTreeClassifier(ccp_alph...</td>\n",
              "      <td>0.974963</td>\n",
              "      <td>0.972426</td>\n",
              "      <td>0.973000</td>\n",
              "      <td>0.972881</td>\n",
              "      <td>0.973970</td>\n",
              "      <td>0.973448</td>\n",
              "      <td>0.000909</td>\n",
              "      <td>2</td>\n",
              "      <td>0.974956</td>\n",
              "      <td>0.972428</td>\n",
              "      <td>0.972996</td>\n",
              "      <td>0.972871</td>\n",
              "      <td>0.973956</td>\n",
              "      <td>0.973441</td>\n",
              "      <td>0.000906</td>\n",
              "      <td>2</td>\n",
              "      <td>-0.864740</td>\n",
              "      <td>-0.952372</td>\n",
              "      <td>-0.932531</td>\n",
              "      <td>-0.936664</td>\n",
              "      <td>-0.899049</td>\n",
              "      <td>-0.917071</td>\n",
              "      <td>0.031408</td>\n",
              "      <td>6</td>\n",
              "    </tr>\n",
              "    <tr>\n",
              "      <th>0</th>\n",
              "      <td>28.900620</td>\n",
              "      <td>4.088861</td>\n",
              "      <td>1.678982</td>\n",
              "      <td>0.282991</td>\n",
              "      <td>LogisticRegression(C=1.0, class_weight=None, d...</td>\n",
              "      <td>NaN</td>\n",
              "      <td>{'classifier': LogisticRegression(C=1.0, class...</td>\n",
              "      <td>0.396747</td>\n",
              "      <td>0.398291</td>\n",
              "      <td>0.395646</td>\n",
              "      <td>0.400014</td>\n",
              "      <td>0.400984</td>\n",
              "      <td>0.398336</td>\n",
              "      <td>0.001979</td>\n",
              "      <td>7</td>\n",
              "      <td>0.376654</td>\n",
              "      <td>0.378667</td>\n",
              "      <td>0.376939</td>\n",
              "      <td>0.379422</td>\n",
              "      <td>0.379973</td>\n",
              "      <td>0.378331</td>\n",
              "      <td>0.001323</td>\n",
              "      <td>7</td>\n",
              "      <td>-1.295972</td>\n",
              "      <td>-1.295375</td>\n",
              "      <td>-1.296191</td>\n",
              "      <td>-1.294007</td>\n",
              "      <td>-1.293594</td>\n",
              "      <td>-1.295028</td>\n",
              "      <td>0.001045</td>\n",
              "      <td>7</td>\n",
              "    </tr>\n",
              "  </tbody>\n",
              "</table>\n",
              "</div>"
            ],
            "text/plain": [
              "   mean_fit_time  std_fit_time  ...  std_test_neg_log_loss  rank_test_neg_log_loss\n",
              "4     633.618697      5.795493  ...               0.000701                       1\n",
              "3     341.809483     11.240088  ...               0.001375                       2\n",
              "6      77.845211      2.968557  ...               0.001064                       3\n",
              "2     187.488320      5.710254  ...               0.001488                       4\n",
              "5      46.788734      1.281174  ...               0.001235                       5\n",
              "1      31.167164      0.691303  ...               0.031408                       6\n",
              "0      28.900620      4.088861  ...               0.001045                       7\n",
              "\n",
              "[7 rows x 31 columns]"
            ]
          },
          "metadata": {
            "tags": []
          },
          "execution_count": 16
        }
      ]
    },
    {
      "cell_type": "code",
      "metadata": {
        "id": "Hy7ZFW6pXkf1",
        "colab_type": "code",
        "outputId": "8b22884a-fbd5-4fc4-e91a-ff8a9ad6d30e",
        "colab": {
          "base_uri": "https://localhost:8080/",
          "height": 354
        }
      },
      "source": [
        "grid_search_result_df['model'] = grid_search_result_df.param_classifier.astype(str).str.split('(').apply(lambda x: x[0]) + '[' + grid_search_result_df.param_classifier__n_estimators.astype(str) + ']'\n",
        "\n",
        "plt.figure(figsize=(8, 5))\n",
        "sns.scatterplot(x=\"mean_test_neg_log_loss\", y=\"mean_test_accuracy\",\n",
        "                     hue=\"model\", size=\"mean_test_f1_macro\", alpha=0.8,\n",
        "                     data=grid_search_result_df).set_title('Desempenho dos Modelos gerados pelo Grid Search com Cross Validation');\n",
        "plt.xlabel(\"Média do Negative Log Loss\")\n",
        "plt.ylabel(\"Média da Accurácia\")\n",
        "plt.legend(bbox_to_anchor=(1.05, 1), loc=2, borderaxespad=0.);"
      ],
      "execution_count": 17,
      "outputs": [
        {
          "output_type": "display_data",
          "data": {
            "image/png": "[encoded data removed]",
            "text/plain": [
              "<Figure size 576x360 with 1 Axes>"
            ]
          },
          "metadata": {
            "tags": []
          }
        }
      ]
    },
    {
      "cell_type": "markdown",
      "metadata": {
        "id": "2Ys-p9C-b1vL",
        "colab_type": "text"
      },
      "source": [
        "## Avaliando modelos separadamente"
      ]
    },
    {
      "cell_type": "markdown",
      "metadata": {
        "id": "K9pMHeCSb5Rw",
        "colab_type": "text"
      },
      "source": [
        "### Definindo função para exibição dos resultados e métricas\n",
        "\n",
        "Foi utilizado o MLFlow para rastrear todas as rodadas de testes isolados"
      ]
    },
    {
      "cell_type": "code",
      "metadata": {
        "id": "OsB0V2poFqYV",
        "colab_type": "code",
        "colab": {}
      },
      "source": [
        "from sklearn.metrics import plot_confusion_matrix, plot_precision_recall_curve, classification_report, log_loss, f1_score, accuracy_score\n",
        "\n",
        "def show_metrics(model, X_test, y_test, run_name, \n",
        "                 experiment_name='TCC', sklearn_model=True):\n",
        "    \"\"\"Função para mostrar as métricas e salvá-las no ML Flow\"\"\"\n",
        "    # Define o experimento\n",
        "    mlflow.set_experiment(experiment_name)\n",
        "\n",
        "    if sklearn_model: # Avaliação do modelo sklearn\n",
        "        fig, ax = plt.subplots(1, 2, figsize=(10, 4))\n",
        "\n",
        "        # Realiza o plot da matriz confusão\n",
        "        plot_confusion_matrix(model, X_test, y_test, \n",
        "                              cmap=plt.cm.Blues, ax=ax[0])\n",
        "        ax[0].set_title('Matrix Confusão, sem normalização')\n",
        "\n",
        "        # Realiza o plot da matriz confusão Normalizada\n",
        "        plot_confusion_matrix(model, X_test, y_test, \n",
        "                              cmap=plt.cm.Blues, normalize='true', \n",
        "                              ax=ax[1])\n",
        "        ax[1].set_title('Matrix Confusão Normalizada')\n",
        "\n",
        "        plt.tight_layout()\n",
        "        plt.show()\n",
        "\n",
        "        # Obtem as previsões e as probabilidades\n",
        "        y_predict = model.predict(X_test)\n",
        "        y_predict_prob = model.predict_proba(X_test)\n",
        "    else: # Avaliação do modelo h20\n",
        "        # Obtem as previsões e as probabilidades\n",
        "        prediction = model.predict(\n",
        "            h2o.H2OFrame(X_test)).as_data_frame()\n",
        "        y_predict = prediction['predict']\n",
        "        y_predict_prob = prediction.drop('predict', axis=1)\n",
        "\n",
        "    # Calculo das métricas log loss e f1 score\n",
        "    logloss = log_loss(y_test, y_predict_prob)\n",
        "    f1 = f1_score(y_test, y_predict, average='macro')\n",
        "\n",
        "    # Armazena as métricas e modelo no MLFlow para futuro rastreamento\n",
        "    # das execuções\n",
        "    with mlflow.start_run(run_name=run_name):\n",
        "        if sklearn_model:\n",
        "            mlflow.log_param(\"model_description\", str(model))\n",
        "        mlflow.log_metric(\"f1_score\", f1)\n",
        "        mlflow.log_metric(\"log_loss\", logloss)\n",
        "        mlflow.log_metric(\"accuracy\", \n",
        "                          accuracy_score(y_test, y_predict))\n",
        "        if not IN_COLAB:\n",
        "            mlflow.sklearn.log_model(model, \"model\")\n",
        "            mlflow.sklearn.save_model(model, mlflow_models_path)\n",
        "\n",
        "    # Exibe principais métricas de classificação\n",
        "    display(pd.DataFrame(classification_report(\n",
        "        y_test, y_predict, output_dict=True)).T)\n",
        "    print(f'\\nLog loss: {logloss} | F1 Score: {f1}')"
      ],
      "execution_count": 0,
      "outputs": []
    },
    {
      "cell_type": "markdown",
      "metadata": {
        "id": "JbzZAvIIc3Hj",
        "colab_type": "text"
      },
      "source": [
        "### Analisando desempenho do modelo de Regressão Logística"
      ]
    },
    {
      "cell_type": "code",
      "metadata": {
        "id": "zowjRC_EFqYX",
        "colab_type": "code",
        "colab": {}
      },
      "source": [
        "# Foi realizada uma normalização das colunas numéricas no pipeline desse modelo,\n",
        "# devido a sua sensibilidade na variação no range das colunas, e essa variação\n",
        "# impacta no desempenho do modelo\n",
        "\n",
        "from sklearn.pipeline import Pipeline\n",
        "from sklearn.compose import ColumnTransformer\n",
        "from sklearn.impute import SimpleImputer\n",
        "from sklearn.preprocessing import OneHotEncoder, StandardScaler\n",
        "\n",
        "numeric_transformer = Pipeline(steps=[\n",
        "    ('imputer', SimpleImputer(strategy='median')),\n",
        "    ('scaler', StandardScaler())])\n",
        "\n",
        "preprocessor = ColumnTransformer(transformers=[('num', numeric_transformer, numeric_features)])"
      ],
      "execution_count": 0,
      "outputs": []
    },
    {
      "cell_type": "code",
      "metadata": {
        "id": "_ua-Vj1_nxz6",
        "colab_type": "code",
        "outputId": "38b54113-c960-4af3-c09b-3924686a23b3",
        "colab": {
          "base_uri": "https://localhost:8080/",
          "height": 595
        }
      },
      "source": [
        "LR_clf = Pipeline(steps=[('preprocessor', preprocessor),\n",
        "                         ('classifier', LogisticRegression(n_jobs=-1))])\n",
        "\n",
        "LR_clf.fit(balanced_X_train, balanced_y_train)\n",
        "\n",
        "show_metrics(LR_clf, balanced_X_test, balanced_y_test, 'LogisticRegression')"
      ],
      "execution_count": 0,
      "outputs": [
        {
          "output_type": "display_data",
          "data": {
            "image/png": "[encoded data removed]",
            "text/plain": [
              "<Figure size 720x288 with 4 Axes>"
            ]
          },
          "metadata": {
            "tags": []
          }
        },
        {
          "output_type": "display_data",
          "data": {
            "text/html": [
              "<div>\n",
              "<style scoped>\n",
              "    .dataframe tbody tr th:only-of-type {\n",
              "        vertical-align: middle;\n",
              "    }\n",
              "\n",
              "    .dataframe tbody tr th {\n",
              "        vertical-align: top;\n",
              "    }\n",
              "\n",
              "    .dataframe thead th {\n",
              "        text-align: right;\n",
              "    }\n",
              "</style>\n",
              "<table border=\"1\" class=\"dataframe\">\n",
              "  <thead>\n",
              "    <tr style=\"text-align: right;\">\n",
              "      <th></th>\n",
              "      <th>precision</th>\n",
              "      <th>recall</th>\n",
              "      <th>f1-score</th>\n",
              "      <th>support</th>\n",
              "    </tr>\n",
              "  </thead>\n",
              "  <tbody>\n",
              "    <tr>\n",
              "      <th>A</th>\n",
              "      <td>0.386786</td>\n",
              "      <td>0.215416</td>\n",
              "      <td>0.276718</td>\n",
              "      <td>26089.000000</td>\n",
              "    </tr>\n",
              "    <tr>\n",
              "      <th>B</th>\n",
              "      <td>0.329024</td>\n",
              "      <td>0.311232</td>\n",
              "      <td>0.319881</td>\n",
              "      <td>26167.000000</td>\n",
              "    </tr>\n",
              "    <tr>\n",
              "      <th>C</th>\n",
              "      <td>0.481164</td>\n",
              "      <td>0.637850</td>\n",
              "      <td>0.548538</td>\n",
              "      <td>25992.000000</td>\n",
              "    </tr>\n",
              "    <tr>\n",
              "      <th>D</th>\n",
              "      <td>0.334137</td>\n",
              "      <td>0.391656</td>\n",
              "      <td>0.360617</td>\n",
              "      <td>26199.000000</td>\n",
              "    </tr>\n",
              "    <tr>\n",
              "      <th>accuracy</th>\n",
              "      <td>0.388752</td>\n",
              "      <td>0.388752</td>\n",
              "      <td>0.388752</td>\n",
              "      <td>0.388752</td>\n",
              "    </tr>\n",
              "    <tr>\n",
              "      <th>macro avg</th>\n",
              "      <td>0.382778</td>\n",
              "      <td>0.389039</td>\n",
              "      <td>0.376438</td>\n",
              "      <td>104447.000000</td>\n",
              "    </tr>\n",
              "    <tr>\n",
              "      <th>weighted avg</th>\n",
              "      <td>0.382595</td>\n",
              "      <td>0.388752</td>\n",
              "      <td>0.376220</td>\n",
              "      <td>104447.000000</td>\n",
              "    </tr>\n",
              "  </tbody>\n",
              "</table>\n",
              "</div>"
            ],
            "text/plain": [
              "              precision    recall  f1-score        support\n",
              "A              0.386786  0.215416  0.276718   26089.000000\n",
              "B              0.329024  0.311232  0.319881   26167.000000\n",
              "C              0.481164  0.637850  0.548538   25992.000000\n",
              "D              0.334137  0.391656  0.360617   26199.000000\n",
              "accuracy       0.388752  0.388752  0.388752       0.388752\n",
              "macro avg      0.382778  0.389039  0.376438  104447.000000\n",
              "weighted avg   0.382595  0.388752  0.376220  104447.000000"
            ]
          },
          "metadata": {
            "tags": []
          }
        },
        {
          "output_type": "stream",
          "text": [
            "\n",
            "Log loss: 1.2794922338334827 | F1 Score: 0.37643827732281887\n"
          ],
          "name": "stdout"
        }
      ]
    },
    {
      "cell_type": "markdown",
      "metadata": {
        "id": "97wjaqbXiMfi",
        "colab_type": "text"
      },
      "source": [
        "### Analisando desempenho do modelo de Árvore de Decisão"
      ]
    },
    {
      "cell_type": "code",
      "metadata": {
        "id": "onFIyNEdhK3g",
        "colab_type": "code",
        "outputId": "a7242d72-694b-4847-a1c3-f0bb49879641",
        "colab": {
          "base_uri": "https://localhost:8080/",
          "height": 595
        }
      },
      "source": [
        "DT_clf = DecisionTreeClassifier()\n",
        "DT_clf.fit(balanced_X_train, balanced_y_train)\n",
        "\n",
        "show_metrics(DT_clf, balanced_X_test, balanced_y_test, 'DecisionTreeClassifier')"
      ],
      "execution_count": 0,
      "outputs": [
        {
          "output_type": "display_data",
          "data": {
            "image/png": "[encoded data removed]",
            "text/plain": [
              "<Figure size 720x288 with 4 Axes>"
            ]
          },
          "metadata": {
            "tags": []
          }
        },
        {
          "output_type": "display_data",
          "data": {
            "text/html": [
              "<div>\n",
              "<style scoped>\n",
              "    .dataframe tbody tr th:only-of-type {\n",
              "        vertical-align: middle;\n",
              "    }\n",
              "\n",
              "    .dataframe tbody tr th {\n",
              "        vertical-align: top;\n",
              "    }\n",
              "\n",
              "    .dataframe thead th {\n",
              "        text-align: right;\n",
              "    }\n",
              "</style>\n",
              "<table border=\"1\" class=\"dataframe\">\n",
              "  <thead>\n",
              "    <tr style=\"text-align: right;\">\n",
              "      <th></th>\n",
              "      <th>precision</th>\n",
              "      <th>recall</th>\n",
              "      <th>f1-score</th>\n",
              "      <th>support</th>\n",
              "    </tr>\n",
              "  </thead>\n",
              "  <tbody>\n",
              "    <tr>\n",
              "      <th>A</th>\n",
              "      <td>0.958407</td>\n",
              "      <td>0.957415</td>\n",
              "      <td>0.957911</td>\n",
              "      <td>26089.000000</td>\n",
              "    </tr>\n",
              "    <tr>\n",
              "      <th>B</th>\n",
              "      <td>0.977020</td>\n",
              "      <td>0.976497</td>\n",
              "      <td>0.976758</td>\n",
              "      <td>26167.000000</td>\n",
              "    </tr>\n",
              "    <tr>\n",
              "      <th>C</th>\n",
              "      <td>0.977377</td>\n",
              "      <td>0.978994</td>\n",
              "      <td>0.978184</td>\n",
              "      <td>25992.000000</td>\n",
              "    </tr>\n",
              "    <tr>\n",
              "      <th>D</th>\n",
              "      <td>0.994885</td>\n",
              "      <td>0.994809</td>\n",
              "      <td>0.994847</td>\n",
              "      <td>26199.000000</td>\n",
              "    </tr>\n",
              "    <tr>\n",
              "      <th>accuracy</th>\n",
              "      <td>0.976945</td>\n",
              "      <td>0.976945</td>\n",
              "      <td>0.976945</td>\n",
              "      <td>0.976945</td>\n",
              "    </tr>\n",
              "    <tr>\n",
              "      <th>macro avg</th>\n",
              "      <td>0.976922</td>\n",
              "      <td>0.976929</td>\n",
              "      <td>0.976925</td>\n",
              "      <td>104447.000000</td>\n",
              "    </tr>\n",
              "    <tr>\n",
              "      <th>weighted avg</th>\n",
              "      <td>0.976941</td>\n",
              "      <td>0.976945</td>\n",
              "      <td>0.976943</td>\n",
              "      <td>104447.000000</td>\n",
              "    </tr>\n",
              "  </tbody>\n",
              "</table>\n",
              "</div>"
            ],
            "text/plain": [
              "              precision    recall  f1-score        support\n",
              "A              0.958407  0.957415  0.957911   26089.000000\n",
              "B              0.977020  0.976497  0.976758   26167.000000\n",
              "C              0.977377  0.978994  0.978184   25992.000000\n",
              "D              0.994885  0.994809  0.994847   26199.000000\n",
              "accuracy       0.976945  0.976945  0.976945       0.976945\n",
              "macro avg      0.976922  0.976929  0.976925  104447.000000\n",
              "weighted avg   0.976941  0.976945  0.976943  104447.000000"
            ]
          },
          "metadata": {
            "tags": []
          }
        },
        {
          "output_type": "stream",
          "text": [
            "\n",
            "Log loss: 0.7962830292774825 | F1 Score: 0.9769251078398671\n"
          ],
          "name": "stdout"
        }
      ]
    },
    {
      "cell_type": "markdown",
      "metadata": {
        "id": "mgC1UjaFiflD",
        "colab_type": "text"
      },
      "source": [
        "### Analisando desempenho do modelo de Random Forest"
      ]
    },
    {
      "cell_type": "code",
      "metadata": {
        "id": "bZ2obE9iU9cX",
        "colab_type": "code",
        "outputId": "2d4ffcfd-5cba-4f5f-d467-b949773280bc",
        "colab": {
          "base_uri": "https://localhost:8080/",
          "height": 595
        }
      },
      "source": [
        "RF_clf = RandomForestClassifier(n_jobs=-1, n_estimators=500)\n",
        "RF_clf.fit(balanced_X_train, balanced_y_train)\n",
        "\n",
        "show_metrics(RF_clf, balanced_X_test, balanced_y_test, 'RandomForestClassifier')"
      ],
      "execution_count": 137,
      "outputs": [
        {
          "output_type": "display_data",
          "data": {
            "image/png": "[encoded data removed]",
            "text/plain": [
              "<Figure size 720x288 with 4 Axes>"
            ]
          },
          "metadata": {
            "tags": []
          }
        },
        {
          "output_type": "display_data",
          "data": {
            "text/html": [
              "<div>\n",
              "<style scoped>\n",
              "    .dataframe tbody tr th:only-of-type {\n",
              "        vertical-align: middle;\n",
              "    }\n",
              "\n",
              "    .dataframe tbody tr th {\n",
              "        vertical-align: top;\n",
              "    }\n",
              "\n",
              "    .dataframe thead th {\n",
              "        text-align: right;\n",
              "    }\n",
              "</style>\n",
              "<table border=\"1\" class=\"dataframe\">\n",
              "  <thead>\n",
              "    <tr style=\"text-align: right;\">\n",
              "      <th></th>\n",
              "      <th>precision</th>\n",
              "      <th>recall</th>\n",
              "      <th>f1-score</th>\n",
              "      <th>support</th>\n",
              "    </tr>\n",
              "  </thead>\n",
              "  <tbody>\n",
              "    <tr>\n",
              "      <th>A</th>\n",
              "      <td>0.961730</td>\n",
              "      <td>0.952662</td>\n",
              "      <td>0.957175</td>\n",
              "      <td>26089.000000</td>\n",
              "    </tr>\n",
              "    <tr>\n",
              "      <th>B</th>\n",
              "      <td>0.974994</td>\n",
              "      <td>0.970039</td>\n",
              "      <td>0.972510</td>\n",
              "      <td>26167.000000</td>\n",
              "    </tr>\n",
              "    <tr>\n",
              "      <th>C</th>\n",
              "      <td>0.973002</td>\n",
              "      <td>0.989997</td>\n",
              "      <td>0.981426</td>\n",
              "      <td>25992.000000</td>\n",
              "    </tr>\n",
              "    <tr>\n",
              "      <th>D</th>\n",
              "      <td>0.996861</td>\n",
              "      <td>0.994007</td>\n",
              "      <td>0.995432</td>\n",
              "      <td>26199.000000</td>\n",
              "    </tr>\n",
              "    <tr>\n",
              "      <th>accuracy</th>\n",
              "      <td>0.976677</td>\n",
              "      <td>0.976677</td>\n",
              "      <td>0.976677</td>\n",
              "      <td>0.976677</td>\n",
              "    </tr>\n",
              "    <tr>\n",
              "      <th>macro avg</th>\n",
              "      <td>0.976647</td>\n",
              "      <td>0.976676</td>\n",
              "      <td>0.976636</td>\n",
              "      <td>104447.000000</td>\n",
              "    </tr>\n",
              "    <tr>\n",
              "      <th>weighted avg</th>\n",
              "      <td>0.976670</td>\n",
              "      <td>0.976677</td>\n",
              "      <td>0.976648</td>\n",
              "      <td>104447.000000</td>\n",
              "    </tr>\n",
              "  </tbody>\n",
              "</table>\n",
              "</div>"
            ],
            "text/plain": [
              "              precision    recall  f1-score        support\n",
              "A              0.961730  0.952662  0.957175   26089.000000\n",
              "B              0.974994  0.970039  0.972510   26167.000000\n",
              "C              0.973002  0.989997  0.981426   25992.000000\n",
              "D              0.996861  0.994007  0.995432   26199.000000\n",
              "accuracy       0.976677  0.976677  0.976677       0.976677\n",
              "macro avg      0.976647  0.976676  0.976636  104447.000000\n",
              "weighted avg   0.976670  0.976677  0.976648  104447.000000"
            ]
          },
          "metadata": {
            "tags": []
          }
        },
        {
          "output_type": "stream",
          "text": [
            "\n",
            "Log loss: 0.1251807246508412 | F1 Score: 0.9766356937346269\n"
          ],
          "name": "stdout"
        }
      ]
    },
    {
      "cell_type": "markdown",
      "metadata": {
        "id": "Dz29dcYgl1d5",
        "colab_type": "text"
      },
      "source": [
        "### Analisando desempenho do modelo LightGBM"
      ]
    },
    {
      "cell_type": "code",
      "metadata": {
        "id": "FGTg46b3Vq68",
        "colab_type": "code",
        "outputId": "09bf51c3-db00-49cc-f31b-f2ea410338dc",
        "colab": {
          "base_uri": "https://localhost:8080/",
          "height": 595
        }
      },
      "source": [
        "lgbm_clf = lgb.LGBMClassifier(n_estimators=500)\n",
        "lgbm_clf.fit(balanced_X_train, balanced_y_train, eval_metric='logloss')\n",
        "\n",
        "show_metrics(lgbm_clf, balanced_X_test, balanced_y_test, 'LGBMClassifier')"
      ],
      "execution_count": 0,
      "outputs": [
        {
          "output_type": "display_data",
          "data": {
            "image/png": "[encoded data removed]",
            "text/plain": [
              "<Figure size 720x288 with 4 Axes>"
            ]
          },
          "metadata": {
            "tags": []
          }
        },
        {
          "output_type": "display_data",
          "data": {
            "text/html": [
              "<div>\n",
              "<style scoped>\n",
              "    .dataframe tbody tr th:only-of-type {\n",
              "        vertical-align: middle;\n",
              "    }\n",
              "\n",
              "    .dataframe tbody tr th {\n",
              "        vertical-align: top;\n",
              "    }\n",
              "\n",
              "    .dataframe thead th {\n",
              "        text-align: right;\n",
              "    }\n",
              "</style>\n",
              "<table border=\"1\" class=\"dataframe\">\n",
              "  <thead>\n",
              "    <tr style=\"text-align: right;\">\n",
              "      <th></th>\n",
              "      <th>precision</th>\n",
              "      <th>recall</th>\n",
              "      <th>f1-score</th>\n",
              "      <th>support</th>\n",
              "    </tr>\n",
              "  </thead>\n",
              "  <tbody>\n",
              "    <tr>\n",
              "      <th>A</th>\n",
              "      <td>0.938779</td>\n",
              "      <td>0.941010</td>\n",
              "      <td>0.939893</td>\n",
              "      <td>26089.000000</td>\n",
              "    </tr>\n",
              "    <tr>\n",
              "      <th>B</th>\n",
              "      <td>0.971721</td>\n",
              "      <td>0.953376</td>\n",
              "      <td>0.962461</td>\n",
              "      <td>26167.000000</td>\n",
              "    </tr>\n",
              "    <tr>\n",
              "      <th>C</th>\n",
              "      <td>0.965797</td>\n",
              "      <td>0.984264</td>\n",
              "      <td>0.974943</td>\n",
              "      <td>25992.000000</td>\n",
              "    </tr>\n",
              "    <tr>\n",
              "      <th>D</th>\n",
              "      <td>0.997589</td>\n",
              "      <td>0.995114</td>\n",
              "      <td>0.996350</td>\n",
              "      <td>26199.000000</td>\n",
              "    </tr>\n",
              "    <tr>\n",
              "      <th>accuracy</th>\n",
              "      <td>0.968443</td>\n",
              "      <td>0.968443</td>\n",
              "      <td>0.968443</td>\n",
              "      <td>0.968443</td>\n",
              "    </tr>\n",
              "    <tr>\n",
              "      <th>macro avg</th>\n",
              "      <td>0.968472</td>\n",
              "      <td>0.968441</td>\n",
              "      <td>0.968412</td>\n",
              "      <td>104447.000000</td>\n",
              "    </tr>\n",
              "    <tr>\n",
              "      <th>weighted avg</th>\n",
              "      <td>0.968507</td>\n",
              "      <td>0.968443</td>\n",
              "      <td>0.968431</td>\n",
              "      <td>104447.000000</td>\n",
              "    </tr>\n",
              "  </tbody>\n",
              "</table>\n",
              "</div>"
            ],
            "text/plain": [
              "              precision    recall  f1-score        support\n",
              "A              0.938779  0.941010  0.939893   26089.000000\n",
              "B              0.971721  0.953376  0.962461   26167.000000\n",
              "C              0.965797  0.984264  0.974943   25992.000000\n",
              "D              0.997589  0.995114  0.996350   26199.000000\n",
              "accuracy       0.968443  0.968443  0.968443       0.968443\n",
              "macro avg      0.968472  0.968441  0.968412  104447.000000\n",
              "weighted avg   0.968507  0.968443  0.968431  104447.000000"
            ]
          },
          "metadata": {
            "tags": []
          }
        },
        {
          "output_type": "stream",
          "text": [
            "\n",
            "Log loss: 0.0937984349415199 | F1 Score: 0.9684119575615247\n"
          ],
          "name": "stdout"
        }
      ]
    },
    {
      "cell_type": "markdown",
      "metadata": {
        "id": "8hxrW07caune",
        "colab_type": "text"
      },
      "source": [
        "## Gerando modelo final do melhor modelo encontrado"
      ]
    },
    {
      "cell_type": "code",
      "metadata": {
        "id": "N7hxEJ9nm6nj",
        "colab_type": "code",
        "colab": {}
      },
      "source": [
        "# Gerando modelo final com todos os dados de treinamento\n",
        "RF_clf = RandomForestClassifier(n_jobs=-1, n_estimators=1000)\n",
        "\n",
        "RF_clf = RF_clf.fit(train_df[features], train_df[target])"
      ],
      "execution_count": 0,
      "outputs": []
    },
    {
      "cell_type": "markdown",
      "metadata": {
        "id": "LESi-PUgbaSH",
        "colab_type": "text"
      },
      "source": [
        "### Prevendo dados de teste"
      ]
    },
    {
      "cell_type": "code",
      "metadata": {
        "id": "5ls-KpcDADVG",
        "colab_type": "code",
        "colab": {}
      },
      "source": [
        "def predict_proba_test(model, nrows=None, sklearn_model=True, chunksize=100_000):\n",
        "    test_df = pd.read_csv(f'{competition_name}/test.csv.zip', \n",
        "                          usecols=features, nrows=nrows, chunksize=chunksize)\n",
        "    predict_results = []\n",
        "    for test_chunk in tqdm(test_df):\n",
        "        if sklearn_model:\n",
        "            predict_results.append(\n",
        "                pd.DataFrame(\n",
        "                    model.predict_proba(test_chunk), columns=model.classes_))\n",
        "        else:\n",
        "            predict_results.append(\n",
        "                model.predict(\n",
        "                    h2o.H2OFrame(test_chunk))\n",
        "                .as_data_frame().drop('predict', axis=1))\n",
        "    return pd.concat(predict_results, ignore_index=True).reset_index().rename(columns={'index': 'id'})"
      ],
      "execution_count": 0,
      "outputs": []
    },
    {
      "cell_type": "code",
      "metadata": {
        "id": "vhsc1Cn2b2eu",
        "colab_type": "code",
        "colab": {
          "base_uri": "https://localhost:8080/",
          "height": 253,
          "referenced_widgets": [
            "5dfd79fa3b2b47609c6a03c7ac3fb299",
            "fd18a2990d1845a18a111a2c5e42a3e4",
            "a41cf73ac4b5428b9dfc31106b5ef5cd",
            "b7c40896c9454d7aa005a5ebf2b2f76a",
            "0569b42da6334258b7415593829cf07b",
            "317b78c6aab34cfe9690cca42cffa83a",
            "9a828487f9824380b8c0675b6f4bb4a6",
            "1aa48a3b14c74c2f91f624d32932b936"
          ]
        },
        "outputId": "a4f4cee4-ecac-4116-b8e0-1cd8584d52ae"
      },
      "source": [
        "sample_test_result_df = predict_proba_test(RF_clf, 10_000)\n",
        "sample_test_result_df.head()"
      ],
      "execution_count": 23,
      "outputs": [
        {
          "output_type": "display_data",
          "data": {
            "application/vnd.jupyter.widget-view+json": {
              "model_id": "5dfd79fa3b2b47609c6a03c7ac3fb299",
              "version_minor": 0,
              "version_major": 2
            },
            "text/plain": [
              "HBox(children=(IntProgress(value=1, bar_style='info', max=1), HTML(value='')))"
            ]
          },
          "metadata": {
            "tags": []
          }
        },
        {
          "output_type": "stream",
          "text": [
            "\n"
          ],
          "name": "stdout"
        },
        {
          "output_type": "execute_result",
          "data": {
            "text/html": [
              "<div>\n",
              "<style scoped>\n",
              "    .dataframe tbody tr th:only-of-type {\n",
              "        vertical-align: middle;\n",
              "    }\n",
              "\n",
              "    .dataframe tbody tr th {\n",
              "        vertical-align: top;\n",
              "    }\n",
              "\n",
              "    .dataframe thead th {\n",
              "        text-align: right;\n",
              "    }\n",
              "</style>\n",
              "<table border=\"1\" class=\"dataframe\">\n",
              "  <thead>\n",
              "    <tr style=\"text-align: right;\">\n",
              "      <th></th>\n",
              "      <th>id</th>\n",
              "      <th>A</th>\n",
              "      <th>B</th>\n",
              "      <th>C</th>\n",
              "      <th>D</th>\n",
              "    </tr>\n",
              "  </thead>\n",
              "  <tbody>\n",
              "    <tr>\n",
              "      <th>0</th>\n",
              "      <td>0</td>\n",
              "      <td>0.096</td>\n",
              "      <td>0.615</td>\n",
              "      <td>0.047</td>\n",
              "      <td>0.242</td>\n",
              "    </tr>\n",
              "    <tr>\n",
              "      <th>1</th>\n",
              "      <td>1</td>\n",
              "      <td>0.074</td>\n",
              "      <td>0.509</td>\n",
              "      <td>0.092</td>\n",
              "      <td>0.325</td>\n",
              "    </tr>\n",
              "    <tr>\n",
              "      <th>2</th>\n",
              "      <td>2</td>\n",
              "      <td>0.063</td>\n",
              "      <td>0.637</td>\n",
              "      <td>0.052</td>\n",
              "      <td>0.248</td>\n",
              "    </tr>\n",
              "    <tr>\n",
              "      <th>3</th>\n",
              "      <td>3</td>\n",
              "      <td>0.084</td>\n",
              "      <td>0.496</td>\n",
              "      <td>0.099</td>\n",
              "      <td>0.321</td>\n",
              "    </tr>\n",
              "    <tr>\n",
              "      <th>4</th>\n",
              "      <td>4</td>\n",
              "      <td>0.124</td>\n",
              "      <td>0.585</td>\n",
              "      <td>0.068</td>\n",
              "      <td>0.223</td>\n",
              "    </tr>\n",
              "  </tbody>\n",
              "</table>\n",
              "</div>"
            ],
            "text/plain": [
              "   id      A      B      C      D\n",
              "0   0  0.096  0.615  0.047  0.242\n",
              "1   1  0.074  0.509  0.092  0.325\n",
              "2   2  0.063  0.637  0.052  0.248\n",
              "3   3  0.084  0.496  0.099  0.321\n",
              "4   4  0.124  0.585  0.068  0.223"
            ]
          },
          "metadata": {
            "tags": []
          },
          "execution_count": 23
        }
      ]
    },
    {
      "cell_type": "markdown",
      "metadata": {
        "id": "5t-wxhHNiQ9k",
        "colab_type": "text"
      },
      "source": [
        "### Submetendo dados para o Kaggle"
      ]
    },
    {
      "cell_type": "code",
      "metadata": {
        "id": "GtScnmGFiT6r",
        "colab_type": "code",
        "colab": {}
      },
      "source": [
        "# Obtendo as credenciais armazenadas para submissão dos dados\n",
        "def get_kaggle_json(api_location):\n",
        "    api_local_credential_location = os.path.join(os.path.expanduser('~'), '.kaggle/kaggle.json')\n",
        "    if not os.path.exists(api_local_credential_location):\n",
        "        !mkdir -p ~/.kaggle\n",
        "        !cp '{api_location}' '{api_local_credential_location}'\n",
        "\n",
        "if IN_COLAB:\n",
        "    get_kaggle_json(api_gdrive_credential_location)"
      ],
      "execution_count": 0,
      "outputs": []
    },
    {
      "cell_type": "code",
      "metadata": {
        "id": "U7L-pVNGd7wH",
        "colab_type": "code",
        "colab": {}
      },
      "source": [
        "def submit_result_kaggle(model, comment='', sklearn_model=True, chunksize=100_000, only_submit=False):\n",
        "    if not only_submit:\n",
        "        test_result_df = predict_proba_test(model, sklearn_model=sklearn_model, chunksize=chunksize)\n",
        "        test_result_df.to_csv('test_result.csv', index=False)\n",
        "    !kaggle competitions submit -c reducing-commercial-aviation-fatalities -f test_result.csv -m \"{comment}\""
      ],
      "execution_count": 0,
      "outputs": []
    },
    {
      "cell_type": "code",
      "metadata": {
        "id": "DyzktwYdei5v",
        "colab_type": "code",
        "colab": {
          "base_uri": "https://localhost:8080/",
          "height": 117,
          "referenced_widgets": [
            "598d39f822244a0faf9088ef4344efdf",
            "1fb3f98534c2447d8d40aa0743322578",
            "75e737ff7be549468ecc256aeee2312d",
            "a5532895c5944dc490f8b2467f30d679",
            "cdd469b846d5404cafbe11da7172763b",
            "41308b5452004bfdbbba3196e90309fa",
            "1ba9a1b3387a49a680ba20aecff6280b",
            "5a439411f0624f7a9fb08c8515033bf0"
          ]
        },
        "outputId": "1d820142-dfa9-4af1-b9e9-5e85fe281d23"
      },
      "source": [
        "submit_result_kaggle(RF_clf, \"Submit best random forest model estimators=1000\")"
      ],
      "execution_count": 25,
      "outputs": [
        {
          "output_type": "display_data",
          "data": {
            "application/vnd.jupyter.widget-view+json": {
              "model_id": "598d39f822244a0faf9088ef4344efdf",
              "version_minor": 0,
              "version_major": 2
            },
            "text/plain": [
              "HBox(children=(IntProgress(value=1, bar_style='info', max=1), HTML(value='')))"
            ]
          },
          "metadata": {
            "tags": []
          }
        },
        {
          "output_type": "stream",
          "text": [
            "\n",
            "Warning: Looks like you're using an outdated API Version, please consider updating (server 1.5.6 / client 1.5.4)\n",
            "100% 547M/547M [00:09<00:00, 58.0MB/s]\n",
            "Successfully submitted to Reducing Commercial Aviation Fatalities"
          ],
          "name": "stdout"
        }
      ]
    },
    {
      "cell_type": "markdown",
      "metadata": {
        "id": "1AI1Rp8am863",
        "colab_type": "text"
      },
      "source": [
        "## Obtendo modelos utilizando a ferramenta de autoML H2O"
      ]
    },
    {
      "cell_type": "code",
      "metadata": {
        "id": "k29CxBV-kJtU",
        "colab_type": "code",
        "outputId": "c3981f7f-d3c8-42ca-cc7f-643d341ee3ed",
        "colab": {
          "base_uri": "https://localhost:8080/",
          "height": 528
        }
      },
      "source": [
        "# Iniciando cluster h20\n",
        "h2o.init()"
      ],
      "execution_count": 16,
      "outputs": [
        {
          "output_type": "stream",
          "text": [
            "Checking whether there is an H2O instance running at http://localhost:54321 ..... not found.\n",
            "Attempting to start a local H2O server...\n",
            "  Java Version: openjdk version \"11.0.6\" 2020-01-14; OpenJDK Runtime Environment (build 11.0.6+10-post-Ubuntu-1ubuntu118.04.1); OpenJDK 64-Bit Server VM (build 11.0.6+10-post-Ubuntu-1ubuntu118.04.1, mixed mode, sharing)\n",
            "  Starting server from /usr/local/lib/python3.6/dist-packages/h2o/backend/bin/h2o.jar\n",
            "  Ice root: /tmp/tmpzz499ase\n",
            "  JVM stdout: /tmp/tmpzz499ase/h2o_unknownUser_started_from_python.out\n",
            "  JVM stderr: /tmp/tmpzz499ase/h2o_unknownUser_started_from_python.err\n",
            "  Server is running at http://127.0.0.1:54321\n",
            "Connecting to H2O server at http://127.0.0.1:54321 ... successful.\n"
          ],
          "name": "stdout"
        },
        {
          "output_type": "display_data",
          "data": {
            "text/html": [
              "<div style=\"overflow:auto\"><table style=\"width:50%\"><tr><td>H2O_cluster_uptime:</td>\n",
              "<td>02 secs</td></tr>\n",
              "<tr><td>H2O_cluster_timezone:</td>\n",
              "<td>Etc/UTC</td></tr>\n",
              "<tr><td>H2O_data_parsing_timezone:</td>\n",
              "<td>UTC</td></tr>\n",
              "<tr><td>H2O_cluster_version:</td>\n",
              "<td>3.30.0.1</td></tr>\n",
              "<tr><td>H2O_cluster_version_age:</td>\n",
              "<td>10 days </td></tr>\n",
              "<tr><td>H2O_cluster_name:</td>\n",
              "<td>H2O_from_python_unknownUser_trht79</td></tr>\n",
              "<tr><td>H2O_cluster_total_nodes:</td>\n",
              "<td>1</td></tr>\n",
              "<tr><td>H2O_cluster_free_memory:</td>\n",
              "<td>6.379 Gb</td></tr>\n",
              "<tr><td>H2O_cluster_total_cores:</td>\n",
              "<td>4</td></tr>\n",
              "<tr><td>H2O_cluster_allowed_cores:</td>\n",
              "<td>4</td></tr>\n",
              "<tr><td>H2O_cluster_status:</td>\n",
              "<td>accepting new members, healthy</td></tr>\n",
              "<tr><td>H2O_connection_url:</td>\n",
              "<td>http://127.0.0.1:54321</td></tr>\n",
              "<tr><td>H2O_connection_proxy:</td>\n",
              "<td>{\"http\": null, \"https\": null}</td></tr>\n",
              "<tr><td>H2O_internal_security:</td>\n",
              "<td>False</td></tr>\n",
              "<tr><td>H2O_API_Extensions:</td>\n",
              "<td>Amazon S3, XGBoost, Algos, AutoML, Core V3, TargetEncoder, Core V4</td></tr>\n",
              "<tr><td>Python_version:</td>\n",
              "<td>3.6.9 final</td></tr></table></div>"
            ],
            "text/plain": [
              "--------------------------  ------------------------------------------------------------------\n",
              "H2O_cluster_uptime:         02 secs\n",
              "H2O_cluster_timezone:       Etc/UTC\n",
              "H2O_data_parsing_timezone:  UTC\n",
              "H2O_cluster_version:        3.30.0.1\n",
              "H2O_cluster_version_age:    10 days\n",
              "H2O_cluster_name:           H2O_from_python_unknownUser_trht79\n",
              "H2O_cluster_total_nodes:    1\n",
              "H2O_cluster_free_memory:    6.379 Gb\n",
              "H2O_cluster_total_cores:    4\n",
              "H2O_cluster_allowed_cores:  4\n",
              "H2O_cluster_status:         accepting new members, healthy\n",
              "H2O_connection_url:         http://127.0.0.1:54321\n",
              "H2O_connection_proxy:       {\"http\": null, \"https\": null}\n",
              "H2O_internal_security:      False\n",
              "H2O_API_Extensions:         Amazon S3, XGBoost, Algos, AutoML, Core V3, TargetEncoder, Core V4\n",
              "Python_version:             3.6.9 final\n",
              "--------------------------  ------------------------------------------------------------------"
            ]
          },
          "metadata": {
            "tags": []
          }
        }
      ]
    },
    {
      "cell_type": "code",
      "metadata": {
        "id": "lS5toiTotfKI",
        "colab_type": "code",
        "outputId": "50497d84-ffcd-4981-8723-688a54bb7346",
        "colab": {
          "base_uri": "https://localhost:8080/",
          "height": 51
        }
      },
      "source": [
        "# Executando AutoML para 20 modelos, com limite max de \n",
        "# execução de 6000 s e 600 s por modelo\n",
        "aml = H2OAutoML(max_models=20, seed=10, max_runtime_secs=6000, \n",
        "                max_runtime_secs_per_model=600, sort_metric='logloss')\n",
        "# Iniciando Treinamento\n",
        "aml.train(x=features, y=target, training_frame=h2o.H2OFrame(\n",
        "    pd.concat([balanced_X_train, balanced_y_train], axis=1)))"
      ],
      "execution_count": 106,
      "outputs": [
        {
          "output_type": "stream",
          "text": [
            "Parse progress: |█████████████████████████████████████████████████████████| 100%\n",
            "AutoML progress: |████████████████████████████████████████████████████████| 100%\n"
          ],
          "name": "stdout"
        }
      ]
    },
    {
      "cell_type": "code",
      "metadata": {
        "id": "xJle1aNSuOuy",
        "colab_type": "code",
        "outputId": "1ca15387-a789-40f7-f3b7-0c840ad27728",
        "colab": {
          "base_uri": "https://localhost:8080/",
          "height": 502
        }
      },
      "source": [
        "# Obtem uma tabela com os modelos testados e suas métricas\n",
        "lb = get_leaderboard(aml, extra_columns='ALL')\n",
        "lb.head(rows=lb.nrows)"
      ],
      "execution_count": 107,
      "outputs": [
        {
          "output_type": "display_data",
          "data": {
            "text/html": [
              "<table>\n",
              "<thead>\n",
              "<tr><th>model_id                                           </th><th style=\"text-align: right;\">  logloss</th><th style=\"text-align: right;\">  mean_per_class_error</th><th style=\"text-align: right;\">     rmse</th><th style=\"text-align: right;\">       mse</th><th style=\"text-align: right;\">  training_time_ms</th><th style=\"text-align: right;\">  predict_time_per_row_ms</th></tr>\n",
              "</thead>\n",
              "<tbody>\n",
              "<tr><td>GBM_grid__1_AutoML_20200410_150537_model_1         </td><td style=\"text-align: right;\">0.0212255</td><td style=\"text-align: right;\">            0.00705106</td><td style=\"text-align: right;\">0.0744785</td><td style=\"text-align: right;\">0.00554704</td><td style=\"text-align: right;\">            101030</td><td style=\"text-align: right;\">                 0.017959</td></tr>\n",
              "<tr><td>XGBoost_grid__1_AutoML_20200410_150537_model_1     </td><td style=\"text-align: right;\">0.0301429</td><td style=\"text-align: right;\">            0.0100331 </td><td style=\"text-align: right;\">0.0889327</td><td style=\"text-align: right;\">0.00790902</td><td style=\"text-align: right;\">            142137</td><td style=\"text-align: right;\">                 0.002116</td></tr>\n",
              "<tr><td>StackedEnsemble_AllModels_AutoML_20200410_150537   </td><td style=\"text-align: right;\">0.0307664</td><td style=\"text-align: right;\">            0.00785281</td><td style=\"text-align: right;\">0.0815859</td><td style=\"text-align: right;\">0.00665625</td><td style=\"text-align: right;\">            294329</td><td style=\"text-align: right;\">                 0.117313</td></tr>\n",
              "<tr><td>StackedEnsemble_BestOfFamily_AutoML_20200410_150537</td><td style=\"text-align: right;\">0.0309271</td><td style=\"text-align: right;\">            0.0075106 </td><td style=\"text-align: right;\">0.0800303</td><td style=\"text-align: right;\">0.00640484</td><td style=\"text-align: right;\">             87168</td><td style=\"text-align: right;\">                 0.029142</td></tr>\n",
              "<tr><td>XGBoost_2_AutoML_20200410_150537                   </td><td style=\"text-align: right;\">0.0604786</td><td style=\"text-align: right;\">            0.0175883 </td><td style=\"text-align: right;\">0.124791 </td><td style=\"text-align: right;\">0.0155728 </td><td style=\"text-align: right;\">             47715</td><td style=\"text-align: right;\">                 0.00096 </td></tr>\n",
              "<tr><td>GBM_4_AutoML_20200410_150537                       </td><td style=\"text-align: right;\">0.0715908</td><td style=\"text-align: right;\">            0.0210533 </td><td style=\"text-align: right;\">0.137033 </td><td style=\"text-align: right;\">0.018778  </td><td style=\"text-align: right;\">             24462</td><td style=\"text-align: right;\">                 0.012733</td></tr>\n",
              "<tr><td>GBM_5_AutoML_20200410_150537                       </td><td style=\"text-align: right;\">0.0732891</td><td style=\"text-align: right;\">            0.0223669 </td><td style=\"text-align: right;\">0.140079 </td><td style=\"text-align: right;\">0.0196221 </td><td style=\"text-align: right;\">             24719</td><td style=\"text-align: right;\">                 0.007523</td></tr>\n",
              "<tr><td>XGBoost_grid__1_AutoML_20200410_150537_model_3     </td><td style=\"text-align: right;\">0.0867899</td><td style=\"text-align: right;\">            0.0269786 </td><td style=\"text-align: right;\">0.152798 </td><td style=\"text-align: right;\">0.0233472 </td><td style=\"text-align: right;\">            111135</td><td style=\"text-align: right;\">                 0.002437</td></tr>\n",
              "<tr><td>GBM_3_AutoML_20200410_150537                       </td><td style=\"text-align: right;\">0.0946541</td><td style=\"text-align: right;\">            0.0293517 </td><td style=\"text-align: right;\">0.160261 </td><td style=\"text-align: right;\">0.0256835 </td><td style=\"text-align: right;\">             24662</td><td style=\"text-align: right;\">                 0.009836</td></tr>\n",
              "<tr><td>XGBoost_grid__1_AutoML_20200410_150537_model_2     </td><td style=\"text-align: right;\">0.0988431</td><td style=\"text-align: right;\">            0.0319602 </td><td style=\"text-align: right;\">0.16486  </td><td style=\"text-align: right;\">0.0271789 </td><td style=\"text-align: right;\">            127033</td><td style=\"text-align: right;\">                 0.003186</td></tr>\n",
              "<tr><td>XGBoost_1_AutoML_20200410_150537                   </td><td style=\"text-align: right;\">0.104515 </td><td style=\"text-align: right;\">            0.0336456 </td><td style=\"text-align: right;\">0.169856 </td><td style=\"text-align: right;\">0.0288511 </td><td style=\"text-align: right;\">             39713</td><td style=\"text-align: right;\">                 0.001135</td></tr>\n",
              "<tr><td>GBM_2_AutoML_20200410_150537                       </td><td style=\"text-align: right;\">0.108219 </td><td style=\"text-align: right;\">            0.0352499 </td><td style=\"text-align: right;\">0.173117 </td><td style=\"text-align: right;\">0.0299695 </td><td style=\"text-align: right;\">             21541</td><td style=\"text-align: right;\">                 0.009946</td></tr>\n",
              "<tr><td>GBM_grid__1_AutoML_20200410_150537_model_3         </td><td style=\"text-align: right;\">0.116019 </td><td style=\"text-align: right;\">            0.0401033 </td><td style=\"text-align: right;\">0.181985 </td><td style=\"text-align: right;\">0.0331184 </td><td style=\"text-align: right;\">             33718</td><td style=\"text-align: right;\">                 0.020802</td></tr>\n",
              "<tr><td>GBM_1_AutoML_20200410_150537                       </td><td style=\"text-align: right;\">0.128078 </td><td style=\"text-align: right;\">            0.0427253 </td><td style=\"text-align: right;\">0.190441 </td><td style=\"text-align: right;\">0.0362677 </td><td style=\"text-align: right;\">             25118</td><td style=\"text-align: right;\">                 0.010886</td></tr>\n",
              "<tr><td>GBM_grid__1_AutoML_20200410_150537_model_2         </td><td style=\"text-align: right;\">0.150057 </td><td style=\"text-align: right;\">            0.0487602 </td><td style=\"text-align: right;\">0.205576 </td><td style=\"text-align: right;\">0.0422613 </td><td style=\"text-align: right;\">             16427</td><td style=\"text-align: right;\">                 0.005908</td></tr>\n",
              "<tr><td>XGBoost_3_AutoML_20200410_150537                   </td><td style=\"text-align: right;\">0.170503 </td><td style=\"text-align: right;\">            0.057608  </td><td style=\"text-align: right;\">0.223655 </td><td style=\"text-align: right;\">0.0500214 </td><td style=\"text-align: right;\">             39124</td><td style=\"text-align: right;\">                 0.001078</td></tr>\n",
              "<tr><td>DRF_1_AutoML_20200410_150537                       </td><td style=\"text-align: right;\">0.294469 </td><td style=\"text-align: right;\">            0.0703137 </td><td style=\"text-align: right;\">0.289463 </td><td style=\"text-align: right;\">0.0837887 </td><td style=\"text-align: right;\">             12659</td><td style=\"text-align: right;\">                 0.004464</td></tr>\n",
              "<tr><td>XRT_1_AutoML_20200410_150537                       </td><td style=\"text-align: right;\">0.308388 </td><td style=\"text-align: right;\">            0.0707263 </td><td style=\"text-align: right;\">0.297004 </td><td style=\"text-align: right;\">0.0882112 </td><td style=\"text-align: right;\">             14788</td><td style=\"text-align: right;\">                 0.004415</td></tr>\n",
              "<tr><td>DeepLearning_1_AutoML_20200410_150537              </td><td style=\"text-align: right;\">0.421193 </td><td style=\"text-align: right;\">            0.184697  </td><td style=\"text-align: right;\">0.36985  </td><td style=\"text-align: right;\">0.136789  </td><td style=\"text-align: right;\">             11935</td><td style=\"text-align: right;\">                 0.000254</td></tr>\n",
              "<tr><td>DeepLearning_grid__2_AutoML_20200410_150537_model_1</td><td style=\"text-align: right;\">0.445896 </td><td style=\"text-align: right;\">            0.174554  </td><td style=\"text-align: right;\">0.37574  </td><td style=\"text-align: right;\">0.141181  </td><td style=\"text-align: right;\">             71423</td><td style=\"text-align: right;\">                 0.004885</td></tr>\n",
              "<tr><td>DeepLearning_grid__1_AutoML_20200410_150537_model_1</td><td style=\"text-align: right;\">0.557142 </td><td style=\"text-align: right;\">            0.192782  </td><td style=\"text-align: right;\">0.407034 </td><td style=\"text-align: right;\">0.165677  </td><td style=\"text-align: right;\">             75906</td><td style=\"text-align: right;\">                 0.000869</td></tr>\n",
              "<tr><td>GLM_1_AutoML_20200410_150537                       </td><td style=\"text-align: right;\">1.27804  </td><td style=\"text-align: right;\">            0.611315  </td><td style=\"text-align: right;\">0.708707 </td><td style=\"text-align: right;\">0.502265  </td><td style=\"text-align: right;\">              9769</td><td style=\"text-align: right;\">                 6.1e-05 </td></tr>\n",
              "</tbody>\n",
              "</table>"
            ]
          },
          "metadata": {
            "tags": []
          }
        },
        {
          "output_type": "execute_result",
          "data": {
            "text/plain": [
              ""
            ]
          },
          "metadata": {
            "tags": []
          },
          "execution_count": 107
        }
      ]
    },
    {
      "cell_type": "code",
      "metadata": {
        "id": "kPdGKaypeEUp",
        "colab_type": "code",
        "outputId": "365e20d3-e4a5-4357-addd-9894b8aba929",
        "colab": {
          "base_uri": "https://localhost:8080/",
          "height": 1000
        }
      },
      "source": [
        "aml.leader"
      ],
      "execution_count": 108,
      "outputs": [
        {
          "output_type": "stream",
          "text": [
            "Model Details\n",
            "=============\n",
            "H2OGradientBoostingEstimator :  Gradient Boosting Machine\n",
            "Model Key:  GBM_grid__1_AutoML_20200410_150537_model_1\n",
            "\n",
            "\n",
            "Model Summary: \n"
          ],
          "name": "stdout"
        },
        {
          "output_type": "display_data",
          "data": {
            "text/html": [
              "<div>\n",
              "<style scoped>\n",
              "    .dataframe tbody tr th:only-of-type {\n",
              "        vertical-align: middle;\n",
              "    }\n",
              "\n",
              "    .dataframe tbody tr th {\n",
              "        vertical-align: top;\n",
              "    }\n",
              "\n",
              "    .dataframe thead th {\n",
              "        text-align: right;\n",
              "    }\n",
              "</style>\n",
              "<table border=\"1\" class=\"dataframe\">\n",
              "  <thead>\n",
              "    <tr style=\"text-align: right;\">\n",
              "      <th></th>\n",
              "      <th></th>\n",
              "      <th>number_of_trees</th>\n",
              "      <th>number_of_internal_trees</th>\n",
              "      <th>model_size_in_bytes</th>\n",
              "      <th>min_depth</th>\n",
              "      <th>max_depth</th>\n",
              "      <th>mean_depth</th>\n",
              "      <th>min_leaves</th>\n",
              "      <th>max_leaves</th>\n",
              "      <th>mean_leaves</th>\n",
              "    </tr>\n",
              "  </thead>\n",
              "  <tbody>\n",
              "    <tr>\n",
              "      <th>0</th>\n",
              "      <td></td>\n",
              "      <td>136.0</td>\n",
              "      <td>544.0</td>\n",
              "      <td>34539220.0</td>\n",
              "      <td>16.0</td>\n",
              "      <td>16.0</td>\n",
              "      <td>16.0</td>\n",
              "      <td>746.0</td>\n",
              "      <td>8760.0</td>\n",
              "      <td>5058.3916</td>\n",
              "    </tr>\n",
              "  </tbody>\n",
              "</table>\n",
              "</div>"
            ],
            "text/plain": [
              "     number_of_trees  ...  max_leaves  mean_leaves\n",
              "0              136.0  ...      8760.0    5058.3916\n",
              "\n",
              "[1 rows x 10 columns]"
            ]
          },
          "metadata": {
            "tags": []
          }
        },
        {
          "output_type": "stream",
          "text": [
            "\n",
            "\n",
            "ModelMetricsMultinomial: gbm\n",
            "** Reported on train data. **\n",
            "\n",
            "MSE: 2.9175181985310367e-07\n",
            "RMSE: 0.0005401405556455687\n",
            "LogLoss: 0.000182198793627346\n",
            "Mean Per-Class Error: 0.0\n",
            "\n",
            "Confusion Matrix: Row labels: Actual class; Column labels: Predicted class\n"
          ],
          "name": "stdout"
        },
        {
          "output_type": "display_data",
          "data": {
            "text/html": [
              "<div>\n",
              "<style scoped>\n",
              "    .dataframe tbody tr th:only-of-type {\n",
              "        vertical-align: middle;\n",
              "    }\n",
              "\n",
              "    .dataframe tbody tr th {\n",
              "        vertical-align: top;\n",
              "    }\n",
              "\n",
              "    .dataframe thead th {\n",
              "        text-align: right;\n",
              "    }\n",
              "</style>\n",
              "<table border=\"1\" class=\"dataframe\">\n",
              "  <thead>\n",
              "    <tr style=\"text-align: right;\">\n",
              "      <th></th>\n",
              "      <th>A</th>\n",
              "      <th>B</th>\n",
              "      <th>C</th>\n",
              "      <th>D</th>\n",
              "      <th>Error</th>\n",
              "      <th>Rate</th>\n",
              "    </tr>\n",
              "  </thead>\n",
              "  <tbody>\n",
              "    <tr>\n",
              "      <th>0</th>\n",
              "      <td>104469.0</td>\n",
              "      <td>0.0</td>\n",
              "      <td>0.0</td>\n",
              "      <td>0.0</td>\n",
              "      <td>0.0</td>\n",
              "      <td>0 / 104,469</td>\n",
              "    </tr>\n",
              "    <tr>\n",
              "      <th>1</th>\n",
              "      <td>0.0</td>\n",
              "      <td>104391.0</td>\n",
              "      <td>0.0</td>\n",
              "      <td>0.0</td>\n",
              "      <td>0.0</td>\n",
              "      <td>0 / 104,391</td>\n",
              "    </tr>\n",
              "    <tr>\n",
              "      <th>2</th>\n",
              "      <td>0.0</td>\n",
              "      <td>0.0</td>\n",
              "      <td>104566.0</td>\n",
              "      <td>0.0</td>\n",
              "      <td>0.0</td>\n",
              "      <td>0 / 104,566</td>\n",
              "    </tr>\n",
              "    <tr>\n",
              "      <th>3</th>\n",
              "      <td>0.0</td>\n",
              "      <td>0.0</td>\n",
              "      <td>0.0</td>\n",
              "      <td>104359.0</td>\n",
              "      <td>0.0</td>\n",
              "      <td>0 / 104,359</td>\n",
              "    </tr>\n",
              "    <tr>\n",
              "      <th>4</th>\n",
              "      <td>104469.0</td>\n",
              "      <td>104391.0</td>\n",
              "      <td>104566.0</td>\n",
              "      <td>104359.0</td>\n",
              "      <td>0.0</td>\n",
              "      <td>0 / 417,785</td>\n",
              "    </tr>\n",
              "  </tbody>\n",
              "</table>\n",
              "</div>"
            ],
            "text/plain": [
              "          A         B         C         D  Error         Rate\n",
              "0  104469.0       0.0       0.0       0.0    0.0  0 / 104,469\n",
              "1       0.0  104391.0       0.0       0.0    0.0  0 / 104,391\n",
              "2       0.0       0.0  104566.0       0.0    0.0  0 / 104,566\n",
              "3       0.0       0.0       0.0  104359.0    0.0  0 / 104,359\n",
              "4  104469.0  104391.0  104566.0  104359.0    0.0  0 / 417,785"
            ]
          },
          "metadata": {
            "tags": []
          }
        },
        {
          "output_type": "stream",
          "text": [
            "\n",
            "Top-4 Hit Ratios: \n"
          ],
          "name": "stdout"
        },
        {
          "output_type": "display_data",
          "data": {
            "text/html": [
              "<div>\n",
              "<style scoped>\n",
              "    .dataframe tbody tr th:only-of-type {\n",
              "        vertical-align: middle;\n",
              "    }\n",
              "\n",
              "    .dataframe tbody tr th {\n",
              "        vertical-align: top;\n",
              "    }\n",
              "\n",
              "    .dataframe thead th {\n",
              "        text-align: right;\n",
              "    }\n",
              "</style>\n",
              "<table border=\"1\" class=\"dataframe\">\n",
              "  <thead>\n",
              "    <tr style=\"text-align: right;\">\n",
              "      <th></th>\n",
              "      <th>k</th>\n",
              "      <th>hit_ratio</th>\n",
              "    </tr>\n",
              "  </thead>\n",
              "  <tbody>\n",
              "    <tr>\n",
              "      <th>0</th>\n",
              "      <td>1</td>\n",
              "      <td>1.0</td>\n",
              "    </tr>\n",
              "    <tr>\n",
              "      <th>1</th>\n",
              "      <td>2</td>\n",
              "      <td>1.0</td>\n",
              "    </tr>\n",
              "    <tr>\n",
              "      <th>2</th>\n",
              "      <td>3</td>\n",
              "      <td>1.0</td>\n",
              "    </tr>\n",
              "    <tr>\n",
              "      <th>3</th>\n",
              "      <td>4</td>\n",
              "      <td>1.0</td>\n",
              "    </tr>\n",
              "  </tbody>\n",
              "</table>\n",
              "</div>"
            ],
            "text/plain": [
              "   k  hit_ratio\n",
              "0  1        1.0\n",
              "1  2        1.0\n",
              "2  3        1.0\n",
              "3  4        1.0"
            ]
          },
          "metadata": {
            "tags": []
          }
        },
        {
          "output_type": "stream",
          "text": [
            "\n",
            "ModelMetricsMultinomial: gbm\n",
            "** Reported on cross-validation data. **\n",
            "\n",
            "MSE: 0.0055470402069107885\n",
            "RMSE: 0.07447845464905128\n",
            "LogLoss: 0.02122546272372881\n",
            "Mean Per-Class Error: 0.007051059136918395\n",
            "\n",
            "Confusion Matrix: Row labels: Actual class; Column labels: Predicted class\n"
          ],
          "name": "stdout"
        },
        {
          "output_type": "display_data",
          "data": {
            "text/html": [
              "<div>\n",
              "<style scoped>\n",
              "    .dataframe tbody tr th:only-of-type {\n",
              "        vertical-align: middle;\n",
              "    }\n",
              "\n",
              "    .dataframe tbody tr th {\n",
              "        vertical-align: top;\n",
              "    }\n",
              "\n",
              "    .dataframe thead th {\n",
              "        text-align: right;\n",
              "    }\n",
              "</style>\n",
              "<table border=\"1\" class=\"dataframe\">\n",
              "  <thead>\n",
              "    <tr style=\"text-align: right;\">\n",
              "      <th></th>\n",
              "      <th>A</th>\n",
              "      <th>B</th>\n",
              "      <th>C</th>\n",
              "      <th>D</th>\n",
              "      <th>Error</th>\n",
              "      <th>Rate</th>\n",
              "    </tr>\n",
              "  </thead>\n",
              "  <tbody>\n",
              "    <tr>\n",
              "      <th>0</th>\n",
              "      <td>102827.0</td>\n",
              "      <td>543.0</td>\n",
              "      <td>1038.0</td>\n",
              "      <td>61.0</td>\n",
              "      <td>0.015718</td>\n",
              "      <td>1,642 / 104,469</td>\n",
              "    </tr>\n",
              "    <tr>\n",
              "      <th>1</th>\n",
              "      <td>607.0</td>\n",
              "      <td>103621.0</td>\n",
              "      <td>163.0</td>\n",
              "      <td>0.0</td>\n",
              "      <td>0.007376</td>\n",
              "      <td>770 / 104,391</td>\n",
              "    </tr>\n",
              "    <tr>\n",
              "      <th>2</th>\n",
              "      <td>296.0</td>\n",
              "      <td>27.0</td>\n",
              "      <td>104228.0</td>\n",
              "      <td>15.0</td>\n",
              "      <td>0.003232</td>\n",
              "      <td>338 / 104,566</td>\n",
              "    </tr>\n",
              "    <tr>\n",
              "      <th>3</th>\n",
              "      <td>193.0</td>\n",
              "      <td>0.0</td>\n",
              "      <td>3.0</td>\n",
              "      <td>104163.0</td>\n",
              "      <td>0.001878</td>\n",
              "      <td>196 / 104,359</td>\n",
              "    </tr>\n",
              "    <tr>\n",
              "      <th>4</th>\n",
              "      <td>103923.0</td>\n",
              "      <td>104191.0</td>\n",
              "      <td>105432.0</td>\n",
              "      <td>104239.0</td>\n",
              "      <td>0.007051</td>\n",
              "      <td>2,946 / 417,785</td>\n",
              "    </tr>\n",
              "  </tbody>\n",
              "</table>\n",
              "</div>"
            ],
            "text/plain": [
              "          A         B         C         D     Error             Rate\n",
              "0  102827.0     543.0    1038.0      61.0  0.015718  1,642 / 104,469\n",
              "1     607.0  103621.0     163.0       0.0  0.007376    770 / 104,391\n",
              "2     296.0      27.0  104228.0      15.0  0.003232    338 / 104,566\n",
              "3     193.0       0.0       3.0  104163.0  0.001878    196 / 104,359\n",
              "4  103923.0  104191.0  105432.0  104239.0  0.007051  2,946 / 417,785"
            ]
          },
          "metadata": {
            "tags": []
          }
        },
        {
          "output_type": "stream",
          "text": [
            "\n",
            "Top-4 Hit Ratios: \n"
          ],
          "name": "stdout"
        },
        {
          "output_type": "display_data",
          "data": {
            "text/html": [
              "<div>\n",
              "<style scoped>\n",
              "    .dataframe tbody tr th:only-of-type {\n",
              "        vertical-align: middle;\n",
              "    }\n",
              "\n",
              "    .dataframe tbody tr th {\n",
              "        vertical-align: top;\n",
              "    }\n",
              "\n",
              "    .dataframe thead th {\n",
              "        text-align: right;\n",
              "    }\n",
              "</style>\n",
              "<table border=\"1\" class=\"dataframe\">\n",
              "  <thead>\n",
              "    <tr style=\"text-align: right;\">\n",
              "      <th></th>\n",
              "      <th>k</th>\n",
              "      <th>hit_ratio</th>\n",
              "    </tr>\n",
              "  </thead>\n",
              "  <tbody>\n",
              "    <tr>\n",
              "      <th>0</th>\n",
              "      <td>1</td>\n",
              "      <td>0.992949</td>\n",
              "    </tr>\n",
              "    <tr>\n",
              "      <th>1</th>\n",
              "      <td>2</td>\n",
              "      <td>0.999691</td>\n",
              "    </tr>\n",
              "    <tr>\n",
              "      <th>2</th>\n",
              "      <td>3</td>\n",
              "      <td>0.999993</td>\n",
              "    </tr>\n",
              "    <tr>\n",
              "      <th>3</th>\n",
              "      <td>4</td>\n",
              "      <td>1.000000</td>\n",
              "    </tr>\n",
              "  </tbody>\n",
              "</table>\n",
              "</div>"
            ],
            "text/plain": [
              "   k  hit_ratio\n",
              "0  1   0.992949\n",
              "1  2   0.999691\n",
              "2  3   0.999993\n",
              "3  4   1.000000"
            ]
          },
          "metadata": {
            "tags": []
          }
        },
        {
          "output_type": "stream",
          "text": [
            "\n",
            "Cross-Validation Metrics Summary: \n"
          ],
          "name": "stdout"
        },
        {
          "output_type": "display_data",
          "data": {
            "text/html": [
              "<div>\n",
              "<style scoped>\n",
              "    .dataframe tbody tr th:only-of-type {\n",
              "        vertical-align: middle;\n",
              "    }\n",
              "\n",
              "    .dataframe tbody tr th {\n",
              "        vertical-align: top;\n",
              "    }\n",
              "\n",
              "    .dataframe thead th {\n",
              "        text-align: right;\n",
              "    }\n",
              "</style>\n",
              "<table border=\"1\" class=\"dataframe\">\n",
              "  <thead>\n",
              "    <tr style=\"text-align: right;\">\n",
              "      <th></th>\n",
              "      <th></th>\n",
              "      <th>mean</th>\n",
              "      <th>sd</th>\n",
              "      <th>cv_1_valid</th>\n",
              "      <th>cv_2_valid</th>\n",
              "      <th>cv_3_valid</th>\n",
              "      <th>cv_4_valid</th>\n",
              "      <th>cv_5_valid</th>\n",
              "    </tr>\n",
              "  </thead>\n",
              "  <tbody>\n",
              "    <tr>\n",
              "      <th>0</th>\n",
              "      <td>accuracy</td>\n",
              "      <td>0.99294853</td>\n",
              "      <td>3.7133222E-4</td>\n",
              "      <td>0.992544</td>\n",
              "      <td>0.9931065</td>\n",
              "      <td>0.9928672</td>\n",
              "      <td>0.9927235</td>\n",
              "      <td>0.9935014</td>\n",
              "    </tr>\n",
              "    <tr>\n",
              "      <th>1</th>\n",
              "      <td>err</td>\n",
              "      <td>0.007051474</td>\n",
              "      <td>3.7133222E-4</td>\n",
              "      <td>0.0074559883</td>\n",
              "      <td>0.006893498</td>\n",
              "      <td>0.0071328552</td>\n",
              "      <td>0.00727647</td>\n",
              "      <td>0.006498558</td>\n",
              "    </tr>\n",
              "    <tr>\n",
              "      <th>2</th>\n",
              "      <td>err_count</td>\n",
              "      <td>589.2</td>\n",
              "      <td>31.027407</td>\n",
              "      <td>623.0</td>\n",
              "      <td>576.0</td>\n",
              "      <td>596.0</td>\n",
              "      <td>608.0</td>\n",
              "      <td>543.0</td>\n",
              "    </tr>\n",
              "    <tr>\n",
              "      <th>3</th>\n",
              "      <td>logloss</td>\n",
              "      <td>0.021225464</td>\n",
              "      <td>4.2718608E-4</td>\n",
              "      <td>0.021581408</td>\n",
              "      <td>0.021050563</td>\n",
              "      <td>0.021197747</td>\n",
              "      <td>0.021678014</td>\n",
              "      <td>0.02061958</td>\n",
              "    </tr>\n",
              "    <tr>\n",
              "      <th>4</th>\n",
              "      <td>max_per_class_error</td>\n",
              "      <td>0.015718298</td>\n",
              "      <td>0.0012825482</td>\n",
              "      <td>0.01644768</td>\n",
              "      <td>0.015762499</td>\n",
              "      <td>0.015426759</td>\n",
              "      <td>0.01718675</td>\n",
              "      <td>0.013767805</td>\n",
              "    </tr>\n",
              "    <tr>\n",
              "      <th>5</th>\n",
              "      <td>mean_per_class_accuracy</td>\n",
              "      <td>0.9929485</td>\n",
              "      <td>3.6570214E-4</td>\n",
              "      <td>0.9925786</td>\n",
              "      <td>0.99308</td>\n",
              "      <td>0.99285233</td>\n",
              "      <td>0.99271834</td>\n",
              "      <td>0.993513</td>\n",
              "    </tr>\n",
              "    <tr>\n",
              "      <th>6</th>\n",
              "      <td>mean_per_class_error</td>\n",
              "      <td>0.007051546</td>\n",
              "      <td>3.6570214E-4</td>\n",
              "      <td>0.007421365</td>\n",
              "      <td>0.006919982</td>\n",
              "      <td>0.0071476847</td>\n",
              "      <td>0.007281668</td>\n",
              "      <td>0.00648703</td>\n",
              "    </tr>\n",
              "    <tr>\n",
              "      <th>7</th>\n",
              "      <td>mse</td>\n",
              "      <td>0.00554704</td>\n",
              "      <td>2.0310882E-4</td>\n",
              "      <td>0.0057663093</td>\n",
              "      <td>0.0054638777</td>\n",
              "      <td>0.0056182467</td>\n",
              "      <td>0.0056476607</td>\n",
              "      <td>0.0052391067</td>\n",
              "    </tr>\n",
              "    <tr>\n",
              "      <th>8</th>\n",
              "      <td>r2</td>\n",
              "      <td>0.9955613</td>\n",
              "      <td>1.5987207E-4</td>\n",
              "      <td>0.9954006</td>\n",
              "      <td>0.99561906</td>\n",
              "      <td>0.9955055</td>\n",
              "      <td>0.99547124</td>\n",
              "      <td>0.99581003</td>\n",
              "    </tr>\n",
              "    <tr>\n",
              "      <th>9</th>\n",
              "      <td>rmse</td>\n",
              "      <td>0.07446837</td>\n",
              "      <td>0.0013706186</td>\n",
              "      <td>0.07593622</td>\n",
              "      <td>0.073918045</td>\n",
              "      <td>0.074954964</td>\n",
              "      <td>0.075150914</td>\n",
              "      <td>0.072381675</td>\n",
              "    </tr>\n",
              "  </tbody>\n",
              "</table>\n",
              "</div>"
            ],
            "text/plain": [
              "                                   mean  ...    cv_4_valid    cv_5_valid\n",
              "0                 accuracy   0.99294853  ...     0.9927235     0.9935014\n",
              "1                      err  0.007051474  ...    0.00727647   0.006498558\n",
              "2                err_count        589.2  ...         608.0         543.0\n",
              "3                  logloss  0.021225464  ...   0.021678014    0.02061958\n",
              "4      max_per_class_error  0.015718298  ...    0.01718675   0.013767805\n",
              "5  mean_per_class_accuracy    0.9929485  ...    0.99271834      0.993513\n",
              "6     mean_per_class_error  0.007051546  ...   0.007281668    0.00648703\n",
              "7                      mse   0.00554704  ...  0.0056476607  0.0052391067\n",
              "8                       r2    0.9955613  ...    0.99547124    0.99581003\n",
              "9                     rmse   0.07446837  ...   0.075150914   0.072381675\n",
              "\n",
              "[10 rows x 8 columns]"
            ]
          },
          "metadata": {
            "tags": []
          }
        },
        {
          "output_type": "stream",
          "text": [
            "\n",
            "Scoring History: \n"
          ],
          "name": "stdout"
        },
        {
          "output_type": "display_data",
          "data": {
            "text/html": [
              "<div>\n",
              "<style scoped>\n",
              "    .dataframe tbody tr th:only-of-type {\n",
              "        vertical-align: middle;\n",
              "    }\n",
              "\n",
              "    .dataframe tbody tr th {\n",
              "        vertical-align: top;\n",
              "    }\n",
              "\n",
              "    .dataframe thead th {\n",
              "        text-align: right;\n",
              "    }\n",
              "</style>\n",
              "<table border=\"1\" class=\"dataframe\">\n",
              "  <thead>\n",
              "    <tr style=\"text-align: right;\">\n",
              "      <th></th>\n",
              "      <th></th>\n",
              "      <th>timestamp</th>\n",
              "      <th>duration</th>\n",
              "      <th>number_of_trees</th>\n",
              "      <th>training_rmse</th>\n",
              "      <th>training_logloss</th>\n",
              "      <th>training_classification_error</th>\n",
              "    </tr>\n",
              "  </thead>\n",
              "  <tbody>\n",
              "    <tr>\n",
              "      <th>0</th>\n",
              "      <td></td>\n",
              "      <td>2020-04-10 16:11:30</td>\n",
              "      <td>7 min 30.710 sec</td>\n",
              "      <td>0.0</td>\n",
              "      <td>0.750000</td>\n",
              "      <td>1.386294</td>\n",
              "      <td>0.749852</td>\n",
              "    </tr>\n",
              "    <tr>\n",
              "      <th>1</th>\n",
              "      <td></td>\n",
              "      <td>2020-04-10 16:11:33</td>\n",
              "      <td>7 min 33.795 sec</td>\n",
              "      <td>5.0</td>\n",
              "      <td>0.461403</td>\n",
              "      <td>0.620243</td>\n",
              "      <td>0.035037</td>\n",
              "    </tr>\n",
              "    <tr>\n",
              "      <th>2</th>\n",
              "      <td></td>\n",
              "      <td>2020-04-10 16:11:37</td>\n",
              "      <td>7 min 37.341 sec</td>\n",
              "      <td>10.0</td>\n",
              "      <td>0.312398</td>\n",
              "      <td>0.364005</td>\n",
              "      <td>0.025745</td>\n",
              "    </tr>\n",
              "    <tr>\n",
              "      <th>3</th>\n",
              "      <td></td>\n",
              "      <td>2020-04-10 16:11:41</td>\n",
              "      <td>7 min 41.065 sec</td>\n",
              "      <td>15.0</td>\n",
              "      <td>0.220699</td>\n",
              "      <td>0.223831</td>\n",
              "      <td>0.020324</td>\n",
              "    </tr>\n",
              "    <tr>\n",
              "      <th>4</th>\n",
              "      <td></td>\n",
              "      <td>2020-04-10 16:11:45</td>\n",
              "      <td>7 min 44.990 sec</td>\n",
              "      <td>20.0</td>\n",
              "      <td>0.171520</td>\n",
              "      <td>0.151190</td>\n",
              "      <td>0.015314</td>\n",
              "    </tr>\n",
              "    <tr>\n",
              "      <th>5</th>\n",
              "      <td></td>\n",
              "      <td>2020-04-10 16:11:48</td>\n",
              "      <td>7 min 48.777 sec</td>\n",
              "      <td>25.0</td>\n",
              "      <td>0.133352</td>\n",
              "      <td>0.100140</td>\n",
              "      <td>0.010379</td>\n",
              "    </tr>\n",
              "    <tr>\n",
              "      <th>6</th>\n",
              "      <td></td>\n",
              "      <td>2020-04-10 16:11:52</td>\n",
              "      <td>7 min 52.746 sec</td>\n",
              "      <td>30.0</td>\n",
              "      <td>0.104721</td>\n",
              "      <td>0.065022</td>\n",
              "      <td>0.006625</td>\n",
              "    </tr>\n",
              "    <tr>\n",
              "      <th>7</th>\n",
              "      <td></td>\n",
              "      <td>2020-04-10 16:11:56</td>\n",
              "      <td>7 min 56.759 sec</td>\n",
              "      <td>35.0</td>\n",
              "      <td>0.084826</td>\n",
              "      <td>0.044570</td>\n",
              "      <td>0.003945</td>\n",
              "    </tr>\n",
              "    <tr>\n",
              "      <th>8</th>\n",
              "      <td></td>\n",
              "      <td>2020-04-10 16:12:00</td>\n",
              "      <td>8 min  0.535 sec</td>\n",
              "      <td>40.0</td>\n",
              "      <td>0.069586</td>\n",
              "      <td>0.033010</td>\n",
              "      <td>0.002090</td>\n",
              "    </tr>\n",
              "    <tr>\n",
              "      <th>9</th>\n",
              "      <td></td>\n",
              "      <td>2020-04-10 16:12:04</td>\n",
              "      <td>8 min  4.502 sec</td>\n",
              "      <td>45.0</td>\n",
              "      <td>0.054873</td>\n",
              "      <td>0.023765</td>\n",
              "      <td>0.000910</td>\n",
              "    </tr>\n",
              "    <tr>\n",
              "      <th>10</th>\n",
              "      <td></td>\n",
              "      <td>2020-04-10 16:12:08</td>\n",
              "      <td>8 min  8.349 sec</td>\n",
              "      <td>50.0</td>\n",
              "      <td>0.044718</td>\n",
              "      <td>0.017475</td>\n",
              "      <td>0.000419</td>\n",
              "    </tr>\n",
              "    <tr>\n",
              "      <th>11</th>\n",
              "      <td></td>\n",
              "      <td>2020-04-10 16:12:12</td>\n",
              "      <td>8 min 12.268 sec</td>\n",
              "      <td>55.0</td>\n",
              "      <td>0.035275</td>\n",
              "      <td>0.012864</td>\n",
              "      <td>0.000139</td>\n",
              "    </tr>\n",
              "    <tr>\n",
              "      <th>12</th>\n",
              "      <td></td>\n",
              "      <td>2020-04-10 16:12:16</td>\n",
              "      <td>8 min 15.964 sec</td>\n",
              "      <td>60.0</td>\n",
              "      <td>0.028401</td>\n",
              "      <td>0.009875</td>\n",
              "      <td>0.000048</td>\n",
              "    </tr>\n",
              "    <tr>\n",
              "      <th>13</th>\n",
              "      <td></td>\n",
              "      <td>2020-04-10 16:12:19</td>\n",
              "      <td>8 min 19.755 sec</td>\n",
              "      <td>65.0</td>\n",
              "      <td>0.021987</td>\n",
              "      <td>0.007383</td>\n",
              "      <td>0.000010</td>\n",
              "    </tr>\n",
              "    <tr>\n",
              "      <th>14</th>\n",
              "      <td></td>\n",
              "      <td>2020-04-10 16:12:23</td>\n",
              "      <td>8 min 23.460 sec</td>\n",
              "      <td>70.0</td>\n",
              "      <td>0.017011</td>\n",
              "      <td>0.005794</td>\n",
              "      <td>0.000002</td>\n",
              "    </tr>\n",
              "    <tr>\n",
              "      <th>15</th>\n",
              "      <td></td>\n",
              "      <td>2020-04-10 16:12:27</td>\n",
              "      <td>8 min 27.410 sec</td>\n",
              "      <td>75.0</td>\n",
              "      <td>0.012866</td>\n",
              "      <td>0.004378</td>\n",
              "      <td>0.000000</td>\n",
              "    </tr>\n",
              "    <tr>\n",
              "      <th>16</th>\n",
              "      <td></td>\n",
              "      <td>2020-04-10 16:12:31</td>\n",
              "      <td>8 min 31.190 sec</td>\n",
              "      <td>80.0</td>\n",
              "      <td>0.009852</td>\n",
              "      <td>0.003360</td>\n",
              "      <td>0.000000</td>\n",
              "    </tr>\n",
              "    <tr>\n",
              "      <th>17</th>\n",
              "      <td></td>\n",
              "      <td>2020-04-10 16:12:34</td>\n",
              "      <td>8 min 34.863 sec</td>\n",
              "      <td>85.0</td>\n",
              "      <td>0.007490</td>\n",
              "      <td>0.002516</td>\n",
              "      <td>0.000000</td>\n",
              "    </tr>\n",
              "    <tr>\n",
              "      <th>18</th>\n",
              "      <td></td>\n",
              "      <td>2020-04-10 16:12:38</td>\n",
              "      <td>8 min 38.523 sec</td>\n",
              "      <td>90.0</td>\n",
              "      <td>0.005823</td>\n",
              "      <td>0.001948</td>\n",
              "      <td>0.000000</td>\n",
              "    </tr>\n",
              "    <tr>\n",
              "      <th>19</th>\n",
              "      <td></td>\n",
              "      <td>2020-04-10 16:12:42</td>\n",
              "      <td>8 min 42.092 sec</td>\n",
              "      <td>95.0</td>\n",
              "      <td>0.004674</td>\n",
              "      <td>0.001535</td>\n",
              "      <td>0.000000</td>\n",
              "    </tr>\n",
              "  </tbody>\n",
              "</table>\n",
              "</div>"
            ],
            "text/plain": [
              "                timestamp  ... training_logloss  training_classification_error\n",
              "0     2020-04-10 16:11:30  ...         1.386294                       0.749852\n",
              "1     2020-04-10 16:11:33  ...         0.620243                       0.035037\n",
              "2     2020-04-10 16:11:37  ...         0.364005                       0.025745\n",
              "3     2020-04-10 16:11:41  ...         0.223831                       0.020324\n",
              "4     2020-04-10 16:11:45  ...         0.151190                       0.015314\n",
              "5     2020-04-10 16:11:48  ...         0.100140                       0.010379\n",
              "6     2020-04-10 16:11:52  ...         0.065022                       0.006625\n",
              "7     2020-04-10 16:11:56  ...         0.044570                       0.003945\n",
              "8     2020-04-10 16:12:00  ...         0.033010                       0.002090\n",
              "9     2020-04-10 16:12:04  ...         0.023765                       0.000910\n",
              "10    2020-04-10 16:12:08  ...         0.017475                       0.000419\n",
              "11    2020-04-10 16:12:12  ...         0.012864                       0.000139\n",
              "12    2020-04-10 16:12:16  ...         0.009875                       0.000048\n",
              "13    2020-04-10 16:12:19  ...         0.007383                       0.000010\n",
              "14    2020-04-10 16:12:23  ...         0.005794                       0.000002\n",
              "15    2020-04-10 16:12:27  ...         0.004378                       0.000000\n",
              "16    2020-04-10 16:12:31  ...         0.003360                       0.000000\n",
              "17    2020-04-10 16:12:34  ...         0.002516                       0.000000\n",
              "18    2020-04-10 16:12:38  ...         0.001948                       0.000000\n",
              "19    2020-04-10 16:12:42  ...         0.001535                       0.000000\n",
              "\n",
              "[20 rows x 7 columns]"
            ]
          },
          "metadata": {
            "tags": []
          }
        },
        {
          "output_type": "stream",
          "text": [
            "\n",
            "See the whole table with table.as_data_frame()\n",
            "\n",
            "Variable Importances: \n"
          ],
          "name": "stdout"
        },
        {
          "output_type": "display_data",
          "data": {
            "text/html": [
              "<div>\n",
              "<style scoped>\n",
              "    .dataframe tbody tr th:only-of-type {\n",
              "        vertical-align: middle;\n",
              "    }\n",
              "\n",
              "    .dataframe tbody tr th {\n",
              "        vertical-align: top;\n",
              "    }\n",
              "\n",
              "    .dataframe thead th {\n",
              "        text-align: right;\n",
              "    }\n",
              "</style>\n",
              "<table border=\"1\" class=\"dataframe\">\n",
              "  <thead>\n",
              "    <tr style=\"text-align: right;\">\n",
              "      <th></th>\n",
              "      <th>variable</th>\n",
              "      <th>relative_importance</th>\n",
              "      <th>scaled_importance</th>\n",
              "      <th>percentage</th>\n",
              "    </tr>\n",
              "  </thead>\n",
              "  <tbody>\n",
              "    <tr>\n",
              "      <th>0</th>\n",
              "      <td>r</td>\n",
              "      <td>503249.343750</td>\n",
              "      <td>1.000000</td>\n",
              "      <td>0.366682</td>\n",
              "    </tr>\n",
              "    <tr>\n",
              "      <th>1</th>\n",
              "      <td>ecg</td>\n",
              "      <td>415689.406250</td>\n",
              "      <td>0.826011</td>\n",
              "      <td>0.302883</td>\n",
              "    </tr>\n",
              "    <tr>\n",
              "      <th>2</th>\n",
              "      <td>gsr</td>\n",
              "      <td>259823.296875</td>\n",
              "      <td>0.516291</td>\n",
              "      <td>0.189315</td>\n",
              "    </tr>\n",
              "    <tr>\n",
              "      <th>3</th>\n",
              "      <td>eeg_fp1</td>\n",
              "      <td>25491.021484</td>\n",
              "      <td>0.050653</td>\n",
              "      <td>0.018573</td>\n",
              "    </tr>\n",
              "    <tr>\n",
              "      <th>4</th>\n",
              "      <td>eeg_fp2</td>\n",
              "      <td>21492.316406</td>\n",
              "      <td>0.042707</td>\n",
              "      <td>0.015660</td>\n",
              "    </tr>\n",
              "    <tr>\n",
              "      <th>5</th>\n",
              "      <td>eeg_f8</td>\n",
              "      <td>21220.755859</td>\n",
              "      <td>0.042167</td>\n",
              "      <td>0.015462</td>\n",
              "    </tr>\n",
              "    <tr>\n",
              "      <th>6</th>\n",
              "      <td>eeg_f3</td>\n",
              "      <td>20595.017578</td>\n",
              "      <td>0.040924</td>\n",
              "      <td>0.015006</td>\n",
              "    </tr>\n",
              "    <tr>\n",
              "      <th>7</th>\n",
              "      <td>eeg_f7</td>\n",
              "      <td>19986.548828</td>\n",
              "      <td>0.039715</td>\n",
              "      <td>0.014563</td>\n",
              "    </tr>\n",
              "    <tr>\n",
              "      <th>8</th>\n",
              "      <td>eeg_t3</td>\n",
              "      <td>9712.585938</td>\n",
              "      <td>0.019300</td>\n",
              "      <td>0.007077</td>\n",
              "    </tr>\n",
              "    <tr>\n",
              "      <th>9</th>\n",
              "      <td>eeg_c4</td>\n",
              "      <td>8576.305664</td>\n",
              "      <td>0.017042</td>\n",
              "      <td>0.006249</td>\n",
              "    </tr>\n",
              "    <tr>\n",
              "      <th>10</th>\n",
              "      <td>eeg_f4</td>\n",
              "      <td>8383.913086</td>\n",
              "      <td>0.016660</td>\n",
              "      <td>0.006109</td>\n",
              "    </tr>\n",
              "    <tr>\n",
              "      <th>11</th>\n",
              "      <td>eeg_c3</td>\n",
              "      <td>7642.880371</td>\n",
              "      <td>0.015187</td>\n",
              "      <td>0.005569</td>\n",
              "    </tr>\n",
              "    <tr>\n",
              "      <th>12</th>\n",
              "      <td>eeg_fz</td>\n",
              "      <td>7552.700195</td>\n",
              "      <td>0.015008</td>\n",
              "      <td>0.005503</td>\n",
              "    </tr>\n",
              "    <tr>\n",
              "      <th>13</th>\n",
              "      <td>eeg_pz</td>\n",
              "      <td>7392.718750</td>\n",
              "      <td>0.014690</td>\n",
              "      <td>0.005387</td>\n",
              "    </tr>\n",
              "    <tr>\n",
              "      <th>14</th>\n",
              "      <td>eeg_cz</td>\n",
              "      <td>6245.451660</td>\n",
              "      <td>0.012410</td>\n",
              "      <td>0.004551</td>\n",
              "    </tr>\n",
              "    <tr>\n",
              "      <th>15</th>\n",
              "      <td>eeg_t4</td>\n",
              "      <td>4355.973633</td>\n",
              "      <td>0.008656</td>\n",
              "      <td>0.003174</td>\n",
              "    </tr>\n",
              "    <tr>\n",
              "      <th>16</th>\n",
              "      <td>eeg_t5</td>\n",
              "      <td>4056.065918</td>\n",
              "      <td>0.008060</td>\n",
              "      <td>0.002955</td>\n",
              "    </tr>\n",
              "    <tr>\n",
              "      <th>17</th>\n",
              "      <td>eeg_p4</td>\n",
              "      <td>3939.008789</td>\n",
              "      <td>0.007827</td>\n",
              "      <td>0.002870</td>\n",
              "    </tr>\n",
              "    <tr>\n",
              "      <th>18</th>\n",
              "      <td>eeg_poz</td>\n",
              "      <td>3663.713623</td>\n",
              "      <td>0.007280</td>\n",
              "      <td>0.002669</td>\n",
              "    </tr>\n",
              "    <tr>\n",
              "      <th>19</th>\n",
              "      <td>eeg_o2</td>\n",
              "      <td>3603.572021</td>\n",
              "      <td>0.007161</td>\n",
              "      <td>0.002626</td>\n",
              "    </tr>\n",
              "  </tbody>\n",
              "</table>\n",
              "</div>"
            ],
            "text/plain": [
              "   variable  relative_importance  scaled_importance  percentage\n",
              "0         r        503249.343750           1.000000    0.366682\n",
              "1       ecg        415689.406250           0.826011    0.302883\n",
              "2       gsr        259823.296875           0.516291    0.189315\n",
              "3   eeg_fp1         25491.021484           0.050653    0.018573\n",
              "4   eeg_fp2         21492.316406           0.042707    0.015660\n",
              "5    eeg_f8         21220.755859           0.042167    0.015462\n",
              "6    eeg_f3         20595.017578           0.040924    0.015006\n",
              "7    eeg_f7         19986.548828           0.039715    0.014563\n",
              "8    eeg_t3          9712.585938           0.019300    0.007077\n",
              "9    eeg_c4          8576.305664           0.017042    0.006249\n",
              "10   eeg_f4          8383.913086           0.016660    0.006109\n",
              "11   eeg_c3          7642.880371           0.015187    0.005569\n",
              "12   eeg_fz          7552.700195           0.015008    0.005503\n",
              "13   eeg_pz          7392.718750           0.014690    0.005387\n",
              "14   eeg_cz          6245.451660           0.012410    0.004551\n",
              "15   eeg_t4          4355.973633           0.008656    0.003174\n",
              "16   eeg_t5          4056.065918           0.008060    0.002955\n",
              "17   eeg_p4          3939.008789           0.007827    0.002870\n",
              "18  eeg_poz          3663.713623           0.007280    0.002669\n",
              "19   eeg_o2          3603.572021           0.007161    0.002626"
            ]
          },
          "metadata": {
            "tags": []
          }
        },
        {
          "output_type": "stream",
          "text": [
            "\n",
            "See the whole table with table.as_data_frame()\n"
          ],
          "name": "stdout"
        },
        {
          "output_type": "execute_result",
          "data": {
            "text/plain": [
              ""
            ]
          },
          "metadata": {
            "tags": []
          },
          "execution_count": 108
        }
      ]
    },
    {
      "cell_type": "code",
      "metadata": {
        "id": "BcqBNd__qReP",
        "colab_type": "code",
        "outputId": "aa29ac7f-75bf-4069-e6d8-676797567e8a",
        "colab": {
          "base_uri": "https://localhost:8080/",
          "height": 334
        }
      },
      "source": [
        "# Exibir as métricas do modelo\n",
        "show_metrics(aml.leader, balanced_X_test, balanced_y_test, \n",
        "             'H2O Automl GBM', sklearn_model=False)"
      ],
      "execution_count": 110,
      "outputs": [
        {
          "output_type": "stream",
          "text": [
            "Parse progress: |█████████████████████████████████████████████████████████| 100%\n",
            "gbm prediction progress: |████████████████████████████████████████████████| 100%\n"
          ],
          "name": "stdout"
        },
        {
          "output_type": "display_data",
          "data": {
            "text/html": [
              "<div>\n",
              "<style scoped>\n",
              "    .dataframe tbody tr th:only-of-type {\n",
              "        vertical-align: middle;\n",
              "    }\n",
              "\n",
              "    .dataframe tbody tr th {\n",
              "        vertical-align: top;\n",
              "    }\n",
              "\n",
              "    .dataframe thead th {\n",
              "        text-align: right;\n",
              "    }\n",
              "</style>\n",
              "<table border=\"1\" class=\"dataframe\">\n",
              "  <thead>\n",
              "    <tr style=\"text-align: right;\">\n",
              "      <th></th>\n",
              "      <th>precision</th>\n",
              "      <th>recall</th>\n",
              "      <th>f1-score</th>\n",
              "      <th>support</th>\n",
              "    </tr>\n",
              "  </thead>\n",
              "  <tbody>\n",
              "    <tr>\n",
              "      <th>A</th>\n",
              "      <td>0.991991</td>\n",
              "      <td>0.987466</td>\n",
              "      <td>0.989723</td>\n",
              "      <td>26089.000000</td>\n",
              "    </tr>\n",
              "    <tr>\n",
              "      <th>B</th>\n",
              "      <td>0.995255</td>\n",
              "      <td>0.994000</td>\n",
              "      <td>0.994627</td>\n",
              "      <td>26167.000000</td>\n",
              "    </tr>\n",
              "    <tr>\n",
              "      <th>C</th>\n",
              "      <td>0.990753</td>\n",
              "      <td>0.997538</td>\n",
              "      <td>0.994134</td>\n",
              "      <td>25992.000000</td>\n",
              "    </tr>\n",
              "    <tr>\n",
              "      <th>D</th>\n",
              "      <td>0.999618</td>\n",
              "      <td>0.998626</td>\n",
              "      <td>0.999122</td>\n",
              "      <td>26199.000000</td>\n",
              "    </tr>\n",
              "    <tr>\n",
              "      <th>accuracy</th>\n",
              "      <td>0.994409</td>\n",
              "      <td>0.994409</td>\n",
              "      <td>0.994409</td>\n",
              "      <td>0.994409</td>\n",
              "    </tr>\n",
              "    <tr>\n",
              "      <th>macro avg</th>\n",
              "      <td>0.994404</td>\n",
              "      <td>0.994407</td>\n",
              "      <td>0.994401</td>\n",
              "      <td>104447.000000</td>\n",
              "    </tr>\n",
              "    <tr>\n",
              "      <th>weighted avg</th>\n",
              "      <td>0.994414</td>\n",
              "      <td>0.994409</td>\n",
              "      <td>0.994407</td>\n",
              "      <td>104447.000000</td>\n",
              "    </tr>\n",
              "  </tbody>\n",
              "</table>\n",
              "</div>"
            ],
            "text/plain": [
              "              precision    recall  f1-score        support\n",
              "A              0.991991  0.987466  0.989723   26089.000000\n",
              "B              0.995255  0.994000  0.994627   26167.000000\n",
              "C              0.990753  0.997538  0.994134   25992.000000\n",
              "D              0.999618  0.998626  0.999122   26199.000000\n",
              "accuracy       0.994409  0.994409  0.994409       0.994409\n",
              "macro avg      0.994404  0.994407  0.994401  104447.000000\n",
              "weighted avg   0.994414  0.994409  0.994407  104447.000000"
            ]
          },
          "metadata": {
            "tags": []
          }
        },
        {
          "output_type": "stream",
          "text": [
            "\n",
            "Log loss: 0.016344507082644198 | F1 Score: 0.9944014452613698\n"
          ],
          "name": "stdout"
        }
      ]
    },
    {
      "cell_type": "markdown",
      "metadata": {
        "id": "W7Or9RgvnVJi",
        "colab_type": "text"
      },
      "source": [
        "### Retreinando melhor modelo h20 com todos os dados disponíveis"
      ]
    },
    {
      "cell_type": "code",
      "metadata": {
        "id": "NpPb2rMTBADe",
        "colab_type": "code",
        "colab": {
          "base_uri": "https://localhost:8080/",
          "height": 51
        },
        "outputId": "9e8f50fc-4ba6-49ad-a5e9-2877f6568f3a"
      },
      "source": [
        "h20_model.train(x=features, y=target, training_frame=h2o.H2OFrame(pd.concat([train_df[features], train_df[target]], axis=1)))"
      ],
      "execution_count": 18,
      "outputs": [
        {
          "output_type": "stream",
          "text": [
            "Parse progress: |█████████████████████████████████████████████████████████| 100%\n",
            "gbm Model Build progress: |███████████████████████████████████████████████| 100%\n"
          ],
          "name": "stdout"
        }
      ]
    },
    {
      "cell_type": "code",
      "metadata": {
        "id": "e5nlb34Kpxrn",
        "colab_type": "code",
        "outputId": "cec3b2ed-ee4f-442c-c29c-60497e68c50a",
        "colab": {
          "base_uri": "https://localhost:8080/",
          "height": 34
        }
      },
      "source": [
        "# Salvando modelo final\n",
        "h2o.save_model(model=aml.leader, path=h20_models, force=True)"
      ],
      "execution_count": 19,
      "outputs": [
        {
          "output_type": "execute_result",
          "data": {
            "text/plain": [
              "'/gdrive/My Drive/Pos Graduação/TCC/automl/GBM_model_python_1586538302325_1'"
            ]
          },
          "metadata": {
            "tags": []
          },
          "execution_count": 19
        }
      ]
    },
    {
      "cell_type": "markdown",
      "metadata": {
        "id": "AV2-MYQTDTv9",
        "colab_type": "text"
      },
      "source": [
        "### Submetendo dados para o Kaggle"
      ]
    },
    {
      "cell_type": "code",
      "metadata": {
        "id": "2zGxUpPim0Oa",
        "colab_type": "code",
        "colab": {}
      },
      "source": [
        "# Lendo o modelo salvo\n",
        "# h20_model = h2o.load_model('/gdrive/My Drive/Pos Graduação/TCC/automl/GBM_model_python_1586538302325_1')\n",
        "h20_model = h2o.load_model('/gdrive/My Drive/Pos Graduação/TCC/automl/GBM_grid__1_AutoML_20200410_150537_model_1')"
      ],
      "execution_count": 0,
      "outputs": []
    },
    {
      "cell_type": "markdown",
      "metadata": {
        "id": "UWuaPNcdAEol",
        "colab_type": "text"
      },
      "source": [
        "### Submetendo H20 model"
      ]
    },
    {
      "cell_type": "code",
      "metadata": {
        "id": "BRBMGXRRBAKK",
        "colab_type": "code",
        "colab": {
          "base_uri": "https://localhost:8080/",
          "height": 729,
          "referenced_widgets": [
            "e1bd45e782a94161b3886871bde9a27c",
            "b314a4b9349f497fb26fd71ad34528d0",
            "83b0fe1fb07f4528ba9ff94406d2671a",
            "261c602fef5d4bcca756e39ecefa7c11",
            "089544cb705f48129c1b88f04d7eb785",
            "2693ca9ec2c34df48946430ca42948d7",
            "5d402e86df2e4e1b9d3fe564e508f358",
            "8d5d20f5b3e14ea19ec1296cfa385c20"
          ]
        },
        "outputId": "7b0f2545-7821-4864-d89e-1bf4f0328172"
      },
      "source": [
        "submit_result_kaggle(h20_model, \"Submit h20 GBM first\", sklearn_model=False, chunksize=1_000_000)"
      ],
      "execution_count": 145,
      "outputs": [
        {
          "output_type": "display_data",
          "data": {
            "application/vnd.jupyter.widget-view+json": {
              "model_id": "e1bd45e782a94161b3886871bde9a27c",
              "version_minor": 0,
              "version_major": 2
            },
            "text/plain": [
              "HBox(children=(IntProgress(value=1, bar_style='info', max=1), HTML(value='')))"
            ]
          },
          "metadata": {
            "tags": []
          }
        },
        {
          "output_type": "stream",
          "text": [
            "Parse progress: |█████████████████████████████████████████████████████████| 100%\n",
            "gbm prediction progress: |████████████████████████████████████████████████| 100%\n",
            "Parse progress: |█████████████████████████████████████████████████████████| 100%\n",
            "gbm prediction progress: |████████████████████████████████████████████████| 100%\n",
            "Parse progress: |█████████████████████████████████████████████████████████| 100%\n",
            "gbm prediction progress: |████████████████████████████████████████████████| 100%\n",
            "Parse progress: |█████████████████████████████████████████████████████████| 100%\n",
            "gbm prediction progress: |████████████████████████████████████████████████| 100%\n",
            "Parse progress: |█████████████████████████████████████████████████████████| 100%\n",
            "gbm prediction progress: |████████████████████████████████████████████████| 100%\n",
            "Parse progress: |█████████████████████████████████████████████████████████| 100%\n",
            "gbm prediction progress: |████████████████████████████████████████████████| 100%\n",
            "Parse progress: |█████████████████████████████████████████████████████████| 100%\n",
            "gbm prediction progress: |████████████████████████████████████████████████| 100%\n",
            "Parse progress: |█████████████████████████████████████████████████████████| 100%\n",
            "gbm prediction progress: |████████████████████████████████████████████████| 100%\n",
            "Parse progress: |█████████████████████████████████████████████████████████| 100%\n",
            "gbm prediction progress: |████████████████████████████████████████████████| 100%\n",
            "Parse progress: |█████████████████████████████████████████████████████████| 100%\n",
            "gbm prediction progress: |████████████████████████████████████████████████| 100%\n",
            "Parse progress: |█████████████████████████████████████████████████████████| 100%\n",
            "gbm prediction progress: |████████████████████████████████████████████████| 100%\n",
            "Parse progress: |█████████████████████████████████████████████████████████| 100%\n",
            "gbm prediction progress: |████████████████████████████████████████████████| 100%\n",
            "Parse progress: |█████████████████████████████████████████████████████████| 100%\n",
            "gbm prediction progress: |████████████████████████████████████████████████| 100%\n",
            "Parse progress: |█████████████████████████████████████████████████████████| 100%\n",
            "gbm prediction progress: |████████████████████████████████████████████████| 100%\n",
            "Parse progress: |█████████████████████████████████████████████████████████| 100%\n",
            "gbm prediction progress: |████████████████████████████████████████████████| 100%\n",
            "Parse progress: |█████████████████████████████████████████████████████████| 100%\n",
            "gbm prediction progress: |████████████████████████████████████████████████| 100%\n",
            "Parse progress: |█████████████████████████████████████████████████████████| 100%\n",
            "gbm prediction progress: |████████████████████████████████████████████████| 100%\n",
            "Parse progress: |█████████████████████████████████████████████████████████| 100%\n",
            "gbm prediction progress: |████████████████████████████████████████████████| 100%\n",
            "\n",
            "Warning: Looks like you're using an outdated API Version, please consider updating (server 1.5.6 / client 1.5.4)\n",
            "100% 1.47G/1.47G [00:18<00:00, 86.6MB/s]\n",
            "Successfully submitted to Reducing Commercial Aviation Fatalities"
          ],
          "name": "stdout"
        }
      ]
    },
    {
      "cell_type": "code",
      "metadata": {
        "colab_type": "code",
        "id": "nj4-LHaTPnAY",
        "colab": {}
      },
      "source": [
        ""
      ],
      "execution_count": 0,
      "outputs": []
    }
  ]
}