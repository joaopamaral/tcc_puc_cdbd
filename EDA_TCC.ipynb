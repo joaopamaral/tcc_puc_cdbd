{
  "nbformat": 4,
  "nbformat_minor": 0,
  "metadata": {
    "colab": {
      "name": "EDA - TCC",
      "provenance": [],
      "toc_visible": true,
      "machine_shape": "hm",
      "include_colab_link": true
    },
    "kernelspec": {
      "name": "python3",
      "display_name": "Python 3"
    }
  },
  "cells": [
    {
      "cell_type": "markdown",
      "metadata": {
        "id": "view-in-github",
        "colab_type": "text"
      },
      "source": [
        "<a href=\"https://colab.research.google.com/github/joaopamaral/tcc_puc_cdbd/blob/master/EDA_TCC.ipynb\" target=\"_parent\"><img src=\"https://colab.research.google.com/assets/colab-badge.svg\" alt=\"Open In Colab\"/></a>"
      ]
    },
    {
      "cell_type": "markdown",
      "metadata": {
        "id": "uqY7D_1Scouq",
        "colab_type": "text"
      },
      "source": [
        "# Análise Exploratória dos dados - Desafio de Redução de Fatalidades na Aviação Comercial"
      ]
    },
    {
      "cell_type": "markdown",
      "metadata": {
        "id": "8-_cl0RaFhYY",
        "colab_type": "text"
      },
      "source": [
        "## Importando bibliotecas necessárias"
      ]
    },
    {
      "cell_type": "code",
      "metadata": {
        "id": "J1gHRvqsFKQ-",
        "colab_type": "code",
        "colab": {}
      },
      "source": [
        "import pandas as pd\n",
        "import numpy as np\n",
        "import matplotlib.pyplot as plt\n",
        "import seaborn as sns\n",
        "import sys, os, math\n",
        "from tqdm.auto import tqdm\n",
        "\n",
        "IN_COLAB = 'google.colab' in sys.modules\n",
        "\n",
        "%matplotlib inline\n",
        "plt.style.use('ggplot')"
      ],
      "execution_count": 0,
      "outputs": []
    },
    {
      "cell_type": "code",
      "metadata": {
        "id": "nB-ghjXtqgGT",
        "colab_type": "code",
        "colab": {}
      },
      "source": [
        "# Removendo warning de depreciação do matlab utilizado no Seaborn\n",
        "import warnings\n",
        "import matplotlib.cbook\n",
        "warnings.filterwarnings(\"ignore\",category=matplotlib.cbook.mplDeprecation)"
      ],
      "execution_count": 0,
      "outputs": []
    },
    {
      "cell_type": "code",
      "metadata": {
        "id": "klbasTZRans9",
        "colab_type": "code",
        "colab": {}
      },
      "source": [
        "gdrive_kaggle_dir = '/gdrive/My Drive/Kaggle'\n",
        "competition_name = 'reducing-commercial-aviation-fatalities'\n",
        "api_gdrive_credential_location = f'{gdrive_kaggle_dir}/kaggle.json'\n",
        "data_gdrive_dir = f'{gdrive_kaggle_dir}/{competition_name}'\n",
        "api_local_credential_location = os.path.join(os.path.expanduser('~'), '.kaggle/kaggle.json')"
      ],
      "execution_count": 0,
      "outputs": []
    },
    {
      "cell_type": "code",
      "metadata": {
        "id": "IVyHxbcrl-X1",
        "colab_type": "code",
        "outputId": "eea504fa-629d-4e17-f977-49c64caef205",
        "colab": {
          "base_uri": "https://localhost:8080/",
          "height": 34
        }
      },
      "source": [
        "# Montando google drive caso esteja executando no google colab\n",
        "if IN_COLAB:\n",
        "    from google.colab import drive\n",
        "    drive.mount('/gdrive')"
      ],
      "execution_count": 4,
      "outputs": [
        {
          "output_type": "stream",
          "text": [
            "Drive already mounted at /gdrive; to attempt to forcibly remount, call drive.mount(\"/gdrive\", force_remount=True).\n"
          ],
          "name": "stdout"
        }
      ]
    },
    {
      "cell_type": "markdown",
      "metadata": {
        "id": "84fOuet2Fslm",
        "colab_type": "text"
      },
      "source": [
        "## Obtendo os dados do desafio"
      ]
    },
    {
      "cell_type": "code",
      "metadata": {
        "id": "FsqIBq54SpyI",
        "colab_type": "code",
        "colab": {}
      },
      "source": [
        "def get_kaggle_json(api_location):\n",
        "    api_local_credential_location = os.path.join(os.path.expanduser('~'), '.kaggle/kaggle.json')\n",
        "    !mkdir -p ~/.kaggle\n",
        "    !cp '{api_location}' '{api_local_credential_location}'\n",
        "\n",
        "def get_kaggle_data_competition(competition_name, gdrive_kaggle_dir=None):\n",
        "    IN_COLAB = 'google.colab' in sys.modules\n",
        "\n",
        "    if IN_COLAB and not os.path.exists(competition_name):\n",
        "        gdrive_competition_path = os.path.join(gdrive_kaggle_dir, competition_name)\n",
        "        if os.path.exists(gdrive_competition_path):\n",
        "            !cp -r '{gdrive_competition_path}' .\n",
        "\n",
        "    if not os.path.exists(competition_name):\n",
        "        # Instalação do pacote para acesso a API do Kaggle\n",
        "        !pip -q install kaggle --upgrade\n",
        "        # Download dos dados da competição\n",
        "        !kaggle competitions download -c {competition_name} -p {competition_name}\n",
        "        if IN_COLAB and os.path.exists(gdrive_kaggle_dir):\n",
        "            !cp -r {competition_name} '{gdrive_kaggle_dir}'"
      ],
      "execution_count": 0,
      "outputs": []
    },
    {
      "cell_type": "code",
      "metadata": {
        "id": "gvFV2IcRFDmM",
        "colab_type": "code",
        "colab": {}
      },
      "source": [
        "get_kaggle_json(api_gdrive_credential_location)\n",
        "get_kaggle_data_competition('reducing-commercial-aviation-fatalities', gdrive_kaggle_dir)"
      ],
      "execution_count": 0,
      "outputs": []
    },
    {
      "cell_type": "markdown",
      "metadata": {
        "id": "M-6XYbuHGc9m",
        "colab_type": "text"
      },
      "source": [
        "### Realizando a leitura dos dados para um DataFrame"
      ]
    },
    {
      "cell_type": "code",
      "metadata": {
        "id": "i5owuxfqmDO2",
        "colab_type": "code",
        "colab": {}
      },
      "source": [
        "raw_train_df = pd.read_csv(f'{competition_name}/train.csv.zip', dtype={'crew': 'category', 'experiment': 'category', 'seat': 'category', 'event': 'category'})"
      ],
      "execution_count": 0,
      "outputs": []
    },
    {
      "cell_type": "code",
      "metadata": {
        "id": "wVLovN0C28L4",
        "colab_type": "code",
        "colab": {}
      },
      "source": [
        "# Separando as variáveis em grupos para facilitar as analises\n",
        "eeg_columns = ['eeg_fp1', 'eeg_f7', 'eeg_f8', 'eeg_t4', 'eeg_t6', \n",
        "               'eeg_t5', 'eeg_t3', 'eeg_fp2', 'eeg_o1', 'eeg_p3', \n",
        "               'eeg_pz', 'eeg_f3', 'eeg_fz', 'eeg_f4',\t'eeg_c4', \n",
        "               'eeg_p4', 'eeg_poz', 'eeg_c3', 'eeg_cz', 'eeg_o2']\n",
        "\n",
        "numeric_features = [*eeg_columns, 'ecg', 'r', 'gsr']\n",
        "categorical_feature = ['event']"
      ],
      "execution_count": 0,
      "outputs": []
    },
    {
      "cell_type": "markdown",
      "metadata": {
        "id": "Us47h0d2GmW9",
        "colab_type": "text"
      },
      "source": [
        "Visualizando uma amostra dos dados"
      ]
    },
    {
      "cell_type": "code",
      "metadata": {
        "id": "rCQIl6-NmSvD",
        "colab_type": "code",
        "outputId": "10ac0f6d-c14a-48b8-a91a-66624c832188",
        "colab": {
          "base_uri": "https://localhost:8080/",
          "height": 217
        }
      },
      "source": [
        "raw_train_df.head()"
      ],
      "execution_count": 9,
      "outputs": [
        {
          "output_type": "execute_result",
          "data": {
            "text/html": [
              "<div>\n",
              "<style scoped>\n",
              "    .dataframe tbody tr th:only-of-type {\n",
              "        vertical-align: middle;\n",
              "    }\n",
              "\n",
              "    .dataframe tbody tr th {\n",
              "        vertical-align: top;\n",
              "    }\n",
              "\n",
              "    .dataframe thead th {\n",
              "        text-align: right;\n",
              "    }\n",
              "</style>\n",
              "<table border=\"1\" class=\"dataframe\">\n",
              "  <thead>\n",
              "    <tr style=\"text-align: right;\">\n",
              "      <th></th>\n",
              "      <th>crew</th>\n",
              "      <th>experiment</th>\n",
              "      <th>time</th>\n",
              "      <th>seat</th>\n",
              "      <th>eeg_fp1</th>\n",
              "      <th>eeg_f7</th>\n",
              "      <th>eeg_f8</th>\n",
              "      <th>eeg_t4</th>\n",
              "      <th>eeg_t6</th>\n",
              "      <th>eeg_t5</th>\n",
              "      <th>eeg_t3</th>\n",
              "      <th>eeg_fp2</th>\n",
              "      <th>eeg_o1</th>\n",
              "      <th>eeg_p3</th>\n",
              "      <th>eeg_pz</th>\n",
              "      <th>eeg_f3</th>\n",
              "      <th>eeg_fz</th>\n",
              "      <th>eeg_f4</th>\n",
              "      <th>eeg_c4</th>\n",
              "      <th>eeg_p4</th>\n",
              "      <th>eeg_poz</th>\n",
              "      <th>eeg_c3</th>\n",
              "      <th>eeg_cz</th>\n",
              "      <th>eeg_o2</th>\n",
              "      <th>ecg</th>\n",
              "      <th>r</th>\n",
              "      <th>gsr</th>\n",
              "      <th>event</th>\n",
              "    </tr>\n",
              "  </thead>\n",
              "  <tbody>\n",
              "    <tr>\n",
              "      <th>0</th>\n",
              "      <td>1</td>\n",
              "      <td>CA</td>\n",
              "      <td>0.011719</td>\n",
              "      <td>1</td>\n",
              "      <td>-5.28545</td>\n",
              "      <td>26.775801</td>\n",
              "      <td>-9.527310</td>\n",
              "      <td>-12.793200</td>\n",
              "      <td>16.717800</td>\n",
              "      <td>33.737499</td>\n",
              "      <td>23.712299</td>\n",
              "      <td>-6.695870</td>\n",
              "      <td>29.232100</td>\n",
              "      <td>24.842899</td>\n",
              "      <td>3.92134</td>\n",
              "      <td>18.447001</td>\n",
              "      <td>1.07547</td>\n",
              "      <td>3.09029</td>\n",
              "      <td>37.368999</td>\n",
              "      <td>17.437599</td>\n",
              "      <td>19.201900</td>\n",
              "      <td>20.5968</td>\n",
              "      <td>-3.95115</td>\n",
              "      <td>14.507600</td>\n",
              "      <td>-4520.0</td>\n",
              "      <td>817.705994</td>\n",
              "      <td>388.829987</td>\n",
              "      <td>A</td>\n",
              "    </tr>\n",
              "    <tr>\n",
              "      <th>1</th>\n",
              "      <td>1</td>\n",
              "      <td>CA</td>\n",
              "      <td>0.015625</td>\n",
              "      <td>1</td>\n",
              "      <td>-2.42842</td>\n",
              "      <td>28.430901</td>\n",
              "      <td>-9.323510</td>\n",
              "      <td>-3.757230</td>\n",
              "      <td>15.969300</td>\n",
              "      <td>30.443600</td>\n",
              "      <td>21.010300</td>\n",
              "      <td>-6.474720</td>\n",
              "      <td>26.641399</td>\n",
              "      <td>24.138800</td>\n",
              "      <td>5.46991</td>\n",
              "      <td>20.510599</td>\n",
              "      <td>2.83354</td>\n",
              "      <td>7.10177</td>\n",
              "      <td>31.170799</td>\n",
              "      <td>19.399700</td>\n",
              "      <td>19.689501</td>\n",
              "      <td>21.3547</td>\n",
              "      <td>1.33212</td>\n",
              "      <td>17.750200</td>\n",
              "      <td>-4520.0</td>\n",
              "      <td>817.705994</td>\n",
              "      <td>388.829987</td>\n",
              "      <td>A</td>\n",
              "    </tr>\n",
              "    <tr>\n",
              "      <th>2</th>\n",
              "      <td>1</td>\n",
              "      <td>CA</td>\n",
              "      <td>0.019531</td>\n",
              "      <td>1</td>\n",
              "      <td>10.67150</td>\n",
              "      <td>30.420200</td>\n",
              "      <td>15.350700</td>\n",
              "      <td>24.724001</td>\n",
              "      <td>16.143101</td>\n",
              "      <td>32.142799</td>\n",
              "      <td>25.431801</td>\n",
              "      <td>-0.088707</td>\n",
              "      <td>28.119900</td>\n",
              "      <td>26.891300</td>\n",
              "      <td>8.57886</td>\n",
              "      <td>23.162901</td>\n",
              "      <td>4.51993</td>\n",
              "      <td>12.70550</td>\n",
              "      <td>-12.012600</td>\n",
              "      <td>19.396299</td>\n",
              "      <td>23.171700</td>\n",
              "      <td>22.4076</td>\n",
              "      <td>1.53786</td>\n",
              "      <td>22.247000</td>\n",
              "      <td>-4520.0</td>\n",
              "      <td>817.705994</td>\n",
              "      <td>388.829987</td>\n",
              "      <td>A</td>\n",
              "    </tr>\n",
              "    <tr>\n",
              "      <th>3</th>\n",
              "      <td>1</td>\n",
              "      <td>CA</td>\n",
              "      <td>0.023438</td>\n",
              "      <td>1</td>\n",
              "      <td>11.45250</td>\n",
              "      <td>25.609800</td>\n",
              "      <td>2.433080</td>\n",
              "      <td>12.412500</td>\n",
              "      <td>20.533300</td>\n",
              "      <td>31.494101</td>\n",
              "      <td>19.142799</td>\n",
              "      <td>-0.256516</td>\n",
              "      <td>30.653601</td>\n",
              "      <td>24.247000</td>\n",
              "      <td>8.64310</td>\n",
              "      <td>19.961901</td>\n",
              "      <td>7.27575</td>\n",
              "      <td>11.45980</td>\n",
              "      <td>18.574100</td>\n",
              "      <td>23.156401</td>\n",
              "      <td>22.641199</td>\n",
              "      <td>19.3367</td>\n",
              "      <td>2.54492</td>\n",
              "      <td>18.998600</td>\n",
              "      <td>-4520.0</td>\n",
              "      <td>817.705994</td>\n",
              "      <td>388.829987</td>\n",
              "      <td>A</td>\n",
              "    </tr>\n",
              "    <tr>\n",
              "      <th>4</th>\n",
              "      <td>1</td>\n",
              "      <td>CA</td>\n",
              "      <td>0.027344</td>\n",
              "      <td>1</td>\n",
              "      <td>7.28321</td>\n",
              "      <td>25.942600</td>\n",
              "      <td>0.113564</td>\n",
              "      <td>5.748000</td>\n",
              "      <td>19.833599</td>\n",
              "      <td>28.753599</td>\n",
              "      <td>20.572100</td>\n",
              "      <td>-1.953470</td>\n",
              "      <td>31.722601</td>\n",
              "      <td>25.155500</td>\n",
              "      <td>12.50030</td>\n",
              "      <td>18.746901</td>\n",
              "      <td>7.30976</td>\n",
              "      <td>8.00805</td>\n",
              "      <td>6.555440</td>\n",
              "      <td>22.754700</td>\n",
              "      <td>22.670300</td>\n",
              "      <td>20.2932</td>\n",
              "      <td>1.69962</td>\n",
              "      <td>22.812799</td>\n",
              "      <td>-4520.0</td>\n",
              "      <td>817.705994</td>\n",
              "      <td>388.829987</td>\n",
              "      <td>A</td>\n",
              "    </tr>\n",
              "  </tbody>\n",
              "</table>\n",
              "</div>"
            ],
            "text/plain": [
              "  crew experiment      time seat  ...     ecg           r         gsr  event\n",
              "0    1         CA  0.011719    1  ... -4520.0  817.705994  388.829987      A\n",
              "1    1         CA  0.015625    1  ... -4520.0  817.705994  388.829987      A\n",
              "2    1         CA  0.019531    1  ... -4520.0  817.705994  388.829987      A\n",
              "3    1         CA  0.023438    1  ... -4520.0  817.705994  388.829987      A\n",
              "4    1         CA  0.027344    1  ... -4520.0  817.705994  388.829987      A\n",
              "\n",
              "[5 rows x 28 columns]"
            ]
          },
          "metadata": {
            "tags": []
          },
          "execution_count": 9
        }
      ]
    },
    {
      "cell_type": "markdown",
      "metadata": {
        "id": "y4l4EbW3HqNQ",
        "colab_type": "text"
      },
      "source": [
        "## Iniciando análise de estatística descritiva"
      ]
    },
    {
      "cell_type": "code",
      "metadata": {
        "id": "VPSXjUQqmlqd",
        "colab_type": "code",
        "outputId": "46bbc109-3c03-4069-ef6d-78e1a4f9fbcf",
        "colab": {
          "base_uri": "https://localhost:8080/",
          "height": 397
        }
      },
      "source": [
        "# A mudança na opção de visualização foi apenas para evitar notações cientificas na tabela de descrição\n",
        "pd.set_option('display.float_format', lambda x: f'{x:.5f}' if np.isnan(x) or abs(x - int(x)) > 1e-6 else f'{x:.0f}')\n",
        "display(raw_train_df.describe(include='all'))\n",
        "pd.reset_option('display.float_format')"
      ],
      "execution_count": 10,
      "outputs": [
        {
          "output_type": "display_data",
          "data": {
            "text/html": [
              "<div>\n",
              "<style scoped>\n",
              "    .dataframe tbody tr th:only-of-type {\n",
              "        vertical-align: middle;\n",
              "    }\n",
              "\n",
              "    .dataframe tbody tr th {\n",
              "        vertical-align: top;\n",
              "    }\n",
              "\n",
              "    .dataframe thead th {\n",
              "        text-align: right;\n",
              "    }\n",
              "</style>\n",
              "<table border=\"1\" class=\"dataframe\">\n",
              "  <thead>\n",
              "    <tr style=\"text-align: right;\">\n",
              "      <th></th>\n",
              "      <th>crew</th>\n",
              "      <th>experiment</th>\n",
              "      <th>time</th>\n",
              "      <th>seat</th>\n",
              "      <th>eeg_fp1</th>\n",
              "      <th>eeg_f7</th>\n",
              "      <th>eeg_f8</th>\n",
              "      <th>eeg_t4</th>\n",
              "      <th>eeg_t6</th>\n",
              "      <th>eeg_t5</th>\n",
              "      <th>eeg_t3</th>\n",
              "      <th>eeg_fp2</th>\n",
              "      <th>eeg_o1</th>\n",
              "      <th>eeg_p3</th>\n",
              "      <th>eeg_pz</th>\n",
              "      <th>eeg_f3</th>\n",
              "      <th>eeg_fz</th>\n",
              "      <th>eeg_f4</th>\n",
              "      <th>eeg_c4</th>\n",
              "      <th>eeg_p4</th>\n",
              "      <th>eeg_poz</th>\n",
              "      <th>eeg_c3</th>\n",
              "      <th>eeg_cz</th>\n",
              "      <th>eeg_o2</th>\n",
              "      <th>ecg</th>\n",
              "      <th>r</th>\n",
              "      <th>gsr</th>\n",
              "      <th>event</th>\n",
              "    </tr>\n",
              "  </thead>\n",
              "  <tbody>\n",
              "    <tr>\n",
              "      <th>count</th>\n",
              "      <td>4867421</td>\n",
              "      <td>4867421</td>\n",
              "      <td>4867421</td>\n",
              "      <td>4867421</td>\n",
              "      <td>4867421</td>\n",
              "      <td>4867421</td>\n",
              "      <td>4867421</td>\n",
              "      <td>4867421</td>\n",
              "      <td>4867421</td>\n",
              "      <td>4867421</td>\n",
              "      <td>4867421</td>\n",
              "      <td>4867421</td>\n",
              "      <td>4867421</td>\n",
              "      <td>4867421</td>\n",
              "      <td>4867421</td>\n",
              "      <td>4867421</td>\n",
              "      <td>4867421</td>\n",
              "      <td>4867421</td>\n",
              "      <td>4867421</td>\n",
              "      <td>4867421</td>\n",
              "      <td>4867421</td>\n",
              "      <td>4867421</td>\n",
              "      <td>4867421</td>\n",
              "      <td>4867421</td>\n",
              "      <td>4867421</td>\n",
              "      <td>4867421</td>\n",
              "      <td>4867421</td>\n",
              "      <td>4867421</td>\n",
              "    </tr>\n",
              "    <tr>\n",
              "      <th>unique</th>\n",
              "      <td>9</td>\n",
              "      <td>3</td>\n",
              "      <td>nan</td>\n",
              "      <td>2</td>\n",
              "      <td>nan</td>\n",
              "      <td>nan</td>\n",
              "      <td>nan</td>\n",
              "      <td>nan</td>\n",
              "      <td>nan</td>\n",
              "      <td>nan</td>\n",
              "      <td>nan</td>\n",
              "      <td>nan</td>\n",
              "      <td>nan</td>\n",
              "      <td>nan</td>\n",
              "      <td>nan</td>\n",
              "      <td>nan</td>\n",
              "      <td>nan</td>\n",
              "      <td>nan</td>\n",
              "      <td>nan</td>\n",
              "      <td>nan</td>\n",
              "      <td>nan</td>\n",
              "      <td>nan</td>\n",
              "      <td>nan</td>\n",
              "      <td>nan</td>\n",
              "      <td>nan</td>\n",
              "      <td>nan</td>\n",
              "      <td>nan</td>\n",
              "      <td>4</td>\n",
              "    </tr>\n",
              "    <tr>\n",
              "      <th>top</th>\n",
              "      <td>6</td>\n",
              "      <td>DA</td>\n",
              "      <td>nan</td>\n",
              "      <td>0</td>\n",
              "      <td>nan</td>\n",
              "      <td>nan</td>\n",
              "      <td>nan</td>\n",
              "      <td>nan</td>\n",
              "      <td>nan</td>\n",
              "      <td>nan</td>\n",
              "      <td>nan</td>\n",
              "      <td>nan</td>\n",
              "      <td>nan</td>\n",
              "      <td>nan</td>\n",
              "      <td>nan</td>\n",
              "      <td>nan</td>\n",
              "      <td>nan</td>\n",
              "      <td>nan</td>\n",
              "      <td>nan</td>\n",
              "      <td>nan</td>\n",
              "      <td>nan</td>\n",
              "      <td>nan</td>\n",
              "      <td>nan</td>\n",
              "      <td>nan</td>\n",
              "      <td>nan</td>\n",
              "      <td>nan</td>\n",
              "      <td>nan</td>\n",
              "      <td>A</td>\n",
              "    </tr>\n",
              "    <tr>\n",
              "      <th>freq</th>\n",
              "      <td>552958</td>\n",
              "      <td>1658393</td>\n",
              "      <td>nan</td>\n",
              "      <td>2433939</td>\n",
              "      <td>nan</td>\n",
              "      <td>nan</td>\n",
              "      <td>nan</td>\n",
              "      <td>nan</td>\n",
              "      <td>nan</td>\n",
              "      <td>nan</td>\n",
              "      <td>nan</td>\n",
              "      <td>nan</td>\n",
              "      <td>nan</td>\n",
              "      <td>nan</td>\n",
              "      <td>nan</td>\n",
              "      <td>nan</td>\n",
              "      <td>nan</td>\n",
              "      <td>nan</td>\n",
              "      <td>nan</td>\n",
              "      <td>nan</td>\n",
              "      <td>nan</td>\n",
              "      <td>nan</td>\n",
              "      <td>nan</td>\n",
              "      <td>nan</td>\n",
              "      <td>nan</td>\n",
              "      <td>nan</td>\n",
              "      <td>nan</td>\n",
              "      <td>2848809</td>\n",
              "    </tr>\n",
              "    <tr>\n",
              "      <th>mean</th>\n",
              "      <td>NaN</td>\n",
              "      <td>NaN</td>\n",
              "      <td>178.23584</td>\n",
              "      <td>NaN</td>\n",
              "      <td>3.74634</td>\n",
              "      <td>1.36000</td>\n",
              "      <td>1.21364</td>\n",
              "      <td>0.07351</td>\n",
              "      <td>0.07845</td>\n",
              "      <td>0.08675</td>\n",
              "      <td>0.22999</td>\n",
              "      <td>3.62728</td>\n",
              "      <td>0.18365</td>\n",
              "      <td>0.26506</td>\n",
              "      <td>0.44072</td>\n",
              "      <td>1.38539</td>\n",
              "      <td>1.31627</td>\n",
              "      <td>1.20860</td>\n",
              "      <td>0.60500</td>\n",
              "      <td>0.24140</td>\n",
              "      <td>0.19476</td>\n",
              "      <td>0.62437</td>\n",
              "      <td>0.44291</td>\n",
              "      <td>0.23937</td>\n",
              "      <td>5285.46006</td>\n",
              "      <td>737.60898</td>\n",
              "      <td>851.84670</td>\n",
              "      <td>NaN</td>\n",
              "    </tr>\n",
              "    <tr>\n",
              "      <th>std</th>\n",
              "      <td>NaN</td>\n",
              "      <td>NaN</td>\n",
              "      <td>103.95916</td>\n",
              "      <td>NaN</td>\n",
              "      <td>45.06763</td>\n",
              "      <td>35.18923</td>\n",
              "      <td>35.19242</td>\n",
              "      <td>24.31472</td>\n",
              "      <td>18.03932</td>\n",
              "      <td>18.32606</td>\n",
              "      <td>25.31132</td>\n",
              "      <td>46.15674</td>\n",
              "      <td>28.07377</td>\n",
              "      <td>16.58195</td>\n",
              "      <td>64.10874</td>\n",
              "      <td>42.84167</td>\n",
              "      <td>54.81694</td>\n",
              "      <td>42.05516</td>\n",
              "      <td>20.52105</td>\n",
              "      <td>16.60196</td>\n",
              "      <td>18.33801</td>\n",
              "      <td>19.75695</td>\n",
              "      <td>19.74815</td>\n",
              "      <td>23.51859</td>\n",
              "      <td>12141.26381</td>\n",
              "      <td>81.87979</td>\n",
              "      <td>503.93239</td>\n",
              "      <td>NaN</td>\n",
              "    </tr>\n",
              "    <tr>\n",
              "      <th>min</th>\n",
              "      <td>NaN</td>\n",
              "      <td>NaN</td>\n",
              "      <td>0.00300</td>\n",
              "      <td>NaN</td>\n",
              "      <td>-1361.35999</td>\n",
              "      <td>-1581.32996</td>\n",
              "      <td>-1643.94995</td>\n",
              "      <td>-1516.64001</td>\n",
              "      <td>-1220.51001</td>\n",
              "      <td>-1266.43005</td>\n",
              "      <td>-1279.93994</td>\n",
              "      <td>-1393.47998</td>\n",
              "      <td>-2887.90991</td>\n",
              "      <td>-1226.78003</td>\n",
              "      <td>-2875.93994</td>\n",
              "      <td>-1353.41003</td>\n",
              "      <td>-4064.07007</td>\n",
              "      <td>-2333.83008</td>\n",
              "      <td>-1212.03003</td>\n",
              "      <td>-1228.03003</td>\n",
              "      <td>-1229.13000</td>\n",
              "      <td>-1230.47998</td>\n",
              "      <td>-696.27899</td>\n",
              "      <td>-1176.37000</td>\n",
              "      <td>-18585.69922</td>\n",
              "      <td>482.06000</td>\n",
              "      <td>0</td>\n",
              "      <td>NaN</td>\n",
              "    </tr>\n",
              "    <tr>\n",
              "      <th>25%</th>\n",
              "      <td>NaN</td>\n",
              "      <td>NaN</td>\n",
              "      <td>88.08100</td>\n",
              "      <td>NaN</td>\n",
              "      <td>-9.20025</td>\n",
              "      <td>-8.32515</td>\n",
              "      <td>-8.76761</td>\n",
              "      <td>-7.36724</td>\n",
              "      <td>-6.10200</td>\n",
              "      <td>-6.00726</td>\n",
              "      <td>-6.90403</td>\n",
              "      <td>-9.57500</td>\n",
              "      <td>-6.65734</td>\n",
              "      <td>-6.58046</td>\n",
              "      <td>-7.64364</td>\n",
              "      <td>-9.28555</td>\n",
              "      <td>-8.05544</td>\n",
              "      <td>-9.30643</td>\n",
              "      <td>-7.49597</td>\n",
              "      <td>-6.71386</td>\n",
              "      <td>-6.77484</td>\n",
              "      <td>-7.16116</td>\n",
              "      <td>-7.81765</td>\n",
              "      <td>-6.52695</td>\n",
              "      <td>-2550.07007</td>\n",
              "      <td>663.14301</td>\n",
              "      <td>524.11401</td>\n",
              "      <td>NaN</td>\n",
              "    </tr>\n",
              "    <tr>\n",
              "      <th>50%</th>\n",
              "      <td>NaN</td>\n",
              "      <td>NaN</td>\n",
              "      <td>176.92969</td>\n",
              "      <td>NaN</td>\n",
              "      <td>0.38190</td>\n",
              "      <td>0.04264</td>\n",
              "      <td>0.11404</td>\n",
              "      <td>0</td>\n",
              "      <td>0</td>\n",
              "      <td>0</td>\n",
              "      <td>0</td>\n",
              "      <td>0.38934</td>\n",
              "      <td>0</td>\n",
              "      <td>0</td>\n",
              "      <td>0</td>\n",
              "      <td>0.11708</td>\n",
              "      <td>0.11067</td>\n",
              "      <td>0.05668</td>\n",
              "      <td>0</td>\n",
              "      <td>0</td>\n",
              "      <td>0</td>\n",
              "      <td>0</td>\n",
              "      <td>0</td>\n",
              "      <td>0</td>\n",
              "      <td>5920.50977</td>\n",
              "      <td>743.43799</td>\n",
              "      <td>770.19702</td>\n",
              "      <td>NaN</td>\n",
              "    </tr>\n",
              "    <tr>\n",
              "      <th>75%</th>\n",
              "      <td>NaN</td>\n",
              "      <td>NaN</td>\n",
              "      <td>268.33984</td>\n",
              "      <td>NaN</td>\n",
              "      <td>10.30610</td>\n",
              "      <td>8.75334</td>\n",
              "      <td>9.28256</td>\n",
              "      <td>7.43778</td>\n",
              "      <td>6.17663</td>\n",
              "      <td>6.08646</td>\n",
              "      <td>7.07146</td>\n",
              "      <td>10.62990</td>\n",
              "      <td>6.78108</td>\n",
              "      <td>6.74435</td>\n",
              "      <td>7.81001</td>\n",
              "      <td>9.95549</td>\n",
              "      <td>8.63161</td>\n",
              "      <td>9.77577</td>\n",
              "      <td>7.76567</td>\n",
              "      <td>6.83132</td>\n",
              "      <td>6.90502</td>\n",
              "      <td>7.46652</td>\n",
              "      <td>8.02519</td>\n",
              "      <td>6.61518</td>\n",
              "      <td>10290.09961</td>\n",
              "      <td>813.41199</td>\n",
              "      <td>1197.12000</td>\n",
              "      <td>NaN</td>\n",
              "    </tr>\n",
              "    <tr>\n",
              "      <th>max</th>\n",
              "      <td>NaN</td>\n",
              "      <td>NaN</td>\n",
              "      <td>360.37109</td>\n",
              "      <td>NaN</td>\n",
              "      <td>1972.23999</td>\n",
              "      <td>2048.79004</td>\n",
              "      <td>2145.70996</td>\n",
              "      <td>1731.88000</td>\n",
              "      <td>900.93701</td>\n",
              "      <td>1176.54004</td>\n",
              "      <td>1514.81995</td>\n",
              "      <td>2103.30005</td>\n",
              "      <td>1879.32996</td>\n",
              "      <td>931.62701</td>\n",
              "      <td>2162.22998</td>\n",
              "      <td>1381.37000</td>\n",
              "      <td>3893.33008</td>\n",
              "      <td>2034.17004</td>\n",
              "      <td>891.72900</td>\n",
              "      <td>908.08899</td>\n",
              "      <td>1435.80005</td>\n",
              "      <td>928.40698</td>\n",
              "      <td>613.66901</td>\n",
              "      <td>2443.55005</td>\n",
              "      <td>34188.30078</td>\n",
              "      <td>840.18402</td>\n",
              "      <td>1999.85999</td>\n",
              "      <td>NaN</td>\n",
              "    </tr>\n",
              "  </tbody>\n",
              "</table>\n",
              "</div>"
            ],
            "text/plain": [
              "           crew experiment      time  ...         r        gsr    event\n",
              "count   4867421    4867421   4867421  ...   4867421    4867421  4867421\n",
              "unique        9          3       nan  ...       nan        nan        4\n",
              "top           6         DA       nan  ...       nan        nan        A\n",
              "freq     552958    1658393       nan  ...       nan        nan  2848809\n",
              "mean        NaN        NaN 178.23584  ... 737.60898  851.84670      NaN\n",
              "std         NaN        NaN 103.95916  ...  81.87979  503.93239      NaN\n",
              "min         NaN        NaN   0.00300  ... 482.06000          0      NaN\n",
              "25%         NaN        NaN  88.08100  ... 663.14301  524.11401      NaN\n",
              "50%         NaN        NaN 176.92969  ... 743.43799  770.19702      NaN\n",
              "75%         NaN        NaN 268.33984  ... 813.41199 1197.12000      NaN\n",
              "max         NaN        NaN 360.37109  ... 840.18402 1999.85999      NaN\n",
              "\n",
              "[11 rows x 28 columns]"
            ]
          },
          "metadata": {
            "tags": []
          }
        }
      ]
    },
    {
      "cell_type": "markdown",
      "metadata": {
        "id": "UF7LMaJiH8xf",
        "colab_type": "text"
      },
      "source": [
        "Verificação dos tipos inferidos para cada campo após a leitura"
      ]
    },
    {
      "cell_type": "code",
      "metadata": {
        "id": "BGAStlKKm4kF",
        "colab_type": "code",
        "outputId": "90ad5083-4a46-42e4-db76-fe6b33dab297",
        "colab": {
          "base_uri": "https://localhost:8080/",
          "height": 603
        }
      },
      "source": [
        "raw_train_df.info()"
      ],
      "execution_count": 18,
      "outputs": [
        {
          "output_type": "stream",
          "text": [
            "<class 'pandas.core.frame.DataFrame'>\n",
            "RangeIndex: 4867421 entries, 0 to 4867420\n",
            "Data columns (total 28 columns):\n",
            "crew          category\n",
            "experiment    category\n",
            "time          float64\n",
            "seat          category\n",
            "eeg_fp1       float64\n",
            "eeg_f7        float64\n",
            "eeg_f8        float64\n",
            "eeg_t4        float64\n",
            "eeg_t6        float64\n",
            "eeg_t5        float64\n",
            "eeg_t3        float64\n",
            "eeg_fp2       float64\n",
            "eeg_o1        float64\n",
            "eeg_p3        float64\n",
            "eeg_pz        float64\n",
            "eeg_f3        float64\n",
            "eeg_fz        float64\n",
            "eeg_f4        float64\n",
            "eeg_c4        float64\n",
            "eeg_p4        float64\n",
            "eeg_poz       float64\n",
            "eeg_c3        float64\n",
            "eeg_cz        float64\n",
            "eeg_o2        float64\n",
            "ecg           float64\n",
            "r             float64\n",
            "gsr           float64\n",
            "event         category\n",
            "dtypes: category(4), float64(24)\n",
            "memory usage: 909.8 MB\n"
          ],
          "name": "stdout"
        }
      ]
    },
    {
      "cell_type": "code",
      "metadata": {
        "id": "RD-yqzCV2pR_",
        "colab_type": "code",
        "colab": {
          "base_uri": "https://localhost:8080/",
          "height": 603
        },
        "outputId": "bac2e3da-bbb1-4208-f051-b313c6359e8e"
      },
      "source": [
        "# Reduzindo o tamanho do dataset para otimizar as analises (alterando float64 para float16), \n",
        "# com base na análise do range dos dados, não teremos impacto com essa mudança\n",
        "float_columns = raw_train_df.select_dtypes(include='float').columns\n",
        "raw_train_df[float_columns] = raw_train_df[float_columns].astype(np.float16)\n",
        "raw_train_df.info()"
      ],
      "execution_count": 23,
      "outputs": [
        {
          "output_type": "stream",
          "text": [
            "<class 'pandas.core.frame.DataFrame'>\n",
            "RangeIndex: 4867421 entries, 0 to 4867420\n",
            "Data columns (total 28 columns):\n",
            "crew          category\n",
            "experiment    category\n",
            "time          float16\n",
            "seat          category\n",
            "eeg_fp1       float16\n",
            "eeg_f7        float16\n",
            "eeg_f8        float16\n",
            "eeg_t4        float16\n",
            "eeg_t6        float16\n",
            "eeg_t5        float16\n",
            "eeg_t3        float16\n",
            "eeg_fp2       float16\n",
            "eeg_o1        float16\n",
            "eeg_p3        float16\n",
            "eeg_pz        float16\n",
            "eeg_f3        float16\n",
            "eeg_fz        float16\n",
            "eeg_f4        float16\n",
            "eeg_c4        float16\n",
            "eeg_p4        float16\n",
            "eeg_poz       float16\n",
            "eeg_c3        float16\n",
            "eeg_cz        float16\n",
            "eeg_o2        float16\n",
            "ecg           float16\n",
            "r             float16\n",
            "gsr           float16\n",
            "event         category\n",
            "dtypes: category(4), float16(24)\n",
            "memory usage: 241.4 MB\n"
          ],
          "name": "stdout"
        }
      ]
    },
    {
      "cell_type": "markdown",
      "metadata": {
        "id": "14z1PPQaIK2D",
        "colab_type": "text"
      },
      "source": [
        "Verificando a existencia de dados faltantes em cada coluna"
      ]
    },
    {
      "cell_type": "code",
      "metadata": {
        "id": "D7hHx1dZuFzk",
        "colab_type": "code",
        "outputId": "1a8308e6-ef82-4397-ef59-5eafb66289fa",
        "colab": {
          "base_uri": "https://localhost:8080/",
          "height": 532
        }
      },
      "source": [
        "raw_train_df.isna().sum()"
      ],
      "execution_count": 24,
      "outputs": [
        {
          "output_type": "execute_result",
          "data": {
            "text/plain": [
              "crew          0\n",
              "experiment    0\n",
              "time          0\n",
              "seat          0\n",
              "eeg_fp1       0\n",
              "eeg_f7        0\n",
              "eeg_f8        0\n",
              "eeg_t4        0\n",
              "eeg_t6        0\n",
              "eeg_t5        0\n",
              "eeg_t3        0\n",
              "eeg_fp2       0\n",
              "eeg_o1        0\n",
              "eeg_p3        0\n",
              "eeg_pz        0\n",
              "eeg_f3        0\n",
              "eeg_fz        0\n",
              "eeg_f4        0\n",
              "eeg_c4        0\n",
              "eeg_p4        0\n",
              "eeg_poz       0\n",
              "eeg_c3        0\n",
              "eeg_cz        0\n",
              "eeg_o2        0\n",
              "ecg           0\n",
              "r             0\n",
              "gsr           0\n",
              "event         0\n",
              "dtype: int64"
            ]
          },
          "metadata": {
            "tags": []
          },
          "execution_count": 24
        }
      ]
    },
    {
      "cell_type": "markdown",
      "metadata": {
        "id": "mEhIRD5Qpy1N",
        "colab_type": "text"
      },
      "source": [
        "Definindo índices únicos para os dados e armazenando em um novo dataframe para tratamento"
      ]
    },
    {
      "cell_type": "code",
      "metadata": {
        "id": "rDkOk-Qnnj-_",
        "colab_type": "code",
        "colab": {}
      },
      "source": [
        "train_df = raw_train_df.set_index(['crew', 'experiment', 'seat', 'time'])"
      ],
      "execution_count": 0,
      "outputs": []
    },
    {
      "cell_type": "code",
      "metadata": {
        "id": "HvD2MPsfooKy",
        "colab_type": "code",
        "outputId": "c4a39de9-d95f-4060-9b45-529789eb7ccf",
        "colab": {
          "base_uri": "https://localhost:8080/",
          "height": 52
        }
      },
      "source": [
        "# Verificando existência de dados duplicados\n",
        "print(f'Total de Dados Duplicados: {train_df.duplicated().sum()}')\n",
        "print(f'Total de índices Duplicados: {train_df.index.duplicated().sum()}')"
      ],
      "execution_count": 26,
      "outputs": [
        {
          "output_type": "stream",
          "text": [
            "Total de Dados Duplicados: 776\n",
            "Total de índices Duplicados: 4463124\n"
          ],
          "name": "stdout"
        }
      ]
    },
    {
      "cell_type": "markdown",
      "metadata": {
        "id": "KTi58iiF-DqJ",
        "colab_type": "text"
      },
      "source": [
        "### Gerando report com estatística básica\n",
        "\n",
        "> Atenção, como a quantidade de dados é relativamente grande, a geração do report sem o flag indicando `minimal=True` (para não realizar análises de correlação) pode fazer o relatório ficar em geração por horas."
      ]
    },
    {
      "cell_type": "code",
      "metadata": {
        "id": "wDtBJ_5RXMd-",
        "colab_type": "code",
        "colab": {}
      },
      "source": [
        "import pandas_profiling as pp\n",
        "\n",
        "# pp.ProfileReport(train_df).to_file('/gdrive/My Drive/Kaggle/eda_reducing-commercial-aviation-fatalities_complete.html')\n",
        "# Report Minimo\n",
        "# pp.ProfileReport(train_df, minimal=True).to_file('/gdrive/My Drive/Kaggle/eda_reducing-commercial-aviation-fatalities_minimal.html')"
      ],
      "execution_count": 0,
      "outputs": []
    },
    {
      "cell_type": "markdown",
      "metadata": {
        "id": "cGxq-Wt4qKCS",
        "colab_type": "text"
      },
      "source": [
        "### Verificando distribuição dos dados em relação a variáveis categóricas"
      ]
    },
    {
      "cell_type": "markdown",
      "metadata": {
        "id": "kWQ1MmvpvWPp",
        "colab_type": "text"
      },
      "source": [
        "#### Distribuição considerando uma variável"
      ]
    },
    {
      "cell_type": "code",
      "metadata": {
        "id": "t_TMhrhVvjWD",
        "colab_type": "code",
        "colab": {}
      },
      "source": [
        "fig, ax = plt.subplots(2, 2, figsize=(10,7))\n",
        "\n",
        "sns.countplot(train_df.index.get_level_values('crew'), ax=ax[0][0]).set_title('Em relação a tripulação');\n",
        "sns.countplot(train_df.index.get_level_values('experiment'), ax=ax[0][1]).set_title('Em relação ao experimento realizado');\n",
        "train_df.index.get_level_values('seat').value_counts().plot.pie(autopct='%.0f%%', shadow=True, ax=ax[1][0]).set_title('Em relação ao assento');\n",
        "sns.countplot(train_df.event, ax=ax[1][1]).set_title('Em relação ao evento');\n",
        "\n",
        "fig.suptitle('Distribuição dos dados', fontsize=16)\n",
        "fig.tight_layout(rect=[0, 0.03, 1, 0.95]) # Ajustes dos graficos para não sobrepor os labels e titulo"
      ],
      "execution_count": 0,
      "outputs": []
    },
    {
      "cell_type": "markdown",
      "metadata": {
        "id": "fJ0xGpR3sbrc",
        "colab_type": "text"
      },
      "source": [
        "> A partir da distribuição podemos ver um primeiro problema a ser enfrentado, a distrbuição dos dados em relação ao Evento. Isso indica que teremos um problema de **classes desbalanceadas** e será necessário realizar algum tratamento para evitar maiores impactos no modelo a ser desenvolvido."
      ]
    },
    {
      "cell_type": "markdown",
      "metadata": {
        "id": "g1T1OWbMvJMd",
        "colab_type": "text"
      },
      "source": [
        "#### Distribuição considerando duas variáveis"
      ]
    },
    {
      "cell_type": "code",
      "metadata": {
        "id": "eCC7e43BvKjg",
        "colab_type": "code",
        "colab": {}
      },
      "source": [
        "fig, ax = plt.subplots(1, 3, figsize=(15,5))\n",
        "\n",
        "sns.countplot(x=\"crew\", hue=\"experiment\", data=train_df.reset_index(), ax=ax[0]).set_title('Em relação a tripulação x experimento');\n",
        "sns.countplot(x=\"experiment\", hue=\"event\", data=train_df.reset_index(), ax=ax[1]).set_title('Em relação ao experimento x evento');\n",
        "sns.countplot(y=\"experiment\", hue=\"seat\", data=train_df.reset_index(), ax=ax[2]).set_title('Em relação a experimento x assento');\n",
        "\n",
        "for i in [0, 2]:\n",
        "    ax[i].legend(loc='center left', bbox_to_anchor=(1, 0.5))\n",
        "\n",
        "fig.suptitle('Distribuição dos dados em duas variáveis (comparativo)', fontsize=16)\n",
        "fig.tight_layout(rect=[0, 0.03, 1, 0.95]) # Ajustes dos graficos para não sobrepor os labels e titulo"
      ],
      "execution_count": 0,
      "outputs": []
    },
    {
      "cell_type": "markdown",
      "metadata": {
        "id": "NyBGOf0fv1xM",
        "colab_type": "text"
      },
      "source": [
        "> O interessante que podemos destacar nessa análise é a relação do evento com o experimento. Como esperado, o evento de atenção canalizada (CA) foi todo realizado gerando apenas um evento C, ou seja, o piloto foi forçado a manter a concetração em uma atividade durante todo o experimento. Os experimentos de atenção divergente e de susto, acionaram os eventos D (outra atividade durante o experimento) e B (evento de susto) somente em alguns momentos do experimento, no restante do experimento tivemos o evento A (atenção básica). Isso justifica o porque temos esse desbalanceamento de classes no problema."
      ]
    },
    {
      "cell_type": "markdown",
      "metadata": {
        "id": "kpEd_g0-xfy0",
        "colab_type": "text"
      },
      "source": [
        "### Visualização do comportamento dos dados no tempo"
      ]
    },
    {
      "cell_type": "markdown",
      "metadata": {
        "id": "1xBS7YWp1s4O",
        "colab_type": "text"
      },
      "source": [
        "#### Eletroencefalograma"
      ]
    },
    {
      "cell_type": "code",
      "metadata": {
        "id": "qFX4bPl0l3-I",
        "colab_type": "code",
        "colab": {}
      },
      "source": [
        "def plot_eeg(crew='1', experiment='DA', start_time=106, end_time=110):\n",
        "    g = sns.relplot(x=\"time\", y='value', col=\"point\", kind='line', col_wrap=4, hue='seat', style='event',\n",
        "                data=train_df.reset_index().query(f'crew == \"{crew}\" & experiment == \"{experiment}\" & time > {start_time} & time < {end_time}')\n",
        "                .loc[:, ['time', 'event', 'seat', *eeg_columns]].set_index(['time', 'event', 'seat'])\n",
        "                .stack().reset_index().rename(columns={'level_3': 'point', 0: 'value'}))\n",
        "    g.fig.suptitle(f'Eletroencefalograma do tripulante {crew} durante o experimento {experiment} entre os segundos {start_time} - {end_time}', fontsize=16);\n",
        "    g.fig.tight_layout(rect=[0, 0.03, 1, 0.95])\n",
        "    \n",
        "plot_eeg()"
      ],
      "execution_count": 0,
      "outputs": []
    },
    {
      "cell_type": "markdown",
      "metadata": {
        "id": "OnLFBxhr1v5N",
        "colab_type": "text"
      },
      "source": [
        "#### Eletrocardiograma, Respiração e Resposta Galvânica da Pele"
      ]
    },
    {
      "cell_type": "code",
      "metadata": {
        "id": "Xr3Fy_CJ1s6m",
        "colab_type": "code",
        "colab": {}
      },
      "source": [
        "def plot_ecg_r_gsr(crew='1', experiment='DA', start_time=100, end_time=110):\n",
        "    fig, ax = plt.subplots(1, 3, figsize=(15,5))\n",
        "\n",
        "    filtered_data = train_df.reset_index().query(f'crew == \"{crew}\" & experiment == \"{experiment}\" & time > {start_time} & time < {end_time}')\n",
        "\n",
        "    sns.lineplot(x=\"time\", y=\"ecg\", hue='seat', style='event', data=filtered_data, ax=ax[0]).set_title('Eletrocardiograma');\n",
        "    sns.lineplot(x=\"time\", y=\"r\", hue='seat', style='event', data=filtered_data, ax=ax[1]).set_title('Respiração');\n",
        "    sns.lineplot(x=\"time\", y=\"gsr\", hue='seat', style='event', data=filtered_data, ax=ax[2]).set_title('Resposta Galvânica da Pele');\n",
        "\n",
        "    fig.suptitle(f'ECG, R e GSR do tripulante {crew} durante o experimento {experiment} entre os segundos {start_time} - {end_time}', fontsize=16);\n",
        "    fig.tight_layout(rect=[0, 0.03, 1, 0.95])\n",
        "    \n",
        "plot_ecg_r_gsr()"
      ],
      "execution_count": 0,
      "outputs": []
    },
    {
      "cell_type": "markdown",
      "metadata": {
        "id": "QhMEBZ112m3l",
        "colab_type": "text"
      },
      "source": [
        "> Nessa análise podemos ver que durante esse experimento, o piloto no assento 0 ficou com o eletrocardiograma zerado, como podemos afirmar que o piloto não teve uma parada cardíaca durante o experimento, a única justificativa plausível foi que existe um erro de medição nesse caso. Será necessário tratar esses erros nos dados.\n",
        "\n",
        "\n",
        "> Outra análise interessante é o aumento do ECG e a redução da Resposta Galvânica da pele quando o piloto passa do evento A para o D. Isso pode demonstrar uma correlação interessante entre essas variáveis e a variável objetivo, o evento."
      ]
    },
    {
      "cell_type": "code",
      "metadata": {
        "id": "QYdUqv3FE5Dm",
        "colab_type": "code",
        "outputId": "d6d102c0-27ae-4513-ca57-690c7b2819d0",
        "colab": {
          "base_uri": "https://localhost:8080/",
          "height": 34
        }
      },
      "source": [
        "map_zero_entry_df = (train_df.sort_index().rolling(10).mean() == 0).groupby(level=['crew', 'experiment', 'seat']).sum().T\n",
        "print(f'Dados zerado por 10 segundos: {map_zero_entry_df.sum().sum()}')\n",
        "map_zero_entry_df.columns = map_zero_entry_df.columns.map(lambda x: f'crew({x[0]})|experiment({x[1]})|seat({x[2]})')\n",
        "\n",
        "plt.figure(figsize=(20, 5))\n",
        "sns.heatmap(map_zero_entry_df, cmap=\"YlGnBu\").set_title('Análise de dados zerados por 10 segundos');"
      ],
      "execution_count": 32,
      "outputs": [
        {
          "output_type": "stream",
          "text": [
            "Dados zerado por 10 segundos: 621373.0\n"
          ],
          "name": "stdout"
        }
      ]
    },
    {
      "cell_type": "markdown",
      "metadata": {
        "id": "nXcXnvQH564r",
        "colab_type": "text"
      },
      "source": [
        "### Verificando distribuição dos dados em relação a variáveis numéricas"
      ]
    },
    {
      "cell_type": "code",
      "metadata": {
        "id": "emT4BL5V8kzM",
        "colab_type": "code",
        "colab": {}
      },
      "source": [
        "def plot_boxen_eeg():\n",
        "    fig, ax = plt.subplots(4, 1, figsize=(15,15))\n",
        "\n",
        "    df = train_df.reset_index().loc[:, ['time', 'event', 'seat', *eeg_columns]].set_index(['time', 'event', 'seat'])\\\n",
        "                    .stack().reset_index().rename(columns={'level_3': 'point', 0: 'value'})\n",
        "\n",
        "    for i, ix in enumerate(range(0, len(eeg_columns), 5)):\n",
        "        ax[i].set_ylim(-200, 200)\n",
        "        sns.boxenplot(x=\"point\", y=\"value\", hue=\"event\", ax=ax[i], data=df[df.point.isin(np.array(eeg_columns)[range(ix, ix + 4)])])\n",
        "\n",
        "    fig.suptitle(f'Distribuição dos dados em relação as variáveis do Encefalograma', fontsize=16);\n",
        "    fig.tight_layout(rect=[0, 0.03, 1, 0.95])\n",
        "\n",
        "plot_boxen_eeg()"
      ],
      "execution_count": 0,
      "outputs": []
    },
    {
      "cell_type": "code",
      "metadata": {
        "id": "aqt8Vi2WCh3p",
        "colab_type": "code",
        "colab": {}
      },
      "source": [
        "def plot_violin_ecg_r_gsr():\n",
        "    fig, ax = plt.subplots(1, 3, figsize=(15,5))\n",
        "    features = ['ecg', 'r', 'gsr']\n",
        "    \n",
        "    df = train_df.reset_index().loc[:, ['event', *features]].set_index('event')\\\n",
        "                    .stack().reset_index().rename(columns={'level_1': 'feature', 0: 'value'})\n",
        "\n",
        "    for i, feature in enumerate(features):\n",
        "        sns.violinplot(x=\"feature\", y=\"value\", hue=\"event\", data=df[df.feature == feature], ax=ax[i])\n",
        "\n",
        "    fig.suptitle(f'Distribuição dos dados em relação as variáveis de Eletrocardiograma, Respiração e Resposta Galvânica da Pele', fontsize=16);\n",
        "    fig.tight_layout(rect=[0, 0.03, 1, 0.95])\n",
        "\n",
        "plot_violin_ecg_r_gsr()"
      ],
      "execution_count": 0,
      "outputs": []
    },
    {
      "cell_type": "markdown",
      "metadata": {
        "id": "ij33_CC2ETm7",
        "colab_type": "text"
      },
      "source": [
        "### Análise de Correlação entre as variáveis"
      ]
    },
    {
      "cell_type": "code",
      "metadata": {
        "id": "uac8LA2AgWq5",
        "colab_type": "code",
        "colab": {}
      },
      "source": [
        "g = sns.pairplot(train_df.sample(10000), hue=\"event\");\n",
        "g.fig.suptitle(f'Análise de correlação entre variáveis', fontsize=16);\n",
        "g.fig.tight_layout(rect=[0, 0.03, 1, 0.95])"
      ],
      "execution_count": 0,
      "outputs": []
    },
    {
      "cell_type": "code",
      "metadata": {
        "id": "x3aRKXExvKJJ",
        "colab_type": "code",
        "colab": {}
      },
      "source": [
        "corr_df = train_df[numeric_features].corr()"
      ],
      "execution_count": 0,
      "outputs": []
    },
    {
      "cell_type": "code",
      "metadata": {
        "id": "GgirWqVdvF6u",
        "colab_type": "code",
        "colab": {}
      },
      "source": [
        "plt.figure(figsize=(15,10))\n",
        "sns.heatmap(corr_df, vmin=-1, vmax=1, center= 0);"
      ],
      "execution_count": 0,
      "outputs": []
    },
    {
      "cell_type": "code",
      "metadata": {
        "id": "IRm0CvMzj8-c",
        "colab_type": "code",
        "colab": {}
      },
      "source": [
        "corr_table = corr_df.abs().apply(lambda x: (corr_df.columns.get_loc(x.name) < x.index.map(corr_df.index.get_loc)) * x).unstack()\n",
        "corr_table = corr_table.loc[corr_table > 0]\n",
        "corr_table = pd.cut(corr_table, bins=[0, .3, .5, .7, .9, 1], labels=[\"Desprezível\", \"Fraca\", \"Moderada\", 'Forte', 'Muito Forte']).sort_values(ascending=False)\n",
        "\n",
        "sns.countplot(corr_table);"
      ],
      "execution_count": 0,
      "outputs": []
    },
    {
      "cell_type": "code",
      "metadata": {
        "id": "jUfpmsbNI_iZ",
        "colab_type": "code",
        "colab": {}
      },
      "source": [
        "pd.DataFrame(corr_table[corr_table >= 'Moderada'], columns=['Correlação'])"
      ],
      "execution_count": 0,
      "outputs": []
    },
    {
      "cell_type": "markdown",
      "metadata": {
        "id": "IMVmYGSnqClG",
        "colab_type": "text"
      },
      "source": [
        "# Limpeza Final dos dados de treinamento"
      ]
    },
    {
      "cell_type": "code",
      "metadata": {
        "id": "MywkHa1VJzyi",
        "colab_type": "code",
        "colab": {
          "base_uri": "https://localhost:8080/",
          "height": 530
        },
        "outputId": "31fd782a-7cfd-47d1-a2ea-cc143e454c64"
      },
      "source": [
        "# Removendo dados duplicados\n",
        "final_df = train_df.drop_duplicates()\n",
        "print(f'Total de Dados Duplicados: {final_df.duplicated().sum()}')\n",
        "\n",
        "# Removendo dados de sensores com 10 medições zeradas\n",
        "final_df = final_df.drop((final_df.sort_index().rolling(10).mean() == 0))\n",
        "print(f'Total de até 10 medições consecutivas zeradas : {final_df.duplicated().sum()}')"
      ],
      "execution_count": 28,
      "outputs": [
        {
          "output_type": "stream",
          "text": [
            "Total de Dados Duplicados: 0\n"
          ],
          "name": "stdout"
        },
        {
          "output_type": "error",
          "ename": "KeyboardInterrupt",
          "evalue": "ignored",
          "traceback": [
            "\u001b[0;31m---------------------------------------------------------------------------\u001b[0m",
            "\u001b[0;31mTypeError\u001b[0m                                 Traceback (most recent call last)",
            "\u001b[0;32m/usr/local/lib/python3.6/dist-packages/pandas/core/indexes/multi.py\u001b[0m in \u001b[0;36mget_indexer\u001b[0;34m(self, target, method, limit, tolerance)\u001b[0m\n\u001b[1;32m   2422\u001b[0m             \u001b[0;32mtry\u001b[0m\u001b[0;34m:\u001b[0m\u001b[0;34m\u001b[0m\u001b[0;34m\u001b[0m\u001b[0m\n\u001b[0;32m-> 2423\u001b[0;31m                 \u001b[0mtarget\u001b[0m \u001b[0;34m=\u001b[0m \u001b[0mMultiIndex\u001b[0m\u001b[0;34m.\u001b[0m\u001b[0mfrom_tuples\u001b[0m\u001b[0;34m(\u001b[0m\u001b[0mtarget\u001b[0m\u001b[0;34m)\u001b[0m\u001b[0;34m\u001b[0m\u001b[0;34m\u001b[0m\u001b[0m\n\u001b[0m\u001b[1;32m   2424\u001b[0m             \u001b[0;32mexcept\u001b[0m \u001b[0;34m(\u001b[0m\u001b[0mTypeError\u001b[0m\u001b[0;34m,\u001b[0m \u001b[0mValueError\u001b[0m\u001b[0;34m)\u001b[0m\u001b[0;34m:\u001b[0m\u001b[0;34m\u001b[0m\u001b[0;34m\u001b[0m\u001b[0m\n",
            "\u001b[0;32m/usr/local/lib/python3.6/dist-packages/pandas/core/indexes/multi.py\u001b[0m in \u001b[0;36mfrom_tuples\u001b[0;34m(cls, tuples, sortorder, names)\u001b[0m\n\u001b[1;32m    482\u001b[0m \u001b[0;34m\u001b[0m\u001b[0m\n\u001b[0;32m--> 483\u001b[0;31m             \u001b[0marrays\u001b[0m \u001b[0;34m=\u001b[0m \u001b[0mlist\u001b[0m\u001b[0;34m(\u001b[0m\u001b[0mlib\u001b[0m\u001b[0;34m.\u001b[0m\u001b[0mtuples_to_object_array\u001b[0m\u001b[0;34m(\u001b[0m\u001b[0mtuples\u001b[0m\u001b[0;34m)\u001b[0m\u001b[0;34m.\u001b[0m\u001b[0mT\u001b[0m\u001b[0;34m)\u001b[0m\u001b[0;34m\u001b[0m\u001b[0;34m\u001b[0m\u001b[0m\n\u001b[0m\u001b[1;32m    484\u001b[0m         \u001b[0;32melif\u001b[0m \u001b[0misinstance\u001b[0m\u001b[0;34m(\u001b[0m\u001b[0mtuples\u001b[0m\u001b[0;34m,\u001b[0m \u001b[0mlist\u001b[0m\u001b[0;34m)\u001b[0m\u001b[0;34m:\u001b[0m\u001b[0;34m\u001b[0m\u001b[0;34m\u001b[0m\u001b[0m\n",
            "\u001b[0;32mpandas/_libs/lib.pyx\u001b[0m in \u001b[0;36mpandas._libs.lib.tuples_to_object_array\u001b[0;34m()\u001b[0m\n",
            "\u001b[0;31mTypeError\u001b[0m: Expected tuple, got str",
            "\nDuring handling of the above exception, another exception occurred:\n",
            "\u001b[0;31mKeyboardInterrupt\u001b[0m                         Traceback (most recent call last)",
            "\u001b[0;32m<ipython-input-28-20f30d9776ae>\u001b[0m in \u001b[0;36m<module>\u001b[0;34m()\u001b[0m\n\u001b[1;32m      3\u001b[0m \u001b[0;34m\u001b[0m\u001b[0m\n\u001b[1;32m      4\u001b[0m \u001b[0;31m# Removendo dados de sensores com 10 medições zeradas\u001b[0m\u001b[0;34m\u001b[0m\u001b[0;34m\u001b[0m\u001b[0;34m\u001b[0m\u001b[0m\n\u001b[0;32m----> 5\u001b[0;31m \u001b[0mfinal_df\u001b[0m \u001b[0;34m=\u001b[0m \u001b[0mfinal_df\u001b[0m\u001b[0;34m.\u001b[0m\u001b[0mdrop\u001b[0m\u001b[0;34m(\u001b[0m\u001b[0;34m(\u001b[0m\u001b[0mfinal_df\u001b[0m\u001b[0;34m.\u001b[0m\u001b[0msort_index\u001b[0m\u001b[0;34m(\u001b[0m\u001b[0;34m)\u001b[0m\u001b[0;34m.\u001b[0m\u001b[0mrolling\u001b[0m\u001b[0;34m(\u001b[0m\u001b[0;36m10\u001b[0m\u001b[0;34m)\u001b[0m\u001b[0;34m.\u001b[0m\u001b[0mmean\u001b[0m\u001b[0;34m(\u001b[0m\u001b[0;34m)\u001b[0m \u001b[0;34m==\u001b[0m \u001b[0;36m0\u001b[0m\u001b[0;34m)\u001b[0m\u001b[0;34m)\u001b[0m\u001b[0;34m\u001b[0m\u001b[0;34m\u001b[0m\u001b[0m\n\u001b[0m\u001b[1;32m      6\u001b[0m \u001b[0mprint\u001b[0m\u001b[0;34m(\u001b[0m\u001b[0;34mf'Total de até 10 medições consecutivas zeradas : {final_df.duplicated().sum()}'\u001b[0m\u001b[0;34m)\u001b[0m\u001b[0;34m\u001b[0m\u001b[0;34m\u001b[0m\u001b[0m\n",
            "\u001b[0;32m/usr/local/lib/python3.6/dist-packages/pandas/core/frame.py\u001b[0m in \u001b[0;36mdrop\u001b[0;34m(self, labels, axis, index, columns, level, inplace, errors)\u001b[0m\n\u001b[1;32m   4115\u001b[0m             \u001b[0mlevel\u001b[0m\u001b[0;34m=\u001b[0m\u001b[0mlevel\u001b[0m\u001b[0;34m,\u001b[0m\u001b[0;34m\u001b[0m\u001b[0;34m\u001b[0m\u001b[0m\n\u001b[1;32m   4116\u001b[0m             \u001b[0minplace\u001b[0m\u001b[0;34m=\u001b[0m\u001b[0minplace\u001b[0m\u001b[0;34m,\u001b[0m\u001b[0;34m\u001b[0m\u001b[0;34m\u001b[0m\u001b[0m\n\u001b[0;32m-> 4117\u001b[0;31m             \u001b[0merrors\u001b[0m\u001b[0;34m=\u001b[0m\u001b[0merrors\u001b[0m\u001b[0;34m,\u001b[0m\u001b[0;34m\u001b[0m\u001b[0;34m\u001b[0m\u001b[0m\n\u001b[0m\u001b[1;32m   4118\u001b[0m         )\n\u001b[1;32m   4119\u001b[0m \u001b[0;34m\u001b[0m\u001b[0m\n",
            "\u001b[0;32m/usr/local/lib/python3.6/dist-packages/pandas/core/generic.py\u001b[0m in \u001b[0;36mdrop\u001b[0;34m(self, labels, axis, index, columns, level, inplace, errors)\u001b[0m\n\u001b[1;32m   3912\u001b[0m         \u001b[0;32mfor\u001b[0m \u001b[0maxis\u001b[0m\u001b[0;34m,\u001b[0m \u001b[0mlabels\u001b[0m \u001b[0;32min\u001b[0m \u001b[0maxes\u001b[0m\u001b[0;34m.\u001b[0m\u001b[0mitems\u001b[0m\u001b[0;34m(\u001b[0m\u001b[0;34m)\u001b[0m\u001b[0;34m:\u001b[0m\u001b[0;34m\u001b[0m\u001b[0;34m\u001b[0m\u001b[0m\n\u001b[1;32m   3913\u001b[0m             \u001b[0;32mif\u001b[0m \u001b[0mlabels\u001b[0m \u001b[0;32mis\u001b[0m \u001b[0;32mnot\u001b[0m \u001b[0;32mNone\u001b[0m\u001b[0;34m:\u001b[0m\u001b[0;34m\u001b[0m\u001b[0;34m\u001b[0m\u001b[0m\n\u001b[0;32m-> 3914\u001b[0;31m                 \u001b[0mobj\u001b[0m \u001b[0;34m=\u001b[0m \u001b[0mobj\u001b[0m\u001b[0;34m.\u001b[0m\u001b[0m_drop_axis\u001b[0m\u001b[0;34m(\u001b[0m\u001b[0mlabels\u001b[0m\u001b[0;34m,\u001b[0m \u001b[0maxis\u001b[0m\u001b[0;34m,\u001b[0m \u001b[0mlevel\u001b[0m\u001b[0;34m=\u001b[0m\u001b[0mlevel\u001b[0m\u001b[0;34m,\u001b[0m \u001b[0merrors\u001b[0m\u001b[0;34m=\u001b[0m\u001b[0merrors\u001b[0m\u001b[0;34m)\u001b[0m\u001b[0;34m\u001b[0m\u001b[0;34m\u001b[0m\u001b[0m\n\u001b[0m\u001b[1;32m   3915\u001b[0m \u001b[0;34m\u001b[0m\u001b[0m\n\u001b[1;32m   3916\u001b[0m         \u001b[0;32mif\u001b[0m \u001b[0minplace\u001b[0m\u001b[0;34m:\u001b[0m\u001b[0;34m\u001b[0m\u001b[0;34m\u001b[0m\u001b[0m\n",
            "\u001b[0;32m/usr/local/lib/python3.6/dist-packages/pandas/core/generic.py\u001b[0m in \u001b[0;36m_drop_axis\u001b[0;34m(self, labels, axis, level, errors)\u001b[0m\n\u001b[1;32m   3944\u001b[0m                 \u001b[0mnew_axis\u001b[0m \u001b[0;34m=\u001b[0m \u001b[0maxis\u001b[0m\u001b[0;34m.\u001b[0m\u001b[0mdrop\u001b[0m\u001b[0;34m(\u001b[0m\u001b[0mlabels\u001b[0m\u001b[0;34m,\u001b[0m \u001b[0mlevel\u001b[0m\u001b[0;34m=\u001b[0m\u001b[0mlevel\u001b[0m\u001b[0;34m,\u001b[0m \u001b[0merrors\u001b[0m\u001b[0;34m=\u001b[0m\u001b[0merrors\u001b[0m\u001b[0;34m)\u001b[0m\u001b[0;34m\u001b[0m\u001b[0;34m\u001b[0m\u001b[0m\n\u001b[1;32m   3945\u001b[0m             \u001b[0;32melse\u001b[0m\u001b[0;34m:\u001b[0m\u001b[0;34m\u001b[0m\u001b[0;34m\u001b[0m\u001b[0m\n\u001b[0;32m-> 3946\u001b[0;31m                 \u001b[0mnew_axis\u001b[0m \u001b[0;34m=\u001b[0m \u001b[0maxis\u001b[0m\u001b[0;34m.\u001b[0m\u001b[0mdrop\u001b[0m\u001b[0;34m(\u001b[0m\u001b[0mlabels\u001b[0m\u001b[0;34m,\u001b[0m \u001b[0merrors\u001b[0m\u001b[0;34m=\u001b[0m\u001b[0merrors\u001b[0m\u001b[0;34m)\u001b[0m\u001b[0;34m\u001b[0m\u001b[0;34m\u001b[0m\u001b[0m\n\u001b[0m\u001b[1;32m   3947\u001b[0m             \u001b[0mresult\u001b[0m \u001b[0;34m=\u001b[0m \u001b[0mself\u001b[0m\u001b[0;34m.\u001b[0m\u001b[0mreindex\u001b[0m\u001b[0;34m(\u001b[0m\u001b[0;34m**\u001b[0m\u001b[0;34m{\u001b[0m\u001b[0maxis_name\u001b[0m\u001b[0;34m:\u001b[0m \u001b[0mnew_axis\u001b[0m\u001b[0;34m}\u001b[0m\u001b[0;34m)\u001b[0m\u001b[0;34m\u001b[0m\u001b[0;34m\u001b[0m\u001b[0m\n\u001b[1;32m   3948\u001b[0m \u001b[0;34m\u001b[0m\u001b[0m\n",
            "\u001b[0;32m/usr/local/lib/python3.6/dist-packages/pandas/util/_decorators.py\u001b[0m in \u001b[0;36mwrapper\u001b[0;34m(*args, **kwargs)\u001b[0m\n\u001b[1;32m    206\u001b[0m                 \u001b[0;32melse\u001b[0m\u001b[0;34m:\u001b[0m\u001b[0;34m\u001b[0m\u001b[0;34m\u001b[0m\u001b[0m\n\u001b[1;32m    207\u001b[0m                     \u001b[0mkwargs\u001b[0m\u001b[0;34m[\u001b[0m\u001b[0mnew_arg_name\u001b[0m\u001b[0;34m]\u001b[0m \u001b[0;34m=\u001b[0m \u001b[0mnew_arg_value\u001b[0m\u001b[0;34m\u001b[0m\u001b[0;34m\u001b[0m\u001b[0m\n\u001b[0;32m--> 208\u001b[0;31m             \u001b[0;32mreturn\u001b[0m \u001b[0mfunc\u001b[0m\u001b[0;34m(\u001b[0m\u001b[0;34m*\u001b[0m\u001b[0margs\u001b[0m\u001b[0;34m,\u001b[0m \u001b[0;34m**\u001b[0m\u001b[0mkwargs\u001b[0m\u001b[0;34m)\u001b[0m\u001b[0;34m\u001b[0m\u001b[0;34m\u001b[0m\u001b[0m\n\u001b[0m\u001b[1;32m    209\u001b[0m \u001b[0;34m\u001b[0m\u001b[0m\n\u001b[1;32m    210\u001b[0m         \u001b[0;32mreturn\u001b[0m \u001b[0mwrapper\u001b[0m\u001b[0;34m\u001b[0m\u001b[0;34m\u001b[0m\u001b[0m\n",
            "\u001b[0;32m/usr/local/lib/python3.6/dist-packages/pandas/core/indexes/multi.py\u001b[0m in \u001b[0;36mdrop\u001b[0;34m(self, codes, level, errors)\u001b[0m\n\u001b[1;32m   2139\u001b[0m             \u001b[0;32mif\u001b[0m \u001b[0;32mnot\u001b[0m \u001b[0misinstance\u001b[0m\u001b[0;34m(\u001b[0m\u001b[0mcodes\u001b[0m\u001b[0;34m,\u001b[0m \u001b[0;34m(\u001b[0m\u001b[0mnp\u001b[0m\u001b[0;34m.\u001b[0m\u001b[0mndarray\u001b[0m\u001b[0;34m,\u001b[0m \u001b[0mIndex\u001b[0m\u001b[0;34m)\u001b[0m\u001b[0;34m)\u001b[0m\u001b[0;34m:\u001b[0m\u001b[0;34m\u001b[0m\u001b[0;34m\u001b[0m\u001b[0m\n\u001b[1;32m   2140\u001b[0m                 \u001b[0mcodes\u001b[0m \u001b[0;34m=\u001b[0m \u001b[0mcom\u001b[0m\u001b[0;34m.\u001b[0m\u001b[0mindex_labels_to_array\u001b[0m\u001b[0;34m(\u001b[0m\u001b[0mcodes\u001b[0m\u001b[0;34m)\u001b[0m\u001b[0;34m\u001b[0m\u001b[0;34m\u001b[0m\u001b[0m\n\u001b[0;32m-> 2141\u001b[0;31m             \u001b[0mindexer\u001b[0m \u001b[0;34m=\u001b[0m \u001b[0mself\u001b[0m\u001b[0;34m.\u001b[0m\u001b[0mget_indexer\u001b[0m\u001b[0;34m(\u001b[0m\u001b[0mcodes\u001b[0m\u001b[0;34m)\u001b[0m\u001b[0;34m\u001b[0m\u001b[0;34m\u001b[0m\u001b[0m\n\u001b[0m\u001b[1;32m   2142\u001b[0m             \u001b[0mmask\u001b[0m \u001b[0;34m=\u001b[0m \u001b[0mindexer\u001b[0m \u001b[0;34m==\u001b[0m \u001b[0;34m-\u001b[0m\u001b[0;36m1\u001b[0m\u001b[0;34m\u001b[0m\u001b[0;34m\u001b[0m\u001b[0m\n\u001b[1;32m   2143\u001b[0m             \u001b[0;32mif\u001b[0m \u001b[0mmask\u001b[0m\u001b[0;34m.\u001b[0m\u001b[0many\u001b[0m\u001b[0;34m(\u001b[0m\u001b[0;34m)\u001b[0m\u001b[0;34m:\u001b[0m\u001b[0;34m\u001b[0m\u001b[0;34m\u001b[0m\u001b[0m\n",
            "\u001b[0;32m/usr/local/lib/python3.6/dist-packages/pandas/core/indexes/multi.py\u001b[0m in \u001b[0;36mget_indexer\u001b[0;34m(self, target, method, limit, tolerance)\u001b[0m\n\u001b[1;32m   2427\u001b[0m                 \u001b[0;32mif\u001b[0m \u001b[0mmethod\u001b[0m \u001b[0;32mis\u001b[0m \u001b[0;32mNone\u001b[0m\u001b[0;34m:\u001b[0m\u001b[0;34m\u001b[0m\u001b[0;34m\u001b[0m\u001b[0m\n\u001b[1;32m   2428\u001b[0m                     return Index(self.values).get_indexer(\n\u001b[0;32m-> 2429\u001b[0;31m                         \u001b[0mtarget\u001b[0m\u001b[0;34m,\u001b[0m \u001b[0mmethod\u001b[0m\u001b[0;34m=\u001b[0m\u001b[0mmethod\u001b[0m\u001b[0;34m,\u001b[0m \u001b[0mlimit\u001b[0m\u001b[0;34m=\u001b[0m\u001b[0mlimit\u001b[0m\u001b[0;34m,\u001b[0m \u001b[0mtolerance\u001b[0m\u001b[0;34m=\u001b[0m\u001b[0mtolerance\u001b[0m\u001b[0;34m\u001b[0m\u001b[0;34m\u001b[0m\u001b[0m\n\u001b[0m\u001b[1;32m   2430\u001b[0m                     )\n\u001b[1;32m   2431\u001b[0m \u001b[0;34m\u001b[0m\u001b[0m\n",
            "\u001b[0;32m/usr/local/lib/python3.6/dist-packages/pandas/core/indexes/base.py\u001b[0m in \u001b[0;36mget_indexer\u001b[0;34m(self, target, method, limit, tolerance)\u001b[0m\n\u001b[1;32m   2981\u001b[0m             )\n\u001b[1;32m   2982\u001b[0m \u001b[0;34m\u001b[0m\u001b[0m\n\u001b[0;32m-> 2983\u001b[0;31m         \u001b[0;32mif\u001b[0m \u001b[0;32mnot\u001b[0m \u001b[0mself\u001b[0m\u001b[0;34m.\u001b[0m\u001b[0mis_unique\u001b[0m\u001b[0;34m:\u001b[0m\u001b[0;34m\u001b[0m\u001b[0;34m\u001b[0m\u001b[0m\n\u001b[0m\u001b[1;32m   2984\u001b[0m             raise InvalidIndexError(\n\u001b[1;32m   2985\u001b[0m                 \u001b[0;34m\"Reindexing only valid with uniquely\"\u001b[0m \u001b[0;34m\" valued Index objects\"\u001b[0m\u001b[0;34m\u001b[0m\u001b[0;34m\u001b[0m\u001b[0m\n",
            "\u001b[0;32mpandas/_libs/properties.pyx\u001b[0m in \u001b[0;36mpandas._libs.properties.CachedProperty.__get__\u001b[0;34m()\u001b[0m\n",
            "\u001b[0;32m/usr/local/lib/python3.6/dist-packages/pandas/core/indexes/base.py\u001b[0m in \u001b[0;36mis_unique\u001b[0;34m(self)\u001b[0m\n\u001b[1;32m   1806\u001b[0m         \u001b[0mReturn\u001b[0m \u001b[0;32mif\u001b[0m \u001b[0mthe\u001b[0m \u001b[0mindex\u001b[0m \u001b[0mhas\u001b[0m \u001b[0munique\u001b[0m \u001b[0mvalues\u001b[0m\u001b[0;34m.\u001b[0m\u001b[0;34m\u001b[0m\u001b[0;34m\u001b[0m\u001b[0m\n\u001b[1;32m   1807\u001b[0m         \"\"\"\n\u001b[0;32m-> 1808\u001b[0;31m         \u001b[0;32mreturn\u001b[0m \u001b[0mself\u001b[0m\u001b[0;34m.\u001b[0m\u001b[0m_engine\u001b[0m\u001b[0;34m.\u001b[0m\u001b[0mis_unique\u001b[0m\u001b[0;34m\u001b[0m\u001b[0;34m\u001b[0m\u001b[0m\n\u001b[0m\u001b[1;32m   1809\u001b[0m \u001b[0;34m\u001b[0m\u001b[0m\n\u001b[1;32m   1810\u001b[0m     \u001b[0;34m@\u001b[0m\u001b[0mproperty\u001b[0m\u001b[0;34m\u001b[0m\u001b[0;34m\u001b[0m\u001b[0m\n",
            "\u001b[0;31mKeyboardInterrupt\u001b[0m: "
          ]
        }
      ]
    },
    {
      "cell_type": "code",
      "metadata": {
        "id": "FFSUrinAqcU2",
        "colab_type": "code",
        "colab": {}
      },
      "source": [
        ""
      ],
      "execution_count": 0,
      "outputs": []
    }
  ]
}