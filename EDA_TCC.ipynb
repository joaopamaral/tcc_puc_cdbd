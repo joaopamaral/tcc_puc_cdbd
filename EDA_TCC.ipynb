{
  "nbformat": 4,
  "nbformat_minor": 0,
  "metadata": {
    "colab": {
      "name": "EDA - TCC",
      "provenance": [],
      "include_colab_link": true
    },
    "kernelspec": {
      "name": "python3",
      "display_name": "Python 3"
    }
  },
  "cells": [
    {
      "cell_type": "markdown",
      "metadata": {
        "id": "view-in-github",
        "colab_type": "text"
      },
      "source": [
        "<a href=\"https://colab.research.google.com/github/joaopamaral/tcc_puc_cdbd/blob/master/EDA_TCC.ipynb\" target=\"_parent\"><img src=\"https://colab.research.google.com/assets/colab-badge.svg\" alt=\"Open In Colab\"/></a>"
      ]
    },
    {
      "cell_type": "code",
      "metadata": {
        "id": "gS2yiJ3OP4lv",
        "colab_type": "code",
        "colab": {}
      },
      "source": [
        "!pip -q install kaggle --upgrade"
      ],
      "execution_count": 0,
      "outputs": []
    },
    {
      "cell_type": "code",
      "metadata": {
        "id": "O2NmiZyCKccg",
        "colab_type": "code",
        "colab": {
          "base_uri": "https://localhost:8080/",
          "height": 122
        },
        "outputId": "28119090-a5bd-4eb1-e417-18910354fa40"
      },
      "source": [
        "from google.colab import drive\n",
        "drive.mount('/gdrive')"
      ],
      "execution_count": 2,
      "outputs": [
        {
          "output_type": "stream",
          "text": [
            "Go to this URL in a browser: https://accounts.google.com/o/oauth2/auth?client_id=947318989803-6bn6qk8qdgf4n4g3pfee6491hc0brc4i.apps.googleusercontent.com&redirect_uri=urn%3aietf%3awg%3aoauth%3a2.0%3aoob&response_type=code&scope=email%20https%3a%2f%2fwww.googleapis.com%2fauth%2fdocs.test%20https%3a%2f%2fwww.googleapis.com%2fauth%2fdrive%20https%3a%2f%2fwww.googleapis.com%2fauth%2fdrive.photos.readonly%20https%3a%2f%2fwww.googleapis.com%2fauth%2fpeopleapi.readonly\n",
            "\n",
            "Enter your authorization code:\n",
            "··········\n",
            "Mounted at /gdrive\n"
          ],
          "name": "stdout"
        }
      ]
    },
    {
      "cell_type": "code",
      "metadata": {
        "id": "9qVHkoarK6OL",
        "colab_type": "code",
        "colab": {}
      },
      "source": [
        "!cp /gdrive/My\\ Drive/Kaggle/kaggle.json ~/.kaggle/kaggle.json"
      ],
      "execution_count": 0,
      "outputs": []
    },
    {
      "cell_type": "code",
      "metadata": {
        "id": "Z0lE8dQep4sa",
        "colab_type": "code",
        "colab": {
          "base_uri": "https://localhost:8080/",
          "height": 187
        },
        "outputId": "ecb5ffdf-d1a5-44e2-a8e7-46e33adba747"
      },
      "source": [
        "!kaggle competitions download -c reducing-commercial-aviation-fatalities"
      ],
      "execution_count": 8,
      "outputs": [
        {
          "output_type": "stream",
          "text": [
            "Warning: Looks like you're using an outdated API Version, please consider updating (server 1.5.6 / client 1.5.4)\n",
            "Downloading test.csv.zip to /content\n",
            "100% 1.67G/1.67G [00:32<00:00, 61.2MB/s]\n",
            "100% 1.67G/1.67G [00:32<00:00, 55.4MB/s]\n",
            "Downloading train.csv.zip to /content\n",
            "100% 435M/435M [00:09<00:00, 49.9MB/s]\n",
            "100% 435M/435M [00:09<00:00, 50.1MB/s]\n",
            "Downloading sample_submission.csv.zip to /content\n",
            "100% 41.0M/41.2M [00:00<00:00, 40.1MB/s]\n",
            "100% 41.2M/41.2M [00:00<00:00, 52.9MB/s]\n"
          ],
          "name": "stdout"
        }
      ]
    },
    {
      "cell_type": "code",
      "metadata": {
        "id": "t8Ob23DnOHbZ",
        "colab_type": "code",
        "colab": {}
      },
      "source": [
        "!cp {sample_submission.csv.zip,train.csv.zip,test.csv.zip} /gdrive/My\\ Drive/Kaggle/reducing-commercial-aviation-fatalities/"
      ],
      "execution_count": 0,
      "outputs": []
    },
    {
      "cell_type": "code",
      "metadata": {
        "id": "L0XrMFNUqGew",
        "colab_type": "code",
        "colab": {}
      },
      "source": [
        "import pandas as pd"
      ],
      "execution_count": 0,
      "outputs": []
    },
    {
      "cell_type": "code",
      "metadata": {
        "id": "OWtQK6ryL_wJ",
        "colab_type": "code",
        "colab": {}
      },
      "source": [
        "train_ds = pd.read_csv('train.csv.zip')"
      ],
      "execution_count": 0,
      "outputs": []
    },
    {
      "cell_type": "code",
      "metadata": {
        "id": "o2XMbj6wMIDB",
        "colab_type": "code",
        "colab": {
          "base_uri": "https://localhost:8080/",
          "height": 255
        },
        "outputId": "9967559c-b401-456c-c804-a9ea2249d43f"
      },
      "source": [
        "train_ds.set_index(['crew', 'seat', 'experiment']).plot().head()"
      ],
      "execution_count": 13,
      "outputs": [
        {
          "output_type": "execute_result",
          "data": {
            "text/html": [
              "<div>\n",
              "<style scoped>\n",
              "    .dataframe tbody tr th:only-of-type {\n",
              "        vertical-align: middle;\n",
              "    }\n",
              "\n",
              "    .dataframe tbody tr th {\n",
              "        vertical-align: top;\n",
              "    }\n",
              "\n",
              "    .dataframe thead th {\n",
              "        text-align: right;\n",
              "    }\n",
              "</style>\n",
              "<table border=\"1\" class=\"dataframe\">\n",
              "  <thead>\n",
              "    <tr style=\"text-align: right;\">\n",
              "      <th></th>\n",
              "      <th></th>\n",
              "      <th></th>\n",
              "      <th>time</th>\n",
              "      <th>eeg_fp1</th>\n",
              "      <th>eeg_f7</th>\n",
              "      <th>eeg_f8</th>\n",
              "      <th>eeg_t4</th>\n",
              "      <th>eeg_t6</th>\n",
              "      <th>eeg_t5</th>\n",
              "      <th>eeg_t3</th>\n",
              "      <th>eeg_fp2</th>\n",
              "      <th>eeg_o1</th>\n",
              "      <th>eeg_p3</th>\n",
              "      <th>eeg_pz</th>\n",
              "      <th>eeg_f3</th>\n",
              "      <th>eeg_fz</th>\n",
              "      <th>eeg_f4</th>\n",
              "      <th>eeg_c4</th>\n",
              "      <th>eeg_p4</th>\n",
              "      <th>eeg_poz</th>\n",
              "      <th>eeg_c3</th>\n",
              "      <th>eeg_cz</th>\n",
              "      <th>eeg_o2</th>\n",
              "      <th>ecg</th>\n",
              "      <th>r</th>\n",
              "      <th>gsr</th>\n",
              "      <th>event</th>\n",
              "    </tr>\n",
              "    <tr>\n",
              "      <th>crew</th>\n",
              "      <th>seat</th>\n",
              "      <th>experiment</th>\n",
              "      <th></th>\n",
              "      <th></th>\n",
              "      <th></th>\n",
              "      <th></th>\n",
              "      <th></th>\n",
              "      <th></th>\n",
              "      <th></th>\n",
              "      <th></th>\n",
              "      <th></th>\n",
              "      <th></th>\n",
              "      <th></th>\n",
              "      <th></th>\n",
              "      <th></th>\n",
              "      <th></th>\n",
              "      <th></th>\n",
              "      <th></th>\n",
              "      <th></th>\n",
              "      <th></th>\n",
              "      <th></th>\n",
              "      <th></th>\n",
              "      <th></th>\n",
              "      <th></th>\n",
              "      <th></th>\n",
              "      <th></th>\n",
              "      <th></th>\n",
              "    </tr>\n",
              "  </thead>\n",
              "  <tbody>\n",
              "    <tr>\n",
              "      <th rowspan=\"5\" valign=\"top\">1</th>\n",
              "      <th rowspan=\"5\" valign=\"top\">1</th>\n",
              "      <th>CA</th>\n",
              "      <td>0.011719</td>\n",
              "      <td>-5.28545</td>\n",
              "      <td>26.775801</td>\n",
              "      <td>-9.527310</td>\n",
              "      <td>-12.793200</td>\n",
              "      <td>16.717800</td>\n",
              "      <td>33.737499</td>\n",
              "      <td>23.712299</td>\n",
              "      <td>-6.695870</td>\n",
              "      <td>29.232100</td>\n",
              "      <td>24.842899</td>\n",
              "      <td>3.92134</td>\n",
              "      <td>18.447001</td>\n",
              "      <td>1.07547</td>\n",
              "      <td>3.09029</td>\n",
              "      <td>37.368999</td>\n",
              "      <td>17.437599</td>\n",
              "      <td>19.201900</td>\n",
              "      <td>20.5968</td>\n",
              "      <td>-3.95115</td>\n",
              "      <td>14.507600</td>\n",
              "      <td>-4520.0</td>\n",
              "      <td>817.705994</td>\n",
              "      <td>388.829987</td>\n",
              "      <td>A</td>\n",
              "    </tr>\n",
              "    <tr>\n",
              "      <th>CA</th>\n",
              "      <td>0.015625</td>\n",
              "      <td>-2.42842</td>\n",
              "      <td>28.430901</td>\n",
              "      <td>-9.323510</td>\n",
              "      <td>-3.757230</td>\n",
              "      <td>15.969300</td>\n",
              "      <td>30.443600</td>\n",
              "      <td>21.010300</td>\n",
              "      <td>-6.474720</td>\n",
              "      <td>26.641399</td>\n",
              "      <td>24.138800</td>\n",
              "      <td>5.46991</td>\n",
              "      <td>20.510599</td>\n",
              "      <td>2.83354</td>\n",
              "      <td>7.10177</td>\n",
              "      <td>31.170799</td>\n",
              "      <td>19.399700</td>\n",
              "      <td>19.689501</td>\n",
              "      <td>21.3547</td>\n",
              "      <td>1.33212</td>\n",
              "      <td>17.750200</td>\n",
              "      <td>-4520.0</td>\n",
              "      <td>817.705994</td>\n",
              "      <td>388.829987</td>\n",
              "      <td>A</td>\n",
              "    </tr>\n",
              "    <tr>\n",
              "      <th>CA</th>\n",
              "      <td>0.019531</td>\n",
              "      <td>10.67150</td>\n",
              "      <td>30.420200</td>\n",
              "      <td>15.350700</td>\n",
              "      <td>24.724001</td>\n",
              "      <td>16.143101</td>\n",
              "      <td>32.142799</td>\n",
              "      <td>25.431801</td>\n",
              "      <td>-0.088707</td>\n",
              "      <td>28.119900</td>\n",
              "      <td>26.891300</td>\n",
              "      <td>8.57886</td>\n",
              "      <td>23.162901</td>\n",
              "      <td>4.51993</td>\n",
              "      <td>12.70550</td>\n",
              "      <td>-12.012600</td>\n",
              "      <td>19.396299</td>\n",
              "      <td>23.171700</td>\n",
              "      <td>22.4076</td>\n",
              "      <td>1.53786</td>\n",
              "      <td>22.247000</td>\n",
              "      <td>-4520.0</td>\n",
              "      <td>817.705994</td>\n",
              "      <td>388.829987</td>\n",
              "      <td>A</td>\n",
              "    </tr>\n",
              "    <tr>\n",
              "      <th>CA</th>\n",
              "      <td>0.023438</td>\n",
              "      <td>11.45250</td>\n",
              "      <td>25.609800</td>\n",
              "      <td>2.433080</td>\n",
              "      <td>12.412500</td>\n",
              "      <td>20.533300</td>\n",
              "      <td>31.494101</td>\n",
              "      <td>19.142799</td>\n",
              "      <td>-0.256516</td>\n",
              "      <td>30.653601</td>\n",
              "      <td>24.247000</td>\n",
              "      <td>8.64310</td>\n",
              "      <td>19.961901</td>\n",
              "      <td>7.27575</td>\n",
              "      <td>11.45980</td>\n",
              "      <td>18.574100</td>\n",
              "      <td>23.156401</td>\n",
              "      <td>22.641199</td>\n",
              "      <td>19.3367</td>\n",
              "      <td>2.54492</td>\n",
              "      <td>18.998600</td>\n",
              "      <td>-4520.0</td>\n",
              "      <td>817.705994</td>\n",
              "      <td>388.829987</td>\n",
              "      <td>A</td>\n",
              "    </tr>\n",
              "    <tr>\n",
              "      <th>CA</th>\n",
              "      <td>0.027344</td>\n",
              "      <td>7.28321</td>\n",
              "      <td>25.942600</td>\n",
              "      <td>0.113564</td>\n",
              "      <td>5.748000</td>\n",
              "      <td>19.833599</td>\n",
              "      <td>28.753599</td>\n",
              "      <td>20.572100</td>\n",
              "      <td>-1.953470</td>\n",
              "      <td>31.722601</td>\n",
              "      <td>25.155500</td>\n",
              "      <td>12.50030</td>\n",
              "      <td>18.746901</td>\n",
              "      <td>7.30976</td>\n",
              "      <td>8.00805</td>\n",
              "      <td>6.555440</td>\n",
              "      <td>22.754700</td>\n",
              "      <td>22.670300</td>\n",
              "      <td>20.2932</td>\n",
              "      <td>1.69962</td>\n",
              "      <td>22.812799</td>\n",
              "      <td>-4520.0</td>\n",
              "      <td>817.705994</td>\n",
              "      <td>388.829987</td>\n",
              "      <td>A</td>\n",
              "    </tr>\n",
              "  </tbody>\n",
              "</table>\n",
              "</div>"
            ],
            "text/plain": [
              "                          time   eeg_fp1  ...         gsr  event\n",
              "crew seat experiment                      ...                   \n",
              "1    1    CA          0.011719  -5.28545  ...  388.829987      A\n",
              "          CA          0.015625  -2.42842  ...  388.829987      A\n",
              "          CA          0.019531  10.67150  ...  388.829987      A\n",
              "          CA          0.023438  11.45250  ...  388.829987      A\n",
              "          CA          0.027344   7.28321  ...  388.829987      A\n",
              "\n",
              "[5 rows x 25 columns]"
            ]
          },
          "metadata": {
            "tags": []
          },
          "execution_count": 13
        }
      ]
    },
    {
      "cell_type": "code",
      "metadata": {
        "id": "x2D-KoQ_MVVF",
        "colab_type": "code",
        "colab": {}
      },
      "source": [
        ""
      ],
      "execution_count": 0,
      "outputs": []
    }
  ]
}